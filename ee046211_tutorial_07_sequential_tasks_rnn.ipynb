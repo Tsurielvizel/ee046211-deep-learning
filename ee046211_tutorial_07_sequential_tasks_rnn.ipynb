{
 "cells": [
  {
   "cell_type": "markdown",
   "metadata": {
    "slideshow": {
     "slide_type": "slide"
    }
   },
   "source": [
    "# <img src=\"./assets/course-icon.png\" style=\"height:50px;display:inline\"> ECE 046211 - Technion - Deep Learning\n",
    "---\n",
    "\n",
    "#### <a href=\"https://taldatech.github.io\">Tal Daniel</a>\n",
    "\n",
    "## Tutorial 07 - Sequential Tasks - Recurrent Neural Networks and Transformers\n",
    "---\n",
    "<center><img src=\"./assets/rnn_1.jpg\" style=\"height:200px\"></center>"
   ]
  },
  {
   "cell_type": "markdown",
   "metadata": {
    "slideshow": {
     "slide_type": "subslide"
    }
   },
   "source": [
    "### <img src=\"https://img.icons8.com/bubbles/50/000000/checklist.png\" style=\"height:50px;display:inline\"> Agenda\n",
    "---\n",
    "* [Natural Language Processing and Sequences](#-Natural-Language-Processing-and-Sequences)\n",
    "* [Text Preprocessing](#-Text-Preprocessing)\n",
    "* [Evaluation in NLP - Perplexity and BLEU](#-Evaluation-in-NLP---Perplexity-and-BLEU)\n",
    "* [Recurrent Neural Networks (RNNs)](#-Recurrent-Neural-Networks-(RNNs))\n",
    "* [Backpropagation Through Time (BPTT)](#-Backpropagation-Through-Time-(BPTT))\n",
    "* [Long Term Short Memory (LSTM)](#-Long-Term-Short-Memory-(LSTM))\n",
    "* [Gated Recurrent Unit (GRU)](#-Gated-Recurrent-Unit-(GRU))\n",
    "* [Receptence, Weight, Key and Value (RWKV) - New Frontiers in RNNs](#-Receptence,-Weight,-Key-and-Value-(RWKV)---New-Frontiers-in-RNNs)\n",
    "* [xLSTM - Extended Long Short-Term Memory](#-xLSTM---Extended-Long-Short-Term-Memory)\n",
    "* [The Attention Mechanism](#-The-Attention-Mechanism)\n",
    "* [The Transformer](#-The-Transformer)\n",
    "* [Pretrained Models - BERT and GPT](#-Pretrained-Models---BERT-and-GPT)\n",
    "* [Vision Transformer (ViT)](#-Vision-Transformer-(ViT))\n",
    "* [How to Tame Your Transformer](#-How-to-Tame-Your-Transformer?)\n",
    "* [Staying Up-to-Date with Transformers](#-Staying-Up-to-Date-with-Transformers)\n",
    "* [Recommended Videos](#-Recommended-Videos)\n",
    "* [Credits](#-Credits)"
   ]
  },
  {
   "cell_type": "code",
   "execution_count": 1,
   "metadata": {
    "slideshow": {
     "slide_type": "skip"
    }
   },
   "outputs": [],
   "source": [
    "# imports for the tutorial\n",
    "import numpy as np\n",
    "import matplotlib.pyplot as plt\n",
    "import time\n",
    "import os\n",
    "\n",
    "# pytorch\n",
    "import torch\n",
    "import torch.nn as nn\n",
    "from torch.utils.data import DataLoader\n",
    "from torch.utils.data.dataset import random_split\n",
    "# torchtext\n",
    "import torchtext\n",
    "from torchtext.datasets import IMDB\n",
    "from torchtext.data.utils import get_tokenizer\n",
    "from torchtext.vocab import build_vocab_from_iterator\n",
    "from torchtext.data.functional import to_map_style_dataset"
   ]
  },
  {
   "cell_type": "markdown",
   "metadata": {
    "slideshow": {
     "slide_type": "slide"
    }
   },
   "source": [
    "## <img src=\"https://img.icons8.com/nolan/64/language.png\" style=\"height:50px;display:inline\"> Natural Language Processing and Sequences\n",
    "---\n",
    "* So far we have dealt with tabular data and images, but what about text or sequences?\n",
    "* Sequence modeling is the field of modeling sequences, e.g., text sentences, videos, stocks rate, trajectories in reinforcement learning or autonomous driving, weather forecast and etc...\n",
    "* Unlike our previous assumption that the data we have is i.i.d., this is not usually the case in sequences (e.g., if you randomly change the words in a sentence, it would be very hard to understand its meaning).\n",
    "* We will focus on text data in the field of natural language processing (NLP)."
   ]
  },
  {
   "cell_type": "markdown",
   "metadata": {
    "slideshow": {
     "slide_type": "subslide"
    }
   },
   "source": [
    "#### Language Models\n",
    "---\n",
    "* Language models assign a probability to a text: $p(x_0, \\cdots, x_n)$.\n",
    "* The most popular method is to factorize distribution using the basic probability principles and the Markovian assumption: $$p(x_0, \\cdots, x_n) = p(x_0)p(x_1|x_0)\\cdots p(x_n|x_{n-1}).$$\n",
    "* However, this approach makes many assumptions that are unnecessarily true (e.g. Markovian assumption - dependency only on the previous work and not the entire history)."
   ]
  },
  {
   "cell_type": "markdown",
   "metadata": {
    "slideshow": {
     "slide_type": "subslide"
    }
   },
   "source": [
    "<center><img src=\"./assets/lang_model.gif\" style=\"height:250px\"></center>\n",
    "\n",
    "* <a href=\"https://medium.com/perceptronai/recurrent-neural-network-an-introduction-for-beginners-1c13a541c906\">Image Source</a>"
   ]
  },
  {
   "cell_type": "markdown",
   "metadata": {
    "slideshow": {
     "slide_type": "slide"
    }
   },
   "source": [
    "#### Neural Language Models\n",
    "---\n",
    "* There are classical ways to build language models, but the focus of this course is deep learning, so we will leave the classical approaches to the various NLP courses.\n",
    "* The first question we ask is: how do we convert strings (characters/words) to numbers that can be fed into a neural network?\n",
    "    * This conversion is typically termed **embeddings**. \n",
    "* **Embeddings**: Basically we input the text into a neural network, the neural network will map all this context onto a vector. This vector usually represents the next word (or the next \"token\") and we have some big word embedding matrix (a \"dictionary\" mapping from index to vectors). The word embedding matrix contains a vector for every possible word the model can output.\n",
    "* Embedding layer in PyTorch: <a href=\"https://pytorch.org/docs/stable/generated/torch.nn.Embedding.html\">`nn.Embedding(num_embeddings, embedding_dim)`</a>.\n",
    "* There are several pre-trained models, such as BERT or Word2Vec, that have already trained word embeddings with some objective, and are ready for use in downstream tasks.\n",
    "    * Essentially, we can download these models, use them to convert our text data to numbers, and then just continue as usual as our data is already represented as numbers (just like we have seen in the previous tutorials)."
   ]
  },
  {
   "cell_type": "markdown",
   "metadata": {},
   "source": [
    "<center><img src=\"./assets/embedding_1.png\" style=\"height:250px\"></center>\n",
    "<a href=\"https://www.shanelynn.ie/get-busy-with-word-embeddings-introduction/\">Image Source</a>\n",
    "\n",
    "<center><img src=\"./assets/embedding_2.png\" style=\"height:250px\"></center>\n",
    "<a href=\"https://www.tylercrosse.com/ideas/semantic-search\">Image Source</a>"
   ]
  },
  {
   "cell_type": "markdown",
   "metadata": {},
   "source": [
    "<center><img src=\"./assets/lookup_table.gif\" style=\"height:250px\"></center>\n",
    "<a href=\"https://lena-voita.github.io/nlp_course/word_embeddings.html\">Image Source</a>"
   ]
  },
  {
   "cell_type": "markdown",
   "metadata": {},
   "source": [
    "* The first neural language models were convolutional-based (1D):\n",
    "    * Embed each word as a vector using a lookup table to the embedding matrix, so the word will get the same vector no matter what context it appears in.\n",
    "    * Apply same feed forward network at each time step.\n",
    "    * Unfortunately, fixed length history means it can only condition on bounded context, but these models are very fast!"
   ]
  },
  {
   "cell_type": "markdown",
   "metadata": {
    "slideshow": {
     "slide_type": "subslide"
    }
   },
   "source": [
    "<center><img src=\"./assets/lang_model_conv.jpg\" style=\"height:300px\"></center>"
   ]
  },
  {
   "cell_type": "markdown",
   "metadata": {
    "slideshow": {
     "slide_type": "slide"
    }
   },
   "source": [
    "#### Forms of Sequence Prediction Tasks\n",
    "---\n",
    "* **One-to-one**: from fixed-sized input to fixed-sized output (e.g. image classification).\n",
    "* **One-to-many**: Sequence output (e.g. image captioning takes an image and outputs a sentence of words).\n",
    "* **Many-to-one**: Sequence input (e.g. sentiment analysis where a given sentence is classified as expressing positive or negative sentiment or given some text predict the next character).\n",
    "* **Many-to-many**: Sequence input and sequence output (e.g. Machine Translation).\n",
    "* **Many-to-many**: Synced sequence input and output (e.g. video classification where we wish to label each frame of the video)."
   ]
  },
  {
   "cell_type": "markdown",
   "metadata": {
    "slideshow": {
     "slide_type": "subslide"
    }
   },
   "source": [
    "<center><img src=\"./assets/seq_tasks.jpeg\" style=\"height:250px\"></center>\n",
    "\n",
    "<a href=\"http://karpathy.github.io/2015/05/21/rnn-effectiveness/\">Image Source</a>"
   ]
  },
  {
   "cell_type": "markdown",
   "metadata": {
    "slideshow": {
     "slide_type": "slide"
    }
   },
   "source": [
    "## <img src=\"https://img.icons8.com/bubbles/50/000000/connection-sync.png\" style=\"height:50px;display:inline\"> Text Preprocessing\n",
    "---\n",
    "* Before we dive into the specific models, we need to understand how to process text data, as you can't just feed words to neural networks, but you need to give them some numerical representation.\n",
    "    * In classic NLP, the words are sometimes represented as one-hot vectors, where the vector's size is the vocabulary size.\n",
    "* The general steps are:\n",
    "    * Load text as strings into memory.\n",
    "    * **Tokenization**: Split strings into tokens (e.g., words, parts of words and characters).\n",
    "    * **Vocabulary**: Build a table of vocabulary to map the split tokens to numerical indices.\n",
    "    * Convert text into sequences of numerical indices so they can be manipulated by models easily.\n",
    "* We will use <a href=\"https://pytorch.org/text/stable/index.html\">`torchtext`</a>, the official PyTorch library to handle text data.\n",
    "* We use the IMDB dataset: this dataset contains movie reviews which are labeled as `positive` and `negative` (for good and bad reviews, respectively).\n",
    "    * This task is called **sentiment analysis** in NLP, and it is essentially a classification task.\n",
    "* If you want to load other datasets or create a custom dataset from a text file:\n",
    "    * https://pytorch.org/tutorials/beginner/torchtext_custom_dataset_tutorial.html\n",
    "    *  https://pytorch.org/text/stable/datasets.html\n",
    "    *  https://pytorch.org/data/beta/torchdata.datapipes.iter.html#text-datapipes\n",
    "* **Special tokens**:\n",
    "    * `<sos>`/`<bos>` - token that marks the **s**tart/**b**eginning **o**f a **s**entence.\n",
    "    * `<pad>` - token that is used to **pad** sentences that are shorter than the longest sentence in a batch.\n",
    "    * `<eos>` - token that marks the **e**nd **o**f a **s**entence.\n",
    "    * `<unk>` - token that marks **unknown** words (e.g., if the model thinks that no word in the vocabulary is good as next word or you decided to leave out some words, like names)."
   ]
  },
  {
   "cell_type": "markdown",
   "metadata": {},
   "source": [
    "<center><img src=\"./assets/pad_token.jpg\" style=\"height:250px\"></center>\n",
    "\n",
    "<a href=\"https://livebook.manning.com/book/natural-language-processing-in-action/chapter-10/\">Image Source</a>"
   ]
  },
  {
   "cell_type": "code",
   "execution_count": 2,
   "metadata": {},
   "outputs": [],
   "source": [
    "# note: downloading datasets requires 'portalocker' -- 'pip install portalocker' or 'conda install -c conda-forge portalocker'\n",
    "ds_train = IMDB(root='./datasets/imdb/aclImdb/', split='train')\n",
    "ds_test = IMDB(root='./datasets/imdb/aclImdb/', split='test')"
   ]
  },
  {
   "cell_type": "code",
   "execution_count": 3,
   "metadata": {},
   "outputs": [
    {
     "name": "stdout",
     "output_type": "stream",
     "text": [
      "train examples: 25000, classes: {1, 2}\n"
     ]
    }
   ],
   "source": [
    "# create iterator\n",
    "train_iter = iter(ds_train)\n",
    "labels = [label for (label, text) in train_iter]\n",
    "num_train = len(labels)\n",
    "classes = set(labels)\n",
    "num_class = len(classes)\n",
    "print(f'train examples: {num_train}, classes: {classes}')"
   ]
  },
  {
   "cell_type": "code",
   "execution_count": 4,
   "metadata": {},
   "outputs": [
    {
     "name": "stdout",
     "output_type": "stream",
     "text": [
      "(1, 'I rented I AM CURIOUS-YELLOW from my video store because of all the controversy that surrounded it when it was first released in 1967. I also heard that at first it was seized by U.S. customs if it ever tried to enter this country, therefore being a fan of films considered \"controversial\" I really had to see this for myself.<br /><br />The plot is centered around a young Swedish drama student named Lena who wants to learn everything she can about life. In particular she wants to focus her attentions to making some sort of documentary on what the average Swede thought about certain political issues such as the Vietnam War and race issues in the United States. In between asking politicians and ordinary denizens of Stockholm about their opinions on politics, she has sex with her drama teacher, classmates, and married men.<br /><br />What kills me about I AM CURIOUS-YELLOW is that 40 years ago, this was considered pornographic. Really, the sex and nudity scenes are few and far between, even then it\\'s not shot like some cheaply made porno. While my countrymen mind find it shocking, in reality sex and nudity are a major staple in Swedish cinema. Even Ingmar Bergman, arguably their answer to good old boy John Ford, had sex scenes in his films.<br /><br />I do commend the filmmakers for the fact that any sex shown in the film is shown for artistic purposes rather than just to shock people and make money to be shown in pornographic theaters in America. I AM CURIOUS-YELLOW is a good film for anyone wanting to study the meat and potatoes (no pun intended) of Swedish cinema. But really, this film doesn\\'t have much of a plot.')\n"
     ]
    }
   ],
   "source": [
    "# let's print an example\n",
    "train_iter = iter(ds_train)\n",
    "print(next(train_iter)) # [label, text], 1 is negative, 2 is positive"
   ]
  },
  {
   "cell_type": "code",
   "execution_count": 5,
   "metadata": {},
   "outputs": [],
   "source": [
    "# initialize tokenizer -- there are several types, we use the basic one\n",
    "tokenizer = get_tokenizer(\"basic_english\")\n",
    "# function for tokenization\n",
    "def yield_tokens(data_iter):\n",
    "    for _, text in data_iter:\n",
    "        yield tokenizer(text)"
   ]
  },
  {
   "cell_type": "code",
   "execution_count": 7,
   "metadata": {},
   "outputs": [],
   "source": [
    "# build vocabulary\n",
    "max_vocab_size = 55_000\n",
    "vocab = build_vocab_from_iterator(yield_tokens(iter(ds_train)), specials=[\"<unk>\", \"<pad>\"], max_tokens=max_vocab_size)\n",
    "vocab.set_default_index(vocab[\"<unk>\"])"
   ]
  },
  {
   "cell_type": "code",
   "execution_count": 8,
   "metadata": {},
   "outputs": [
    {
     "name": "stdout",
     "output_type": "stream",
     "text": [
      "[132, 10, 41, 465]\n"
     ]
    }
   ],
   "source": [
    "# let's see an example\n",
    "print(vocab(['here', 'is', 'an', 'example']))"
   ]
  },
  {
   "cell_type": "code",
   "execution_count": 9,
   "metadata": {},
   "outputs": [
    {
     "name": "stdout",
     "output_type": "stream",
     "text": [
      "[54, 39, 4337]\n",
      "['<unk>', '<pad>', 'good', 'how']\n"
     ]
    }
   ],
   "source": [
    "# alternative approach to convert strings to tokens\n",
    "string_to_token = lambda s: vocab.vocab.get_stoi()[s]\n",
    "print([string_to_token(k) for k in ['what', 'they', 'cake']])\n",
    "# convert tokens to string\n",
    "token_to_string = lambda n: vocab.vocab.get_itos()[n]\n",
    "print([token_to_string(i) for i in [0, 1, 57, 95]])"
   ]
  },
  {
   "cell_type": "code",
   "execution_count": 10,
   "metadata": {},
   "outputs": [],
   "source": [
    "# functions to process the raw data strings from the dataset iterators\n",
    "text_pipeline = lambda x: vocab(tokenizer(x))\n",
    "label_pipeline = lambda x: int(x) - 1"
   ]
  },
  {
   "cell_type": "code",
   "execution_count": 11,
   "metadata": {},
   "outputs": [
    {
     "name": "stdout",
     "output_type": "stream",
     "text": [
      "[132, 10, 2, 41, 465]\n",
      "1\n"
     ]
    }
   ],
   "source": [
    "print(text_pipeline('here is the an example'))\n",
    "print(label_pipeline('2'))  # 1 (negative) -> 0, 2 (positive) -> 1"
   ]
  },
  {
   "cell_type": "markdown",
   "metadata": {
    "slideshow": {
     "slide_type": "slide"
    }
   },
   "source": [
    "### <img src=\"https://img.icons8.com/dusk/64/000000/translate-app.png\" style=\"height:50px;display:inline\"> Evaluation in NLP - Perplexity and BLEU\n",
    "---\n",
    "#### Perplexity\n",
    "---\n",
    "**Perplexity** measures the language model quality. **A better language model should allow us to predict the next token more accurately**. Thus, it should allow us to spend fewer bits in compressing the sequence. We can measure it by the cross-entropy loss averaged over all the $n$ tokens of a sequence: $$ \\frac{1}{n}\\sum_{i=1}^n -\\log P(x_t|x_{t-1}, ..., x_1), $$ where $P$ is given by the language model and $x_t$ is the actual token observed at time step $t$ from the sequence. The **perplexity** is defined as $$ \\exp\\left(\\frac{1}{n}\\sum_{i=1}^n -\\log P(x_t|x_{t-1}, ..., x_1)\\right). $$\n",
    "* Perplexity can be best understood as the harmonic mean of the number of real choices that we have when deciding which token to pick next. \n",
    "* In the **best** case scenario, the model always perfectly estimates the probability of the label token as 1. **In this case the perplexity of the model is 1**.\n",
    "* In the **worst** case scenario, the model always predicts the probability of the label token as 0. In this situation, the perplexity is **positive infinity**.\n",
    "* At the **baseline**, the model predicts a uniform distribution over all the available tokens of the vocabulary. In this case, the perplexity equals the number of unique tokens of the vocabulary.\n",
    "    *  In fact, if we were to store the sequence without any compression, this would be the best we could do to encode it. Hence, this provides a nontrivial upper bound that any useful model must beat."
   ]
  },
  {
   "cell_type": "markdown",
   "metadata": {
    "slideshow": {
     "slide_type": "subslide"
    }
   },
   "source": [
    "#### Bilingual Evaluation Understudy (BLEU) Score\n",
    "---\n",
    "* **BLEU** score is an algorithm for evaluating the quality of text which has been machine-translated from one natural language to another.\n",
    "* Scores are calculated for individual translated segments—generally sentences—by comparing them with a set of good quality reference translations. \n",
    "* Those scores are then averaged over the whole corpus to reach an estimate of the translation's overall quality. \n",
    "* **Intelligibility or grammatical correctness are not taken into account**.\n",
    "* BLEU's output is always a number between 0 and 1. \n",
    "* This value indicates how similar the candidate text is to the reference texts, with values closer to 1 representing more similar texts.\n",
    "    * Few human translations will attain a score of 1, since this would indicate that the candidate is identical to one of the reference translations. \n",
    "    * For this reason, it is not necessary to attain a score of 1. Because there are more opportunities to match, adding additional reference translations will increase the BLEU score.\n",
    "* BLEU uses a modified version of the precision score between a candidate translation and translation ground-truth (it is better to provide more than one reference), and it is based on $n$-grams.\n",
    "* <a href=\"https://en.wikipedia.org/wiki/BLEU\">Read More</a>"
   ]
  },
  {
   "cell_type": "markdown",
   "metadata": {
    "slideshow": {
     "slide_type": "slide"
    }
   },
   "source": [
    "## <img src=\"https://img.icons8.com/nolan/64/re-enter-pincode.png\" style=\"height:50px;display:inline\"> Recurrent Neural Networks (RNNs)\n",
    "---\n",
    "* The idea of **Recurrent Neural Networks (RNNs)**: save the output of a particular layer and feed it back to the input in order to predict the output of the layer.\n",
    "* Every time step we maintain some state (received from the previous time step)--**hidden state**, which represents what we’ve read so far. This is combined with current word being read and used at later state. Then we repeat this process for as many time steps as we need.\n",
    "\n",
    "<center><img src=\"./assets/rnn_2.gif\" style=\"height:200px\"></center>\n",
    "\n",
    "* <a href=\"https://medium.com/perceptronai/recurrent-neural-network-an-introduction-for-beginners-1c13a541c906\">Image Source</a>"
   ]
  },
  {
   "cell_type": "markdown",
   "metadata": {
    "slideshow": {
     "slide_type": "subslide"
    }
   },
   "source": [
    "* Let $x$ denote the input layer, $h$ the hidden layer and $y$ the output layer.\n",
    "* Let $A, B \\text{ and } C$ be some network parameters used to improve the output of the model.\n",
    "* At any given time $t$, the current input is a combination of the input at $x(t)$ and $x(t-1)$ (through $h(t-1)$).\n",
    "\n",
    "<center><img src=\"./assets/rnn_3.gif\" style=\"height:250px\"></center>\n",
    "\n",
    "* <a href=\"https://www.simplilearn.com/tutorials/deep-learning-tutorial/rnn\">Image Source</a>"
   ]
  },
  {
   "cell_type": "markdown",
   "metadata": {
    "slideshow": {
     "slide_type": "slide"
    }
   },
   "source": [
    "#### The Hidden State of RNN Cells\n",
    "---\n",
    "* For each element in the input sequence, each layer computes the following function: $$ h_t = tanh\\left(W_{ih}x_t +b_{ih} + W_{hh}h_{(t-1)} + b_{hh}\\right), $$ where $h_t$ is the hidden state at time $t$, $x_t$ is the input at time $t$, and $h_{(t-1)}$ is the hidden state of the previous layer at time $t-1$ or the initial hidden state at time 0.\n",
    "\n",
    "<center><img src=\"./assets/rnn_4.gif\" style=\"height:250px\"></center>\n",
    "\n",
    "* Image by Michael Nguyen\n",
    "\n",
    "* In PyTorch: <a href=\"https://pytorch.org/docs/stable/generated/torch.nn.RNN.html\">`torch.nn.RNN(input_size, hidden_size, num_layers...)`</a>"
   ]
  },
  {
   "cell_type": "markdown",
   "metadata": {
    "slideshow": {
     "slide_type": "slide"
    }
   },
   "source": [
    "#### Disadvantages of RNNs\n",
    "---\n",
    "* The whole history of the document reading is compressed into a fixed-size vector at each time step, which is the bottleneck of this model.\n",
    "* **Gradients tend to vanish** with long contexts.\n",
    "* Not possible to parallelize over time-steps, so **slow training**."
   ]
  },
  {
   "cell_type": "markdown",
   "metadata": {
    "slideshow": {
     "slide_type": "slide"
    }
   },
   "source": [
    "### <img src=\"https://img.icons8.com/nolan/64/time-machine.png\" style=\"height:50px;display:inline\"> Backpropagation Through Time (BPTT)\n",
    "---\n",
    "* **Forward propagation** in an RNN is relatively straightforward and is the same as MLPs (but delayed, as we need the previous output).\n",
    "* **Backpropagation through time (BPTT)**: a specific application of backpropagation in RNNs. \n",
    "* BPTT requires us to expand or *unroll* the computational graph of an RNN one time step at a time to obtain the dependencies among model variables and parameters.\n",
    "* Then, based on the chain rule, we apply backpropagation to compute and store gradients. \n",
    "    * Since sequences can be rather long, the dependency can be rather lengthy. \n",
    "    * For instance, for a sequence of 1000 characters, the first token could potentially have significant influence on the token at the final position. This is not really computationally feasible (it takes too long and requires too much memory) and it requires over 1000 matrix products before we would arrive at that very elusive gradient.\n",
    "* High powers of matrices can lead to **divergent or vanishing eigenvalues -- exploding or vanishing gradients**.\n",
    "* For efficient computation, **intermediate values are cached** during backpropagation through time."
   ]
  },
  {
   "cell_type": "markdown",
   "metadata": {
    "slideshow": {
     "slide_type": "slide"
    }
   },
   "source": [
    "#### Computing Gradients in BPTT\n",
    "---\n",
    "* Consider an RNN *without* bias parameters, whose activation function in the hidden layer uses the identity mapping ( $\\phi(x)=x$ ). \n",
    "* For time step $t$ , let the single example input and the label be $x_t\\in \\mathbb{R}^d$ and $y_t$ , respectively.\n",
    "* The hidden state  $h_t\\in \\mathbb{R}^h$  and the output $o_t\\in \\mathbb{R}^q$  are computed as: $$ h_t=W_{hx}x_t+W_{hh}h_{t−1}, $$ $$ o_t = W_{qh}h_t, $$ where $W_{hx}\\in \\mathbb{R}^{h\\times d}$,  $W_{hh}\\in \\mathbb{R}^{h\\times h}$, and $W_{qh}\\in \\mathbb{R}^{q\\times h}$ are the weight parameters.\n",
    "* Denote by $l(o_t,y_t)$ the loss at time step $t$. Our objective function, the loss over $T$ time steps from the beginning of the sequence is thus: $$ L = \\frac{1}{T}\\sum_{t=1}^T l(o_t,y_t).$$"
   ]
  },
  {
   "cell_type": "markdown",
   "metadata": {
    "slideshow": {
     "slide_type": "subslide"
    }
   },
   "source": [
    "* Computational graph for 3 time steps:\n",
    "\n",
    "<center><img src=\"./assets/bptt_1.svg\" style=\"height:250px\"></center>\n",
    "\n",
    "* For example, the computation of the hidden states of time step 3,  $h_3$ , depends on the model parameters $W_{hx}$ and $W_{hh}$, the hidden state of the last time step $h_2$, and the input of the current time step $x_3$."
   ]
  },
  {
   "cell_type": "markdown",
   "metadata": {
    "slideshow": {
     "slide_type": "subslide"
    }
   },
   "source": [
    "* According to the dependencies in the graph, we can traverse in the opposite direction of the arrows to calculate and store the gradients in turn. We can look at this as unrolled backpropagation.\n",
    "* Differentiating the objective function with respect to the model output at any time step $t$ is straightforward: $$ \\frac{\\partial L}{\\partial o_t} = \\frac{\\partial l(o_t, y_t)}{T\\cdot \\partial o_t} \\in \\mathbb{R}^q.$$\n",
    "* Now, we can calculate the gradient of the objective function with respect to the parameter $W_{qh}$ in the output layer. Note that the objective function $L$ depends on $W_{qh}$ via $o_1,…,o_T$: $$ \\frac{\\partial L}{\\partial W_{qh}}=\\sum_{t=1}^T \\text{prod} \\left(\\frac{\\partial L}{\\partial o_t}, \\frac{\\partial o_t}{\\partial W_{qh}} \\right) = \\sum_{t=1}^T \\frac{\\partial L}{\\partial o_t}h_t^T $$"
   ]
  },
  {
   "cell_type": "markdown",
   "metadata": {
    "slideshow": {
     "slide_type": "subslide"
    }
   },
   "source": [
    "* We continue down the graph, and we need the derivatives w.r.t $h_t$.\n",
    "* At the final time step $T$ the objective function $L$ depends on the hidden state $h_T$ only via $o_T$: $$ \\frac{\\partial L}{\\partial h_T} = \\text{prod}\\left(\\frac{\\partial L}{\\partial o_T}, \\frac{\\partial o_T}{\\partial h_T} \\right) = W_{qh}^T \\frac{\\partial L}{\\partial o_T}\\in \\mathbb{R}^h. $$\n",
    "* It gets trickier for any time step $t<T$, where the objective function $L$ depends on $h_t$ via $h_{t+1}$ and $o_t$. According to the chain rule: $$\\frac{\\partial L}{\\partial h_t} = \\text{prod}\\left(\\frac{\\partial L}{\\partial h_{t+1}}, \\frac{\\partial h_{t+1}}{\\partial h_t} \\right) + \\text{prod}\\left(\\frac{\\partial L}{\\partial o_t}, \\frac{\\partial o_t}{\\partial h_t} \\right) = W_{hh}^T\\frac{\\partial L}{\\partial h_{t+1}} + W_{qh}^T\\frac{\\partial L}{\\partial o_t}. $$\n",
    "* (EXERCISE) Expanding the recurrent computation for any time step $1\\leq t \\leq T$ gives: $$ \\frac{\\partial L}{\\partial h_t} = \\sum_{i=t}^T \\left(W_{hh}^T \\right)^{T-i}W_{qh}^T\\frac{\\partial L}{\\partial o_{T+t-i}} $$"
   ]
  },
  {
   "cell_type": "markdown",
   "metadata": {
    "slideshow": {
     "slide_type": "subslide"
    }
   },
   "source": [
    "* Notice that the simple linear equation already exhibits some key problems of long sequence models: it involves potentially very large powers of $W_{hh}^T$. \n",
    "* In it, eigenvalues smaller than 1 **vanish** and eigenvalues larger than 1 **diverge**. This is numerically unstable, which manifests itself in the form of **vanishing and exploding gradients**. \n",
    "* One way to address this is to **truncate** the time steps at a computationally convenient size. In practice, this truncation is effected by detaching the gradient after a given number of time steps.\n",
    "* GRUs and LSTMs cells can alleviate this better as we will soon see."
   ]
  },
  {
   "cell_type": "markdown",
   "metadata": {
    "slideshow": {
     "slide_type": "subslide"
    }
   },
   "source": [
    "* Finally, the objective function $L$ depends on model parameters $W_{hx}$ and $W_{hh}$ in the hidden layer via hidden states  $h_1,…,h_T$: $$ \\frac{\\partial L}{\\partial W_{hx}} = \\sum_{i=t}^T \\text{prod}\\left(\\frac{\\partial L}{\\partial h_t}, \\frac{\\partial h_t}{\\partial W_{hx}} \\right) = \\sum_{i=t}^T \\frac{\\partial L}{\\partial h_t}x_t^T, $$\n",
    "$$ \\frac{\\partial L}{\\partial W_{hh}} = \\sum_{i=t}^T \\text{prod}\\left(\\frac{\\partial L}{\\partial h_t}, \\frac{\\partial h_t}{\\partial W_{hh}} \\right) = \\sum_{i=t}^T \\frac{\\partial L}{\\partial h_t}h_{t-1}^T$$\n",
    "\n",
    "* BPTT computes and stores the above gradients in turn. Specifically, stored intermediate values are reused to avoid duplicate calculations, such as storing  $\\frac{\\partial L}{\\partial h_t}$ to be used in computation of both $\\frac{\\partial L}{\\partial W_{hx}}$ and $\\frac{\\partial L}{\\partial W_{hh}}$."
   ]
  },
  {
   "cell_type": "markdown",
   "metadata": {
    "slideshow": {
     "slide_type": "slide"
    }
   },
   "source": [
    "### <img src=\"https://img.icons8.com/dusk/64/000000/memory-slot.png\" style=\"height:50px;display:inline\"> Long Term Short Memory (LSTM)\n",
    "---\n",
    "* As mentioned before, during backpropagation, RNNs suffer from the vanishing gradient problem, which essentially creates a **short memory**.\n",
    "* Long short-term memory (LSTM) is a type of recurrent cell that tries to preserve long term information. The idea of LSTM was presented back in 1997, but flourished in the age of deep learning.\n",
    "* LSTM introduces a memory cell that has the same shape as the hidden state, engineered to record additional information.\n",
    "* The memory is controlled by 3 main gates: \n",
    "    * **Input gate**: decides when to read data into the cell.\n",
    "    * **Output gate**: outputs the entries from the cell.\n",
    "    * **Forget gate**: a mechanism to reset the content of the cell.\n",
    "* These gates learn which information is relevant to forget or remember during the training process. The gates contain a sigmoid activation function."
   ]
  },
  {
   "cell_type": "markdown",
   "metadata": {
    "slideshow": {
     "slide_type": "subslide"
    }
   },
   "source": [
    "<center><img src=\"./assets/lstm_1.svg\" style=\"height:250px\"></center>"
   ]
  },
  {
   "cell_type": "markdown",
   "metadata": {
    "slideshow": {
     "slide_type": "subslide"
    }
   },
   "source": [
    "* Suppose that there are $h$ hidden units, the batch size is $n$, and the number of inputs is $d$. Thus, the input is $X_t\\in \\mathbb{R}^{n\\times d}$ (number of examples: $n$, number of inputs: $d$) and the hidden state of the previous time step is $H_{t-1}\\in\\mathbb{R}^{n\\times h}$ (number of hidden units: $h$). We define the following at timestep $t$:\n",
    "    * **Input gate**: $$ I_t = \\sigma(X_tW_{xi} +H_{t-1}W_{hi} +b_i) \\in \\mathbb{R}^{n\\times h},$$\n",
    "    * **Forget gate**: $$ F_t = \\sigma(X_tW_{xf} +H_{t-1}W_{hf} +b_f) \\in \\mathbb{R}^{n\\times f}, $$\n",
    "    * **Output gate**: $$ O_t = \\sigma(X_tW_{xo} +H_{t-1}W_{ho} +b_o) \\in \\mathbb{R}^{n\\times o}, $$"
   ]
  },
  {
   "cell_type": "markdown",
   "metadata": {
    "slideshow": {
     "slide_type": "subslide"
    }
   },
   "source": [
    "#### Memory Cell\n",
    "---\n",
    "* The candidate memory cell $\\tilde{C}_t$ is defined as follows: $$ \\tilde{C}_t = \\text{tanh}(X_tW_{xc} +H_{t-1}W_{hc} +b_c) \\in \\mathbb{R}^{n\\times c}$$\n",
    "    * Note the difference in notations: a candidate memory is denoted with $\\tilde{\\cdot}$ while the actual memory is without the tilde.\n",
    "* The input gate $I_t$ governs how much we take new data into account via $\\tilde{C}_t$ and the forget gate $F_t$ addresses how much of the old memory cell content $C_{t-1}$ we retain. This yields: $$ C_t = F_t \\odot C_{t-1} + I_{t} \\odot \\tilde{C}_t$$\n",
    "    * $\\odot$ is the element-wise product operator (Hadamard).\n",
    "* If the forget gate is always approximately 1 and the input gate is always approximately 0, the past memory cells $C_{t-1}$ will be saved over time and passed to the current time step. \n",
    "* This design is introduced to alleviate the vanishing gradient problem and to better capture long range dependencies within sequences.\n",
    "* Finally, the hidden state at time $t$: $$ H_t = O_t \\odot \\text{tanh}(C_t).$$"
   ]
  },
  {
   "cell_type": "markdown",
   "metadata": {
    "slideshow": {
     "slide_type": "subslide"
    }
   },
   "source": [
    "<center><img src=\"./assets/lstm_2.gif\" style=\"height:350px\"></center>\n",
    "\n",
    "* <a href=\"https://becominghuman.ai/long-short-term-memory-part-1-3caca9889bbc\">Image Source</a>"
   ]
  },
  {
   "cell_type": "code",
   "execution_count": 3,
   "metadata": {
    "slideshow": {
     "slide_type": "subslide"
    }
   },
   "outputs": [
    {
     "name": "stdout",
     "output_type": "stream",
     "text": [
      "shapes: output - torch.Size([5, 3, 20]), hidden - torch.Size([2, 3, 20]), memory - torch.Size([2, 3, 20])\n"
     ]
    }
   ],
   "source": [
    "rnn = nn.LSTM(input_size=10, hidden_size=20, num_layers=2)  # batch_first=False\n",
    "x = torch.randn(5, 3, 10)  # 5 words per senetence, 3 sentences (batch_size), embedding dimension of each word is 10\n",
    "h0 = torch.randn(2, 3, 20)  # initialize hidden states per layer\n",
    "c0 = torch.randn(2, 3, 20)  # initialize memory per layer\n",
    "output, (hn, cn) = rnn(x, (h0, c0))\n",
    "print(f'shapes: output - {output.shape}, hidden - {hn.shape}, memory - {cn.shape}')"
   ]
  },
  {
   "cell_type": "markdown",
   "metadata": {
    "slideshow": {
     "slide_type": "slide"
    }
   },
   "source": [
    "### <img src=\"https://img.icons8.com/color/96/000000/front-gate-open.png\" style=\"height:50px;display:inline\"> Gated Recurrent Unit (GRU)\n",
    "---\n",
    "* Unlike regular RNNs, Gated Recurrent Units (GRUs) support gating of the hidden state.\n",
    "* GRUs have two mechanism to control when a hidden state should be updated, **update gate** and also when it should be reset, **reset gate**.\n",
    "* **Reset gate**: allows to control how much of the previous state should be remembered, helps capture short-term dependencies in sequences.\n",
    "* **Update gate**: allows to control how much of the new state is just a copy of the old state, help capture long-term dependencies in sequences.\n",
    "* Unlike LSTMS, GRUs don't have a memory component, and thus are much faster to update (which results in faster training), but usually LSTMs perform better."
   ]
  },
  {
   "cell_type": "markdown",
   "metadata": {
    "slideshow": {
     "slide_type": "subslide"
    }
   },
   "source": [
    "<center><img src=\"./assets/gru_1.svg\" style=\"height:300px\"></center>"
   ]
  },
  {
   "cell_type": "markdown",
   "metadata": {
    "slideshow": {
     "slide_type": "subslide"
    }
   },
   "source": [
    "* Suppose that the input is a mini-batch $X_t \\in \\mathbb{R}^{n\\times d}$ for a given time step $t$ and the hidden state of the previous time step is $H_{t−1}\\in \\mathbb{R}^{n\\times h}$.\n",
    "* The reset gate $R_t \\in \\mathbb{R}^{n \\times h}$ and update gate $Z_t \\in \\mathbb{R}^{n \\times h}$ are computed as follows: $$ R_t = \\sigma(X_tW_{xr} + H_{t-1}W_{hr} +b_r), $$ $$ Z_t = \\sigma(X_tW_{xz} + H_{t-1}W_{hz} +b_z), $$ where $W_{xr}, W_{xz} \\in \\mathbb{R}^{d \\times h}$ and $W_{hr}, W_{hz} \\in \\mathbb{R}^{h \\times h}$ are weight parameters, and $b_r, b_z \\in \\mathbb{R}^{1 \\times h}$ are biases."
   ]
  },
  {
   "cell_type": "markdown",
   "metadata": {
    "slideshow": {
     "slide_type": "slide"
    }
   },
   "source": [
    "#### GRUs Hidden State\n",
    "---\n",
    "* The *candidate* hidden state $\\tilde{H}_{t} \\in \\mathbb{R}^{n \\times h}$ at timestep $t$ is defined as: $$ \\tilde{H}_{t} = \\text{tanh}\\left(X_t W_{xh} + (R_t \\odot H_{t-1})W_{hh} \\right) + b_h$$\n",
    "    * The result is a candidate since we still need to incorporate the action of the *update gate*.\n",
    "* Finally, the new hidden state $H_t$ and the final update to the GRU in timestep $t$: $$ H_t = Z_t \\odot H_{t-1} +(1-Z_t) \\odot \\tilde{H}_t. $$\n",
    "* Whenever the update gate $Z_t$ is close to 1, we simply retain the old state. In this case the information from $X_t$ is essentially ignored, effectively skipping time step $t$ in the dependency chain. \n",
    "* In contrast, whenever $Z_t$ is close to 0, the new latent state $H_t$ approaches the candidate latent state $\\tilde{H}_t$.\n",
    "* These designs can help us cope with the vanishing gradient problem in RNNs and better capture dependencies for sequences with large time step distances."
   ]
  },
  {
   "cell_type": "code",
   "execution_count": 2,
   "metadata": {
    "slideshow": {
     "slide_type": "subslide"
    }
   },
   "outputs": [
    {
     "name": "stdout",
     "output_type": "stream",
     "text": [
      "shapes: output - torch.Size([5, 3, 20]), hidden - torch.Size([2, 3, 20])\n"
     ]
    }
   ],
   "source": [
    "rnn = nn.GRU(input_size=10, hidden_size=20, num_layers=2)  \n",
    "x = torch.randn(5, 3, 10)  # 5 words per senetence, 3 sentences (batch_size), embedding dimension of each word is 10\n",
    "h0 = torch.randn(2, 3, 20)  # initialize hidden states per layer\n",
    "output, hn = rnn(x, h0)\n",
    "print(f'shapes: output - {output.shape}, hidden - {hn.shape}')"
   ]
  },
  {
   "cell_type": "markdown",
   "metadata": {
    "slideshow": {
     "slide_type": "slide"
    }
   },
   "source": [
    "### <img src=\"https://img.icons8.com/bubbles/50/000000/fire-element.png\" style=\"height:50px;display:inline\"> PyTorch RNN Model Example\n",
    "----\n",
    "Following is an example of building a classifier with LSTMs."
   ]
  },
  {
   "cell_type": "code",
   "execution_count": null,
   "metadata": {
    "slideshow": {
     "slide_type": "subslide"
    }
   },
   "outputs": [],
   "source": [
    "# https://github.com/FernandoLpz/Text-Classification-LSTMs-PyTorch\n",
    "class TweetClassifier(nn.Module):\n",
    "\n",
    "    def __init__(self, args):\n",
    "        super(TweetClassifier, self).__init__()\n",
    "\n",
    "        self.batch_size = args.batch_size\n",
    "        self.hidden_dim = args.hidden_dim\n",
    "        self.LSTM_layers = args.lstm_layers\n",
    "        self.input_size = args.max_words  # embedding dimension\n",
    "\n",
    "        self.dropout = nn.Dropout(0.5)\n",
    "        self.embedding = nn.Embedding(self.input_size, self.hidden_dim, padding_idx=0)\n",
    "        self.lstm = nn.LSTM(input_size=self.hidden_dim, hidden_size=self.hidden_dim, num_layers=self.LSTM_layers,\n",
    "                            batch_first=True)  # NOTE: batch_first=True:\n",
    "        # input and output tensors are provided as (batch, seq, feature) instead of (seq, batch, feature).\n",
    "        self.fc1 = nn.Linear(in_features=self.hidden_dim, out_features=257)\n",
    "        self.fc2 = nn.Linear(257, 1)\n",
    "\n",
    "    def forward(self, x):\n",
    "        h = torch.zeros((self.LSTM_layers, x.size(0), self.hidden_dim))\n",
    "        c = torch.zeros((self.LSTM_layers, x.size(0), self.hidden_dim))\n",
    "\n",
    "        torch.nn.init.xavier_normal_(h)\n",
    "        torch.nn.init.xavier_normal_(c)\n",
    "\n",
    "        out = self.embedding(x)\n",
    "        out, (hidden, context) = self.lstm(out, (h, c))\n",
    "        out = self.dropout(out)\n",
    "        out = torch.relu_(self.fc1(out[:, -1, :]))  # \"last-token pooling\": (batch, seq, feature) -> (batch, feature)\n",
    "        # can also use other pooling methods like \"mean\" or \"max\", e.g., self.fc1(out.mean(dim=1))\n",
    "        out = self.dropout(out)\n",
    "        out = torch.sigmoid(self.fc2(out))\n",
    "\n",
    "        return out"
   ]
  },
  {
   "cell_type": "markdown",
   "metadata": {},
   "source": [
    "### <img src=\"https://img.icons8.com/bubbles/50/new.png\" style=\"height:50px;display:inline\"> Receptence, Weight, Key and Value (RWKV) - New Frontiers in RNNs\n",
    "----\n",
    "* <a href=\"https://arxiv.org/abs/2405.04517\">RWKV: Reinventing RNNs for the Transformer Era - Peng et al., 2024</a>\n",
    "* Receptence, Weight, Key and Value (RWKV): an attention-free, parallelizable RNN that can reach transformer-level language models performance.\n",
    "* Fast training and inference, lower VRAM footprint than transformers.\n",
    "* Competitive with Tranformers on most language-models benchmarks!\n",
    "* As in RNNs, to compute the state at time-step $t+1$ only the hidden state at time-step $t$ is required.\n",
    "* \"GPT\" mode: quickly compute the hidden state - <a href=\"https://github.com/BlinkDL/ChatRWKV\">ChatRWKV</a>.\n",
    "* <a href=\"https://github.com/BlinkDL/RWKV-LM\">Code on GitHub</a>\n",
    "\n",
    "<center><img src=\"./assets/rwkv_att.png\" style=\"height:200px\"></center>"
   ]
  },
  {
   "cell_type": "markdown",
   "metadata": {},
   "source": [
    "### <img src=\"https://img.icons8.com/bubbles/50/x.png\" style=\"height:50px;display:inline\"> xLSTM - Extended Long Short-Term Memory\n",
    "----\n",
    "* <a href=\"https://arxiv.org/abs/2405.04517\">xLSTM - Extended Long Short-Term Memory - Beck et al., 2024</a>\n",
    "* A new LSTM-based neural network, adapted for the attention and Tranformer era.\n",
    "* The new development strives to answer whether it is possible to scale LSTMs to compete in the language-modeling arena.\n",
    "* Introduce new exponential gating with appropriate normalization and stabilization techniques.\n",
    "* Modify the LSTM memory structure:\n",
    "    * **sLSTM**: a scalar memory, a scalar update, and new memory mixing.\n",
    "    * **mLSTM**: fully parallelizable with a matrix memory and a covariance update rule.\n",
    "* **xLSTM** = **sLSTM** + **mLSTM**: Integrating them into residual block backbones yields xLSTM blocks.\n",
    "* <a href=\"https://github.com/NX-AI/xlstm\">Code on GitHub</a>\n",
    "\n",
    "<center><img src=\"./assets/xlstm.PNG\" style=\"height:400px\"></center>"
   ]
  },
  {
   "cell_type": "markdown",
   "metadata": {},
   "source": [
    "### <img src=\"https://img.icons8.com/cotton/64/000000/stop-sign.png\" style=\"height:50px;display:inline\"> Question time!\n",
    "---\n",
    "This question appeared in winter 2022 moed B, section 2 has been added.\n",
    "\n",
    "We consider an RNN with Leaky-ReLU activation ($\\varphi(u)=\\max[\\rho u,u]$ for $\\rho\\in(0,1)$) that given input $x_t$ has the following update rule:\n",
    "$$\\forall t=1,2,\\ldots, \\quad v_t=\\varphi(Wv_{t-1}+Bx_t)$$\n",
    "with initialization $v_0$. Recall that for $t'<t$,\n",
    "$$\\frac{\\partial v_t}{\\partial v_{t'}}=\\prod_{\\tau=t'+1}^{t}\\frac{\\partial v_\\tau}{\\partial v_{\\tau-1}}=\\prod_{\\tau=t'+1}^{t}\\mathrm{Diag}(\\varphi'(u_\\tau))W$$\n",
    "where $u_t=Wv_{t-1}+Bx_t$.\n",
    "\n",
    "1. Show that if $|\\rho \\lambda_{\\min}(W^TW)|>1$, the gradients explode, meaning $\\lim_{t\\rightarrow\\infty}\\left ||\\frac{\\partial v_t}{\\partial v_{0}}|\\right |=\\infty$, where $\\lambda_{\\min}(A)$ is the smallest eigenvalue of $A$. Hint: the following identity can be used without proof $$\\lambda_{\\min}(A^TA)||u||^2\\leq ||Au||^2\\leq \\lambda_{\\max}(A^TA)||u||^2.$$\n",
    "2. Show that if $|\\rho \\lambda_{\\max}(W^TW)|<1$, the gradients vanish, i.e. $\\lim_{t\\rightarrow\\infty}\\left ||\\frac{\\partial v_t}{\\partial v_{0}}|\\right |=0$.\n",
    "3. Describe how to calculate the Jacobian $\\frac{\\partial v_t}{\\partial v_{0}}$ via backpropagation.\n",
    "4. Recall that during backpropagation, we encounter two issues for $t\\rightarrow\\infty$: vanishing/exploding gradients and increasing compute resources. For each of these issues, describe a common method to alleviate it, and describe the limitations of your chosen method.\n",
    "5. Describe how to calculate the Jacobian $\\frac{\\partial v_t}{\\partial v_{0}}$ via forward-mode autodiff. Do the issues from section 3 still occur? are there other new issues?"
   ]
  },
  {
   "cell_type": "markdown",
   "metadata": {},
   "source": [
    "### <img src=\"https://img.icons8.com/cotton/64/000000/checkmark.png\" style=\"height:50px;display:inline\"> Answer time!\n",
    "---\n",
    "<details>\n",
    "  <summary>Hint</summary>\n",
    "\n",
    "1. Use the hint twice. Very similar to the lecture proof for vanishing gradients.\n",
    "2. Similar to section 1.\n",
    "3. Remember how backpropagation works.\n",
    "4. See lecture and tutorials.\n",
    "5. Remember how forward-mode autodiff works. What was its advantage over reverse-mode autodiff?\n",
    "    \n",
    "</details>\n",
    "\n",
    "<details>\n",
    "  <summary>Solution</summary>\n",
    "\n",
    "#### Section 1\n",
    "We define $D_\\tau=\\mathrm{Diag}(\\varphi'(u_\\tau))$. From our calculations, we have\n",
    "$$||\\frac{\\partial v_t}{\\partial v_{0}}||^2=||\\prod_{\\tau=1}^{t}D_\\tau W||^2=\\max_{u\\in\\mathbb{R}^d:||u||=1}||D_t W(\\prod_{\\tau=1}^{t-1}D_\\tau W)u||^2$$\n",
    "Using the hint twice (and the definition of Leaky-ReLU), we have\n",
    "$$\\geq \\rho^2 \\max_{u\\in\\mathbb{R}^d:||u||=1}|| W(\\prod_{\\tau=1}^{t-1}D_\\tau W)u||^2\\geq \\rho^2 \\lambda_{\\min}(W^TW) \\max_{u\\in\\mathbb{R}^d:||u||=1}|| (\\prod_{\\tau=1}^{t-1}D_\\tau W)u||^2$$\n",
    "We can perform the same decomposition for all of the product elements and get\n",
    "$$\\ldots\\geq \\rho^{2t} \\lambda^{t}_{\\min}(W^TW) \\max_{u\\in\\mathbb{R}^d:||u||=1}|| u||^2=|\\rho^{2} \\lambda_{\\min}(W^TW)|^t $$\n",
    "If $t\\rightarrow \\infty$, then if $|\\rho^{2} \\lambda_{\\min}(W^TW)|>1$ we have that this term goes to infinity, so $\\lim_{t\\rightarrow\\infty}||\\frac{\\partial v_t}{\\partial v_{0}}||^2=\\infty$.\n",
    "\n",
    "#### Section 2\n",
    "As in section 1, \n",
    "$$||\\frac{\\partial v_t}{\\partial v_{0}}||=\\max_{u\\in\\mathbb{R}^d:||u||=1}||D_t W(\\prod_{\\tau=1}^{t-1}D_\\tau W)u||$$\n",
    "Using the hint twice and since in Leaky-Relu the eigenvalues of $D$ are upper bounded by $1$, we have\n",
    "$$\\leq  \\max_{u\\in\\mathbb{R}^d:||u||=1}|| W(\\prod_{\\tau=1}^{t-1}D_\\tau W)u||\\leq  \\lambda_{\\max}(W^TW) \\max_{u\\in\\mathbb{R}^d:||u||=1}|| (\\prod_{\\tau=1}^{t-1}D_\\tau W)u||$$\n",
    "We can perform the same decomposition for all of the product elements and get\n",
    "$$\\ldots\\leq  \\lambda^{t}_{\\max}(W^TW) \\max_{u\\in\\mathbb{R}^d:||u||=1}|| u||=| \\lambda_{\\max}(W^TW)|^t $$\n",
    "If $t\\rightarrow \\infty$, then if $|\\lambda_{\\max}(W^TW)|<1$ we have that this term goes to zero, so $\\lim_{t\\rightarrow\\infty}||\\frac{\\partial v_t}{\\partial v_{0}}||=0$.\n",
    "\n",
    "#### Section 3\n",
    "We first calculate $u_t,v_t$ via a forward pass\n",
    "$$\\forall \\tau=1,2,\\ldots,t:\\quad v_\\tau=\\varphi(u_\\tau),\\quad u_\\tau=Wv_{\\tau-1}+Bx_\\tau$$\n",
    "and save $u_t$ in memory. We then back-propagate:\n",
    "$$\\dot{v}_t=I$$\n",
    "$$\\forall \\tau=t,t-1,\\ldots,2,1:\\quad \\dot{v}_{\\tau-1}=W^TD_\\tau\\dot{v}_\\tau$$\n",
    "\n",
    "#### Section 4\n",
    "Backpropagation must save the values of $u_\\tau$ for all timesteps, and as $t\\rightarrow\\infty$ this increases memory consumption without limit. Usually this is resolved by limiting the backpropagation to a set, finite number of steps. This causes the gradient estimate to be innacurate, which may hurt performance (loss).\n",
    "\n",
    "The Jacobian $$\\frac{\\partial v_t}{\\partial v_{t'}}==\\prod_{\\tau=t'+1}^{t}D_\\tau W$$\n",
    "can explode or vanish as $t\\rightarrow\\infty$, as we saw in the lecture and section 1. This significantly hinders calculating the final gradient of the loss function due to numerical issues. This is commonly resolved by changing the network architecture to one that is less sensitive to gradient issues such as LSTMs or Transformers.\n",
    "\n",
    "#### Section 5\n",
    "We first calculate $u_t,v_t$ via a forward pass\n",
    "$$\\forall \\tau=1,2,\\ldots,t:\\quad v_\\tau=\\varphi(u_\\tau),\\quad u_\\tau=Wv_{\\tau-1}+Bx_\\tau$$\n",
    "and at the same time calculate the derivative via forward pass\n",
    "$$\\dot{v}_0=I$$\n",
    "$$\\forall \\tau=1,2,\\ldots,t:\\quad \\dot{v}_{\\tau}=D_{\\tau}W\\dot{v}_{\\tau-1}$$\n",
    "</details>"
   ]
  },
  {
   "cell_type": "markdown",
   "metadata": {
    "slideshow": {
     "slide_type": "slide"
    }
   },
   "source": [
    "## <img src=\"https://img.icons8.com/cute-clipart/64/000000/alarm.png\" style=\"height:50px;display:inline\"> The Attention Mechanism\n",
    "---\n",
    "* So far, we have processed the inputs sequentially (recurrence), which has led to several issues. Can we process sequences differently?\n",
    "* **Idea**: we can look at all the different tokens (words) at **the same time** and learn to “pay attention“ (give each one a weight) to the correct ones depending on the task at hand.\n",
    "* **Attention** is a generalized pooling method (extracting features from sequences) with bias alignment over inputs. \n",
    "* An input of the attention layer is called a **query**. \n",
    "* For a query, attention returns an output based on the memory — a set of **key-value** pairs encoded in the attention layer.\n",
    "* There are two main types of attention: **self-attention** and **cross-attention**, and in each type, we can define **hard** attention or **soft** attention.\n",
    "* Our focus will be **self-attention**: computing a weighted average of feature representations with the weights proportional to a similarity score between pairs of representations."
   ]
  },
  {
   "cell_type": "markdown",
   "metadata": {
    "slideshow": {
     "slide_type": "subslide"
    }
   },
   "source": [
    "<center><img src=\"./assets/attention_graph.png\" style=\"height:300px\"></center>\n",
    "\n",
    "<a href=\"https://theaisummer.com/attention/\">Image by Nikolas Adaloglou</a>"
   ]
  },
  {
   "cell_type": "markdown",
   "metadata": {
    "slideshow": {
     "slide_type": "slide"
    }
   },
   "source": [
    "* Consider a set of $t$ input $x$'s, where $x_i \\in \\mathbb{R}^d$. This set can be represented as the matrix $X \\in \\mathbb{R}^{d \\times t}$.\n",
    "* In self-attention, we define the hidden representation $h$ as a linear combination of the inputs (or some features of the inputs): $$ h = \\alpha_1 x_1 +...\\alpha_t x_t. $$\n",
    "* Using the matrix representation described above, and stacking all the $\\alpha$'s as a vector $a \\in \\mathbb{R}^{t}$ we can write the hidden layer as the matrix product: $ h=Xa \\in \\mathbb{R}^d $.\n",
    "* Depending on the constraints we impose on the vector $a$, we can achieve hard or soft attention.\n",
    "* **Hard attention**: we impose the following constraint on the alphas: $||a||_0=1$, which means that $a$ is a one-hot vector. That hidden representation reduces the input $x_i$ corresponding to the element $\\alpha_i=1$.\n",
    "* **Soft attention**: With soft attention, we impose that $||a||_1=1$. The hidden representation is a linear combination of the inputs where the coefficients sum up to 1."
   ]
  },
  {
   "cell_type": "markdown",
   "metadata": {
    "slideshow": {
     "slide_type": "subslide"
    }
   },
   "source": [
    "#### Obtaining $\\alpha_i$'s\n",
    "---\n",
    "* **Hard attention**: $$a = \\text{argmax}(X^Tx_i) \\in \\mathbb{R}^t $$\n",
    "    * We get a one-hot vector of alphas.\n",
    "* **Soft attention**: $$ a = \\text{soft(arg)max}(X^Tx_i) \\in \\mathbb{R}^t  $$\n",
    "    * The components of the resulting vector $a$ sum to 1.\n",
    "* The components of the vector $a$ are also called **“scores”** because the scalar product between two vectors tells us how **aligned or similar** two vectors are. \n",
    "* Therefore, the elements of $a$ provide information about the similarity of the overall set to a particular $x_i$.\n",
    "* Generating $a$ this way gives a set of them, one for each $x_i$. \n",
    "* Moreover, each $a_i \\in \\mathbb{R}^t$ so we can stack the alphas in a matrix $A \\in \\mathbb{R}^{t \\times t}$.\n",
    "* Since each hidden state is a linear combination of the inputs $X$ and a vector $a$, we obtain a set of $t$ hidden states, which we can stack into a matrix $H \\in \\mathbb{R}^{d \\times t}$: $$ H = XA $$"
   ]
  },
  {
   "cell_type": "markdown",
   "metadata": {
    "slideshow": {
     "slide_type": "subslide"
    }
   },
   "source": [
    "<center><img src=\"./assets/attn_3.png\" style=\"height:300px\"></center>\n",
    "\n",
    "* Visualization of the outputs upon using two heads of attention with the same query.\n",
    "* We can see that if the Query word is **it**, the first head focuses more on the words **the animal**, and the second head focuses more on the word **tired**. \n",
    "* Hence, the final context representation will be focusing on all the words **the, animal** and **tired**, and thus is a superior representation as compared to the traditional way.\n",
    "* <a href=\"https://blogs.oracle.com/datascience/multi-head-self-attention-in-nlp\">Images Source</a>"
   ]
  },
  {
   "cell_type": "markdown",
   "metadata": {
    "slideshow": {
     "slide_type": "slide"
    }
   },
   "source": [
    "### <img src=\"https://img.icons8.com/nolan/64/key.png\" style=\"height:50px;display:inline\"> Attention with Key-Value Mechanism\n",
    "---\n",
    "* Now that we have a way to calculate scores based on similarity, we apply it in a key-value fashion.\n",
    "* A key-value store is a paradigm designed for storing (saving), retrieving (querying) and managing associative arrays (dictionaries / hash tables).\n",
    "* Imaginative example: **The Lasagna recipe** :\n",
    "    * **Query** $Q$: say we wanted to find a recipe to make lasagna. We have a recipe book and search for “lasagna” - this is the **query**. \n",
    "    * **Key** $K$: this query is checked against all possible **keys** in your dataset - in this case, this could be the titles of all the recipes in the book. \n",
    "    * We check how aligned the query is with each title to find the **maximum matching score** between the query and all the respective keys. \n",
    "    * **Value** $V$: if our output is the argmax function - we retrieve the *single* recipe (value) with the highest score. Otherwise, if we use a soft argmax function, we will get a probability distribution and can retrieve in order from the most similar content to less and less relevant recipes matching the query.\n",
    "    * Summary: keys and queries - titles of recipes, values - the actual recipe."
   ]
  },
  {
   "cell_type": "markdown",
   "metadata": {
    "slideshow": {
     "slide_type": "subslide"
    }
   },
   "source": [
    "<center><img src=\"./assets/attention_kqv.png\" style=\"height:300px\"></center>\n",
    "\n",
    "<a href=\"https://theaisummer.com/transformer/\">Image by Nikolas Adaloglou</a>"
   ]
  },
  {
   "cell_type": "markdown",
   "metadata": {},
   "source": [
    "The **attention formula** which revolutionized the field:\n",
    "\n",
    "<center><img src=\"./assets/qkv_attention_formula.png\" style=\"height:250px\"></center>\n",
    "\n",
    "<a href=\"https://lena-voita.github.io/nlp_course/seq2seq_and_attention.html\">Image by Lena Voita</a>"
   ]
  },
  {
   "cell_type": "markdown",
   "metadata": {
    "slideshow": {
     "slide_type": "subslide"
    }
   },
   "source": [
    "#### Queries, Keys and Values\n",
    "---\n",
    "* We denote the vectors $q ,k$ and $v$ as the query, key and value vectors in **self-attention**, respectively and their corresponding learnable parameters matrices $W_{q}, W_k$ and $W_v$ that are used to **project** our input embeddings $x \\in \\mathbb{R}^{d_{x}}$: $$ q = W_q x \\in \\mathbb{R}^{d }$$ $$ k = W_k x \\in \\mathbb{R}^{d}$$ $$ v = W_v x \\in \\mathbb{R}^{d_v}$$\n",
    "*  We also usually **don't** include any non-linearities since attention is completely based on **orientation**.\n",
    "* In order to compare the query against all possible keys, $q$ and $k$ must have the same dimensionality, i.e. $q, k \\in \\mathbb{R}^d$.\n",
    "* $v$ can be of any dimension, $v \\in \\mathbb{R}^{d_v}$. \n",
    "    * In the lasagna recipe example - we need the query to have the dimension as the keys, i.e. the titles of the different recipes that we’re searching through. The dimension of the corresponding recipe retrieved, $v$, can be arbitrarily long though.\n",
    "* For simplicity, we will assume that everything has the same dimension $d$ ($d_v=d$), which is what we usually do in practice as well."
   ]
  },
  {
   "cell_type": "markdown",
   "metadata": {
    "slideshow": {
     "slide_type": "subslide"
    }
   },
   "source": [
    "* Given a set of $x$'s, a set of queries, a set of keys and a set of values, we can stack these sets into matrices each with $t$ columns since we stacked $t$ vectors; each vector has height $d$ (hidden dimension): $$ \\{x_i\\}_{i=1}^t \\to \\{q_i\\}_{i=1}^t, \\{k_i\\}_{i=1}^t, \\{v_i\\}_{i=1}^t \\to Q, K, V \\in \\mathbb{R}^{d \\times t} $$\n",
    "* We compare one query $q$ against the matrix of all keys $K$: $$ a = \\text{[soft]argmax}(K^T q) \\in \\mathbb{R}^t $$\n",
    "* Then the hidden layer is going to be the linear combination of the columns of $V$ weighted by the coefficients in $a$: $$ h=Va \\in \\mathbb{R}^{d} $$\n",
    "* Since we have $t$ queries, we’ll get $t$ corresponding $a$ weights and therefore a matrix $A \\in \\mathbb{R}^{t \\times t}$, which yields: $$ H = VA \\in \\mathbb{R}^{d \\times t}$$"
   ]
  },
  {
   "cell_type": "markdown",
   "metadata": {
    "slideshow": {
     "slide_type": "subslide"
    }
   },
   "source": [
    "<center><img src=\"./assets/attention_kqv_2.png\" style=\"height:300px\"></center>\n",
    "\n",
    "<a href=\"https://theaisummer.com/transformer/\">Image by Nikolas Adaloglou</a>"
   ]
  },
  {
   "cell_type": "markdown",
   "metadata": {
    "slideshow": {
     "slide_type": "subslide"
    }
   },
   "source": [
    "<center><img src=\"./assets/self-attention_qkv.png\" style=\"height:300px\"></center>\n",
    "\n",
    "<a href=\"http://wenqianzhao.cn/2020/12/29/transformer/\">Image Source</a>"
   ]
  },
  {
   "cell_type": "markdown",
   "metadata": {
    "slideshow": {
     "slide_type": "subslide"
    }
   },
   "source": [
    "* For implementation, we can speed up computation by stacking all the $W$’s into one tall $W$ and then calculate $q, k, v$ in one go: $$ \\begin{bmatrix} q \\\\ k \\\\ v \\end{bmatrix} = \\begin{bmatrix}W_q \\\\ W_k \\\\ W_v\\end{bmatrix} x \\in \\mathbb{R}^{3d} $$\n",
    "* **Multi-head Attention**: one \"head\" of attention corresponds to **one dictionary** of queries, keys values. For $h$ heads (\"dictionaries\") of attention we have $h$ $q$’s, $h$ $k$’s and $h$ $v$’s and we end up with a vector: $$  \\begin{bmatrix} q^1 \\\\ \\vdots \\\\ q^h \\\\ k^1 \\\\ \\vdots \\\\ k^h \\\\ v^1 \\\\ \\vdots \\\\ v^h \\end{bmatrix} = \\begin{bmatrix}W_q^1 \\\\ \\vdots \\\\ W_q^h \\\\ W_k^1 \\\\ \\vdots \\\\ W_k^h \\\\ W_v^1 \\\\ \\vdots \\\\  W_v^h\\end{bmatrix} x \\in \\mathbb{R}^{3hd} $$\n",
    "* We can still transform the multi-headed values to have the original dimension $\\mathbb{R}^{d}$ by using a linear layer with weights $W_h \\in \\mathbb{R}^{d \\times hd}$."
   ]
  },
  {
   "cell_type": "markdown",
   "metadata": {
    "slideshow": {
     "slide_type": "subslide"
    }
   },
   "source": [
    "<center><img src=\"./assets/transformer_heads.png\" style=\"height:350px\"></center>\n",
    "\n",
    "<a href=\"https://lena-voita.github.io/nlp_course/seq2seq_and_attention.html#multi_head_attention\">Image Source</a>"
   ]
  },
  {
   "cell_type": "markdown",
   "metadata": {},
   "source": [
    "* The idea of multi-head attention is very similar to **group convolution**, where each filter (or \"head\") operates on *part* (=group) of the input channels.\n",
    "\n",
    "<center><img src=\"./assets/group_conv.gif\" style=\"height:300px\"></center>\n",
    "\n",
    "<a href=\"https://animatedai.github.io/\">Image Source</a>"
   ]
  },
  {
   "cell_type": "code",
   "execution_count": 12,
   "metadata": {
    "slideshow": {
     "slide_type": "subslide"
    }
   },
   "outputs": [],
   "source": [
    "class MultiHeadAttention(nn.Module):\n",
    "    def __init__(self, d_model, num_heads, dropout, d_input=None):\n",
    "        super().__init__()\n",
    "        self.num_heads = num_heads\n",
    "        self.d_model = d_model\n",
    "        if d_input is None:\n",
    "            d_xq = d_xk = d_xv = d_model\n",
    "        else:\n",
    "            d_xq, d_xk, d_xv = d_input\n",
    "            \n",
    "        # Make sure that the embedding dimension of model is a multiple of number of heads\n",
    "        assert d_model % self.num_heads == 0\n",
    "\n",
    "        self.d_k = d_model // self.num_heads  # here d is divided between the heads\n",
    "        # each head has hidden dimension d\n",
    "        \n",
    "        # These are still of dimension d_model. They will be split into number of heads \n",
    "        self.W_q = nn.Linear(d_xq, d_model, bias=False)\n",
    "        self.W_k = nn.Linear(d_xk, d_model, bias=False)\n",
    "        self.W_v = nn.Linear(d_xv, d_model, bias=False)\n",
    "        \n",
    "        # Outputs of all sub-layers need to be of dimension d_model\n",
    "        self.W_h = nn.Linear(d_model, d_model)\n",
    "        \n",
    "        self.dropout = nn.Dropout(dropout)\n",
    "        \n",
    "    def scaled_dot_product_attention(self, Q, K, V):\n",
    "        batch_size = Q.size(0) \n",
    "        k_length = K.size(-2) \n",
    "        \n",
    "        # Scaling by d_k so that the soft(arg)max doesn't saturate\n",
    "        Q = Q / np.sqrt(self.d_k)                         # (bs, n_heads, q_length, dim_per_head)\n",
    "        scores = torch.matmul(Q, K.transpose(2, 3))          # (bs, n_heads, q_length, k_length)\n",
    "        \n",
    "        A = torch.softmax(scores, dim=-1)  # (bs, n_heads, q_length, k_length)\n",
    "        A = self.dropout(A)\n",
    "        \n",
    "        # Get the weighted average of the values\n",
    "        H = torch.matmul(A, V)     # (bs, n_heads, q_length, dim_per_head)\n",
    "\n",
    "        return H, A \n",
    "\n",
    "        \n",
    "    def split_heads(self, x, batch_size):\n",
    "        \"\"\"\n",
    "        Split the last dimension into (heads X depth)\n",
    "        Return after transpose to put in shape (batch_size X num_heads X seq_length X d_k)\n",
    "        \"\"\"\n",
    "        return x.view(batch_size, -1, self.num_heads, self.d_k).transpose(1, 2)\n",
    "\n",
    "    def group_heads(self, x, batch_size):\n",
    "        \"\"\"\n",
    "        Combine the heads again to get (batch_size X seq_length X (num_heads times d_k))\n",
    "        \"\"\"\n",
    "        return x.transpose(1, 2).contiguous().view(batch_size, -1, self.num_heads * self.d_k)\n",
    "    \n",
    "\n",
    "    def forward(self, X_q, X_k, X_v):\n",
    "        batch_size, seq_length, dim = X_q.size() # dim = embedding dimension\n",
    "\n",
    "        # After transforming, split into num_heads \n",
    "        Q = self.split_heads(self.W_q(X_q), batch_size)  # (bs, n_heads, q_length, dim_per_head)\n",
    "        K = self.split_heads(self.W_k(X_k), batch_size)  # (bs, n_heads, k_length, dim_per_head)\n",
    "        V = self.split_heads(self.W_v(X_v), batch_size)  # (bs, n_heads, v_length, dim_per_head)\n",
    "        \n",
    "        # Calculate the attention weights for each of the heads\n",
    "        H_cat, A = self.scaled_dot_product_attention(Q, K, V)\n",
    "        \n",
    "        # Put all the heads back together by concat\n",
    "        H_cat = self.group_heads(H_cat, batch_size)    # (bs, q_length, dim)\n",
    "        \n",
    "        # Final linear layer  \n",
    "        H = self.W_h(H_cat)  # (bs, q_length, dim)\n",
    "        \n",
    "        return H, A"
   ]
  },
  {
   "cell_type": "markdown",
   "metadata": {
    "slideshow": {
     "slide_type": "subslide"
    }
   },
   "source": [
    "#### Self-Attention Sanity Check\n",
    "---\n",
    "* If the query matches with one of the key values, it should have all the attention focused there, with the value returned as the value at that index."
   ]
  },
  {
   "cell_type": "code",
   "execution_count": 13,
   "metadata": {
    "slideshow": {
     "slide_type": "subslide"
    }
   },
   "outputs": [
    {
     "name": "stdout",
     "output_type": "stream",
     "text": [
      "Attention weights are: tensor([3.7266e-06, 9.9999e-01, 3.7266e-06, 3.7266e-06])\n",
      "Output is: tensor([1.0004e+01, 4.0993e-05, 0.0000e+00])\n"
     ]
    }
   ],
   "source": [
    "def print_out(Q, K, V):\n",
    "    temp_out, temp_attn = temp_mha.scaled_dot_product_attention(Q, K, V)\n",
    "    print('Attention weights are:', temp_attn.squeeze())\n",
    "    print('Output is:', temp_out.squeeze())\n",
    "    \n",
    "\n",
    "temp_mha = MultiHeadAttention(d_model=512, num_heads=8, dropout=0)\n",
    "test_K = torch.tensor(\n",
    "    [[10, 0, 0],\n",
    "     [ 0, 10, 0],\n",
    "     [ 0, 0, 10],\n",
    "     [ 0, 0, 10]]\n",
    ").float()[None, None]\n",
    "\n",
    "test_V = torch.tensor(\n",
    "    [[   1, 0, 0],\n",
    "     [  10, 0, 0],\n",
    "     [ 100, 5, 0],\n",
    "     [1000, 6, 0]]\n",
    ").float()[None, None]\n",
    "\n",
    "test_Q = torch.tensor(\n",
    "    [[0, 10, 0]]\n",
    ").float()[None, None]\n",
    "print_out(test_Q, test_K, test_V)"
   ]
  },
  {
   "cell_type": "markdown",
   "metadata": {
    "slideshow": {
     "slide_type": "subslide"
    }
   },
   "source": [
    "Great! We can see that it focuses on the second key and returns the second value."
   ]
  },
  {
   "cell_type": "markdown",
   "metadata": {
    "slideshow": {
     "slide_type": "slide"
    }
   },
   "source": [
    "## <img src=\"https://img.icons8.com/color/96/000000/transformer.png\" style=\"height:50px;display:inline\"> The Transformer\n",
    "---\n",
    "* **Transformer**: attention-based encoder-decoder architecture that aims to combine the advantages from both Feed Forward Networks (FFNs, basically MLPs implementing 1-D convolution) and RNNs.\n",
    "* It achieves **parallelization** by capturing recurrence sequence with attention and at the same time encodes each item’s position in the sequence.\n",
    "    * RNNs are replaced with multi-head attention layers, incorporating the position-wise information through **position encoding**, and applying **layer normalization**. \n",
    "* A compatible model with significantly shorter training time.\n",
    "* 3 main stages: input stage, $n$ times transformer blocks (encoding layers) with different parameters, output stage.\n",
    "* **When do we need encoder-decoder and when can we use just an encoder or just a decoder?**\n",
    "    * Classification (e.g., sentiment analysis) may just use a Tranformer encoder.\n",
    "    * Next-token prediction (e.g., language modeling) may just use a Transformer decoder (autoregressive inference).\n",
    "    * Sequence-to-Sequence (seq2seq, e.g., machine translation) models require both an encoder and decoder modules, and **cross-attention** is used between 2 different sequence (e.g., a sentence in English and a sentence in French).\n",
    "* We will now take a look at each component of the Transformer."
   ]
  },
  {
   "cell_type": "markdown",
   "metadata": {
    "slideshow": {
     "slide_type": "subslide"
    }
   },
   "source": [
    "<center><img src=\"./assets/transformer_enc_dec.PNG\" style=\"height:550px\"></center>"
   ]
  },
  {
   "cell_type": "markdown",
   "metadata": {
    "slideshow": {
     "slide_type": "slide"
    }
   },
   "source": [
    "#### Transformer's Encoder Module\n",
    "---\n",
    "<center><img src=\"./assets/transformer_encoder.png\" style=\"height:350px\"></center>\n",
    "\n",
    "<a href=\"https://jalammar.github.io/illustrated-transformer/\">Image Source</a>"
   ]
  },
  {
   "cell_type": "markdown",
   "metadata": {
    "slideshow": {
     "slide_type": "subslide"
    }
   },
   "source": [
    "* The encoder module accepts a set of inputs $\\{x_i\\}_{i=1}^t$, which are simultaneously fed through the **self-attention** block and bypass it to reach the `Add, Norm` block.\n",
    "    *  In tasks that try to model sequential data, **positional encodings** are added prior to self-attention layer.\n",
    "    * The `Add, Norm` block has two components: the add block is a residual connection, and then layer normalization.\n",
    "* At which point, they are again simultaneously passed through the FFN (just an MLP that is shared between all inputs) and another `Add, Norm` block, and consequently outputted as the set of hidden representation $\\{h_i^{Enc}\\}_{i=1}^t$.\n",
    "    * A position-wise feed forward network (1D-convolution): consists of two dense layers. Depending on what values are set, this block allows you to adjust the dimensions of the output $h^{Enc}$.\n",
    "    * Similar to the multi-head attention, the position-wise feed-forward network (1D convolution) will only change the last dimension size of the input—the feature dimension. \n",
    "    * In addition, if two items in the input sequence are identical, the according outputs will be identical as well.\n",
    "* This set of hidden representation is then either sent through an arbitrary number of encoder modules (i.e. more layers), or to the *decoder*.\n",
    "* **Note**: it is now common to put the layer normalization **before** the self-attention layer for a more stabilized training (usually referred to as *Pre-Norm*)."
   ]
  },
  {
   "cell_type": "code",
   "execution_count": 14,
   "metadata": {
    "slideshow": {
     "slide_type": "subslide"
    }
   },
   "outputs": [],
   "source": [
    "\"\"\"\n",
    "Feed Forward Network (FFN): an MLP with one hidden layer and ReLU activation applied to each and every element in the set.\n",
    "\"\"\"\n",
    "class FFN(nn.Module):\n",
    "    def __init__(self, d_model, hidden_dim_multiplier=4, resid_pdrop=0.1):\n",
    "        super().__init__()\n",
    "        self.fc_1 = nn.Linear(d_model, hidden_dim_multiplier * d_model)\n",
    "        self.act = nn.ReLU(True)  # inplace=True, saves a little bit of memory\n",
    "        self.proj = nn.Linear(hidden_dim_multiplier * d_model, d_model)\n",
    "        self.dropout = nn.Dropout(resid_pdrop)\n",
    "\n",
    "    def forward(self, x):\n",
    "        # x: [batch_size, seq_len, embed_dim]\n",
    "        x = self.dropout(self.proj(self.act(self.fc_1(x))))  #  [batch_size, seq_len, embed_dim]\n",
    "        return x"
   ]
  },
  {
   "cell_type": "code",
   "execution_count": 15,
   "metadata": {
    "slideshow": {
     "slide_type": "subslide"
    }
   },
   "outputs": [
    {
     "data": {
      "text/plain": [
       "tensor([[-0.0314, -0.1459,  0.2119, -0.3628],\n",
       "        [-0.0314, -0.1459,  0.2119, -0.3628],\n",
       "        [-0.0314, -0.1459,  0.2119, -0.3628]], grad_fn=<SelectBackward0>)"
      ]
     },
     "execution_count": 15,
     "metadata": {},
     "output_type": "execute_result"
    }
   ],
   "source": [
    "ffn = FFN(d_model=4, hidden_dim_multiplier=2)\n",
    "ffn.eval()\n",
    "ffn(torch.ones((2, 3, 4)))[0]  # batch_size = 2, seq_len = 3, embed_dim = 4\n",
    "# note that the FFN only operates on the last dimension\n",
    "# PyTorch's nn.Linear knows how to handle tensors of shape [batch_size, seq_len, embed_dim]"
   ]
  },
  {
   "cell_type": "markdown",
   "metadata": {
    "slideshow": {
     "slide_type": "slide"
    }
   },
   "source": [
    "#### Positional Encoding\n",
    "---\n",
    "* Unlike the recurrent layer, both the multi-head attention layer and the position-wise feed-forward network compute the output of each item in the sequence independently. \n",
    "* This feature enables us to **parallelize the computation**, but it fails to model the sequential information for a given sequence. \n",
    "* To better capture the sequential information, the Transformer model uses the positional encoding to **maintain the positional information of the input sequence**.\n",
    "    * The positional encoding adds positional information. This can be implemented in multiple ways, and the original Transformer uses `sin` and `cos` functions to add that information."
   ]
  },
  {
   "cell_type": "markdown",
   "metadata": {
    "slideshow": {
     "slide_type": "subslide"
    }
   },
   "source": [
    "* Assume that $X\\in \\mathbb{R}^{l\\times d}$ is the embedding of an example, where $l$ is the sequence length and $d$ is the embedding size. \n",
    "* This positional encoding layer encodes $X$’s position in the matrix $P\\in \\mathbb{R}^{l\\times d}$ and outputs $P+X$.\n",
    "* The position $P$ is a 2-D matrix, where $i$ refers to the order in the sentence, and $j$ refers to the position along the embedding vector dimension. \n",
    "* In this way, each value in the origin sequence is then maintained using the equations below: $$ P_{i, 2j} = \\sin(i/10000^{2j/d}), $$ $$ P_{i, 2j+1} = \\cos(i/10000^{2j/d}) $$ for $i=0,…,l−1$ and $j=0,…,\\lfloor(d−1)/2\\rfloor$."
   ]
  },
  {
   "cell_type": "markdown",
   "metadata": {
    "slideshow": {
     "slide_type": "subslide"
    }
   },
   "source": [
    "<center><img src=\"./assets/transformer_position_enc.svg\" style=\"height:200px\"></center>"
   ]
  },
  {
   "cell_type": "code",
   "execution_count": 16,
   "metadata": {
    "slideshow": {
     "slide_type": "subslide"
    }
   },
   "outputs": [],
   "source": [
    "class PositionalEncoding(nn.Module):\n",
    "    def __init__(self, num_hiddens, dropout, max_len=1000):\n",
    "        super(PositionalEncoding, self).__init__()\n",
    "        self.dropout = nn.Dropout(dropout)\n",
    "        # Create a long enough `P`\n",
    "        self.P = torch.zeros((1, max_len, num_hiddens))\n",
    "        X = torch.arange(0, max_len, dtype=torch.float32).reshape(-1, 1)\n",
    "        X = X / torch.pow(10_000, torch.arange(0, num_hiddens, 2, dtype=torch.float32) / num_hiddens)\n",
    "        self.P[:, :, 0::2] = torch.sin(X)\n",
    "        self.P[:, :, 1::2] = torch.cos(X)\n",
    "        # alternative approach - learned positional embeddings, like in GPT:\n",
    "        # self.position_embeddings = nn.Parameter(0.02 * torch.randn(1, max_len, num_hiddens)))  # draw from N(0, 0.02^2)\n",
    "\n",
    "    def forward(self, X):\n",
    "        X = X + self.P[:, :X.shape[1], :].to(X.device)\n",
    "        # if using learned embeddings:\n",
    "        # X = X + self.positional_embeddings[:, :X.shape[1]]  # [bs, seq_len, embed_dim]\n",
    "        return self.dropout(X)"
   ]
  },
  {
   "cell_type": "code",
   "execution_count": 17,
   "metadata": {
    "slideshow": {
     "slide_type": "subslide"
    }
   },
   "outputs": [
    {
     "data": {
      "image/png": "[encoded data removed]",
      "text/plain": [
       "<Figure size 800x400 with 1 Axes>"
      ]
     },
     "metadata": {},
     "output_type": "display_data"
    }
   ],
   "source": [
    "\"\"\"\n",
    "Test the PositionalEncoding class with a toy model for 4 dimensions. \n",
    "The  4th  dimension has the same frequency as the 5th but with different offset (i.e. phase)\n",
    "because one is produced by a sine function and the other is produced by a cosine function. \n",
    "The  6th  and  7th  dimensions have lower frequency.\n",
    "\"\"\"\n",
    "import matplotlib.pyplot as plt\n",
    "import numpy as np\n",
    "\n",
    "pe = PositionalEncoding(num_hiddens=20, dropout=0)\n",
    "pe.eval()\n",
    "Y = pe(torch.zeros((1, 100, 20))).data.cpu().numpy()  # 1 example, 100 words with embedding dim of 20\n",
    "fig = plt.figure(figsize=(8, 4))\n",
    "ax = fig.add_subplot(111)\n",
    "for p in [4, 5, 6, 7]:\n",
    "    ax.plot(np.arange(100), Y[0, :, p].T, label=f'dim {p}')\n",
    "ax.legend()\n",
    "ax.grid()"
   ]
  },
  {
   "cell_type": "code",
   "execution_count": 18,
   "metadata": {
    "slideshow": {
     "slide_type": "subslide"
    }
   },
   "outputs": [],
   "source": [
    "# Embeddings class: sequences -> features\n",
    "\n",
    "class Embeddings(nn.Module):\n",
    "    def __init__(self, d_model, vocab_size, max_position_embeddings, dropout=0):\n",
    "        super().__init__()\n",
    "        self.dropout = dropout\n",
    "        self.word_embeddings = nn.Embedding(vocab_size, d_model, padding_idx=1)\n",
    "        self.position_embeddings = PositionalEncoding(num_hiddens=d_model, dropout=self.dropout,\n",
    "                                                      max_len=max_position_embeddings)\n",
    "        self.LayerNorm = nn.LayerNorm(d_model, eps=1e-12)\n",
    "        self.d_model = d_model\n",
    "\n",
    "    def forward(self, input_ids):\n",
    "        seq_length = input_ids.size(1)\n",
    "        \n",
    "        # Get word embeddings for each input id\n",
    "        word_embeddings = self.word_embeddings(input_ids)                   # (bs, max_seq_length, dim)\n",
    "        # Get position embeddings for the word embeddings and add them     \n",
    "        embeddings = self.position_embeddings(word_embeddings) # (bs, max_seq_length, dim)\n",
    "        \n",
    "        # Layer norm \n",
    "        embeddings = self.LayerNorm(embeddings)             # (bs, max_seq_length, dim)\n",
    "        return embeddings"
   ]
  },
  {
   "cell_type": "code",
   "execution_count": 19,
   "metadata": {
    "slideshow": {
     "slide_type": "subslide"
    }
   },
   "outputs": [],
   "source": [
    "# Transformer encoder\n",
    "class EncoderLayer(nn.Module):\n",
    "    def __init__(self, d_model, num_heads, hidden_dim_mult=4, dropout=0.1):\n",
    "        super().__init__()\n",
    "        \n",
    "        self.dropout = dropout\n",
    "        self.mha = MultiHeadAttention(d_model, num_heads, dropout=dropout)\n",
    "        self.ffn = FFN(d_model, hidden_dim_mult, dropout)\n",
    "\n",
    "        self.layernorm1 = nn.LayerNorm(normalized_shape=d_model, eps=1e-6)\n",
    "        self.layernorm2 = nn.LayerNorm(normalized_shape=d_model, eps=1e-6)\n",
    "    \n",
    "    def forward(self, x):\n",
    "        \n",
    "        # Multi-head attention \n",
    "        attn_output, _ = self.mha(x, x, x)  # (batch_size, input_seq_len, d_model)\n",
    "        \n",
    "        # Layer norm after adding the residual connection \n",
    "        out1 = self.layernorm1(x + attn_output)  # (batch_size, input_seq_len, d_model)\n",
    "        \n",
    "        # Feed forward \n",
    "        ffn_output = self.ffn(out1)  # (batch_size, input_seq_len, d_model)\n",
    "        \n",
    "        # Second layer norm after adding residual connection \n",
    "        out2 = self.layernorm2(out1 + ffn_output)  # (batch_size, input_seq_len, d_model)\n",
    "\n",
    "        return out2\n",
    "\n",
    "class TransformerEncoder(nn.Module):\n",
    "    def __init__(self, num_layers, d_model, num_heads, ff_hidden_dim_mult, input_vocab_size,\n",
    "               maximum_position_encoding, dropout=0.1):\n",
    "        super().__init__()\n",
    "\n",
    "        self.d_model = d_model\n",
    "        self.num_layers = num_layers\n",
    "        self.dropout = dropout\n",
    "\n",
    "        self.embedding = Embeddings(d_model, input_vocab_size, maximum_position_encoding, dropout)\n",
    "\n",
    "        self.enc_layers = nn.ModuleList()\n",
    "        for _ in range(num_layers):\n",
    "            self.enc_layers.append(EncoderLayer(d_model, num_heads, ff_hidden_dim_mult, self.dropout))\n",
    "        \n",
    "    def forward(self, x):\n",
    "        x = self.embedding(x) # Transform to (batch_size, input_seq_length, d_model)\n",
    "\n",
    "        for i in range(self.num_layers):\n",
    "            x = self.enc_layers[i](x)\n",
    "\n",
    "        return x  # (batch_size, input_seq_len, d_model)"
   ]
  },
  {
   "cell_type": "code",
   "execution_count": 20,
   "metadata": {
    "slideshow": {
     "slide_type": "subslide"
    }
   },
   "outputs": [],
   "source": [
    "# Transormer classifier for sentiment analysis\n",
    "class TransformerClassifier(nn.Module):\n",
    "    def __init__(self, num_layers, d_model, num_heads, ff_hidden_dim_mult, input_vocab_size, num_answers):\n",
    "        super().__init__()\n",
    "        \n",
    "        self.encoder = TransformerEncoder(num_layers, d_model, num_heads, ff_hidden_dim_mult, input_vocab_size,\n",
    "                                          maximum_position_encoding=10000)\n",
    "        self.dense = nn.Linear(d_model, num_answers)\n",
    "\n",
    "    def forward(self, x):\n",
    "        x = self.encoder(x)  # [batch_size, seq_len, d_model]\n",
    "        # pooling\n",
    "        x, _ = torch.max(x, dim=1)  # [batch_size, d_model], can also use torch.mean(dim=1) or just x[:, -1]\n",
    "        x = self.dense(x)  # [batch_size, num_answers]\n",
    "        return x"
   ]
  },
  {
   "cell_type": "code",
   "execution_count": 21,
   "metadata": {
    "slideshow": {
     "slide_type": "subslide"
    }
   },
   "outputs": [
    {
     "data": {
      "text/plain": [
       "TransformerClassifier(\n",
       "  (encoder): TransformerEncoder(\n",
       "    (embedding): Embeddings(\n",
       "      (word_embeddings): Embedding(55000, 32, padding_idx=1)\n",
       "      (position_embeddings): PositionalEncoding(\n",
       "        (dropout): Dropout(p=0.1, inplace=False)\n",
       "      )\n",
       "      (LayerNorm): LayerNorm((32,), eps=1e-12, elementwise_affine=True)\n",
       "    )\n",
       "    (enc_layers): ModuleList(\n",
       "      (0): EncoderLayer(\n",
       "        (mha): MultiHeadAttention(\n",
       "          (W_q): Linear(in_features=32, out_features=32, bias=False)\n",
       "          (W_k): Linear(in_features=32, out_features=32, bias=False)\n",
       "          (W_v): Linear(in_features=32, out_features=32, bias=False)\n",
       "          (W_h): Linear(in_features=32, out_features=32, bias=True)\n",
       "          (dropout): Dropout(p=0.1, inplace=False)\n",
       "        )\n",
       "        (ffn): FFN(\n",
       "          (fc_1): Linear(in_features=32, out_features=128, bias=True)\n",
       "          (act): ReLU(inplace=True)\n",
       "          (proj): Linear(in_features=128, out_features=32, bias=True)\n",
       "          (dropout): Dropout(p=0.1, inplace=False)\n",
       "        )\n",
       "        (layernorm1): LayerNorm((32,), eps=1e-06, elementwise_affine=True)\n",
       "        (layernorm2): LayerNorm((32,), eps=1e-06, elementwise_affine=True)\n",
       "      )\n",
       "    )\n",
       "  )\n",
       "  (dense): Linear(in_features=32, out_features=2, bias=True)\n",
       ")"
      ]
     },
     "execution_count": 21,
     "metadata": {},
     "output_type": "execute_result"
    }
   ],
   "source": [
    "device = torch.device(\"cuda:0\" if torch.cuda.is_available() else \"cpu\")\n",
    "vocab_size = len(vocab)\n",
    "model = TransformerClassifier(num_layers=1, d_model=32, num_heads=2, \n",
    "                              ff_hidden_dim_mult=4, input_vocab_size=vocab_size, num_answers=2)\n",
    "model.to(device)"
   ]
  },
  {
   "cell_type": "code",
   "execution_count": 22,
   "metadata": {},
   "outputs": [],
   "source": [
    "# collate_fn processes sample from DataLoader according to the data processing pipelines declared previously. \n",
    "# label is a tensor saving the labels of individual text entries.\n",
    "max_seq_len = 200\n",
    "\n",
    "def collate_batch(batch):\n",
    "    label_list, text_list = [], []\n",
    "    for _label, _text in batch:\n",
    "        label_list.append(label_pipeline(_label))\n",
    "        processed_text = torch.tensor(text_pipeline(_text)[:max_seq_len], dtype=torch.int64)\n",
    "        if processed_text.shape[0] < max_seq_len:\n",
    "            pad = vocab(['<pad>'])[0] * torch.ones(max_seq_len - len(processed_text), dtype=torch.int64, device=processed_text.device)\n",
    "            processed_text = torch.cat([processed_text, pad])\n",
    "        text_list.append(processed_text)\n",
    "    label_list = torch.tensor(label_list, dtype=torch.int64)\n",
    "    text_list = torch.stack(text_list, dim=0)\n",
    "    return label_list.to(device), text_list.to(device)"
   ]
  },
  {
   "cell_type": "code",
   "execution_count": 23,
   "metadata": {},
   "outputs": [],
   "source": [
    "# functions for training and evaluation\n",
    "def train(dataloader):\n",
    "    model.train()\n",
    "    total_acc, total_count = 0, 0\n",
    "    log_interval = 500\n",
    "    start_time = time.time()\n",
    "\n",
    "    for idx, (label, text) in enumerate(dataloader): \n",
    "        predicted_label = model(text)\n",
    "        # print(f'predicted_label: {predicted_label.shape}, label: {label.shape}')\n",
    "        loss = criterion(predicted_label, label)\n",
    "        optimizer.zero_grad()\n",
    "        loss.backward()\n",
    "        # torch.nn.utils.clip_grad_norm_(model.parameters(), 0.1)\n",
    "        optimizer.step()\n",
    "        total_acc += (predicted_label.argmax(1) == label).sum().item()\n",
    "        total_count += label.size(0)\n",
    "        if idx % log_interval == 0 and idx > 0:\n",
    "            elapsed = time.time() - start_time\n",
    "            print(f\"| epoch {epoch:3d} | {idx:5d}/{len(dataloader):5d} batches| accuracy {total_acc / total_count:8.3f}\")\n",
    "            total_acc, total_count = 0, 0\n",
    "            start_time = time.time()\n",
    "\n",
    "\n",
    "def evaluate(dataloader):\n",
    "    model.eval()\n",
    "    total_acc, total_count = 0, 0\n",
    "\n",
    "    with torch.no_grad():\n",
    "        for idx, (label, text) in enumerate(dataloader):\n",
    "            predicted_label = model(text)\n",
    "            loss = criterion(predicted_label, label)\n",
    "            total_acc += (predicted_label.argmax(1) == label).sum().item()\n",
    "            total_count += label.size(0)\n",
    "    return total_acc / total_count"
   ]
  },
  {
   "cell_type": "code",
   "execution_count": 27,
   "metadata": {},
   "outputs": [],
   "source": [
    "# hyper-parameters\n",
    "batch_size = 128\n",
    "epochs = 10\n",
    "lr = 1e-3\n",
    "optimizer = torch.optim.AdamW(model.parameters(), lr=lr)\n",
    "criterion = torch.nn.CrossEntropyLoss()"
   ]
  },
  {
   "cell_type": "code",
   "execution_count": 28,
   "metadata": {},
   "outputs": [],
   "source": [
    "# split and prepare dataset\n",
    "train_iter, test_iter = IMDB(root='./datasets/imdb/aclImdb/')\n",
    "train_dataset = to_map_style_dataset(train_iter)\n",
    "test_dataset = to_map_style_dataset(test_iter)\n",
    "num_train = int(len(train_dataset) * 0.95)\n",
    "split_train_, split_valid_ = random_split(train_dataset, [num_train, len(train_dataset) - num_train])\n",
    "\n",
    "train_dataloader = DataLoader(split_train_, batch_size=batch_size, shuffle=True, collate_fn=collate_batch)\n",
    "valid_dataloader = DataLoader(split_valid_, batch_size=batch_size, shuffle=False, collate_fn=collate_batch)\n",
    "test_dataloader = DataLoader(test_dataset, batch_size=batch_size, shuffle=False, collate_fn=collate_batch)"
   ]
  },
  {
   "cell_type": "code",
   "execution_count": 29,
   "metadata": {},
   "outputs": [
    {
     "name": "stdout",
     "output_type": "stream",
     "text": [
      "-----------------------------------------------------------\n",
      "| end of epoch   0 | time: 11.51s | valid accuracy    0.835\n",
      "-----------------------------------------------------------\n",
      "-----------------------------------------------------------\n",
      "| end of epoch   1 | time: 11.08s | valid accuracy    0.834\n",
      "-----------------------------------------------------------\n",
      "-----------------------------------------------------------\n",
      "| end of epoch   2 | time: 10.96s | valid accuracy    0.843\n",
      "-----------------------------------------------------------\n",
      "-----------------------------------------------------------\n",
      "| end of epoch   3 | time: 12.04s | valid accuracy    0.866\n",
      "-----------------------------------------------------------\n",
      "-----------------------------------------------------------\n",
      "| end of epoch   4 | time: 10.96s | valid accuracy    0.877\n",
      "-----------------------------------------------------------\n",
      "-----------------------------------------------------------\n",
      "| end of epoch   5 | time: 10.95s | valid accuracy    0.879\n",
      "-----------------------------------------------------------\n",
      "-----------------------------------------------------------\n",
      "| end of epoch   6 | time: 10.96s | valid accuracy    0.881\n",
      "-----------------------------------------------------------\n",
      "-----------------------------------------------------------\n",
      "| end of epoch   7 | time: 11.04s | valid accuracy    0.881\n",
      "-----------------------------------------------------------\n",
      "-----------------------------------------------------------\n",
      "| end of epoch   8 | time: 10.97s | valid accuracy    0.882\n",
      "-----------------------------------------------------------\n",
      "-----------------------------------------------------------\n",
      "| end of epoch   9 | time: 11.05s | valid accuracy    0.869\n",
      "-----------------------------------------------------------\n"
     ]
    }
   ],
   "source": [
    "# train loop\n",
    "total_accu = None\n",
    "for epoch in range(epochs):\n",
    "    epoch_start_time = time.time()\n",
    "    train(train_dataloader)\n",
    "    accu_val = evaluate(valid_dataloader)\n",
    "    total_accu = accu_val\n",
    "    print(\"-\" * 59)\n",
    "    print(f\"| end of epoch {epoch:3d} | time: {time.time() - epoch_start_time:5.2f}s | valid accuracy {accu_val:8.3f}\")\n",
    "    print(\"-\" * 59)"
   ]
  },
  {
   "cell_type": "code",
   "execution_count": 30,
   "metadata": {},
   "outputs": [
    {
     "name": "stdout",
     "output_type": "stream",
     "text": [
      "test accuracy    0.829\n"
     ]
    }
   ],
   "source": [
    "# evaluation on test set\n",
    "accu_test = evaluate(test_dataloader)\n",
    "print(f\"test accuracy {accu_test:8.3f}\")"
   ]
  },
  {
   "cell_type": "markdown",
   "metadata": {},
   "source": [
    "* We can usually plot the attention matrices and analyze the learned correlations.\n",
    "* Hopefully, different heads will learn different features/relations (just like filters in CNNs).\n",
    "* The common trend is that earlier layer learn more global features, making the attention matrices *almost* diagonal, and as we go deeper, finer relations are learned and the attention matrices can have unique structures.\n",
    "\n",
    "<center><img src=\"./assets/attention_matrix.PNG\" style=\"height:500px\"></center>\n",
    "\n",
    "<a href=\"https://jalammar.github.io/illustrated-transformer/\">Image Source</a>"
   ]
  },
  {
   "cell_type": "markdown",
   "metadata": {
    "slideshow": {
     "slide_type": "slide"
    }
   },
   "source": [
    "#### Transformer's Decoder Module\n",
    "---\n",
    "<center><img src=\"./assets/transformer_decoder.png\" style=\"height:350px\"></center>\n",
    "\n",
    "<a href=\"https://jalammar.github.io/illustrated-transformer/\">Image Source</a>"
   ]
  },
  {
   "cell_type": "markdown",
   "metadata": {
    "slideshow": {
     "slide_type": "subslide"
    }
   },
   "source": [
    "* The Transformer decoder block looks similar to the Transformer encoder block. \n",
    "* However, besides the two sub-layers (the multi-head attention layer and the positional encoding network), the decoder Transformer block contains a third sub-layer, which applies multi-head attention on the output of the encoder stack.\n",
    "* **Cross-attention**: The cross attention follows the query, key, and value setup used for the self-attention blocks. However, the inputs are a little more complicated. \n",
    "    * The input to the decoder is a data point $y_i$, which is then passed through the self-attention and add-norm blocks, and finally ends up at the cross-attention block. \n",
    "    * This serves as the **query** for cross-attention, where the **key and value** pairs are the output $h^{Enc}$, where this output is calculated with all past inputs $x_1, ..., x_t$.\n",
    "* During training, the output for the $t$-query could observe all the previous key-value pairs. \n",
    "* It results in a different behavior from prediction. Thus, during *prediction* we can eliminate the unnecessary information by specifying the valid length to be $t$ for the $t^{th}$ query.\n",
    "* The output probabilities predict the next token in the output sentence.\n",
    "* During training, we can use \"Teacher Forcing\" which allows us to use the labels from the data; however, during inference, the decoding part is done *iteratively*."
   ]
  },
  {
   "cell_type": "markdown",
   "metadata": {
    "slideshow": {
     "slide_type": "slide"
    }
   },
   "source": [
    "### <img src=\"https://img.icons8.com/plasticine/100/000000/teacher.png\" style=\"height:50px;display:inline\"> Teacher Forcing\n",
    "---\n",
    "* Teacher forcing is a strategy for training sequential neural networks that use model output from a prior time step as an input.\n",
    "* Teacher forcing works by using the actual or expected output from the training dataset at the current time step $y_t$ as input in the next time step $X_{t+1}$, rather than the output generated by the network.\n",
    "* This startegy allows for faster training, especially in RNNs."
   ]
  },
  {
   "cell_type": "markdown",
   "metadata": {
    "slideshow": {
     "slide_type": "subslide"
    }
   },
   "source": [
    "<center><img src=\"./assets/transformer_decoding_2.gif\" style=\"height:500px\"></center>\n",
    "\n",
    "<a href=\"https://jalammar.github.io/illustrated-transformer/\">Animation by Jay Alammar</a>"
   ]
  },
  {
   "cell_type": "markdown",
   "metadata": {},
   "source": [
    "#### Transformer Architecture Summary\n",
    "---\n",
    "\n",
    "<center><img src=\"./assets/transformer_arch_sum.png\" style=\"height:500px\"></center>\n",
    "\n",
    "<a href=\"https://lena-voita.github.io/nlp_course/seq2seq_and_attention.html#transformer_model_architecture\">Image Source</a>"
   ]
  },
  {
   "cell_type": "markdown",
   "metadata": {
    "slideshow": {
     "slide_type": "slide"
    }
   },
   "source": [
    "### <img src=\"https://img.icons8.com/cotton/64/000000/torch.png\" style=\"height:50px;display:inline\"> Native Transformer in PyTorch\n",
    "---\n",
    "* Transformer is implmented natively in PyTorch:<br>`torch.nn.Transformer(d_model=512, nhead=8, num_encoder_layers=6, num_decoder_layers=6, dim_feedforward=2048, dropout=0.1, activation='relu', custom_encoder=None, custom_decoder=None, layer_norm_eps=1e-05, batch_first=False, norm_first=False, device=None, dtype=None)`\n",
    "* <a href=\"https://pytorch.org/docs/stable/generated/torch.nn.Transformer.html\">Documentation</a>\n",
    "* <a href=\"https://github.com/pytorch/examples/blob/main/word_language_model/main.py\">Code example usage</a>"
   ]
  },
  {
   "cell_type": "markdown",
   "metadata": {
    "slideshow": {
     "slide_type": "slide"
    }
   },
   "source": [
    "## <img src=\"https://img.icons8.com/emoji/96/000000/woman-lifting-weights.png\" style=\"height:50px;display:inline\"> Pretrained Models - BERT and GPT\n",
    "---\n",
    "* Large-scale pretrained models have gained popularity over the past years, as big companies can train very large models, which are then published for the public to use as-is or to use with fine-tuning for the users' custom datasets.\n",
    "* **Bidirectional Encoder Representations from Transformers (BERT), Google** - a Transformer-based machine learning technique for natural language processing (NLP) pre-training developed by Google. The idea is to mask certain words and then try to predict them. The original English-language BERT model comes with two pre-trained general types:\n",
    "    * (1) the $BERT_{BASE}$ model, a 12-layer, 768-hidden, 12-heads, 110M parameter neural network architecture.\n",
    "    * (2) the $BERT_{LARGE}$ model, a 24-layer, 1024-hidden, 16-heads, 340M parameter neural network architecture. \n",
    "    * Both of which were trained on the BooksCorpus dataset with 800M words, and a version of the English Wikipedia with 2,500M words.\n",
    "    * Extensions: RoBERTa (Facebook), DistillBERT (HuggingFace)\n",
    "* **Generative Pre-trained Transformer (GPT), OpenAI** - an autoregressive language model that uses deep learning to produce human-like text. GPT was trained with a causal language modeling (CLM) objective and is therefore powerful at predicting the next token in a sequence. The proposed method utilizes generative pre-training of a language model on a diverse corpus of unlabeled text, followed by discriminative fine-tuning on each specific task. Unlike BERT, GPT is a generative model, while BERT is an effective pretrained model for embeddings of words/sentences.\n",
    "    * GPT Demo - <a href=\"https://transformer.huggingface.co/doc/gpt\">Write With Transformer</a>.\n",
    "* <a href=\"https://huggingface.co/\">HuggingFace</a> is a company that is dedicated to publishing all of the available pretrained models and it works in PyTorch as well - <a href=\"https://github.com/huggingface/transformers\">HuggingFace Transformers</a>.\n",
    "* <a href=\"https://pytorch.org/hub/huggingface_pytorch-transformers/\">Examples with PyTorch</a>."
   ]
  },
  {
   "cell_type": "markdown",
   "metadata": {},
   "source": [
    "<center><img src=\"./assets/gpt_3_train.gif\" style=\"height:400px\"></center>\n",
    "\n",
    "<a href=\"https://jalammar.github.io/how-gpt3-works-visualizations-animations/\">Animation by Jay Alammar</a>"
   ]
  },
  {
   "cell_type": "markdown",
   "metadata": {
    "slideshow": {
     "slide_type": "subslide"
    }
   },
   "source": [
    "<a href=\"https://huggingface.co/models\">HF Models Hub</a>\n",
    "\n",
    "<center><img src=\"./assets/huggingface.PNG\" style=\"height:500px\"></center>"
   ]
  },
  {
   "cell_type": "markdown",
   "metadata": {
    "slideshow": {
     "slide_type": "slide"
    }
   },
   "source": [
    "## <img src=\"https://img.icons8.com/bubbles/50/null/picture.png\" style=\"height:50px;display:inline\"> Vision Transformer (ViT)\n",
    "---\n",
    "* Instead of word tokens, we can think of image patches as our \"words\", i.e., we treat image patches as tokens.\n",
    "* This enables employing a Transformer architecture for vision tasks!\n",
    "* First, an image is split into fixed-size patches, each of them are then linearly embedded. Then, 2D position embeddings are added, and the resulting sequence of vectors is fed to a standard Transformer encoder. \n",
    "* In order to perform classification, an extra learnable “classification token” is added to the sequence, similarly to Transformer-based NLP tasks.\n",
    "* Transformers require a large amount of data for high accuracy, thus, in the case of having less data, CNNs generally perform better than Transformers.\n",
    "* To reach high performance of ViT, usuall pre-training using a large-size dataset is employed, as its dependence on a large dataset is interpreted as due to low locality inductive bias, an important property of CNNs.\n",
    "\n",
    "\n",
    "* <a href=\"https://pytorch.org/vision/main/models/vision_transformer.html\">Official ViT Pre-trained Models in PyTorch</a>.\n",
    "* <a href=\"https://github.com/lucidrains/vit-pytorch\">ViT Models and Examples with PyTorch</a>."
   ]
  },
  {
   "cell_type": "markdown",
   "metadata": {},
   "source": [
    "<center><img src=\"./assets/vit_gif_wiki.gif\" style=\"height:400px\"></center>\n",
    "\n",
    "<a href=\"https://en.wikipedia.org/wiki/Vision_transformer\">Image Source</a>"
   ]
  },
  {
   "cell_type": "code",
   "execution_count": null,
   "metadata": {},
   "outputs": [],
   "source": [
    "# code skeleton from: https://lightning.ai/docs/pytorch/latest/notebooks/course_UvA-DL/11-vision-transformer.html\n",
    "\n",
    "def img_to_patch(x, patch_size, flatten_channels=True):\n",
    "    \"\"\"\n",
    "    Inputs:\n",
    "        x - Tensor representing the image of shape [B, C, H, W]\n",
    "        patch_size - Number of pixels per dimension of the patches (integer)\n",
    "        flatten_channels - If True, the patches will be returned in a flattened format\n",
    "                           as a feature vector instead of a image grid.\n",
    "    \"\"\"\n",
    "    B, C, H, W = x.shape\n",
    "    x = x.reshape(B, C, H // patch_size, patch_size, W // patch_size, patch_size)\n",
    "    x = x.permute(0, 2, 4, 1, 3, 5)  # [B, H', W', C, p_H, p_W]\n",
    "    x = x.flatten(1, 2)  # [B, H'*W', C, p_H, p_W]\n",
    "    if flatten_channels:\n",
    "        x = x.flatten(2, 4)  # [B, H'*W', C*p_H*p_W]\n",
    "    return x\n",
    "\n",
    "class VisionTransformer(nn.Module):\n",
    "    def __init__(\n",
    "        self,\n",
    "        embed_dim,\n",
    "        hidden_dim,\n",
    "        num_channels,\n",
    "        num_heads,\n",
    "        num_layers,\n",
    "        num_classes,\n",
    "        patch_size,\n",
    "        num_patches,\n",
    "        dropout=0.0,\n",
    "    ):\n",
    "        \"\"\"\n",
    "        Inputs:\n",
    "            embed_dim - Dimensionality of the input feature vectors to the Transformer\n",
    "            hidden_dim - Dimensionality of the hidden layer in the feed-forward networks\n",
    "                         within the Transformer\n",
    "            num_channels - Number of channels of the input (3 for RGB)\n",
    "            num_heads - Number of heads to use in the Multi-Head Attention block\n",
    "            num_layers - Number of layers to use in the Transformer\n",
    "            num_classes - Number of classes to predict\n",
    "            patch_size - Number of pixels that the patches have per dimension\n",
    "            num_patches - Maximum number of patches an image can have\n",
    "            dropout - Amount of dropout to apply in the feed-forward network and\n",
    "                      on the input encoding\n",
    "        \"\"\"\n",
    "        super().__init__()\n",
    "\n",
    "        self.patch_size = patch_size\n",
    "\n",
    "        # Layers/Networks\n",
    "        self.input_layer = nn.Linear(num_channels * (patch_size**2), embed_dim)\n",
    "        self.transformer = nn.Sequential(\n",
    "            *(AttentionBlock(embed_dim, hidden_dim, num_heads, dropout=dropout) for _ in range(num_layers))\n",
    "        )\n",
    "        self.mlp_head = nn.Sequential(nn.LayerNorm(embed_dim), nn.Linear(embed_dim, num_classes))\n",
    "        self.dropout = nn.Dropout(dropout)\n",
    "\n",
    "        # Parameters/Embeddings\n",
    "        self.cls_token = nn.Parameter(torch.randn(1, 1, embed_dim))\n",
    "        self.pos_embedding = nn.Parameter(torch.randn(1, 1 + num_patches, embed_dim))\n",
    "\n",
    "    def forward(self, x):\n",
    "        # Preprocess input\n",
    "        x = img_to_patch(x, self.patch_size)\n",
    "        B, T, _ = x.shape\n",
    "        x = self.input_layer(x)\n",
    "\n",
    "        # Add CLS token and positional encoding\n",
    "        cls_token = self.cls_token.repeat(B, 1, 1)\n",
    "        x = torch.cat([cls_token, x], dim=1)\n",
    "        x = x + self.pos_embedding[:, : T + 1]\n",
    "\n",
    "        # Apply Transforrmer\n",
    "        x = self.dropout(x)\n",
    "        x = x.transpose(0, 1)\n",
    "        x = self.transformer(x)\n",
    "\n",
    "        # Perform classification prediction\n",
    "        cls = x[0]\n",
    "        out = self.mlp_head(cls)\n",
    "        return out"
   ]
  },
  {
   "cell_type": "markdown",
   "metadata": {
    "slideshow": {
     "slide_type": "slide"
    }
   },
   "source": [
    "## <img src=\"https://img.icons8.com/external-others-maxicons/62/null/external-magic-medieval-others-maxicons.png\" style=\"height:50px;display:inline\"> How to Tame Your Transformer?\n",
    "---\n",
    "* Transformers are notoriously hard to train as they are sensitive to the size of your dataset and the choice of hyperparameters including the learning rate, batch size and optimizer.\n",
    "* Following is a collection of tips and tricks that make Transformers much more stable and converge faster.\n",
    "* For a more detailed analysis, check out <a href=\"https://www.borealisai.com/research-blogs/tutorial-17-transformers-iii-training/\">Tricks For Training Transformers - Borealis AI - P. Xu, S. Prince</a>."
   ]
  },
  {
   "cell_type": "markdown",
   "metadata": {
    "slideshow": {
     "slide_type": "slide"
    }
   },
   "source": [
    "### <img src=\"https://img.icons8.com/clouds/100/rocket.png\" style=\"height:50px;display:inline\"> Initialization\n",
    "---\n",
    "* Initialization matters in LLMs, not only for stability, but also for the final performance!\n",
    "    * <a href=\"https://github.com/bigscience-workshop/bigscience/blob/master/train/lessons-learned.md\">BLOOM: Lessons Learned in Training LLMs</a>\n",
    "* **Transformer initialization**: there are many approaches, and papers, but the ground rule is using low standard deviations for the initialization distribution (which is usually normal/Gaussian).\n",
    "    * GPT and T5 have similar initializations (up to small differences in the STDs).\n",
    "* Using PyTorch’s attention and transformer modules: it is better to initialize them manually as the default initialization is not good enough.\n",
    "* LLMs require more carful initialization which is depth-dependent (i.e., how deeper the layer is in the network):\n",
    "    * **T-Fixup**: <a href=\"https://proceedings.mlr.press/v119/huang20f.html\">“Improving Transformer Optimization Through Better Initialization”. Huang et al., ICML 2020</a>.\n",
    "    * **DT-Fixup**: <a href=\"https://arxiv.org/abs/2012.15355\">\"Optimizing deeper transformers on small datasets.“ Peng et al, ACL 2021</a>.\n",
    "    * **Admin**: <a href=\"https://arxiv.org/abs/2004.08249\">\"Understanding the difficulty of training transformers.“. Liu et al., EMNLP 2020</a>.\n",
    "    * **GradInit**: <a href=\"https://arxiv.org/abs/2102.08098\">\"Gradinit: Learning to initialize neural networks for stable and efficient training.\" Chen et al., NeurIPS 2021</a>.\n",
    "    * **DS-Init**: <a href=\"https://arxiv.org/abs/1908.11365\">\"Improving deep transformer with depth-scaled initialization and merged attention.“. Biao et al., 2019</a>.\n",
    "    * **Mimetic-Init** (ViTs): <a href=\"https://arxiv.org/abs/2305.09828\">\"Mimetic Initialization of Self-Attention Layers\", Trockman and Kolter., 2023</a>."
   ]
  },
  {
   "cell_type": "code",
   "execution_count": null,
   "metadata": {},
   "outputs": [],
   "source": [
    "# GPT initialization example\n",
    "# https://github.com/karpathy/minGPT/blob/master/mingpt/model.py\n",
    "def _init_weights(self, module):\n",
    "    if isinstance(module, nn.Linear):\n",
    "        torch.nn.init.normal_(module.weight, mean=0.0, std=0.02)\n",
    "        if module.bias is not None:\n",
    "            torch.nn.init.zeros_(module.bias)\n",
    "    elif isinstance(module, nn.Embedding):\n",
    "        torch.nn.init.normal_(module.weight, mean=0.0, std=0.02)\n",
    "    elif isinstance(module, nn.LayerNorm):\n",
    "        torch.nn.init.zeros_(module.bias)\n",
    "        torch.nn.init.ones_(module.weight)"
   ]
  },
  {
   "cell_type": "markdown",
   "metadata": {
    "slideshow": {
     "slide_type": "slide"
    }
   },
   "source": [
    "### <img src=\"https://img.icons8.com/external-flaticons-lineal-color-flat-icons/64/null/external-workout-running-flaticons-lineal-color-flat-icons-4.png\" style=\"height:50px;display:inline\"> Learning Rate Warm-Up\n",
    "---\n",
    "* **Learning rate warm-up**: the learning rate is gradually increased during the early stages of training.\n",
    "* While this is not typically required for most deep learning architectures, for Transformers training fails if we just start with a typical learning rate. \n",
    "* If we *start with a very small learning rate*, then the training is stable, but then it takes an impractically long time.\n",
    "* <a href=\"https://arxiv.org/abs/2002.04745\">Xiong et al., 2020</a> conducted several experiments with different optimizers and learning rate schedules. Their results show that **learning rate warm-up is essential for both Adam and SGD**, and that the training process is sensitive to the warm-up steps."
   ]
  },
  {
   "cell_type": "markdown",
   "metadata": {},
   "source": [
    "<center><img src=\"./assets/transformers_warmup.PNG\" style=\"height:400px\"></center>"
   ]
  },
  {
   "cell_type": "markdown",
   "metadata": {},
   "source": [
    "* Although learning rate warm-up works, it has some obvious disadvantages -- it introduces an extra hyper-parameter - the number of warm-up steps, and it initializes the learning rate to zero which slows the training down.\n",
    "* <a href=\"https://www.cs.toronto.edu/~mvolkovs/ICML2020_tfixup.pdf\">Huang et al., 2020</a> found that without warm-up, the gradients vanish very quickly, and the Adam updates also rapidly become much smaller.\n",
    "*  <a href=\"https://arxiv.org/abs/2004.08249\">Liu et al., 2020</a> observed that differentiating through the self-attention mechanism creates unbalanced gradients. \n",
    "    * In particular, the gradients for the query $W_q$ and key $W_k$ parameters were much smaller than those for the value parameters $W_v$, and so the former parameters change much more slowly."
   ]
  },
  {
   "cell_type": "markdown",
   "metadata": {},
   "source": [
    "* **Gradient Shrinkage Effect**: <a href=\"https://arxiv.org/abs/2002.04745\">Xiong et al., 2020</a> found that the magnitude of the gradients through layer normalization is inversely proportional to magnitude of the input. Specifically, the gradient has the following property: $$   \\left\\lVert \\frac{\\partial \\bf Layernorm[\\mathbf{X}]}{\\partial \\mathbf{X}} \\right\\rVert=\\mathcal{O}\\left(\\frac{\\sqrt{D}}{\\lVert\\mathbf{X}\\rVert}\\right), $$ where $X$ is the input to layer normalization and $D$ is the embedding dimension.\n",
    "* If the input norm $||X||$ is larger than $\\sqrt{D}$ then back-propagating through layer normalization *reduces* the gradient magnitude in lower layers. As this effect compounds through multiple layers, it causes **the gradient to vanish at lower layers for deep models**.\n",
    "* Moreover, using adaptive optimizers like Adam aggravates the gradient shrinkage effect as the variance of the Adam updates is unbounded at the start of training, and these updates are also known to exhibit high variance in the early stages of training.\n",
    "* This can lead to *problematic large updates* early on, which can make the input norm $||X||$ to each layer increase as we move through the network and thus the increased gradient shrinkage."
   ]
  },
  {
   "cell_type": "markdown",
   "metadata": {},
   "source": [
    "* Finally, residual connections are required in the Transformer architecture for the ease of optimization, which further requires layer normalization to avoid gradient explosion and adaptive optimizers like Adam to address unbalanced gradients in the self-attention blocks. \n",
    "* On the other hand, the use of layer normalization causes the gradients to shrink in the early layers and also amplifies the output perturbations. \n",
    "* Moreover, the instability of Adam in the early stages of training exacerbates both of these effects.\n",
    "* **Learning rate warm-up** effectively stabilizes the Adam updates during the early stages of training by making the parameter changes much smaller. Consequently, Adam no longer aggravates gradient shrinkage and amplification of output perturbations and training becomes relatively stable."
   ]
  },
  {
   "cell_type": "markdown",
   "metadata": {},
   "source": [
    "<center><img src=\"./assets/transformer_warmup_d.PNG\" style=\"height:500px\"></center>"
   ]
  },
  {
   "cell_type": "code",
   "execution_count": null,
   "metadata": {},
   "outputs": [],
   "source": [
    "# learning rate warmup scheduler example\n",
    "class CosineWarmupScheduler(torch.optim.lr_scheduler._LRScheduler):\n",
    "    # https://uvadlc-notebooks.readthedocs.io/en/latest/tutorial_notebooks/tutorial6/Transformers_and_MHAttention.html\n",
    "    def __init__(self, optimizer, warmup, max_iters):\n",
    "        self.warmup = warmup\n",
    "        self.max_num_iters = max_iters\n",
    "        super().__init__(optimizer)\n",
    "\n",
    "    def get_lr(self):\n",
    "        lr_factor = self.get_lr_factor(epoch=self.last_epoch)\n",
    "        return [base_lr * lr_factor for base_lr in self.base_lrs]\n",
    "\n",
    "    def get_lr_factor(self, epoch):\n",
    "        lr_factor = 0.5 * (1 + np.cos(np.pi * epoch / self.max_num_iters))\n",
    "        if epoch <= self.warmup:\n",
    "            lr_factor *= epoch * 1.0 / self.warmup\n",
    "        return lr_factor\n",
    "    \n",
    "# usage - similar to all other scheduelrs\n",
    "warmup = 3 * len(dataloader)\n",
    "max_iter = 50 * len(dataloader)\n",
    "scheduler = CosineWarmupScheduler(optimizer, warmup=warmup, max_iters=max_iter)"
   ]
  },
  {
   "cell_type": "markdown",
   "metadata": {
    "slideshow": {
     "slide_type": "slide"
    }
   },
   "source": [
    "### <img src=\"https://img.icons8.com/external-flaticons-lineal-color-flat-icons/64/external-activation-media-agency-flaticons-lineal-color-flat-icons.png\" style=\"height:50px;display:inline\"> GLU Variants Activations\n",
    "---\n",
    "* <a href=\"https://arxiv.org/abs/2002.05202\">GLU Variants Improve Transformer</a> - Noam Shazeer, 2020.\n",
    "* The ReLU activation in the FFN (MLP) part of the Transformer can be replaced with variants from the Gated Linear Units (GLU) family for improved performance.\n",
    "* Gated Linear Units consist of the component-wise product of two linear projections, one of which is first passed through a sigmoid function.\n",
    "\n",
    "<center><img src=\"./assets/ffn_glu.PNG\" style=\"height:150px\"></center>\n",
    "\n",
    "* The reason?\n",
    "    * *\"We offer no explanation as to why these \n",
    "architectures seem to work; we attribute their success, as all else, to divine benevolence\"* (from the Conclusion section of the paper).\""
   ]
  },
  {
   "cell_type": "code",
   "execution_count": null,
   "metadata": {},
   "outputs": [],
   "source": [
    "from torch.nn import functional as F\n",
    "# replace FFN with FFNSwiglu\n",
    "class FFNSwiglu(nn.Module):\n",
    "    def __init__(self, d_model, hidden_dim_multiplier=4, resid_pdrop=0.1):\n",
    "        super().__init__()\n",
    "        self.w1 = nn.Linear(d_model, hidden_dim_multiplier * d_model, bias=False)\n",
    "        self.w2 = nn.Linear(hidden_dim_multiplier * d_model, d_model, bias=False)\n",
    "        self.w3 = nn.Linear(d_model, hidden_dim_multiplier * d_model, bias=False)\n",
    "\n",
    "        self.dropout = nn.Dropout(resid_pdrop)\n",
    "\n",
    "    def forward(self, x):\n",
    "        x = self.dropout(self.w2(F.silu((self.w1(x))) * self.w3(x)))\n",
    "        return x"
   ]
  },
  {
   "cell_type": "markdown",
   "metadata": {},
   "source": [
    "<center><img src=\"./assets/glu_variants_benchmark.PNG\" style=\"height:250px\"></center>"
   ]
  },
  {
   "cell_type": "markdown",
   "metadata": {
    "slideshow": {
     "slide_type": "slide"
    }
   },
   "source": [
    "### <img src=\"https://img.icons8.com/nolan/64/replace.png\" style=\"height:50px;display:inline\"> Alternatives to (Post) Layer Normalization\n",
    "---\n",
    "* As the problems we introduced above are directly connected to layer normalization, it is natural to question whether we can train deep transformer models without it. \n",
    "* Indeed, it is possible! sometimes we can achieve even better generalization without layer normalization."
   ]
  },
  {
   "cell_type": "markdown",
   "metadata": {},
   "source": [
    "* **Pre-LN Transformers**: a simple solution to balance the residual dependencies which will limit the output perturbations and mitigate the problem of gradient vanishing.\n",
    "* Pre-LN changes the location of layer normalization inside the transformer layer so that it occurs inside the residual blocks and before the self-attention or MLP. This simple change can help control the gradient magnitude and balance the residual dependencies.\n",
    "* Pre-LN transformer models can be trained **without learning rate warm-up**. However, they sometimes lead to inferior empirical performance. "
   ]
  },
  {
   "cell_type": "markdown",
   "metadata": {},
   "source": [
    "<center><img src=\"./assets/transformers_preln.PNG\" style=\"height:400px\"></center>"
   ]
  },
  {
   "cell_type": "code",
   "execution_count": null,
   "metadata": {},
   "outputs": [],
   "source": [
    "class EncoderLayerPreLN(nn.Module):\n",
    "    def __init__(self, d_model, num_heads, hidden_dim_mult=4, dropout=0.1):\n",
    "        super().__init__()\n",
    "        \n",
    "        self.dropout = dropout\n",
    "        self.mha = MultiHeadAttention(d_model, num_heads, dropout=dropout)\n",
    "        self.ffn = FFN(d_model, hidden_dim_mult, dropout)\n",
    "\n",
    "        self.layernorm1 = nn.LayerNorm(normalized_shape=d_model, eps=1e-6)\n",
    "        self.layernorm2 = nn.LayerNorm(normalized_shape=d_model, eps=1e-6)\n",
    "    \n",
    "    def forward(self, x):\n",
    "        \n",
    "        # pre-ln\n",
    "        x = self.layernorm1(x)\n",
    "        \n",
    "        # Multi-head attention \n",
    "        attn_output, _ = self.mha(x, x, x)  # (batch_size, input_seq_len, d_model)\n",
    "        \n",
    "        # the first residual connection \n",
    "        out1 = x + attn_output  # (batch_size, input_seq_len, d_model)\n",
    "        \n",
    "        # Feed forward + pre-ln \n",
    "        ffn_output = self.ffn(self.layernorm2(out1))  # (batch_size, input_seq_len, d_model)\n",
    "        \n",
    "        # the second residual connection \n",
    "        out2 = out1 + ffn_output  # (batch_size, input_seq_len, d_model)"
   ]
  },
  {
   "cell_type": "code",
   "execution_count": null,
   "metadata": {},
   "outputs": [],
   "source": [
    "# in pytorch set `norm_first=True`\n",
    "model = torch.nn.Transformer(d_model=512,\n",
    "                             nhead=8, num_encoder_layers=6,\n",
    "                             num_decoder_layers=6,\n",
    "                             dim_feedforward=2048,\n",
    "                             dropout=0.1,\n",
    "                             activation='silu',\n",
    "                             batch_first=True,\n",
    "                             norm_first=True)  # pre-ln: norm_first=True"
   ]
  },
  {
   "cell_type": "markdown",
   "metadata": {},
   "source": [
    "* **ReZero**: <a href=\"https://arxiv.org/abs/2003.04887\">Bachlechner et al., 2020</a> propose to remove the layer normalization and introduces a single trainable parameter $\\alpha$ per residual layer so that the self-attention block residual layer becomes, $\\mathbf{X} + \\alpha\\bf MhSa[\\mathbf{X}]$, where $\\alpha$ is initialized to zero.\n",
    "* The result of this is that the entire network is initialized just to compute the identity function, and the contributions of the self-attention and MLP layers are gradually and adaptively introduced."
   ]
  },
  {
   "cell_type": "markdown",
   "metadata": {},
   "source": [
    "<center><img src=\"./assets/transformer_rezero.PNG\" style=\"height:150px\"></center>"
   ]
  },
  {
   "cell_type": "code",
   "execution_count": null,
   "metadata": {},
   "outputs": [],
   "source": [
    "# for more examples, check out https://github.com/majumderb/rezero, \n",
    "# https://github.com/tbachlechner/ReZero-examples/blob/master/ReZero-Deep_Fast_Transformer.ipynb\n",
    "class EncoderLayerReZero(nn.Module):\n",
    "    def __init__(self, d_model, num_heads, hidden_dim_mult=4, dropout=0.1):\n",
    "        super().__init__()\n",
    "        \n",
    "        self.dropout = dropout\n",
    "        self.mha = MultiHeadAttention(d_model, num_heads, dropout=dropout)\n",
    "        self.ffn = FFN(d_model, hidden_dim_mult, dropout)\n",
    "\n",
    "        # instead of LN, we use a learnable alpha parameter initialized to zero\n",
    "        self.resweight = nn.Parameter(torch.tensor([0.0]), requires_grad=True)\n",
    "    \n",
    "    def forward(self, x):\n",
    "        # Multi-head attention \n",
    "        attn_output, _ = self.mha(x, x, x)  # (batch_size, input_seq_len, d_model)\n",
    "        \n",
    "        # the first residual connection + rezero\n",
    "        out1 = x + attn_output * self.resweight  # (batch_size, input_seq_len, d_model)\n",
    "        \n",
    "        # Feed forward\n",
    "        ffn_output = self.ffn(out1)  # (batch_size, input_seq_len, d_model)\n",
    "        \n",
    "        # the second residual connection + rezero\n",
    "        out2 = out1 + ffn_output * self.resweight  # (batch_size, input_seq_len, d_model)"
   ]
  },
  {
   "cell_type": "markdown",
   "metadata": {},
   "source": [
    "* **SandwichNorm**: why not both?\n",
    "    * This technique first made an appearance in the CoqView paper, a Chinese version of the famous text-to-image transformer DALL-E. \n",
    "    * They propose, when using Pre-LN, to add an extra LN to all the branch outputs. \n",
    "    * Some people found this to be very effective when facing instability during training.\n",
    "    \n",
    "<center><img src=\"./assets/sandwich_norm.png\" style=\"height:200px\"></center>\n",
    "\n",
    "<a href=\"https://arxiv.org/abs/2105.13290\">Image Source</a>"
   ]
  },
  {
   "cell_type": "markdown",
   "metadata": {},
   "source": [
    "* **RMSNorm**: LN, but without mean centering and learned bias.\n",
    "    * Faster than LN.\n",
    "    * <a href=\"https://arxiv.org/abs/2102.11972\">An investigative paper</a> found this to be the best performing normalization variant.\n",
    "    * Extensive experiments on several tasks using diverse network architectures show that RMSNorm achieves comparable performance against LayerNorm but reduces the running time by 7%∼64% on different models.\n",
    "    * Usually in post-LN configuration.\n",
    "    \n",
    "$$ y_i = \\text{RMSNorm}(x_i)=\\gamma_i \\hat{x}_i \\in \\mathbb{R}^d $$\n",
    "$$ \\hat{x}_i = \\frac{x_i}{\\sqrt{\\frac{1}{d}\\sum_{l=1}^d x_{i,l}^2}} $$"
   ]
  },
  {
   "cell_type": "code",
   "execution_count": null,
   "metadata": {},
   "outputs": [],
   "source": [
    "# https://github.com/lucidrains/x-transformers\n",
    "class RMSNorm(nn.Module):\n",
    "    def __init__(self, dim, eps = 1e-8):\n",
    "        super().__init__()\n",
    "        self.scale = dim ** -0.5\n",
    "        self.eps = eps\n",
    "        self.g = nn.Parameter(torch.ones(dim))\n",
    "\n",
    "    def forward(self, x):\n",
    "        norm = torch.norm(x, dim=-1, keepdim=True) * self.scale\n",
    "        return self.g * x / norm.clamp(min=self.eps)"
   ]
  },
  {
   "cell_type": "markdown",
   "metadata": {},
   "source": [
    "<center><img src=\"./assets/transformer_norm_comparison.png\" style=\"height:300px\"></center>\n",
    "\n",
    "<a href=\"https://arxiv.org/abs/2102.11972\">Image Source</a>"
   ]
  },
  {
   "cell_type": "markdown",
   "metadata": {
    "slideshow": {
     "slide_type": "slide"
    }
   },
   "source": [
    "### <img src=\"https://img.icons8.com/clouds/100/null/support.png\" style=\"height:50px;display:inline\"> Rectified Adam (RAdam) - Reducing Adam's Variance\n",
    "---\n",
    "* <a href=\"https://arxiv.org/abs/1908.03265\">Liu et al., (2019)</a> argue that the high variance of learning rates in the Adam optimizer at the early stages of training is due to the lack of samples in the early stages of learning.\n",
    "* They base their argument on an experiment in which they do not change the model parameters or momentum term of Adam for the first 2000 learning steps, but only adapt the learning rate.\n",
    "    * After this, warm-up is no longer required!\n",
    "* They propose **Rectified Adam or RAdam** which gradually changes the momentum term over time in a way that helps avoid high variance. \n",
    "    * One way to think of this is that we have effectively incorporated learning rate warm-up into the Adam algorithm, but in a principled way.\n",
    "* <a href=\"https://nn.labml.ai/optimizers/radam.html\">Step-by-step algorithm and implementation</a>."
   ]
  },
  {
   "cell_type": "markdown",
   "metadata": {},
   "source": [
    "<center><img src=\"./assets/transformer_radam.PNG\" style=\"height:300px\"></center>\n",
    "\n",
    "* Training loss v.s. # of iterations of Transformers on the De-En IWSLT’14 dataset (machine translation)."
   ]
  },
  {
   "cell_type": "code",
   "execution_count": null,
   "metadata": {},
   "outputs": [],
   "source": [
    "# RAdam in pytorch: https://pytorch.org/docs/stable/generated/torch.optim.RAdam.html#torch.optim.RAdam\n",
    "optimizer = torch.optim.RAdam(model.parameters(), lr=0.001, betas=(0.9, 0.999), eps=1e-08, weight_decay=0)"
   ]
  },
  {
   "cell_type": "markdown",
   "metadata": {
    "slideshow": {
     "slide_type": "slide"
    }
   },
   "source": [
    "### <img src=\"https://img.icons8.com/nolan/64/123.png\" style=\"height:50px;display:inline\"> Positional Encodings/Embeddings/Bias\n",
    "---\n",
    "* Transformers are stripped of any inductive bias (e.g, locality of CNNs).\n",
    "* Positional embeddings are crucial for sequence modeling with transformers.\n",
    "* Positional encodings can be *learned* or *constant*, and they can **absolute** or **relative**.\n",
    "* **Vanilla transformers**: constant absolute positional encodings (sine and cosine).\n",
    "* In addition, instead of adding the positional encodings before the input the transformer, they can be **directly injected to the attention matrix**, which usually results in better performance.\n",
    "* For example, GPT-3 uses *learned* **absolute** positional encodings, while T5 uses *learned* **relative** positional bias.\n",
    "\n",
    "<center><img src=\"./assets/att_pos_enc_table.png\" style=\"height:200px\"></center>\n",
    "\n",
    "<a href=\"https://arxiv.org/abs/2102.11090\">Image Source</a>"
   ]
  },
  {
   "cell_type": "markdown",
   "metadata": {},
   "source": [
    "* **Relative Positional Encoding (RPE)**: Relative positional encoding (RPE) is added directly to the attention matrix!\n",
    "    * Also termed “relative positional bias”.\n",
    "* Currently, RPE is superior to absolute positional encoding (APE) and it has become the standard in all recent LLMs.\n",
    "* There are several approaches to calculate the relative positional bias matrix, and the values can be learned or pre-determined.\n",
    "* Some popular recent positional encodings:\n",
    "    * Simple Relative Positional Bias (used in T5).\n",
    "    * Attention with Linear Biases (ALiBi).\n",
    "    * Rotary Positional Embeddings (RoPE, used in PaLM).\n",
    "* <a href=\"https://github.com/lucidrains/x-transformers/blob/52bcac25437064757d8c4e5bd9e77b9598b462bb/x_transformers/x_transformers.py#L227\">Code Examples</a>\n",
    "\n",
    "<center><img src=\"./assets/att_rpe.png\" style=\"height:300px\"></center>\n",
    "\n",
    "<a href=\"https://paperswithcode.com/method/relative-position-encodings\">Image Source</a>"
   ]
  },
  {
   "cell_type": "markdown",
   "metadata": {
    "slideshow": {
     "slide_type": "slide"
    }
   },
   "source": [
    "### <img src=\"https://img.icons8.com/bubbles/50/refresh.png\" style=\"height:50px;display:inline\"> Staying Up-to-Date with Transformers\n",
    "---\n",
    "* The field is moving very fast!\n",
    "* How can we keep track of all the new improvements?\n",
    "* Recommended repository: https://github.com/lucidrains/x-transformers\n",
    "* Other recommended repositories:\n",
    "    * https://github.com/facebookresearch/fairseq\n",
    "    * https://github.com/microsoft/unilm"
   ]
  },
  {
   "cell_type": "markdown",
   "metadata": {},
   "source": [
    "### <img src=\"https://img.icons8.com/cotton/64/000000/stop-sign.png\" style=\"height:50px;display:inline\"> Question time!\n",
    "---\n",
    "This question appeared in spring 2024 moed B\n",
    "\n",
    "In the following question we will assume we are given a Transformer capable of sentences of up to $L$ tokens, where every token is represented by a $d$-dimensional vector.\n",
    "1. Explain what a Positional Encoding is, why is it needed, and how it works.\n",
    "2. One suggested encoding was to assign a number in range $[0,1]$ to each word as follows: For a sentence of length $N\\leq L$, add $$\\frac{t}{N-1}$$ to the $t$-th word. This means we add $0$ to the first word and $1$ to the final word. What issue can arise from this encoding? Note that the length of each sentence $N$ can differ between sentences.\n",
    "3. Another suggested encoding was to add $1$ to the first word, $2$ to the second and so on. Would this be a good encoding? Explain your answer.\n",
    "\n",
    "From here on out, we will use the following encoding - let $0\\leq t < N, 0\\leq k<d$, we define\n",
    "$$P_{t,k}=\\begin{bmatrix}\n",
    "\\sin (\\omega_k t)\\\\\n",
    "\\cos (\\omega_k t)\n",
    "\\end{bmatrix} $$\n",
    "where $\\omega_k=10000^{-2k/d}$.\n",
    "The encoding of word $t$ is a $d$-dimensional vector of pairs $P_{t,i}$:\n",
    "$$P_{t}=\\begin{bmatrix}\n",
    "\\sin (\\omega_1 t)\\\\\n",
    "\\cos (\\omega_1 t) \\\\\n",
    "\\vdots\\\\\n",
    "\\sin (\\omega_{d/2} t)\\\\\n",
    "\\cos (\\omega_{d/2} t) \n",
    "\\end{bmatrix} $$\n",
    "\n",
    "4. Explain why this gives a unique encoding for each word in the sentence regardless of its length $N$.\n",
    "5. Show that we can linearly transform $P_{t,k}$ via offset, meaning that for any offset $\\tau$ there is a matrix \n",
    "$M_{k}^{\\tau}\\in \\mathbb{R}^{2\\times 2}$ such that\n",
    " $$ P_{t+\\tau,k}=M_{k}^{\\tau} P_{t,k}$$\n",
    "Hint: remember that $$\\sin(\\alpha+\\beta)=\\sin(\\alpha)\\cos(\\beta)+\\cos(\\alpha)\\sin(\\beta)$$\n",
    "$$\\cos(\\alpha+\\beta)=\\cos(\\alpha)\\cos(\\beta)-\\sin(\\alpha)\\sin(\\beta)$$\n",
    "\n",
    "6. Extend this to $P_{t}$, show that for $M^{\\tau}\\in \\mathbb{R}^{d\\times d}$\n",
    "$$P_{t+\\tau}=M^{\\tau} P_{t}$$"
   ]
  },
  {
   "cell_type": "markdown",
   "metadata": {},
   "source": [
    "### <img src=\"https://img.icons8.com/cotton/64/000000/checkmark.png\" style=\"height:50px;display:inline\"> Answer time!\n",
    "---\n",
    "<details>\n",
    "  <summary>Hint</summary>\n",
    "\n",
    "1. What invariant do Transformers have that RNNs do not?\n",
    "2. Normal encodings have absolute values not related to $N$.\n",
    "3. What is the scale?\n",
    "4. See the issues with 2 and 3.\n",
    "5. Use the trignometric identities.\n",
    "6. Note that $M_{k}^{\\tau}$ is independent of $t$.\n",
    "    \n",
    "</details>\n",
    "\n",
    "<details>\n",
    "  <summary>Solution</summary>\n",
    "\n",
    "#### Section 1\n",
    "Positional encodimgs assign a number (deterministically) to each word in a sentence corresponding to its position in the sentence. Without positional encoding, Transformers are invariant to the word location (unlike RNNs), and cannot distinguish between the locations of words.\n",
    "\n",
    "#### Section 2\n",
    "The positional encoding is not a vector unlike the word embedding, but more importantly, there is no absolute meaning to the positional encoding, and the distance between positions is relative to $N$. This makes the network's role of understanding the meaning of the positional encoding difficult since the encoding for a word depends on sentence length.\n",
    "\n",
    "#### Section 3\n",
    "This positional encoding does provide absolute values for each position, but natural numbers are unbounded, hurting the overall layer normalization, and we would have difficulties generalizing to unseen sentence lengths.\n",
    "\n",
    "#### Section 4\n",
    "The encoding of the $t$-th word is a set of pairs, with each pair depending on the representation dimension $d$ but not on sentence length $N$, and the encoding at position $t$ will be the same no matter how long the sentence is.\n",
    "\n",
    "#### Section 5\n",
    "Using the trignometric identities, it is easy to see that\n",
    " $$P_{t,k}=\\begin{bmatrix}\n",
    "\\sin (\\omega_k (t+\\tau))\\\\\n",
    "\\cos (\\omega_k (t+\\tau))\n",
    "\\end{bmatrix}\n",
    "=\\begin{bmatrix}\n",
    "\\sin(\\omega_k t)\\cos(\\omega_k\\tau)+\\cos(\\omega_k t)\\sin(\\omega_k\\tau)\\\\\n",
    "\\cos(\\omega_k t)\\cos(\\omega_k\\tau)-\\sin(\\omega_k t)\\sin(\\omega_k\\tau)\n",
    "\\end{bmatrix}=\\begin{bmatrix}\n",
    "\\cos(\\omega_k\\tau) & \\sin(\\omega_k\\tau)\\\\\n",
    "-\\sin(\\omega_k\\tau) & \\cos(\\omega_k\\tau)\n",
    "\\end{bmatrix}\\begin{bmatrix}\n",
    "\\sin(\\omega_k t)\\\\\n",
    "\\cos(\\omega_k t)\n",
    "\\end{bmatrix} $$\n",
    "And it is easy to see that\n",
    "$$M_{k}^{\\tau}=\\begin{bmatrix}\n",
    "\\cos(\\omega_k\\tau) & \\sin(\\omega_k\\tau)\\\\\n",
    "-\\sin(\\omega_k\\tau) & \\cos(\\omega_k\\tau)\n",
    "\\end{bmatrix}$$ is independent of $t$.\n",
    "\n",
    "#### Section 6\n",
    "Since $M_{k}^{\\tau}$ is indepentent of $t$, we can just use a block diagonal matrix of $M_{k}^{\\tau}$:\n",
    "$$M_{k}^{\\tau}=\\begin{bmatrix}\n",
    "M_{1}^{\\tau} & 0 & \\ldots & 0\\\\\n",
    "0 & M_{2}^{\\tau} & \\ldots & 0\\\\\n",
    "\\ldots & \\ldots & \\ddots & 0\\\\\n",
    "0 & 0 & \\ldots & M_{d/2}^{\\tau}\\\\\n",
    "\\end{bmatrix}$$\n",
    "\n",
    "</details>"
   ]
  },
  {
   "cell_type": "markdown",
   "metadata": {
    "slideshow": {
     "slide_type": "subslide"
    }
   },
   "source": [
    "### <img src=\"https://img.icons8.com/bubbles/50/000000/video-playlist.png\" style=\"height:50px;display:inline\"> Recommended Videos\n",
    "---\n",
    "#### <img src=\"https://img.icons8.com/cute-clipart/64/000000/warning-shield.png\" style=\"height:30px;display:inline\"> Warning!\n",
    "* These videos do not replace the lectures and tutorials.\n",
    "* Please use these to get a better understanding of the material, and not as an alternative to the written material.\n",
    "\n",
    "#### Video By Subject\n",
    "\n",
    "* Deep Learning for Natural Language Processing (NLP) -  <a href=\"https://youtu.be/6D4EWKJgNn0\"> Deep Learning for Natural Language Processing (NLP) </a>\n",
    "    * Attention and the Transformer <a href=\"https://www.youtube.com/watch?v=f01J0Dri-6k&feature=youtu.be\">Practicum: Attention and the Transformer</a>\n",
    "\n",
    "* Recurrent Neural Networks - <a href=\"https://www.youtube.com/watch?v=SEnXr6v2ifU\"> Recurrent Neural Networks | MIT 6.S191 </a>\n",
    "\n",
    "* LSTM & GRU - <a href=\"https://www.youtube.com/watch?v=8HyCNIVRbSU\"> Illustrated Guide to LSTM's and GRU's: A step by step explanation </a>\n",
    "\n",
    "* Transformers - <a href=\"https://www.youtube.com/watch?v=S27pHKBEp30\">LSTM is dead. Long Live Transformers! </a>\n",
    "* BERT - <a href=\"https://www.youtube.com/watch?v=OR0wfP2FD3c\">BERT Explained!</a>\n",
    "* GPT - <a href=\"https://www.youtube.com/watch?v=9ebPNEHRwXU\">GPT Explained!</a>\n",
    "    * GPT-3 - <a href=\"https://www.youtube.com/watch?v=_x9AwxfjxvE\">OpenAI GPT-3 - Good At Almost Everything!</a>\n",
    "* Vision Transformer (ViT) - <a href=\"https://www.youtube.com/watch?v=TrdevFK_am4\">An Image is Worth 16x16 Words: Transformers for Image Recognition at Scale</a>\n",
    "* Relative Positional Encoding - <a href=\"https://www.youtube.com/watch?v=7XHucAvHNKs\">Relative Positional Encoding for Transformers with Linear Complexity</a>\n",
    "* Rotary Positional Embeddings - <a href=\"https://www.youtube.com/watch?v=o29P0Kpobz0\">Rotary Positional Embeddings: Combining Absolute and Relative</a>"
   ]
  },
  {
   "cell_type": "markdown",
   "metadata": {
    "slideshow": {
     "slide_type": "skip"
    }
   },
   "source": [
    "## <img src=\"https://img.icons8.com/dusk/64/000000/prize.png\" style=\"height:50px;display:inline\"> Credits\n",
    "---\n",
    "* Icons made by <a href=\"https://www.flaticon.com/authors/becris\" title=\"Becris\">Becris</a> from <a href=\"https://www.flaticon.com/\" title=\"Flaticon\">www.flaticon.com</a>\n",
    "* Icons from <a href=\"https://icons8.com/\">Icons8.com</a> - https://icons8.com\n",
    "* <a href=\"https://d2l.ai/chapter_recurrent-neural-networks/index.html\">Dive Into Deep Learning - Recurrent Neural Networks</a>\n",
    "* <a href=\"https://atcold.github.io/pytorch-Deep-Learning/en/week12/12-1/\">DS-GA 1008 - NYU CENTER FOR DATA SCIENCE - Deep Sequence Modeling</a>\n",
    "* <a href=\"https://pytorch.org/tutorials/beginner/text_sentiment_ngrams_tutorial.html\">Text classification with the torchtext library\r\n",
    "</a>\n",
    "* <a href=\"https://www.borealisai.com/research-blogs/tutorial-17-transformers-iii-training/\">Tricks For Training Transformers - Borealis AI - P. Xu, S. Prince</a>"
   ]
  }
 ],
 "metadata": {
  "kernelspec": {
   "display_name": "Python 3 (ipykernel)",
   "language": "python",
   "name": "python3"
  },
  "language_info": {
   "codemirror_mode": {
    "name": "ipython",
    "version": 3
   },
   "file_extension": ".py",
   "mimetype": "text/x-python",
   "name": "python",
   "nbconvert_exporter": "python",
   "pygments_lexer": "ipython3",
   "version": "3.12.7"
  }
 },
 "nbformat": 4,
 "nbformat_minor": 4
}
