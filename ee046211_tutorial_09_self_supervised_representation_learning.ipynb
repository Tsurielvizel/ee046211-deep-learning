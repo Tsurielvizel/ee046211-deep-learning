{
 "cells": [
  {
   "cell_type": "markdown",
   "metadata": {
    "slideshow": {
     "slide_type": "slide"
    }
   },
   "source": [
    "# <img src=\"./assets/course-icon.png\" style=\"height:50px;display:inline\"> ECE 046211 - Technion - Deep Learning\n",
    "---\n",
    "\n",
    "#### <a href=\"https://taldatech.github.io\">Tal Daniel</a>\n",
    "\n",
    "## Tutorial 09 - Transfer, Representation and Self-Supervised Learning\n",
    "---"
   ]
  },
  {
   "cell_type": "markdown",
   "metadata": {
    "slideshow": {
     "slide_type": "subslide"
    }
   },
   "source": [
    "### <img src=\"https://img.icons8.com/bubbles/50/null/checklist.png\" style=\"height:50px;display:inline\"> Agenda\n",
    "---\n",
    "* [Pre-trained Models and Transfer Learning](#-Transfer-Learning)\n",
    "    * [Transfer Learning](#-Transfer-Learning-Definition)\n",
    "    * [Pre-trained Models](#-Transfer-Learning-with-Pre-trained-Models)\n",
    "    * [LoRA & DoRA - Low Rank Adaptation Fine-Tuning](#-LoRA-&-DoRA---Low-Rank-Adaptation-Fine-Tuning)\n",
    "* [Representation Learning and Self-Supervised Learning](#-Representation-and-Self-Supervised-Learning)\n",
    "    * [Autoencoders](#-Deep-Unsupervised-Learning---Deep-Autoencoders)\n",
    "    * [Contrastive Methods](#--Contrastive-Learning)\n",
    "* [Recommended Videos](#-Recommended-Videos)\n",
    "* [Credits](#-Credits)"
   ]
  },
  {
   "cell_type": "code",
   "execution_count": 1,
   "metadata": {
    "slideshow": {
     "slide_type": "skip"
    }
   },
   "outputs": [],
   "source": [
    "# imports for the tutorial\n",
    "import numpy as np\n",
    "import matplotlib.pyplot as plt\n",
    "import time\n",
    "import os\n",
    "import copy\n",
    "\n",
    "# pytorch imports\n",
    "import torch\n",
    "import torch.nn as nn\n",
    "import torch.nn.functional as F\n",
    "from torch.utils.data import DataLoader, Dataset\n",
    "from torchvision.datasets import ImageFolder\n",
    "from torchvision import models, transforms\n",
    "import torchvision\n",
    "\n",
    "# scikit-learn imports\n",
    "from sklearn.manifold import LocallyLinearEmbedding, Isomap, TSNE\n",
    "from sklearn.decomposition import PCA, KernelPCA"
   ]
  },
  {
   "cell_type": "markdown",
   "metadata": {
    "slideshow": {
     "slide_type": "slide"
    }
   },
   "source": [
    "## <img src=\"https://img.icons8.com/dusk/64/000000/back-sorting.png\" style=\"height:50px;display:inline\"> Transfer Learning\n",
    "---\n",
    "* Training deep neural networks has come a long way in past years, enabling learning good mappings from inputs to outputs, whether they are images, sentences, label predictions, etc. from large amounts of labeled data.\n",
    "* However, it is usually the case that our models **struggle with generalization to unseen data during training**.\n",
    "* The traditional supervised learning paradigm **breaks down** when we don't have sufficient labeled data for the task or domain we want to train our model for.\n",
    "    * For example, if we want to train a model to detect pedestrians on night-time images, we could, in theory, **apply a model that has been trained on a similar domain**, e.g., on day-time images. In practice, however, we often experience a deterioration or collapse in performance as the model has inherited the **bias** of its training data and **doesn't know how to generalize** to the new domain.\n",
    "* **Transfer learning** allows us to deal with such scenarios by leveraging the already existing labeled data of some related task or domain. \n",
    "    * We try to store this knowledge gained in solving the source task in the source domain and apply it to a new target task or domain. "
   ]
  },
  {
   "cell_type": "markdown",
   "metadata": {
    "slideshow": {
     "slide_type": "subslide"
    }
   },
   "source": [
    "<center><img src='./assets/transfer_learning_setup.png' style=\"height:300px\"></center>\n",
    "\n",
    "* <a href=\"https://ruder.io/transfer-learning/\">Image Source</a>"
   ]
  },
  {
   "cell_type": "markdown",
   "metadata": {
    "slideshow": {
     "slide_type": "slide"
    }
   },
   "source": [
    "## <img src=\"https://img.icons8.com/nolan/64/math.png\" style=\"height:50px;display:inline\"> Transfer Learning Definition\n",
    "---\n",
    "* Transfer learning involves the concepts of a **domain** and a **task**.\n",
    "* For simplicity, we assume a binary classification setting.\n",
    "* We denote the following: a domain $\\mathcal{D}$ consists of a feature space $\\mathcal{X}$ and a marginal probability distribution $P(X)$ over the feature space, where $X=x_1, x_2, ...,x_n \\in \\mathcal{X}.$\n",
    "* Given a domain, $\\mathcal{D}= \\{\\mathcal{X}, P(X) \\}$, a task $\\mathcal{T}$ consists of a label space $\\mathcal{Y}$ and a conditional probability distribution $P(Y|X)$ that is typically learned from the training data consisting of pairs $x_i \\in \\mathcal{X}$ and $y_i \\in \\mathcal{Y}$.\n",
    "    * In the binary classification case, $y_i \\in \\{True, False\\}$.\n",
    "* Given a source domain $\\mathcal{D}_S$, a corresponding source task $\\mathcal{T}_S$, as well as a target domain $\\mathcal{D}_T$ and a target task $\\mathcal{T}_T$, the objective of transfer learning is to enable us to learn the **target conditional probability** distribution $P(Y_T|X_T)$ in $\\mathcal{D}_T$ with the information gained from $\\mathcal{D}_S$ and $\\mathcal{T}_S$.\n",
    "    * We assume $\\mathcal{D}_S \\neq \\mathcal{D}_T$ (\"domain adaptation\") or $\\mathcal{T}_S \\neq \\mathcal{T}_T$ (\"transfer learning\").\n",
    "* In most cases, a limited number of labeled target examples, which is exponentially smaller than the number of labeled source examples are assumed to be available.\n"
   ]
  },
  {
   "cell_type": "markdown",
   "metadata": {
    "slideshow": {
     "slide_type": "slide"
    }
   },
   "source": [
    "## <img src=\"https://img.icons8.com/nolan/64/movie.png\" style=\"height:50px;display:inline\"> Transfer Learning Scenarios\n",
    "---\n",
    "1. $\\mathcal{X}_S \\neq \\mathcal{X}_T$ - the feature spaces of the source and target domain are different.\n",
    "    * Example: cross-lingual adaptation - in a document classification task, the documents are written in two different languages. \n",
    "2. $P(X_S) \\neq P(X_T)$ - the marginal probability distributions of source and target domain are different.\n",
    "    * Example: domain adaptation -  in a document classification task, the documents ($X$) discuss different topics.\n",
    "3. $\\mathcal{Y}_S \\neq \\mathcal{Y}_T$ - the label spaces between the two tasks are different.\n",
    "    * Example: documents need to be assigned different labels in the target task.\n",
    "    * Usually happens with scenario 4 (as it is rare for two different tasks to have different label spaces, but exactly the same conditional probability distributions).\n",
    "4. $P(Y_S|X_S) \\neq P(Y_T|X_T)$ - the conditional probability distributions of the source and target tasks are different. Very common in practice.\n",
    "    * Example: source and target documents are unbalanced with regard to their classes. "
   ]
  },
  {
   "cell_type": "markdown",
   "metadata": {
    "slideshow": {
     "slide_type": "slide"
    }
   },
   "source": [
    "## <img src=\"https://img.icons8.com/bubbles/50/000000/car.png\" style=\"height:50px;display:inline\"> Transfer Learning Applications\n",
    "---\n",
    "* **Sim2Real** - transferring from simulation to real environments. For many machine learning applications that rely on hardware for interaction, gathering data and training a model in the real world is either **expensive, time-consuming, or simply too dangerous**. It is thus advisable to gather data in some other, less risky way.\n",
    "    * Learning from a simulation and applying the acquired knowledge to the real world is an instance of transfer learning **scenario 2**, as the feature spaces between source and target domain are the same (both generally rely on pixels), but the **marginal probability distributions between simulation and reality are different**, i.e. objects in the simulation and the source look different, although this difference diminishes as simulations get more realistic. \n",
    "    * At the same time, **the conditional probability distributions** between simulation and real world might be different as the simulation is not able to fully replicate all reactions in the real world, e.g. a physics engine can not completely mimic the complex interactions of real-world objects.\n",
    "    * Common applications include autonomus driving and robotics (where gathering data can be slow or dangerous)."
   ]
  },
  {
   "cell_type": "markdown",
   "metadata": {
    "slideshow": {
     "slide_type": "subslide"
    }
   },
   "source": [
    "<center><img src='./assets/robot_and_simulation.png' style='height:200px'></center>\n",
    "\n",
    "* <a href=\"https://arxiv.org/abs/1610.04286\">Image Source</a>"
   ]
  },
  {
   "cell_type": "markdown",
   "metadata": {
    "slideshow": {
     "slide_type": "slide"
    }
   },
   "source": [
    "* **Domain Adaptation** - transferring between domains that share some properties. \n",
    "    * In **vision**, we commonly have many labeled data for some domain, but for the actual data that we care about, there are very few labels or none at all. Even if the training and the test data look the same, **the training data may still contain a bias that is imperceptible to humans but the model can still exploit it to overfit the training data**.\n",
    "    * In **NLP**, models trained on news data have difficulty coping with more novel text forms such as social media messages and the challenges they present. Even within one domain such as product reviews, people employ different words and phrases to express the same opinion. A model trained on one type of review should thus be able to disentangle the general and domain-specific opinion words that people use in order not to be confused by the shift in domain."
   ]
  },
  {
   "cell_type": "markdown",
   "metadata": {
    "slideshow": {
     "slide_type": "slide"
    }
   },
   "source": [
    "## <img src=\"https://img.icons8.com/nolan/64/system-task.png\" style=\"height:50px;display:inline\"> Transfer Learning with Pre-trained Models\n",
    "---\n",
    "* One of the fundamental requirements for transfer learning is the presence of models that perform well on source tasks.\n",
    "* The two most common fields that build upon pre-trained models to transfer between tasks and domains are computer vision and NLP."
   ]
  },
  {
   "cell_type": "markdown",
   "metadata": {
    "slideshow": {
     "slide_type": "slide"
    }
   },
   "source": [
    "### <img src=\"https://img.icons8.com/fluent/96/000000/image.png\" style=\"height:50px;display:inline\"> Using Pre-trained CNN Features\n",
    "---\n",
    "* Evidently, lower convolutional layers capture **low-level image features**, e.g., edges , while higher convolutional layers capture more complex details, such as body parts, faces, and other compositional features.\n",
    "* The **final fully-connected layers** are generally assumed to capture information that is relevant for solving the respective task, e.g., classification.\n",
    "* Representations that capture general information of how an image is composed and what combinations of edges and shapes it contains **can be helpful in other tasks**. This information is contained in one of the final convolutional layers or early fully-connected layers in large convolutional neural networks trained on ImageNet.\n",
    "* For a new task, we can thus simply use the off-the-shelf features of a state-of-the-art CNN pre-trained on ImageNet and train a new model on these extracted features. \n",
    "* In practice, we either **keep the pre-trained parameters fixed or tune them with a small learning rate** in order to ensure that we do not \"forget\" the previously acquired knowledge."
   ]
  },
  {
   "cell_type": "markdown",
   "metadata": {
    "slideshow": {
     "slide_type": "subslide"
    }
   },
   "source": [
    "<center><img src='./assets/transfer_learning_vgg.jpeg' style=\"height:300px\"></center>\n",
    "\n",
    "* <a href=\"https://medium.com/datadriveninvestor/what-you-must-know-about-transfer-learning-4a6e4cb9fbad\">Image Source</a>"
   ]
  },
  {
   "cell_type": "markdown",
   "metadata": {
    "slideshow": {
     "slide_type": "slide"
    }
   },
   "source": [
    "### <img src=\"https://img.icons8.com/cotton/64/000000/olympic-torch.png\" style=\"height:50px;display:inline\"> Transfer Learning Example with PyTorch\n",
    "---\n",
    "* We will follow examples by <a href=\"https://pytorch.org/tutorials/beginner/transfer_learning_tutorial.html\">Sasank Chilamkurthy</a> and <a href=\"https://pytorch.org/tutorials/beginner/finetuning_torchvision_models_tutorial.html\">Nathan Inkawhich</a>.\n",
    "* We will train a classifier to distinguish between **ants** and **bees**.\n",
    "    * The data can be downloaded from here: <a href=\"https://download.pytorch.org/tutorial/hymenoptera_data.zip\">Download Link</a>.\n",
    "* There are two major transfer learning scenarios:\n",
    "    * **Fine-tuning the ConvNet**: Instead of random initializaion, we initialize the network with a pretrained network, like VGG for example (which is trained on ImageNet 1000 dataset). Rest of the training looks as usual (except for usually using a lower learning rate).\n",
    "    * **ConvNet as fixed feature extractor**: Here, we will freeze the weights for all of the network except that of the final fully connected layer. This last fully connected layer is replaced with a new one with random weights and only this layer is trained. The advantage is very quick training, but several parts of the model are not adapted to the new objective."
   ]
  },
  {
   "cell_type": "code",
   "execution_count": 2,
   "metadata": {
    "slideshow": {
     "slide_type": "slide"
    }
   },
   "outputs": [
    {
     "name": "stdout",
     "output_type": "stream",
     "text": [
      "cuda:0\n"
     ]
    }
   ],
   "source": [
    "# Data augmentation and normalization for training\n",
    "# Just normalization for validation\n",
    "data_transforms = {\n",
    "    'train': transforms.Compose([\n",
    "        transforms.RandomResizedCrop(224),\n",
    "        transforms.RandomHorizontalFlip(),\n",
    "        transforms.ToTensor(),\n",
    "        transforms.Normalize([0.485, 0.456, 0.406], [0.229, 0.224, 0.225])\n",
    "    ]),\n",
    "    'val': transforms.Compose([\n",
    "        transforms.Resize(256),\n",
    "        transforms.CenterCrop(224),\n",
    "        transforms.ToTensor(),\n",
    "        transforms.Normalize([0.485, 0.456, 0.406], [0.229, 0.224, 0.225])\n",
    "    ]),\n",
    "}\n",
    "\n",
    "batch_size = 4\n",
    "data_dir = './datasets/hymenoptera_data'\n",
    "image_datasets = {x: ImageFolder(os.path.join(data_dir, x), data_transforms[x]) for x in ['train', 'val']}\n",
    "dataloaders = {x: DataLoader(image_datasets[x], batch_size=batch_size,\n",
    "                             shuffle=True, num_workers=4) for x in ['train', 'val']}\n",
    "dataset_sizes = {x: len(image_datasets[x]) for x in ['train', 'val']}\n",
    "class_names = image_datasets['train'].classes\n",
    "\n",
    "device = torch.device(\"cuda:0\" if torch.cuda.is_available() else \"cpu\")\n",
    "print(device)"
   ]
  },
  {
   "cell_type": "code",
   "execution_count": 3,
   "metadata": {
    "slideshow": {
     "slide_type": "skip"
    }
   },
   "outputs": [],
   "source": [
    "def imshow(inp, title=None):\n",
    "    \"\"\"Imshow for Tensor.\"\"\"\n",
    "    inp = inp.numpy().transpose((1, 2, 0))\n",
    "    mean = np.array([0.485, 0.456, 0.406])\n",
    "    std = np.array([0.229, 0.224, 0.225])\n",
    "    inp = std * inp + mean\n",
    "    inp = np.clip(inp, 0, 1)\n",
    "    fig = plt.figure(figsize=(5, 8))\n",
    "    ax = fig.add_subplot(111)\n",
    "    ax.imshow(inp)\n",
    "    if title is not None:\n",
    "        ax.set_title(title)\n",
    "    ax.set_axis_off()"
   ]
  },
  {
   "cell_type": "code",
   "execution_count": 4,
   "metadata": {
    "slideshow": {
     "slide_type": "subslide"
    }
   },
   "outputs": [
    {
     "data": {
      "image/png": "[encoded data removed]",
      "text/plain": [
       "<Figure size 500x800 with 1 Axes>"
      ]
     },
     "metadata": {},
     "output_type": "display_data"
    }
   ],
   "source": [
    "# Let’s visualize a few training images so as to understand the data augmentations.\n",
    "# Get a batch of training data\n",
    "inputs, classes = next(iter(dataloaders['train']))\n",
    "\n",
    "# Make a grid from batch\n",
    "out = torchvision.utils.make_grid(inputs)\n",
    "\n",
    "imshow(out, title=[class_names[x] for x in classes])"
   ]
  },
  {
   "cell_type": "markdown",
   "metadata": {
    "slideshow": {
     "slide_type": "subslide"
    }
   },
   "source": [
    "#### Set Model Parameters’ `.requires_grad` attribute\n",
    "---\n",
    "* The following helper function sets the `.requires_grad` attribute of the parameters in the model to `False` when we are feature extracting. \n",
    "* By default, when we load a pretrained model all of the parameters have `.requires_grad=True`, which is fine if we are training from scratch or fine-tuning.\n",
    "* However, if we are feature extracting and only want to compute gradients for the newly initialized layer then we want all of the other parameters to not require gradients."
   ]
  },
  {
   "cell_type": "code",
   "execution_count": 5,
   "metadata": {
    "slideshow": {
     "slide_type": "subslide"
    }
   },
   "outputs": [],
   "source": [
    "def set_parameter_requires_grad(model, feature_extracting=False):\n",
    "    # approach 1\n",
    "    if feature_extracting:\n",
    "        # frozen model\n",
    "        model.requires_grad_(False)\n",
    "    else:\n",
    "        # fine-tuning\n",
    "        model.requires_grad_(True)\n",
    "        \n",
    "    # approach 2\n",
    "    if feature_extracting:\n",
    "        # frozen model\n",
    "        for param in model.parameters():\n",
    "            param.requires_grad = False\n",
    "    else:\n",
    "        # fine-tuning\n",
    "        for param in model.parameters():\n",
    "            param.requires_grad = True\n",
    "    # note: you can also mix between frozen layers and trainable layers, but you'll need a custom \n",
    "    # function that loops over the model's layers and you specify which layers are frozen."
   ]
  },
  {
   "cell_type": "markdown",
   "metadata": {
    "slideshow": {
     "slide_type": "subslide"
    }
   },
   "source": [
    "#### Initialize and Reshape the Networks\n",
    "---\n",
    "* Recall, the final layer of a CNN model, which is often an FC layer, has the same number of nodes as the number of output classes in the dataset. \n",
    "* Since all of the following models have been pretrained on ImageNet, they all have output layers of size 1000, one node for each class. \n",
    "* The goal here is to **reshape the last layer to have the same number of inputs as before**, AND to have the **same number of outputs as the number of classes in the dataset**. \n",
    "\n",
    "* When *feature extracting*, we only want to update the parameters of the last layer, or in other words, we only want to update the parameters for the layer(s) we are reshaping. \n",
    "* Therefore, we do not need to compute the gradients of the parameters that we are not changing, so for efficiency we set the `.requires_grad` attribute to `False`. \n",
    "* This is important because by default, this attribute is set to `True`. Then, when we initialize the new layer and by default the new parameters have `.requires_grad=True` so only the new layer’s parameters will be updated. \n",
    "* When we are fine-tuning we can leave all of the `.required_grad`’s set to the default of `True`."
   ]
  },
  {
   "cell_type": "markdown",
   "metadata": {},
   "source": [
    "### <img src=\"https://img.icons8.com/nolan/64/download-from-cloud.png\" style=\"height:50px;display:inline\"> Torchvision Pre-Trained Models\n",
    "---\n",
    "* The `torchvision.models` subpackage contains definitions of models for addressing different tasks, including: image classification, pixelwise semantic segmentation, object detection, instance segmentation, person keypoint detection, video classification, and optical flow.\n",
    "* You can see all the available here - <a href=\"https://pytorch.org/vision/stable/models.html\">Models and pre-trained weights</a>.\n",
    "    * In code, you can use <a href=\"https://pytorch.org/vision/stable/models.html#listing-and-retrieving-available-models\">`torchvision.models.list_models`</a> to see a list of all available models.\n",
    "* Examples:"
   ]
  },
  {
   "cell_type": "code",
   "execution_count": 6,
   "metadata": {
    "slideshow": {
     "slide_type": "subslide"
    }
   },
   "outputs": [],
   "source": [
    "def initialize_model(model_name, num_classes, feature_extract, use_pretrained=True):\n",
    "    # Initialize these variables which will be set in this if statement. Each of these\n",
    "    #   variables is model specific.\n",
    "    model_ft = None\n",
    "    input_size = 0  # image size, e.g. (3, 224, 224)\n",
    "    # new method from torchvision >= 0.13\n",
    "    weigths = 'DEFAULT' if use_pretrained else None \n",
    "    # to use other checkpoints than the default ones, check the model's available chekpoints here:\n",
    "    # https://pytorch.org/vision/stable/models.html\n",
    "    if model_name == \"resnet\":\n",
    "        \"\"\" Resnet18\n",
    "        \"\"\"\n",
    "        # new method from torchvision >= 0.13\n",
    "        model_ft = models.resnet18(weights=weights)\n",
    "        # old method for toechvision < 0.13\n",
    "        # model_ft = models.resnet18(pretrained=use_pretrained)\n",
    "        \n",
    "        set_parameter_requires_grad(model_ft, feature_extract)\n",
    "        num_ftrs = model_ft.fc.in_features\n",
    "        model_ft.fc = nn.Linear(num_ftrs, num_classes) # replace the last FC layer\n",
    "        input_size = 224\n",
    "\n",
    "    elif model_name == \"alexnet\":\n",
    "        \"\"\" Alexnet\n",
    "        \"\"\"\n",
    "        # new method from torchvision >= 0.13\n",
    "        model_ft = models.alexnet(weights=weights)\n",
    "        # old method for toechvision < 0.13\n",
    "        # model_ft = models.alexnet(pretrained=use_pretrained)\n",
    "        \n",
    "        set_parameter_requires_grad(model_ft, feature_extract)\n",
    "        num_ftrs = model_ft.classifier[6].in_features\n",
    "        model_ft.classifier[6] = nn.Linear(num_ftrs, num_classes)\n",
    "        input_size = 224\n",
    "\n",
    "    elif model_name == \"vgg\":\n",
    "        \"\"\" VGG16\n",
    "        \"\"\"\n",
    "        # new method from torchvision >= 0.13\n",
    "        model_ft = models.vgg16(weights=weights)\n",
    "        # old method for toechvision < 0.13\n",
    "        # model_ft = models.vgg16(pretrained=use_pretrained)\n",
    "        \n",
    "        set_parameter_requires_grad(model_ft, feature_extract)\n",
    "        num_ftrs = model_ft.classifier[6].in_features\n",
    "        model_ft.classifier[6] = nn.Linear(num_ftrs, num_classes)\n",
    "        input_size = 224\n",
    "\n",
    "    elif model_name == \"squeezenet\":\n",
    "        \"\"\" Squeezenet\n",
    "        \"\"\"\n",
    "        # new method from torchvision >= 0.13\n",
    "        model_ft = models.squeezenet1_0(weights=weights)\n",
    "        # old method for torchvision < 0.13\n",
    "        # model_ft = models.squeezenet1_0(pretrained=use_pretrained)\n",
    "        \n",
    "        set_parameter_requires_grad(model_ft, feature_extract)\n",
    "        model_ft.classifier[1] = nn.Conv2d(512, num_classes, kernel_size=(1,1), stride=(1,1))\n",
    "        model_ft.num_classes = num_classes\n",
    "        input_size = 224\n",
    "\n",
    "    elif model_name == \"densenet\":\n",
    "        \"\"\" Densenet\n",
    "        \"\"\"\n",
    "        # new method from torchvision >= 0.13\n",
    "        model_ft = models.densenet121(weights=weights)\n",
    "        # old method for torchvision < 0.13\n",
    "        # model_ft = models.densenet121(pretrained=use_pretrained)\n",
    "        \n",
    "        set_parameter_requires_grad(model_ft, feature_extract)\n",
    "        num_ftrs = model_ft.classifier.in_features\n",
    "        model_ft.classifier = nn.Linear(num_ftrs, num_classes)\n",
    "        input_size = 224\n",
    "\n",
    "    else:\n",
    "        raise NotImplementedError\n",
    "\n",
    "    return model_ft, input_size"
   ]
  },
  {
   "cell_type": "code",
   "execution_count": 21,
   "metadata": {
    "slideshow": {
     "slide_type": "subslide"
    }
   },
   "outputs": [],
   "source": [
    "# Models to choose from [resnet, alexnet, vgg, squeezenet, densenet]\n",
    "model_name = \"vgg\"\n",
    "\n",
    "# Number of classes in the dataset\n",
    "num_classes = 2\n",
    "\n",
    "# Batch size for training (change depending on how much memory you have)\n",
    "batch_size = 8\n",
    "\n",
    "# Number of epochs to train for\n",
    "num_epochs = 15\n",
    "\n",
    "# Flag for feature extracting. When False, we fine-tune the whole model,\n",
    "#   when True we only update the reshaped layer params\n",
    "feature_extract = True"
   ]
  },
  {
   "cell_type": "code",
   "execution_count": 22,
   "metadata": {
    "slideshow": {
     "slide_type": "subslide"
    }
   },
   "outputs": [
    {
     "name": "stdout",
     "output_type": "stream",
     "text": [
      "VGG(\n",
      "  (features): Sequential(\n",
      "    (0): Conv2d(3, 64, kernel_size=(3, 3), stride=(1, 1), padding=(1, 1))\n",
      "    (1): ReLU(inplace=True)\n",
      "    (2): Conv2d(64, 64, kernel_size=(3, 3), stride=(1, 1), padding=(1, 1))\n",
      "    (3): ReLU(inplace=True)\n",
      "    (4): MaxPool2d(kernel_size=2, stride=2, padding=0, dilation=1, ceil_mode=False)\n",
      "    (5): Conv2d(64, 128, kernel_size=(3, 3), stride=(1, 1), padding=(1, 1))\n",
      "    (6): ReLU(inplace=True)\n",
      "    (7): Conv2d(128, 128, kernel_size=(3, 3), stride=(1, 1), padding=(1, 1))\n",
      "    (8): ReLU(inplace=True)\n",
      "    (9): MaxPool2d(kernel_size=2, stride=2, padding=0, dilation=1, ceil_mode=False)\n",
      "    (10): Conv2d(128, 256, kernel_size=(3, 3), stride=(1, 1), padding=(1, 1))\n",
      "    (11): ReLU(inplace=True)\n",
      "    (12): Conv2d(256, 256, kernel_size=(3, 3), stride=(1, 1), padding=(1, 1))\n",
      "    (13): ReLU(inplace=True)\n",
      "    (14): Conv2d(256, 256, kernel_size=(3, 3), stride=(1, 1), padding=(1, 1))\n",
      "    (15): ReLU(inplace=True)\n",
      "    (16): MaxPool2d(kernel_size=2, stride=2, padding=0, dilation=1, ceil_mode=False)\n",
      "    (17): Conv2d(256, 512, kernel_size=(3, 3), stride=(1, 1), padding=(1, 1))\n",
      "    (18): ReLU(inplace=True)\n",
      "    (19): Conv2d(512, 512, kernel_size=(3, 3), stride=(1, 1), padding=(1, 1))\n",
      "    (20): ReLU(inplace=True)\n",
      "    (21): Conv2d(512, 512, kernel_size=(3, 3), stride=(1, 1), padding=(1, 1))\n",
      "    (22): ReLU(inplace=True)\n",
      "    (23): MaxPool2d(kernel_size=2, stride=2, padding=0, dilation=1, ceil_mode=False)\n",
      "    (24): Conv2d(512, 512, kernel_size=(3, 3), stride=(1, 1), padding=(1, 1))\n",
      "    (25): ReLU(inplace=True)\n",
      "    (26): Conv2d(512, 512, kernel_size=(3, 3), stride=(1, 1), padding=(1, 1))\n",
      "    (27): ReLU(inplace=True)\n",
      "    (28): Conv2d(512, 512, kernel_size=(3, 3), stride=(1, 1), padding=(1, 1))\n",
      "    (29): ReLU(inplace=True)\n",
      "    (30): MaxPool2d(kernel_size=2, stride=2, padding=0, dilation=1, ceil_mode=False)\n",
      "  )\n",
      "  (avgpool): AdaptiveAvgPool2d(output_size=(7, 7))\n",
      "  (classifier): Sequential(\n",
      "    (0): Linear(in_features=25088, out_features=4096, bias=True)\n",
      "    (1): ReLU(inplace=True)\n",
      "    (2): Dropout(p=0.5, inplace=False)\n",
      "    (3): Linear(in_features=4096, out_features=4096, bias=True)\n",
      "    (4): ReLU(inplace=True)\n",
      "    (5): Dropout(p=0.5, inplace=False)\n",
      "    (6): Linear(in_features=4096, out_features=2, bias=True)\n",
      "  )\n",
      ")\n"
     ]
    }
   ],
   "source": [
    "# Initialize the model for this run\n",
    "model_ft, input_size = initialize_model(model_name, num_classes, feature_extract, use_pretrained=True)\n",
    "\n",
    "# Print the model we just instantiated\n",
    "print(model_ft)"
   ]
  },
  {
   "cell_type": "code",
   "execution_count": 24,
   "metadata": {
    "slideshow": {
     "slide_type": "subslide"
    }
   },
   "outputs": [
    {
     "name": "stdout",
     "output_type": "stream",
     "text": [
      "Params to learn:\n",
      "\t classifier.6.weight\n",
      "\t classifier.6.bias\n"
     ]
    }
   ],
   "source": [
    "model_ft = model_ft.to(device)\n",
    "\n",
    "# Gather the parameters to be optimized/updated in this run. If we are\n",
    "#  fine-tuning we will be updating all parameters. However, if we are\n",
    "#  doing feature extract method, we will only update the parameters\n",
    "#  that we have just initialized, i.e. the parameters with requires_grad\n",
    "#  is True.\n",
    "params_to_update = model_ft.parameters()\n",
    "print(\"Params to learn:\")\n",
    "if feature_extract:\n",
    "    params_to_update = []  # override the initial list definition above\n",
    "    for name,param in model_ft.named_parameters():\n",
    "        if param.requires_grad == True:\n",
    "            params_to_update.append(param)\n",
    "            print(\"\\t\",name)\n",
    "else:\n",
    "    for name,param in model_ft.named_parameters():\n",
    "        if param.requires_grad == True:\n",
    "            print(\"\\t\",name)\n",
    "\n",
    "# Observe that all parameters are being optimized\n",
    "optimizer_ft = torch.optim.SGD(params_to_update, lr=0.001, momentum=0.9)"
   ]
  },
  {
   "cell_type": "code",
   "execution_count": 7,
   "metadata": {
    "slideshow": {
     "slide_type": "subslide"
    }
   },
   "outputs": [],
   "source": [
    "\"\"\"\n",
    "Training function\n",
    "\"\"\"\n",
    "def train_model(model, dataloaders, criterion, optimizer, num_epochs=25):\n",
    "    since = time.time()\n",
    "\n",
    "    val_acc_history = []\n",
    "\n",
    "    best_model_wts = copy.deepcopy(model.state_dict())\n",
    "    best_acc = 0.0\n",
    "\n",
    "    for epoch in range(num_epochs):\n",
    "        print('Epoch {}/{}'.format(epoch, num_epochs - 1))\n",
    "        print('-' * 10)\n",
    "\n",
    "        # Each epoch has a training and validation phase\n",
    "        for phase in ['train', 'val']:\n",
    "            if phase == 'train':\n",
    "                model.train()  # Set model to training mode\n",
    "            else:\n",
    "                model.eval()   # Set model to evaluate mode\n",
    "\n",
    "            running_loss = 0.0\n",
    "            running_corrects = 0\n",
    "\n",
    "            # Iterate over data.\n",
    "            for inputs, labels in dataloaders[phase]:\n",
    "                inputs = inputs.to(device)\n",
    "                labels = labels.to(device)\n",
    "\n",
    "                # forward\n",
    "                # track history if only in train\n",
    "                with torch.set_grad_enabled(phase == 'train'):\n",
    "                    # Get model outputs and calculate loss\n",
    "                    outputs = model(inputs)\n",
    "                    loss = criterion(outputs, labels)\n",
    "\n",
    "                    _, preds = torch.max(outputs, 1)\n",
    "\n",
    "                    # backward + optimize only if in training phase\n",
    "                    if phase == 'train':\n",
    "                        # zero the parameter gradients\n",
    "                        optimizer.zero_grad()\n",
    "                        loss.backward()\n",
    "                        optimizer.step()\n",
    "\n",
    "                # statistics\n",
    "                running_loss += loss.item() * inputs.size(0)\n",
    "                running_corrects += torch.sum(preds == labels.data)\n",
    "\n",
    "            epoch_loss = running_loss / len(dataloaders[phase].dataset)\n",
    "            epoch_acc = running_corrects.double() / len(dataloaders[phase].dataset)\n",
    "\n",
    "            print('{} Loss: {:.4f} Acc: {:.4f}'.format(phase, epoch_loss, epoch_acc))\n",
    "\n",
    "            # deep copy the model\n",
    "            if phase == 'val' and epoch_acc > best_acc:\n",
    "                best_acc = epoch_acc\n",
    "                best_model_wts = copy.deepcopy(model.state_dict())\n",
    "            if phase == 'val':\n",
    "                val_acc_history.append(epoch_acc)\n",
    "\n",
    "        print()\n",
    "\n",
    "    time_elapsed = time.time() - since\n",
    "    print('Training complete in {:.0f}m {:.0f}s'.format(time_elapsed // 60, time_elapsed % 60))\n",
    "    print('Best val Acc: {:4f}'.format(best_acc))\n",
    "\n",
    "    # load best model weights\n",
    "    model.load_state_dict(best_model_wts)\n",
    "    return model, val_acc_history"
   ]
  },
  {
   "cell_type": "code",
   "execution_count": 29,
   "metadata": {
    "slideshow": {
     "slide_type": "subslide"
    }
   },
   "outputs": [
    {
     "name": "stdout",
     "output_type": "stream",
     "text": [
      "Epoch 0/14\n",
      "----------\n",
      "train Loss: 0.2460 Acc: 0.9057\n",
      "val Loss: 0.1525 Acc: 0.9542\n",
      "\n",
      "Epoch 1/14\n",
      "----------\n",
      "train Loss: 0.2114 Acc: 0.9139\n",
      "val Loss: 0.1093 Acc: 0.9477\n",
      "\n",
      "Epoch 2/14\n",
      "----------\n",
      "train Loss: 0.1623 Acc: 0.9221\n",
      "val Loss: 0.1752 Acc: 0.9412\n",
      "\n",
      "Epoch 3/14\n",
      "----------\n",
      "train Loss: 0.2186 Acc: 0.9262\n",
      "val Loss: 0.1530 Acc: 0.9477\n",
      "\n",
      "Epoch 4/14\n",
      "----------\n",
      "train Loss: 0.1423 Acc: 0.9467\n",
      "val Loss: 0.1667 Acc: 0.9412\n",
      "\n",
      "Epoch 5/14\n",
      "----------\n",
      "train Loss: 0.1301 Acc: 0.9508\n",
      "val Loss: 0.1108 Acc: 0.9673\n",
      "\n",
      "Epoch 6/14\n",
      "----------\n",
      "train Loss: 0.1602 Acc: 0.9303\n",
      "val Loss: 0.1001 Acc: 0.9412\n",
      "\n",
      "Epoch 7/14\n",
      "----------\n",
      "train Loss: 0.1888 Acc: 0.9385\n",
      "val Loss: 0.1254 Acc: 0.9542\n",
      "\n",
      "Epoch 8/14\n",
      "----------\n",
      "train Loss: 0.1432 Acc: 0.9508\n",
      "val Loss: 0.1194 Acc: 0.9608\n",
      "\n",
      "Epoch 9/14\n",
      "----------\n",
      "train Loss: 0.1139 Acc: 0.9631\n",
      "val Loss: 0.1230 Acc: 0.9608\n",
      "\n",
      "Epoch 10/14\n",
      "----------\n",
      "train Loss: 0.2273 Acc: 0.9467\n",
      "val Loss: 0.1154 Acc: 0.9608\n",
      "\n",
      "Epoch 11/14\n",
      "----------\n",
      "train Loss: 0.1507 Acc: 0.9385\n",
      "val Loss: 0.1096 Acc: 0.9608\n",
      "\n",
      "Epoch 12/14\n",
      "----------\n",
      "train Loss: 0.0876 Acc: 0.9590\n",
      "val Loss: 0.1767 Acc: 0.9608\n",
      "\n",
      "Epoch 13/14\n",
      "----------\n",
      "train Loss: 0.3315 Acc: 0.9344\n",
      "val Loss: 0.1371 Acc: 0.9608\n",
      "\n",
      "Epoch 14/14\n",
      "----------\n",
      "train Loss: 0.0936 Acc: 0.9672\n",
      "val Loss: 0.1540 Acc: 0.9673\n",
      "\n",
      "Training complete in 3m 39s\n",
      "Best val Acc: 0.967320\n"
     ]
    }
   ],
   "source": [
    "# Setup the loss fn\n",
    "criterion = nn.CrossEntropyLoss()\n",
    "\n",
    "# Train and evaluate\n",
    "model_ft, hist = train_model(model_ft, dataloaders, criterion, optimizer_ft, num_epochs=num_epochs)"
   ]
  },
  {
   "cell_type": "markdown",
   "metadata": {},
   "source": [
    "## <img src=\"https://img.icons8.com/pulsar-color/96/split.png\" style=\"height:50px;display:inline\"> LoRA & DoRA - Low Rank Adaptation Fine-Tuning\r\n",
    "\n",
    "---\n",
    "Based on the great blog post \"<a href=\"https://magazine.sebastianraschka.com/p/lora-and-dora-from-scratch\">Improving LoRA: Implementing Weight-Decomposed Low-Rank Adaptation (DoRA) from Scratch\" by Sebastian Raschka</a>."
   ]
  },
  {
   "cell_type": "markdown",
   "metadata": {},
   "source": [
    "* Low-rank adaptation (LoRA) is a technique to fine-tune a pre-trained model by adjusting only a small, low-rank subset of the model's parameters.\n",
    "* It allows for efficient fine-tuning of large models on task-specific data, significantly reducing the computational cost and time required for fine-tuning."
   ]
  },
  {
   "cell_type": "markdown",
   "metadata": {},
   "source": [
    "### LoRA: Low Rank Adaptation\n",
    "---\n",
    "* Introduced in <a href=\"https://arxiv.org/abs/2106.09685\">\"LoRA: Low-Rank Adaptation of Large Language Models\"</a> by Hu et al.\n",
    "* Given a weight matrix $W \\in \\mathbb{R}^{d_i \\times d_o}$, in regular training or fine-tuning using gradient descent, the weights are updated according to: $$ W_{\\text{updated}} = W + \\Delta W. $$\n",
    "* LoRA proposes an alternative method for this update, by learning a low-rank approximation of $\\Delta W$: $$ \\Delta W \\approx AB, $$ where $A \\in \\mathbb{R}^{d_i \\times r}$, $B \\in \\mathbb{R}^{r \\times d_o}$ and $r << d_i, d_o$ is the *rank* (very similar to SVD--Singular Value Decomposition).\n",
    "* In practice, we usually keep $W$ frozen and only learn $A$ and $B$.\n",
    "* LoRA can potenially save a lot of memory; for example, if $d_i = d_o = 1000$, then a full fine-tuning requires training $1000 \\times 1000 = 1,000,000$ parameters. However, if we consider $r=2$ then $A$ and $B$ have $1000 \\times 2$ parameters each, resulting in only $4,000$ parameters ($250$ fewer parameters!).\n",
    "* <a href=\"https://github.com/microsoft/LoRA\">PyTorch Code</a>"
   ]
  },
  {
   "cell_type": "markdown",
   "metadata": {},
   "source": [
    "<center><img src='./assets/lora.jpeg' style=\"height:300px\"></center>"
   ]
  },
  {
   "cell_type": "markdown",
   "metadata": {},
   "source": [
    "### DoRA: Weight-Decomposed Low Rank Adaptation\n",
    "---\n",
    "* Introduced in <a href=\"https://arxiv.org/abs/2402.09353\">DoRA: Weight-Decomposed Low-Rank Adaptation\"</a> by Liu et al.\n",
    "* DoRA build upon LoRA and extends it by considering the principle that any vector can be represented as the product of its **magnitude** (a scalar value indicating its length) and its **direction** (a unit vector indicating its orientation in space).\n",
    "* The paper found that LoRA either increases or decreases magnitude and direction updates proportionally but seems to lack the capability to make only subtle directional changes as found in full fine-tuning. Hence, they propose the decoupling of magnitude and directional components.\n",
    "* In DoRA, we apply the decomposition into magnitude and directional components to a whole pre-trained weight matrix $W$ instead of a vector, where each column (vector) of the weight matrix corresponds to the weights connecting all inputs to a particular output neuron.\n",
    "* In practice, DoRA takes the directional matrix $V=\\frac{W + AB}{|| W+AB||}$ and applies standard LoRA, for instance: $$ W_{\\text{updated}} = m \\cdot \\frac{W + AB}{|| W+AB||}. $$\n",
    "* <a href=\"https://github.com/catid/dora\">PyTorch Code</a>"
   ]
  },
  {
   "cell_type": "markdown",
   "metadata": {},
   "source": [
    "<center><img src='./assets/dora.png' style=\"height:500px\"></center>"
   ]
  },
  {
   "cell_type": "markdown",
   "metadata": {},
   "source": [
    "<center><img src='./assets/lora_vs_dora.png' style=\"height:200px\"></center>\n",
    "<center><img src='./assets/lora_vs_dora_2.png' style=\"height:250px\"></center>"
   ]
  },
  {
   "cell_type": "markdown",
   "metadata": {},
   "source": [
    "#### <img src=\"https://img.icons8.com/cotton/64/000000/olympic-torch.png\" style=\"height:50px;display:inline\"> Low-Rank Adaptation in PyTorch\n",
    "---"
   ]
  },
  {
   "cell_type": "code",
   "execution_count": 11,
   "metadata": {},
   "outputs": [],
   "source": [
    "# example\n",
    "class LowRankLayer(nn.Module):\n",
    "    def __init__(self, linear, rank, alpha, use_dora=True):\n",
    "        super().__init__()\n",
    "        # rank: controls the inner dimension of the matrices A and B; controls the number of additional parameters introduced by LoRA,\n",
    "        # a key factor in determining the balance between model adaptability and parameter efficiency.\n",
    "        # alpha: a scaling hyper-parameter applied to the output of the low-rank adaptation, \n",
    "        # controls the extent to which the adapted layer's output is allowed to influence the original output of the layer being adapted. \n",
    "        \n",
    "        self.use_dora = use_dora\n",
    "        self.rank = rank  # low-rank\n",
    "        self.alpha = alpha  # scaling hyper-parameter\n",
    "        self.linear = linear\n",
    "        self.in_dim = linear.in_features\n",
    "        self.out_dim = linear.out_features\n",
    "\n",
    "        # weights\n",
    "        std_dev = 1 / torch.sqrt(torch.tensor(self.rank).float())\n",
    "        self.A = nn.Parameter(torch.randn(self.in_dim, self.rank) * std_dev)\n",
    "        self.B = nn.Parameter(torch.zeros(self.rank, self.out_dim))\n",
    "        \n",
    "        if self.use_dora:\n",
    "            self.m = nn.Parameter(\n",
    "                self.linear.weight.norm(p=2, dim=0, keepdim=True))\n",
    "        else:\n",
    "            self.m = None\n",
    "\n",
    "    def forward(self, x):\n",
    "        lora = self.A @ self.B  # combine LoRA matrices\n",
    "        if self.use_dora:\n",
    "            numerator = self.linear.weight + self.alpha * lora.T\n",
    "            denominator = numerator.norm(p=2, dim=0, keepdim=True)\n",
    "            directional_component = numerator / denominator\n",
    "            new_weight = self.m * directional_component\n",
    "            return F.linear(x, new_weight, self.linear.bias)\n",
    "        else:\n",
    "            # combine LoRA with orig. weights\n",
    "            combined_weight = self.linear.weight + self.alpha * lora.T \n",
    "            return F.linear(x, combined_weight, self.linear.bias)"
   ]
  },
  {
   "cell_type": "code",
   "execution_count": 15,
   "metadata": {},
   "outputs": [
    {
     "name": "stdout",
     "output_type": "stream",
     "text": [
      "VGG(\n",
      "  (features): Sequential(\n",
      "    (0): Conv2d(3, 64, kernel_size=(3, 3), stride=(1, 1), padding=(1, 1))\n",
      "    (1): ReLU(inplace=True)\n",
      "    (2): Conv2d(64, 64, kernel_size=(3, 3), stride=(1, 1), padding=(1, 1))\n",
      "    (3): ReLU(inplace=True)\n",
      "    (4): MaxPool2d(kernel_size=2, stride=2, padding=0, dilation=1, ceil_mode=False)\n",
      "    (5): Conv2d(64, 128, kernel_size=(3, 3), stride=(1, 1), padding=(1, 1))\n",
      "    (6): ReLU(inplace=True)\n",
      "    (7): Conv2d(128, 128, kernel_size=(3, 3), stride=(1, 1), padding=(1, 1))\n",
      "    (8): ReLU(inplace=True)\n",
      "    (9): MaxPool2d(kernel_size=2, stride=2, padding=0, dilation=1, ceil_mode=False)\n",
      "    (10): Conv2d(128, 256, kernel_size=(3, 3), stride=(1, 1), padding=(1, 1))\n",
      "    (11): ReLU(inplace=True)\n",
      "    (12): Conv2d(256, 256, kernel_size=(3, 3), stride=(1, 1), padding=(1, 1))\n",
      "    (13): ReLU(inplace=True)\n",
      "    (14): Conv2d(256, 256, kernel_size=(3, 3), stride=(1, 1), padding=(1, 1))\n",
      "    (15): ReLU(inplace=True)\n",
      "    (16): MaxPool2d(kernel_size=2, stride=2, padding=0, dilation=1, ceil_mode=False)\n",
      "    (17): Conv2d(256, 512, kernel_size=(3, 3), stride=(1, 1), padding=(1, 1))\n",
      "    (18): ReLU(inplace=True)\n",
      "    (19): Conv2d(512, 512, kernel_size=(3, 3), stride=(1, 1), padding=(1, 1))\n",
      "    (20): ReLU(inplace=True)\n",
      "    (21): Conv2d(512, 512, kernel_size=(3, 3), stride=(1, 1), padding=(1, 1))\n",
      "    (22): ReLU(inplace=True)\n",
      "    (23): MaxPool2d(kernel_size=2, stride=2, padding=0, dilation=1, ceil_mode=False)\n",
      "    (24): Conv2d(512, 512, kernel_size=(3, 3), stride=(1, 1), padding=(1, 1))\n",
      "    (25): ReLU(inplace=True)\n",
      "    (26): Conv2d(512, 512, kernel_size=(3, 3), stride=(1, 1), padding=(1, 1))\n",
      "    (27): ReLU(inplace=True)\n",
      "    (28): Conv2d(512, 512, kernel_size=(3, 3), stride=(1, 1), padding=(1, 1))\n",
      "    (29): ReLU(inplace=True)\n",
      "    (30): MaxPool2d(kernel_size=2, stride=2, padding=0, dilation=1, ceil_mode=False)\n",
      "  )\n",
      "  (avgpool): AdaptiveAvgPool2d(output_size=(7, 7))\n",
      "  (classifier): Sequential(\n",
      "    (0): Linear(in_features=25088, out_features=4096, bias=True)\n",
      "    (1): ReLU(inplace=True)\n",
      "    (2): Dropout(p=0.5, inplace=False)\n",
      "    (3): LowRankLayer(\n",
      "      (linear): Linear(in_features=4096, out_features=4096, bias=True)\n",
      "    )\n",
      "    (4): ReLU(inplace=True)\n",
      "    (5): Dropout(p=0.5, inplace=False)\n",
      "    (6): Linear(in_features=4096, out_features=2, bias=True)\n",
      "  )\n",
      ")\n"
     ]
    }
   ],
   "source": [
    "# let's fine-tune vgg's penultimate fc layer\n",
    "weigths = 'DEFAULT'\n",
    "model_ft = models.vgg16(weights=weigths)\n",
    "# turn off gradients\n",
    "model_ft.requires_grad_(False)\n",
    "# replace the penultimate fc layer (a 4096 x 4096 weight matrix) with low-rank adaptation\n",
    "rank = 4\n",
    "alpha = 8\n",
    "model_ft.classifier[3] = LowRankLayer(model_ft.classifier[3], rank, alpha, use_dora=True)\n",
    "# change the last linear layer to the correct number of classes\n",
    "num_classes = 2\n",
    "num_ftrs = model_ft.classifier[6].in_features\n",
    "model_ft.classifier[6] = nn.Linear(num_ftrs, num_classes)\n",
    "input_size = 224\n",
    "\n",
    "# Print the model we just instantiated\n",
    "print(model_ft)"
   ]
  },
  {
   "cell_type": "code",
   "execution_count": 16,
   "metadata": {},
   "outputs": [
    {
     "name": "stdout",
     "output_type": "stream",
     "text": [
      "Params to learn:\n",
      "\t classifier.3.A\n",
      "\t classifier.3.B\n",
      "\t classifier.3.m\n",
      "\t classifier.6.weight\n",
      "\t classifier.6.bias\n"
     ]
    }
   ],
   "source": [
    "# print and collect learnable paramters\n",
    "print(\"Params to learn:\")\n",
    "params_to_update = []  # override the initial list definition above\n",
    "for name,param in model_ft.named_parameters():\n",
    "    if param.requires_grad == True:\n",
    "        params_to_update.append(param)\n",
    "        print(\"\\t\",name)"
   ]
  },
  {
   "cell_type": "code",
   "execution_count": 17,
   "metadata": {},
   "outputs": [
    {
     "name": "stdout",
     "output_type": "stream",
     "text": [
      "Epoch 0/14\n",
      "----------\n",
      "train Loss: 0.4624 Acc: 0.7541\n",
      "val Loss: 0.2203 Acc: 0.9477\n",
      "\n",
      "Epoch 1/14\n",
      "----------\n",
      "train Loss: 0.2490 Acc: 0.9139\n",
      "val Loss: 0.1516 Acc: 0.9542\n",
      "\n",
      "Epoch 2/14\n",
      "----------\n",
      "train Loss: 0.2523 Acc: 0.9098\n",
      "val Loss: 0.1460 Acc: 0.9804\n",
      "\n",
      "Epoch 3/14\n",
      "----------\n",
      "train Loss: 0.1845 Acc: 0.9344\n",
      "val Loss: 0.1168 Acc: 0.9739\n",
      "\n",
      "Epoch 4/14\n",
      "----------\n",
      "train Loss: 0.1578 Acc: 0.9508\n",
      "val Loss: 0.1487 Acc: 0.9542\n",
      "\n",
      "Epoch 5/14\n",
      "----------\n",
      "train Loss: 0.1988 Acc: 0.9426\n",
      "val Loss: 0.1284 Acc: 0.9673\n",
      "\n",
      "Epoch 6/14\n",
      "----------\n",
      "train Loss: 0.2539 Acc: 0.8934\n",
      "val Loss: 0.1873 Acc: 0.9477\n",
      "\n",
      "Epoch 7/14\n",
      "----------\n",
      "train Loss: 0.2276 Acc: 0.8934\n",
      "val Loss: 0.1416 Acc: 0.9542\n",
      "\n",
      "Epoch 8/14\n",
      "----------\n",
      "train Loss: 0.2035 Acc: 0.9221\n",
      "val Loss: 0.1160 Acc: 0.9608\n",
      "\n",
      "Epoch 9/14\n",
      "----------\n",
      "train Loss: 0.2706 Acc: 0.9016\n",
      "val Loss: 0.1437 Acc: 0.9412\n",
      "\n",
      "Epoch 10/14\n",
      "----------\n",
      "train Loss: 0.1976 Acc: 0.9262\n",
      "val Loss: 0.1392 Acc: 0.9673\n",
      "\n",
      "Epoch 11/14\n",
      "----------\n",
      "train Loss: 0.1820 Acc: 0.9303\n",
      "val Loss: 0.1148 Acc: 0.9608\n",
      "\n",
      "Epoch 12/14\n",
      "----------\n",
      "train Loss: 0.1943 Acc: 0.9180\n",
      "val Loss: 0.1133 Acc: 0.9542\n",
      "\n",
      "Epoch 13/14\n",
      "----------\n",
      "train Loss: 0.1434 Acc: 0.9426\n",
      "val Loss: 0.1223 Acc: 0.9542\n",
      "\n",
      "Epoch 14/14\n",
      "----------\n",
      "train Loss: 0.2694 Acc: 0.9016\n",
      "val Loss: 0.1216 Acc: 0.9477\n",
      "\n",
      "Training complete in 6m 23s\n",
      "Best val Acc: 0.980392\n"
     ]
    }
   ],
   "source": [
    "# hyper-parameters\n",
    "device = torch.device(\"cuda:0\" if torch.cuda.is_available() else \"cpu\")\n",
    "batch_size = 8\n",
    "num_epochs = 15\n",
    "model_ft = model_ft.to(device)\n",
    "# optimizer\n",
    "optimizer_ft = torch.optim.Adam(params_to_update, lr=0.0002)\n",
    "# loss function\n",
    "criterion = nn.CrossEntropyLoss()\n",
    "# train\n",
    "# Train and evaluate\n",
    "model_ft, hist = train_model(model_ft, dataloaders, criterion, optimizer_ft, num_epochs=num_epochs)"
   ]
  },
  {
   "cell_type": "markdown",
   "metadata": {
    "slideshow": {
     "slide_type": "slide"
    }
   },
   "source": [
    "### <img src=\"https://img.icons8.com/cute-clipart/64/000000/language.png\" style=\"height:50px;display:inline\"> Pre-training for Natural Language Processing\n",
    "---\n",
    "* One of the greatest challenges in NLP is the shortage of labeled training data.\n",
    "* Because NLP is a diversified field with many distinct tasks, most task-specific datasets contain only a few thousand or a few hundred thousand human-labeled training examples. \n",
    "* As big companies like Google and OpenAI have shown, **modern deep learning-based NLP models see benefits from much larger amounts of data, improving when trained on millions, or billions, of annotated training examples**.\n",
    "* Large pre-trained models on the enormous amount of **unannotated text on the web** can then be fine-tuned on small-data NLP tasks like question answering and sentiment analysis, resulting in substantial accuracy improvements compared to training on these datasets from scratch.\n",
    "* **Bidirectional Encoder Representations from Transformers (BERT), Google** - a Transformer-based machine learning technique for natural language processing (NLP) pre-training developed by Google. The idea is to mask certain words and then try to predict them. The original English-language BERT model comes with two pre-trained general types:\n",
    "    * (1) the $BERT_{BASE}$ model, a 12-layer, 768-hidden, 12-heads, 110M parameter neural network architecture.\n",
    "    * (2) the $BERT_{LARGE}$ model, a 24-layer, 1024-hidden, 16-heads, 340M parameter neural network architecture. \n",
    "    * Both of which were trained on the BooksCorpus dataset with 800M words, and a version of the English Wikipedia with 2,500M words.\n",
    "* BERT uses the straightforward technique of masking out some of the words in the input and then condition each word bidirectionally to predict the masked words and also learns to model relationships between sentences by pre-training on a very simple task that can be generated from any text corpus: Given two sentences A and B, is B the actual next sentence that comes after A in the corpus, or just a random sentence? "
   ]
  },
  {
   "cell_type": "markdown",
   "metadata": {
    "slideshow": {
     "slide_type": "subslide"
    }
   },
   "source": [
    "<center><img src=\"./assets/bert_1.png\" style=\"height:50px\"></center>\n",
    "\n",
    "<center><img src=\"./assets/bert_ill_1.png\" style=\"height:350px\"></center>\n",
    "\n",
    "* <a href=\"https://ai.googleblog.com/2018/11/open-sourcing-bert-state-of-art-pre.html\">Image Source 1</a>, <a href=\"http://jalammar.github.io/illustrated-bert/\">Image Source 2</a>"
   ]
  },
  {
   "cell_type": "markdown",
   "metadata": {
    "slideshow": {
     "slide_type": "subslide"
    }
   },
   "source": [
    "<center><img src=\"./assets/bert_2.png\" style=\"height:100px\"></center>\n",
    "<center><img src=\"./assets/bert_ill_2.png\" style=\"height:350px\"></center>\n",
    "\n",
    "* <a href=\"https://ai.googleblog.com/2018/11/open-sourcing-bert-state-of-art-pre.html\">Image Source 1</a>, <a href=\"http://jalammar.github.io/illustrated-bert/\">Image Source 2</a>"
   ]
  },
  {
   "cell_type": "markdown",
   "metadata": {
    "slideshow": {
     "slide_type": "subslide"
    }
   },
   "source": [
    "#### Pre-trained Models for NLP in PyTorch\n",
    "---\n",
    "* <a href=\"https://huggingface.co/\">HuggingFace</a> is a copmpany that is dedicated to publishing all of the available pretrained models and it works with PyTorch as well - <a href=\"https://github.com/huggingface/transformers\">HuggingFace Transformers</a>\n",
    "* <a href=\"https://pytorch.org/hub/huggingface_pytorch-transformers/\">Examples with PyTorch</a>\n",
    "* <a href=\"https://huggingface.co/docs/transformers/training\">Tutorial: Fine-tune Transformers for NLP Tasks with PyTorch and HuggingFace</a>.\n",
    "* <a href=\"https://huggingface.co/docs/peft/en/index\">PEFT by HuggingFace, parameter-efficient fine-tuning in Python</a>."
   ]
  },
  {
   "cell_type": "markdown",
   "metadata": {
    "slideshow": {
     "slide_type": "subslide"
    }
   },
   "source": [
    "<center><img src=\"./assets/huggingface.PNG\" style=\"height:500px\"></center>"
   ]
  },
  {
   "attachments": {},
   "cell_type": "markdown",
   "metadata": {},
   "source": [
    "#### <img src=\"./assets/torch_icon.jfif\" style=\"height:50px;display:inline\"> TorchTune Library - Fine-tuning and Experimenting with LLMs\n",
    "---\n",
    "* <a href=\"https://github.com/pytorch/torchtune\">TorchTune</a> is a native-Pytorch library for easily authoring, fine-tuning and experimenting with LLMs.\n",
    "* Native-PyTorch implementations of popular LLMs with support for checkpoints in various formats, including checkpoints in HuggingFace format.\n",
    "* A good starting point for simple fine-tuning, use PEFT for more complex operations.\n",
    "* <a href=\"https://github.com/pytorch/torchtune\">TorchTune on GitHub</a>\n",
    "\n",
    "<center><img src=\"./assets/torchtune_gh.PNG\" style=\"height:200px\"></center>"
   ]
  },
  {
   "cell_type": "markdown",
   "metadata": {},
   "source": [
    "### Working with pre-trained models - common workflow amnd best practices\n",
    "---\n",
    "\n",
    "1. Getting datasets:\n",
    "    * <a href=\"https://paperswithcode.com/datasets\"> Papers with code</a> - a good resource for datasets and information about common models/methods.\n",
    "    * <a href=\"https://huggingface.co/datasets\"> HuggingFace datasets</a> - dataset repository (+Python package).\n",
    "    * <a href=\"https://www.kaggle.com/datasets\"> Kaggle datasets</a>.\n",
    "    * Make your own dataset:\n",
    "        * Find data\n",
    "        * Format it to tensors\n",
    "        * Pre-process (normalize feature values, represent categorical features via an embedding, impute missing values, ...)\n",
    "2. Downloading and loading a pre-trained model:\n",
    "    * <a href=\"https://huggingface.co/models\"> HuggingFace repository</a> - good source for pre-trained models.\n",
    "        * <a href=\"https://huggingface.co/docs/transformers/en/index\"> HuggingFace transformers</a> - a good wrapper and repository for all transformer-based things.\n",
    "        * <a href=\"https://huggingface.co/docs/diffusers/en/index\"> HuggingFace Diffusers </a> - Same for diffusion models.\n",
    "        * <a href=\"https://huggingface.co/docs/timm/index\"> timm </a> - many useful tools for computer vision.\n",
    "    * <a href=\"https://www.kaggle.com/models\"> Kaggle repository</a> - decent alternative to HuggingFace.\n",
    "    * If you are working with a large models (e.g. LLMs), consider quantization (see more in the next tutorial).\n",
    "        * <a href=\"https://github.com/bitsandbytes-foundation/bitsandbytes\"> bitsandbytes</a>.\n",
    "        * <a href=\"https://github.com/huggingface/optimum-quanto\"> quanto</a> - easy quantization for transformers.\n",
    "    * Make sure you know how to use your model on the data. Usually this is just a call to forward. \n",
    "3. (Optional) Fine-tuning:\n",
    "    * <a href=\"https://github.com/pytorch/torchtune\"> Torchtune </a> - simple (but effective) fine-tuning and trained models.\n",
    "    * <a href=\"https://huggingface.co/docs/peft/en/index\"> PEFT </a> - many fine-tuning methods (prompt-based transformer methods, LoRA variants, and more).\n",
    "    * Alignment for LLMs (with RL)\n",
    "        * <a href=\"https://huggingface.co/docs/trl/index\"> HuggingFace TRL </a> - original RL fine-tuning package.\n",
    "        * <a href=\"https://github.com/CarperAI/trlx\"> TRLX </a> - good fork of TRL.\n",
    "        * <a href=\"https://github.com/allenai/RL4LMs\"> RL4LMs </a> - another good RL fine-tuning package.\n",
    "4. Inference:\n",
    "    * <a href=\"https://github.com/DefTruth/Awesome-LLM-Inference\"> LLM inference papers with code </a>.\n",
    "5. Logging and tracking, CI and deployment tools.\n",
    "    * <a href=\"https://www.tensorflow.org/tensorboard/get_started\"> Tensorboard </a> - simple lightweight logging.\n",
    "    * <a href=\"https://docs.wandb.ai/guides/models/\"> Weights & Biases (wandb) Models </a> - hyperparameter tuning, experiment tracking, model repository.\n",
    "    * <a href=\"https://docs.wandb.ai/guides/weave/\"> wandb Weave </a> - LLM tracking (input/output, evaluation pipline, logging).\n",
    "    * <a href=\"https://www.comet.com/docs/v2/\"> Comet </a> - good alternative to wandb with similar features.\n",
    "    * <a href=\"https://docs.neptune.ai/\"> NeptuneAI <a> - another wandb alternative.\n",
    "    * <a href=\"https://github.com/mlflow/mlflow\"> MLFlow </a> - lightweight open-source wandb alternative, easy model deployment."
   ]
  },
  {
   "cell_type": "markdown",
   "metadata": {},
   "source": [
    "### About model development, CI and deployment\n",
    "---\n",
    "\n",
    "#### Experiment design:\n",
    "* Lots of yaml/xml configuration.\n",
    "* Treat model training as a runnable program with commandline arguments for hyper-parameters.\n",
    "* Usual use cases: run hyper-parameter sweep, compare runs based on some metrics, visualize and compare.\n",
    "<left><img src=\"./assets/tut_selfsup_wandb_exp2.png\" style=\"height:280px\"></left> <right><img src=\"./assets/tut_selfsup_wandb_exp3.gif\" style=\"height:280px\"></right>\n",
    "\n",
    "#### Model Registry:\n",
    "* A central repository for used models: both in testing and in production.\n",
    "* Requires some code wrapper for your model and prediction.\n",
    "* Can be used with CI tools to test model performance.\n",
    "* Can be used with deployment tools to serve a model as an API.\n",
    "<center><img src=\"./assets/tut_selfsup_modelreg.png\" style=\"height:300px\"></center>\n",
    "<center><img src=\"./assets/tut_selfsup_modelreg2.png\" style=\"height:300px\"></center>\n",
    "\n",
    "<center><img src=\"./assets/tut_selfsup_wandb_registry.gif\" style=\"height:400px\"></center>\n",
    "\n",
    "#### CI, deployment:\n",
    "<center><img src=\"./assets/tut_selfsup_wandb_ci.gif\" style=\"height:400px\"></center>\n",
    "\n",
    "<center><img src=\"./assets/tut_selfsup_deploy_model.png\" style=\"height:400px\"></center>\n",
    "\n",
    "#### Live monitoring:\n",
    "* Alerts on failure/errors.\n",
    "* Logging predictions: input/output, feature values, data drift (input features), accuracy (if model/data changes).\n",
    "<center><img src=\"./assets/tut_selfsup_deployment.png\" style=\"height:400px\"></center>\n",
    "<center><img src=\"./assets/tut_selfsup_deploy_alert.png\" style=\"height:400px\"></center>\n",
    "\n",
    "* LLM-focused monitoring:\n",
    "<center><img src=\"./assets/tut_selfsup_llm_api.png\" style=\"height:400px\"></center>\n",
    "<center><img src=\"./assets/tut_selfsup_llm_monitor.gif\" style=\"height:400px\"></center>"
   ]
  },
  {
   "cell_type": "markdown",
   "metadata": {
    "slideshow": {
     "slide_type": "slide"
    }
   },
   "source": [
    "## <img src=\"https://img.icons8.com/color/96/000000/self-esteem.png\" style=\"height:50px;display:inline\"> Representation and Self-Supervised Learning\n",
    "---\n",
    "* How do we learn rich and useful features from raw unlabeled data that can be useful for several downstream tasks (e.g., classification, reinforcement learning...)?\n",
    "* What are the various general tasks that can be used to learn representations from unlabeled data?\n",
    "* **The way we represent the data has a great impact on the performance and compelxity**.\n",
    "* Such representations can be learned in typical *unsupervised* settings, or in a *self-supervised* manner."
   ]
  },
  {
   "cell_type": "markdown",
   "metadata": {
    "slideshow": {
     "slide_type": "subslide"
    }
   },
   "source": [
    "<center><img src=\"./assets/rep_data.PNG\" style=\"height:250px\"></center>"
   ]
  },
  {
   "cell_type": "markdown",
   "metadata": {
    "slideshow": {
     "slide_type": "slide"
    }
   },
   "source": [
    "* **Deep Unsupervised Learning** - learn representations without lables, subset of deep learning, which is a subset of representation learning, which is a subset of machine learning.\n",
    "* **Self-supervised Learning** - often used interchangeably with unsupervised learning. Self-supervised: **create your own supervision through pretext tasks**."
   ]
  },
  {
   "cell_type": "markdown",
   "metadata": {
    "slideshow": {
     "slide_type": "slide"
    }
   },
   "source": [
    "### <img src=\"https://img.icons8.com/color/96/000000/code.png\" style=\"height:50px;display:inline\"> Deep Unsupervised Learning - Deep Autoencoders\n",
    "---\n",
    "* Most of the natural data is high-dimensional, such as images. Consider the MNIST (hand-written digits) dataset, where each image has $28x28=784$ pixels, which means it can be represented by a vector of length 784. \n",
    "    * But do we really need 784 values to represent a digit? The answer is probably no. We believe that the data lies on a low-dimensional space which is enough to describe the observasions. In the case of MNIST, we can choose to represent digits as one-hot vectors, which means we only need 10 dimensions. So we can **encode** high-dimensional observations in a low-dimensional space.\n",
    "    * But how can we learn meaningful low-deminsional representations? The general idea is to reconstruct or, **decode** the low-dimensional representation to the high-dimensional reperesentation, and use the reconstruction error to find the best representations (using the gradients of the error) . This is the core idea behind **autoencoders**.\n",
    "    * **Autoencoders** - models which take data as input and discover some latent state representation of that data.The input data is converted into an encoding vector where each dimension represents some learned attribute about the data. The most important detail to grasp here is that our encoder network is outputting a single value for each encoding dimension. The decoder network then subsequently takes these values and attempts to recreate the original input. Autoencoders have **three parts**: an encoder, a decoder, and a 'loss' function that maps one to the other. For the simplest autoencoders - the sort that compress and then reconstruct the original inputs from the compressed representation - we can think of the 'loss' as describing the amount of information lost in the process of reconstruction.\n",
    "        * Illustration: <center><img src=\"./assets/tut_xv_autoencoder.png\" style=\"height:250px\"></center>\n",
    "        \n",
    "* The basic architecture of an autoencoder:\n",
    "<center><img src=\"./assets/tut_xiv_autoencoder.png\" style=\"height:250px\"></center>\n",
    "    \n",
    "    * Image from <a href=\"https://towardsdatascience.com/applied-deep-learning-part-3-autoencoders-1c083af4d798\">Applied Deep Learning</a> by Arden Dertat\n",
    "    \n",
    "Let's implement it in PyTorch using what we have learnt so far!"
   ]
  },
  {
   "cell_type": "code",
   "execution_count": 14,
   "metadata": {
    "slideshow": {
     "slide_type": "subslide"
    }
   },
   "outputs": [],
   "source": [
    "class AutoEncoder(nn.Module):\n",
    "    \n",
    "    def __init__(self, input_dim=28*28, hidden_dim=256, latent_dim=10):\n",
    "        super(AutoEncoder, self).__init__()\n",
    "        \n",
    "        self.input_dim = input_dim\n",
    "        self.hidden_dim = hidden_dim\n",
    "        self.latent_dim = latent_dim\n",
    "        \n",
    "        # define the encoder\n",
    "        self.encoder = nn.Sequential(nn.Linear(self.input_dim, self.hidden_dim),\n",
    "                                     nn.ReLU(), nn.Linear(self.hidden_dim, self.hidden_dim),\n",
    "                                     nn.ReLU(),\n",
    "                                     nn.Linear(self.hidden_dim, self.latent_dim)\n",
    "                                    )\n",
    "        \n",
    "        # define decoder\n",
    "        self.decoder = nn.Sequential(nn.Linear(self.latent_dim, self.hidden_dim),\n",
    "                                     nn.ReLU(),\n",
    "                                     nn.Linear(self.hidden_dim, self.hidden_dim),\n",
    "                                     nn.ReLU(),\n",
    "                                     nn.Linear(self.hidden_dim, self.input_dim),\n",
    "                                     nn.Sigmoid())\n",
    "        \n",
    "    def forward(self,x):\n",
    "        x = self.encoder(x)\n",
    "        x = self.decoder(x)\n",
    "        return x\n",
    "    \n",
    "    def get_latent_rep(self, x):\n",
    "        return self.encoder(x)"
   ]
  },
  {
   "cell_type": "code",
   "execution_count": 15,
   "metadata": {
    "slideshow": {
     "slide_type": "subslide"
    }
   },
   "outputs": [],
   "source": [
    "# hyper-parameters:\n",
    "num_epochs = 5\n",
    "learning_rate = 0.001\n",
    "\n",
    "# Device configuration, as before\n",
    "device = torch.device('cuda:0' if torch.cuda.is_available() else 'cpu')\n",
    "\n",
    "# create model, send it to device\n",
    "model = AutoEncoder(input_dim=28*28, hidden_dim=128, latent_dim=10).to(device)\n",
    "\n",
    "# Loss and optimizer\n",
    "criterion = nn.BCELoss()  # binary cross entropy, as pixels are in [0,1], can also use MSE\n",
    "optimizer = torch.optim.Adam(model.parameters(), lr=learning_rate)"
   ]
  },
  {
   "cell_type": "code",
   "execution_count": 16,
   "metadata": {
    "slideshow": {
     "slide_type": "fragment"
    }
   },
   "outputs": [
    {
     "name": "stdout",
     "output_type": "stream",
     "text": [
      "Epoch [1/5], Step [100/468], Loss: 0.3832\n",
      "Epoch [1/5], Step [200/468], Loss: 0.3317\n",
      "Epoch [1/5], Step [300/468], Loss: 0.3360\n",
      "Epoch [1/5], Step [400/468], Loss: 0.3037\n",
      "Epoch [2/5], Step [100/468], Loss: 0.3093\n",
      "Epoch [2/5], Step [200/468], Loss: 0.2943\n",
      "Epoch [2/5], Step [300/468], Loss: 0.3223\n",
      "Epoch [2/5], Step [400/468], Loss: 0.3077\n",
      "Epoch [3/5], Step [100/468], Loss: 0.2953\n",
      "Epoch [3/5], Step [200/468], Loss: 0.3018\n",
      "Epoch [3/5], Step [300/468], Loss: 0.3083\n",
      "Epoch [3/5], Step [400/468], Loss: 0.3133\n",
      "Epoch [4/5], Step [100/468], Loss: 0.3082\n",
      "Epoch [4/5], Step [200/468], Loss: 0.3007\n",
      "Epoch [4/5], Step [300/468], Loss: 0.2898\n",
      "Epoch [4/5], Step [400/468], Loss: 0.2976\n",
      "Epoch [5/5], Step [100/468], Loss: 0.3038\n",
      "Epoch [5/5], Step [200/468], Loss: 0.2896\n",
      "Epoch [5/5], Step [300/468], Loss: 0.2972\n",
      "Epoch [5/5], Step [400/468], Loss: 0.2990\n"
     ]
    }
   ],
   "source": [
    "# Train the model\n",
    "total_step = len(fmnist_train_loader)\n",
    "for epoch in range(num_epochs):\n",
    "    for i, (images, labels) in enumerate(fmnist_train_loader):\n",
    "        # each i is a batch of 128 samples\n",
    "        images = images.to(device).view(batch_size, -1)\n",
    "        \n",
    "        # Forward pass\n",
    "        outputs = model(images)\n",
    "        loss = criterion(outputs, images)\n",
    "        \n",
    "        # Backward and optimize - ALWAYS IN THIS ORDER!\n",
    "        optimizer.zero_grad()\n",
    "        loss.backward()\n",
    "        optimizer.step()\n",
    "        \n",
    "        if (i + 1) % 100 == 0:\n",
    "            print ('Epoch [{}/{}], Step [{}/{}], Loss: {:.4f}' \n",
    "                   .format(epoch + 1, num_epochs, i + 1, total_step, loss.item()))"
   ]
  },
  {
   "cell_type": "code",
   "execution_count": 17,
   "metadata": {
    "slideshow": {
     "slide_type": "subslide"
    }
   },
   "outputs": [
    {
     "name": "stdout",
     "output_type": "stream",
     "text": [
      "shape: \n",
      " torch.Size([128, 1, 28, 28])\n"
     ]
    },
    {
     "data": {
      "image/png": "[encoded data removed]",
      "text/plain": [
       "<Figure size 432x288 with 6 Axes>"
      ]
     },
     "metadata": {},
     "output_type": "display_data"
    }
   ],
   "source": [
    "# let's see some of the reconstructions\n",
    "model.eval()  # put in evaluation mode - no gradients\n",
    "examples = enumerate(fmnist_test_loader)\n",
    "batch_idx, (example_data, example_targets) = next(examples)\n",
    "print(\"shape: \\n\", example_data.shape)\n",
    "fig = plt.figure()\n",
    "for i in range(3):\n",
    "    ax = fig.add_subplot(2,3,i+1)\n",
    "    ax.imshow(example_data[i][0], cmap='gray', interpolation='none')\n",
    "    ax.set_title(\"Ground Truth: {}\".format(example_targets[i]))\n",
    "    ax.set_axis_off()\n",
    "    \n",
    "    ax = fig.add_subplot(2,3,i+4)\n",
    "    recon_img = model(example_data[i][0].view(1, -1).to(device)).data.cpu().numpy().reshape(28, 28)\n",
    "    ax.imshow(recon_img, cmap='gray')\n",
    "    ax.set_title(\"Reconstruction of: {}\".format(example_targets[i]))\n",
    "    ax.set_axis_off()\n",
    "plt.tight_layout()"
   ]
  },
  {
   "cell_type": "code",
   "execution_count": 18,
   "metadata": {
    "slideshow": {
     "slide_type": "subslide"
    }
   },
   "outputs": [],
   "source": [
    "# let's compare different dimensionality reduction methods\n",
    "n_neighbors = 10\n",
    "n_components = 2\n",
    "n_points= 500\n",
    "\n",
    "fmnist_test_loader = torch.utils.data.DataLoader(dataset=fmnist_test_dataset,\n",
    "                                          batch_size=n_points, \n",
    "                                          shuffle=False)\n",
    "X, labels = next(iter(fmnist_test_loader))\n",
    "latent_X = model.get_latent_rep(X.to(device).view(n_points, -1)).data.cpu().numpy()\n",
    "labels = labels.data.cpu().numpy()"
   ]
  },
  {
   "cell_type": "code",
   "execution_count": 19,
   "metadata": {
    "slideshow": {
     "slide_type": "subslide"
    }
   },
   "outputs": [
    {
     "name": "stdout",
     "output_type": "stream",
     "text": [
      "PCA time: 0.001 sec\n",
      "KPCA time: 0.013 sec\n",
      "LLE time: 0.077 sec\n",
      "Isomap time: 0.12 sec\n",
      "t-SNE time: 2.7 sec\n"
     ]
    },
    {
     "data": {
      "image/png": "[encoded data removed]",
      "text/plain": [
       "<Figure size 1080x576 with 6 Axes>"
      ]
     },
     "metadata": {},
     "output_type": "display_data"
    }
   ],
   "source": [
    "fig = plt.figure(figsize=(15,8))\n",
    "\n",
    "# PCA\n",
    "t0 = time.time()\n",
    "x_pca = PCA(n_components).fit_transform(latent_X)\n",
    "t1 = time.time()\n",
    "print(\"PCA time: %.2g sec\" % (t1 - t0))\n",
    "ax = fig.add_subplot(2, 3, 1)\n",
    "ax.scatter(x_pca[:, 0], x_pca[:, 1], c=labels, cmap=plt.cm.Spectral)\n",
    "ax.set_title('PCA')\n",
    "\n",
    "# KPCA\n",
    "t0 = time.time()\n",
    "x_kpca = KernelPCA(n_components, kernel='rbf').fit_transform(latent_X)\n",
    "t1 = time.time()\n",
    "print(\"KPCA time: %.2g sec\" % (t1 - t0))\n",
    "ax = fig.add_subplot(2, 3, 2)\n",
    "ax.scatter(x_kpca[:, 0], x_kpca[:, 1], c=labels, cmap=plt.cm.Spectral)\n",
    "ax.set_title('KernelPCA')\n",
    "\n",
    "# LLE\n",
    "t0 = time.time()\n",
    "x_lle = LocallyLinearEmbedding(n_neighbors, n_components, eigen_solver='auto').fit_transform(latent_X)\n",
    "t1 = time.time()\n",
    "print(\"LLE time: %.2g sec\" % (t1 - t0))\n",
    "ax = fig.add_subplot(2, 3, 3)\n",
    "ax.scatter(x_lle[:, 0], x_lle[:, 1], c=labels, cmap=plt.cm.Spectral)\n",
    "ax.set_title('LLE')\n",
    "\n",
    "# Isomap\n",
    "t0 = time.time()\n",
    "x_isomap = Isomap(n_neighbors, n_components).fit_transform(latent_X)\n",
    "t1 = time.time()\n",
    "print(\"Isomap time: %.2g sec\" % (t1 - t0))\n",
    "ax = fig.add_subplot(2, 3, 4)\n",
    "ax.scatter(x_lle[:, 0], x_lle[:, 1], c=labels, cmap=plt.cm.Spectral)\n",
    "ax.set_title('LLE')\n",
    "\n",
    "# t-SNE\n",
    "t0 = time.time()\n",
    "x_tsne = TSNE(n_components).fit_transform(latent_X)\n",
    "t1 = time.time()\n",
    "print(\"t-SNE time: %.2g sec\" % (t1 - t0))\n",
    "ax = fig.add_subplot(2, 3, 5)\n",
    "scatter = ax.scatter(x_tsne[:, 0], x_tsne[:, 1], c=labels, cmap=plt.cm.Spectral)\n",
    "ax.set_title('t-SNE')\n",
    "\n",
    "bounds = np.linspace(0, 10, 11)\n",
    "cb = plt.colorbar(scatter, spacing='proportional',ticks=bounds)\n",
    "cb.set_label('Classes Colors')\n",
    "\n",
    "plt.tight_layout()"
   ]
  },
  {
   "cell_type": "markdown",
   "metadata": {
    "slideshow": {
     "slide_type": "slide"
    }
   },
   "source": [
    "### <img src=\"https://img.icons8.com/cute-clipart/64/000000/task.png\" style=\"height:50px;display:inline\"> Self-Supervised Learning\n",
    "---\n",
    "* A version of unsupervised learning where **data provides the supervision**.\n",
    "* **Idea**: withhold some part of the data and then task a neural network to predict it from the remaining parts.\n",
    "* It requires us to decide what proxy loss or pretext task the network tries to solve, and depending on the quality of the task, good semantic features can be obtained without actual labels.\n",
    "* For learning good representations, it turns out that there is **a strong signal from a classification objective** (e.g., cross-entropy), guiding us to formulate proxy tasks that involve creating labels in a self-supervised manner. For example, BERT creates labels by masking words.\n",
    "* Advantages over supervised learning:\n",
    "    * Large cost of producing a new dataset for each task (prepare labeling manuals, categories, hiring humans, creating GUIs, storage pipelines, etc).\n",
    "    * Good supervision may not be cheap (e.g., medicine, legal).\n",
    "    * Take advantage of vast amount of unlabeled data on the internet (images, videos, language)."
   ]
  },
  {
   "cell_type": "markdown",
   "metadata": {
    "slideshow": {
     "slide_type": "subslide"
    }
   },
   "source": [
    "<center><img src=\"./assets/ss_learning.PNG\" style=\"height:300px\"></center>"
   ]
  },
  {
   "cell_type": "markdown",
   "metadata": {
    "slideshow": {
     "slide_type": "slide"
    }
   },
   "source": [
    "### <img src=\"https://img.icons8.com/cute-clipart/64/000000/console.png\" style=\"height:50px;display:inline\"> Self-Supervised Learning Methods\n",
    "---\n",
    "* *Reconstruct from a corrupted (or partial) version*\n",
    "    * Denoising Autoencoders, Masked Autoencoders\n",
    "    * In-painting\n",
    "    * Colorization, Split-Brain Autoencoder\n",
    "* *Visual common sense tasks*\n",
    "    * Relative patch prediction\n",
    "    * Jigsaw puzzles\n",
    "    * Rotation prediction\n",
    "* **Contrastive Learning**\n",
    "    * Word2Vec\n",
    "    * Contrastive Predictive Coding (CPC)\n",
    "    * Instance Discrimination\n",
    "    *  Simple Framework for Contrastive Learning of Visual Representations (SimCLR), Momentum Contrast (MoCo), Bootstrap Your Own Latent (BYOL)\n",
    "    \n",
    "\n",
    "**Code Demos** - <a href=\"https://colab.research.google.com/github/taldatech/ee046211-deep-learning/blob/main/extra/Self_Supervised_Learning_Demos.ipynb\">Self-Supervised Learning Demos</a>"
   ]
  },
  {
   "cell_type": "markdown",
   "metadata": {
    "slideshow": {
     "slide_type": "slide"
    }
   },
   "source": [
    "### <img src=\"https://img.icons8.com/external-wanicon-lineal-color-wanicon/64/null/external-mask-brazilian-carnival-wanicon-lineal-color-wanicon.png\" style=\"height:50px;display:inline\">  Masked Autoencoders (Vision Transformers)\n",
    "---\n",
    "* While the field of self-supervised has been taken away by storm with the introduction of contrastive methods, the recent developments in Vision Transformers (ViT) have resurrected the simple idea of masked image modeling.\n",
    "* <a href=\"https://arxiv.org/abs/2111.06377\">Masked Autoencoders Are Scalable Vision Learners, He et al. 2021.</a>\n",
    "* **Masked Autoencoders**: during pre-training, **a large random subset of image patches** (e.g., 75%) is masked out. The encoder is applied to the small subset of visible patches. Mask tokens are introduced after the encoder, and the full set of encoded patches and mask tokens is processed by a small decoder that reconstructs the original image in pixels. After pre-training, the decoder is discarded and the encoder is applied to uncorrupted images (full sets of patches) for recognition tasks.\n",
    "* Masked AEs show competative performance to contrastive methods while being much simpler to implement and understand.\n",
    "* Code:\n",
    "    * HuggingFace: <a href=\"https://huggingface.co/docs/transformers/model_doc/vit_mae\">ViTMAE</a>\n",
    "    * GitHub: <a href=\"https://github.com/facebookresearch/mae\">Official PyTorch implementation (FAIR)</a>, <a href=\"https://github.com/EdisonLeeeee/Awesome-Masked-Autoencoders\">Awesome MAE Models</a>"
   ]
  },
  {
   "cell_type": "markdown",
   "metadata": {},
   "source": [
    "<center><img src=\"./assets/masked_ae.PNG\" style=\"height:300px\"></center>"
   ]
  },
  {
   "cell_type": "markdown",
   "metadata": {},
   "source": [
    "<center><img src=\"./assets/masked_ae_sample.PNG\" style=\"height:220px\"></center>"
   ]
  },
  {
   "cell_type": "markdown",
   "metadata": {},
   "source": [
    "<center><img src=\"./assets/masked_ae_table.PNG\" style=\"height:150px\"></center>"
   ]
  },
  {
   "cell_type": "markdown",
   "metadata": {
    "slideshow": {
     "slide_type": "slide"
    }
   },
   "source": [
    "### <img src=\"https://img.icons8.com/plasticine/100/000000/protect-from-magnetic-field.png\" style=\"height:50px;display:inline\">  Contrastive Learning\n",
    "---\n",
    "* Contrastive learning is an approach to formulate the task of **finding similar and dissimilar things for a ML model (basically what classification does when given labels)**. \n",
    "* Contrastive methods, as the name implies, learn representations by contrasting **positive and negative** examples. \n",
    "* Using this approach, one can train a machine learning model to classify between similar and dissimilar images.\n",
    "* More formally, for any data point $x$, contrastive methods aim to learn an encoder $f$ such that: \n",
    "    * $x^+$ is a data point similar to $x$, referred to as a *positive* sample.\n",
    "    * $x^−$ is a data point dissimilar to $x$, referred to as a *negative* sample.\n",
    "    * The **score function** is a metric that measures the similarity between two features: $$score(f(x), f(x^+))  >>  score(f(x), f(x^-))$$"
   ]
  },
  {
   "cell_type": "markdown",
   "metadata": {
    "slideshow": {
     "slide_type": "subslide"
    }
   },
   "source": [
    "<center><img src=\"./assets/contrastive_1.PNG\" style=\"height:150px\"></center>\n",
    "<center><img src=\"./assets/contrastive_puzzle.gif\" style=\"height:200px\"></center>\n",
    "\n",
    "* <a href=\"https://analyticsindiamag.com/contrastive-learning-self-supervised-ml\">Image Source</a>"
   ]
  },
  {
   "cell_type": "markdown",
   "metadata": {
    "slideshow": {
     "slide_type": "subslide"
    }
   },
   "source": [
    "* The most common loss function to implement the score paradigm is **InfoNCE** loss, which looks similar to softmax.\n",
    "\n",
    "<center><img src=\"./assets/infonce_loss.png\" style=\"height:100px\"></center>\n",
    "\n",
    "* The denominator terms consist of one positive sample, and $N−1$ negative samples.\n",
    "    * But how do we get negative samples if we are in a self-supervised setting? The answer might not surprise you -- usually the negative samples are just all other samples in the batch.\n",
    "* <a href=\"https://github.com/RElbers/info-nce-pytorch\">InfoNCE Loss in PyTorch</a>"
   ]
  },
  {
   "cell_type": "markdown",
   "metadata": {
    "slideshow": {
     "slide_type": "slide"
    }
   },
   "source": [
    "### <img src=\"https://img.icons8.com/pastel-glyph/64/000000/qr-code--v2.png\" style=\"height:50px;display:inline\">  Contrastive Predictive Coding (CPC)\n",
    "---\n",
    "* <a href=\"https://arxiv.org/abs/1807.03748\">**Contrastive Predictive Coding (CPC)**</a> learns self-supervised representations by **predicting the future** in a learned *latent space* by using powerful autoregressive models. \n",
    "* The model uses a probabilistic contrastive loss which induces the latent space to capture information that is **maximally useful to predict future samples**."
   ]
  },
  {
   "cell_type": "markdown",
   "metadata": {
    "slideshow": {
     "slide_type": "subslide"
    }
   },
   "source": [
    "<center><img src=\"./assets/cpc.png\" style=\"height:300px\"></center>"
   ]
  },
  {
   "cell_type": "markdown",
   "metadata": {
    "slideshow": {
     "slide_type": "subslide"
    }
   },
   "source": [
    "* First, a non-linear encoder $g_{enc}$ maps the input sequence of observations $x_t$ to a sequence of latent representations $z_t = g_{enc}(x_t)$, potentially with a lower temporal resolution ($g_{enc}$'s architecture usually depends on the data type, e.g., CNN for images).\n",
    "* Next, an autoregressive model $g_{ar}$ summarizes all $z \\leq t$ in the latent space and produces a context latent representation $c_t=g_{ar}(z \\leq t)$.\n",
    "* A density ratio $f$ is modeled which preserves the **mutual information** between $x_{t+k}$ and $c_t$ as follows: $$ f_k(x_{t+k}, c_t) = \\exp(z_{t+k}^T W_k c_t) \\propto \\frac{p(x_{t+k} | c_t)}{p(x_{t+k})} $$\n",
    "    * Note that the density ratio $f$ can be unnormalized (does not have to integrate to 1).\n",
    "    * $W_k$ are learned weights.\n",
    "* Any type of encoder and autoregressive can be used. \n",
    "    * For example: strided convolutional layers with residual blocks and GRUs.\n",
    "* The encoder and autoregressive models are trained to minimize an **InfoNCE** loss.\n",
    "* <a href=\"https://github.com/jefflai108/Contrastive-Predictive-Coding-PyTorch\">PyTorch Code</a>\n",
    "    * <a href=\"https://github.com/rschwarz15/CPCV2-PyTorch\">CPCv2 - PyTorch Code</a>"
   ]
  },
  {
   "cell_type": "markdown",
   "metadata": {
    "slideshow": {
     "slide_type": "slide"
    }
   },
   "source": [
    "### <img src=\"https://img.icons8.com/nolan/64/collapse-arrow.png\" style=\"height:50px;display:inline\">  Simple Framework for Contrastive Learning of Visual Representations (SimCLR)\n",
    "---\n",
    "* <a href=\"https://arxiv.org/abs/2002.05709\">**Simple Framework for Contrastive Learning of Visual Representations (SimCLR)**</a> is a framework for contrastive learning of *visual* representations. \n",
    "* It learns representations by maximizing agreement between differently augmented views of the same data example via a contrastive loss in the latent space."
   ]
  },
  {
   "cell_type": "markdown",
   "metadata": {
    "slideshow": {
     "slide_type": "subslide"
    }
   },
   "source": [
    "<center><img src=\"./assets/simclr.PNG\" style=\"height:300px\"></center>"
   ]
  },
  {
   "cell_type": "markdown",
   "metadata": {
    "slideshow": {
     "slide_type": "subslide"
    }
   },
   "source": [
    "* A **stochastic data augmentation module** that transforms any given data example randomly resulting in two correlated views of the same example, denoted $\\tilde{x}_i$ and $\\tilde{x}_j$, which is considered a **positive pair**.\n",
    "* SimCLR sequentially applies three simple augmentations: random cropping followed by resize back to the original size, random color distortions, and random Gaussian blur. The authors find **random crop and color distortion** are crucial to achieve good performance.\n",
    "* A neural network base encoder $f(\\cdot)$ that extracts **representation vectors** from augmented data examples. The framework allows various choices of the network architecture without any constraints. \n",
    "    * For simplicity, ResNet is used to obtain $h_i = f(\\tilde{x}_i)\\in \\mathbb{R}^d$ where $h_i$ is the output after the average pooling layer.\n",
    "* A small neural network projection head $g(\\cdot)$ that maps representations to the space where contrastive loss is applied. \n",
    "* MLP with one hidden layer is used to obtain $z_i=g(h_i)$.\n",
    "* **The authors find it beneficial to define the contrastive loss on $z_i$’s rather than $h_i$’s**."
   ]
  },
  {
   "cell_type": "markdown",
   "metadata": {
    "slideshow": {
     "slide_type": "subslide"
    }
   },
   "source": [
    "* A mini-batch of $N$ examples is randomly sampled and the contrastive prediction task is defined on pairs of augmented examples derived from the mini-batch, resulting in $2N$ data points. \n",
    "* Negative examples are not sampled explicitly. Instead, given a positive pair, the other $2(N-1)$ augmented examples within a mini-batch are treated as negative examples. \n",
    "* A NT-Xent (the normalized temperature-scaled cross entropy loss) loss function is used: $$\\ell_{i,j} = -\\log{\\frac{\\exp(\\text{sim}(z_i, z_j)/\\tau)}{\\sum_{k=1}^{2N}\\mathbb{1}_{[k\\neq i]}\\exp(\\text{sim}(z_i, z_k)/\\tau)}}$$\n",
    "where $\\text{sim}(z_i, z_j) = \\frac{z_i^Tz_j}{\\left\\Vert z_i \\right\\Vert \\left\\Vert z_j \\right\\Vert}$.\n",
    "\n",
    "* <a href=\"https://github.com/sthalles/SimCLR\">PyTorch Code</a>\n",
    "* <a href=\"https://colab.research.google.com/github/taldatech/ee046211-deep-learning/blob/main/extra/Self_Supervised_Learning_Demos.ipynb#scrollTo=YB_cqJagEXbw\">Colab Example</a>"
   ]
  },
  {
   "cell_type": "markdown",
   "metadata": {
    "slideshow": {
     "slide_type": "subslide"
    }
   },
   "source": [
    "<center><img src=\"./assets/simclr_anim.gif\" style=\"height:350px\"></center>\n",
    "\n",
    "* <a href=\"https://ai.googleblog.com/2020/04/advancing-self-supervised-and-semi.html\">Image Source</a>"
   ]
  },
  {
   "cell_type": "markdown",
   "metadata": {
    "slideshow": {
     "slide_type": "slide"
    }
   },
   "source": [
    "### <img src=\"https://img.icons8.com/officel/80/000000/gyroscope.png\" style=\"height:50px;display:inline\">  Bootstrap Your Own Latent (BYOL)\n",
    "---\n",
    "* **<a href=\"https://arxiv.org/abs/2006.07733\">Bootstrap Your Own Latent (BYOL)</a>** builds on the momentum network concept of MoCo, adding an MLP $q_{\\theta}$ to predict $z'$ from $z$.\n",
    "* Concretely, in BYOL we keep a momentum network copy of the representation (backbone) and projection networks (the bottom part in the figure below).\n",
    "* Rather than using a contrastive loss, BYOL uses the $L_2$  or cosine distance error between the normalized prediction $p$ and target $z'$.\n",
    "    * The negative cosine similarity loss also works well in practice.\n",
    "* BYOL produces two augmented views $v \\triangleq t(x)$ and $v' \\triangleq t'(x)$ from $x$ by applying respectively image augmentations $t \\sim \\mathcal{T}$ and $t' \\sim \\mathcal{T}'$.\n",
    "* BYOL tries to convert both augmenetations of an image into the same representation vector (make $p$ and $z'$ equal). \n",
    "* The **$L_2$ or cosine-distance loss functions do not require negative examples!**\n",
    "* There is an *implicit* contrastive loss, by using **Batch Normalization** in the first layers of the MLPs (MoCo does not require it).\n",
    "* <a href=\"https://github.com/lucidrains/byol-pytorch\">PyTorch Code</a>"
   ]
  },
  {
   "cell_type": "markdown",
   "metadata": {
    "slideshow": {
     "slide_type": "subslide"
    }
   },
   "source": [
    "<center><img src=\"./assets/byol_arch.PNG\" style=\"height:300px\"></center>"
   ]
  },
  {
   "cell_type": "markdown",
   "metadata": {
    "slideshow": {
     "slide_type": "subslide"
    }
   },
   "source": [
    "* One purpose of negative examples in a contrastive loss function is to prevent *mode collapse*. \n",
    "    * An example of mode collapse would be a network that always outputs $[1, 0, 0, 0, …]$ as its projection vector $z$. \n",
    "    * If all projection vectors $z$ are the same, then the network only needs to learn the identity function for $q$ in order to achieve perfect prediction accuracy!\n",
    "* If **batch normalization** is used in the projection layer $g$, the projection output vector $z$ cannot collapse to any singular value like $[1, 0, 0, 0, …]$ because that is exactly what batch normalization prevents. \n",
    "* Regardless of how similar the inputs to the batch normalization layer, the outputs will be redistributed according to the **learned** mean and standard deviation (and scaling-shifting). \n",
    "* Mode collapse is prevented precisely because **all samples in the mini-batch cannot take on the same value after batch normalization**.\n",
    "* Said another way, with batch normalization, BYOL learns by asking, **“how is this image different from the average image?”**.\n",
    "    * The explicit contrastive approach used by SimCLR and MoCo learns by asking, **“what distinguishes these two specific images from each other?”** \n",
    "    * These two approaches seem equivalent, since comparing an image with many other images has the same effect as comparing it to the average of the other images. "
   ]
  },
  {
   "cell_type": "markdown",
   "metadata": {},
   "source": [
    "<center><img src=\"./assets/byol_bn.PNG\" style=\"height:300px\"></center>\n",
    "\n",
    "<a href=\"https://generallyintelligent.com/blog/2020-08-24-understanding-self-supervised-contrastive-learning/\">Image Source</a>"
   ]
  },
  {
   "cell_type": "code",
   "execution_count": null,
   "metadata": {},
   "outputs": [],
   "source": [
    "# BYOL example\n",
    "# https://docs.lightly.ai/self-supervised-learning/examples/byol.html\n",
    "class BYOL(nn.Module):\n",
    "    def __init__(self, backbone):\n",
    "        super().__init__()\n",
    "\n",
    "        self.backbone = backbone  # e.g., resnet\n",
    "        self.projection_head = BYOLProjectionHead(512, 1024, 256)\n",
    "        self.prediction_head = BYOLPredictionHead(256, 1024, 256)\n",
    "\n",
    "        self.backbone_momentum = copy.deepcopy(self.backbone)\n",
    "        self.projection_head_momentum = copy.deepcopy(self.projection_head)\n",
    "\n",
    "        deactivate_requires_grad(self.backbone_momentum)\n",
    "        deactivate_requires_grad(self.projection_head_momentum)\n",
    "\n",
    "    def forward(self, x):\n",
    "        y = self.backbone(x).flatten(start_dim=1)\n",
    "        z = self.projection_head(y)\n",
    "        p = self.prediction_head(z)\n",
    "        return p\n",
    "\n",
    "    def forward_momentum(self, x):\n",
    "        y = self.backbone_momentum(x).flatten(start_dim=1)\n",
    "        z = self.projection_head_momentum(y)\n",
    "        z = z.detach()\n",
    "        return z\n",
    "    \n",
    "# initialization example\n",
    "resnet = torchvision.models.resnet18()\n",
    "backbone = nn.Sequential(*list(resnet.children())[:-1])\n",
    "model = BYOL(backbone)"
   ]
  },
  {
   "cell_type": "code",
   "execution_count": null,
   "metadata": {},
   "outputs": [],
   "source": [
    "# calculating the loss example\n",
    "criterion = NegativeCosineSimilarity()  # can also be MSE as in the original paper\n",
    "optimizer = torch.optim.SGD(model.parameters(), lr=0.06)\n",
    "\n",
    "for epoch in range(10):\n",
    "    total_loss = 0\n",
    "    for (x0, x1), _, _ in dataloader:\n",
    "        # call to EMA updater\n",
    "        update_momentum(model.backbone, model.backbone_momentum, m=0.99)\n",
    "        update_momentum(model.projection_head, model.projection_head_momentum, m=0.99)\n",
    "        x0 = x0.to(device)\n",
    "        x1 = x1.to(device)\n",
    "        p0 = model(x0)\n",
    "        z0 = model.forward_momentum(x0)\n",
    "        p1 = model(x1)\n",
    "        z1 = model.forward_momentum(x1)\n",
    "        loss = 0.5 * (criterion(p0, z1) + criterion(p1, z0))\n",
    "        total_loss += loss.detach()\n",
    "        optimizer.zero_grad()\n",
    "        loss.backward()\n",
    "        optimizer.step()  "
   ]
  },
  {
   "cell_type": "markdown",
   "metadata": {
    "slideshow": {
     "slide_type": "slide"
    }
   },
   "source": [
    "### <img src=\"https://img.icons8.com/color/96/dinosaur-egg.png\" style=\"height:50px;display:inline\">  DINO: Emerging Properties in Self-Supervised Vision Transformers\n",
    "---\n",
    "* **<a href=\"https://arxiv.org/abs/2104.14294\">DINO</a>** (self-**di**stillation with **no** labels) is a self-supervised framework that utilizes Vision Transformers (ViTs) combined with momentum encoder, multi-crop training, and the use of small patches.\n",
    "* The authors observe that self-supervised ViT features contain explicit information about the semantic segmentation of an image, which does not emerge as clearly with supervised ViTs, nor with CNNs.\n",
    "* The model recieves two different random transformations of an input image to the student and teacher networks. The output of the teacher network is centered with a mean computed over the batch. Each network outputs a $K$ dimensional feature that is normalized with a temperature softmax over the feature dimension. Their similarity is then measured with a cross-entropy loss. The teacher parameters are updated with an EMA of the student parameters.\n",
    "* **Momentum encoder**: similarly to previous methods like BYOL, a teacher network is updated with an exponential moving average (EMA) of a student network's parameters.\n",
    "* **Multi-crop training**: the self-supervised training is formulated as learning to predict the same representation for different crops of the image. The crops are categorized as global views (crop covers more than 50\\% of the original image), or local views (crop covers less than 50\\% of the original image). The teacher network receives only global views, while the student network receives all the crops. The idea behind this is to encourage “local-to-global” correspondence in extracted features.\n",
    "* **Centering and sharpening of teacher outputs**: to avoid collapse towards learning trivial features, two operations with opposite effects are applied to the teacher’s outputs:\n",
    "    * **Centering**: subtracting a bias term from the teacher's output, $t \\leftarrow t - C$, where the centering term $C$ is computed on batch statistics and updated using an EMA (similarly to BatchNorm). It prevents one dimension from dominating the softmax, but encourages collapse to a uniform distribution.\n",
    "    * **Sharpening**: using a low value for the temperature $\\tau$ in the softmax: $\\text{softmax}(\\frac{t-C}{\\tau})$ . It has the opposite effect of centering, i.e. it “sharpens” the softmax, at the risk of letting one dimension dominate.\n",
    "* DINO uses cross-entropy as the loss function.\n",
    "* DINO's features are excellent $k-\\text{NN}$ classifiers, reaching 78.3\\% top-1 on ImageNet with a small ViT.\n",
    "* <a href=\"https://github.com/facebookresearch/dino\">PyTorch Code</a>, also available in the <a href=\"https://docs.lightly.ai/self-supervised-learning/examples/dino.html\">Lightly library</a>."
   ]
  },
  {
   "cell_type": "markdown",
   "metadata": {},
   "source": [
    "<center><img src=\"./assets/dino.PNG\" style=\"height:350px\"></center>"
   ]
  },
  {
   "cell_type": "markdown",
   "metadata": {},
   "source": [
    "#### <a href=\"https://arxiv.org/abs/2304.07193\">**DINOv2**</a>: Learning Robust Visual Features without Supervision\n",
    "---\n",
    "* Intorduces technical improvements aimed at accelerating and stabilizing the training at scale.\n",
    "* Large focus on the *data* -- an automatic pipeline is proposed to build a dedicated, diverse, and curated image dataset instead of uncurated data, as typically done in self-supervised training.\n",
    "* DINOv2 models produce high-performance visual features that can be directly employed with classifiers as simple as linear layers on a variety of computer vision tasks; these visual features are robust and perform well across domains without any requirement for fine-tuning.\n",
    "* <a href=\"https://github.com/facebookresearch/dinov2\">PyTorch Code and Pre-trained Models</a>, also available on <a href=\"https://huggingface.co/docs/transformers/en/model_doc/dinov2\">HuggingFace</a>"
   ]
  },
  {
   "cell_type": "markdown",
   "metadata": {
    "slideshow": {
     "slide_type": "subslide"
    }
   },
   "source": [
    "### <img src=\"https://img.icons8.com/clouds/80/000000/performance-2.png\" style=\"height:50px;display:inline\">  Performance Comparison\n",
    "---\n",
    "* **Benchmark dataset**: *Imagenette*, a subset of 10 easily classified classes from *ImageNet*.\n",
    "* Images are resized to $128 \\times 128$ resolution during training.\n",
    "* At the end of every epoch all training images are embedded and used as the features for a $k-\\text{NN}$ classifier with $k=20$ on the test set.\n",
    "* The reported $k-\\text{NN}$ Top 1 is the max accuracy over all epochs the model reached.\n",
    "* All experiments use the same ResNet-18 backbone and the default ImageNet1k training parameters from the respective papers.\n",
    "* The following experiments have been conducted on a system with single A6000 GPU.\n",
    "* Training a model takes three to five hours, including $k-\\text{NN}$ evaluation."
   ]
  },
  {
   "cell_type": "markdown",
   "metadata": {},
   "source": [
    "<center><img src=\"./assets/ssl_table.PNG\" style=\"height:500px\"></center>\n",
    "\n",
    "<a href=\"https://docs.lightly.ai/self-supervised-learning/getting_started/benchmarks.html\">Source and More Benchmarks</a>"
   ]
  },
  {
   "cell_type": "markdown",
   "metadata": {},
   "source": [
    "### <img src=\"./assets/lightly_logo.PNG\" style=\"height:50px;display:inline\">  Lightly - A Framework for Self-Supervised Learning\n",
    "---\n",
    "* <a href=\"https://docs.lightly.ai/self-supervised-learning/index.html\">Lightly</a> is a computer vision framework for self-supervised learning implemented in PyTorch.\n",
    "* Can be installed with `pip install lightly`.\n",
    "* <a href=\"https://docs.lightly.ai/self-supervised-learning/examples/models.html\">Examples and Tutorials</a>"
   ]
  },
  {
   "cell_type": "markdown",
   "metadata": {},
   "source": [
    "<center><img src=\"./assets/lightly_simsiam.PNG\" style=\"height:500px\"></center>"
   ]
  },
  {
   "cell_type": "markdown",
   "metadata": {},
   "source": [
    "### <img src=\"https://img.icons8.com/external-gradients-pongsakorn-tan/64/null/external-clip-gdpr-gradients-pongsakorn-tan.png\" style=\"height:50px;display:inline\">  CLIP - Contrastive Language–Image Pre-training\n",
    "---\n",
    "* **CLIP** is a neural network which efficiently learns visual concepts from natural language supervision.\n",
    "* CLIP can be applied to any visual classification benchmark in a **zero-shot** manner by simply providing the names of the visual categories to be recognized.\n",
    "* **Training data**: text paired with images found across the internet.\n",
    "* **Self-supervised task**: given an image, predict which, out of a set of randomly sampled text snippets, was actually paired with it in the dataset, which is similar to the matching pardigm we introduced eariler.\n",
    "* **Loss function**: cosine similarity between pairs and normalized temperature-scaled cross-entropy loss.\n",
    "* At inference time we can, for example, classify photos of dogs vs. cats by checking for each image whether a CLIP model predicts the text description “a photo of a dog” or “a photo of a cat” is more likely to be paired with it.\n",
    "* <a href=\"https://github.com/openai/CLIP\">Official Repository (PyTorch)</a>\n",
    "* <a href=\"https://colab.research.google.com/github/openai/CLIP/blob/main/notebooks/Interacting_with_CLIP.ipynb\">Colab Example - Interaction with CLIP and Zero-Shot Classification</a>\n",
    "* HuggingFace Demos:\n",
    "    * <a href=\"https://huggingface.co/openai/clip-vit-large-patch14\">CLIP-ViT-Large</a>\n",
    "    * <a href=\"https://huggingface.co/spaces/taesiri/CLIPScore\">CLIPScore</a>"
   ]
  },
  {
   "cell_type": "markdown",
   "metadata": {},
   "source": [
    "<center><img src=\"./assets/openai_clip.PNG\" style=\"height:400px\"></center>"
   ]
  },
  {
   "cell_type": "markdown",
   "metadata": {},
   "source": [
    "<center><img src=\"./assets/clip_zero_shot.PNG\" style=\"height:250px\"></center>"
   ]
  },
  {
   "cell_type": "code",
   "execution_count": null,
   "metadata": {},
   "outputs": [],
   "source": [
    "# clip usage example\n",
    "import torch\n",
    "import clip\n",
    "from PIL import Image\n",
    "\n",
    "device = \"cuda\" if torch.cuda.is_available() else \"cpu\"\n",
    "model, preprocess = clip.load(\"ViT-B/32\", device=device)\n",
    "\n",
    "image = preprocess(Image.open(\"CLIP.png\")).unsqueeze(0).to(device)\n",
    "text = clip.tokenize([\"a diagram\", \"a dog\", \"a cat\"]).to(device)\n",
    "\n",
    "with torch.no_grad():\n",
    "    image_features = model.encode_image(image)\n",
    "    text_features = model.encode_text(text)\n",
    "    \n",
    "    logits_per_image, logits_per_text = model(image, text)\n",
    "    probs = logits_per_image.softmax(dim=-1).cpu().numpy()\n",
    "\n",
    "print(\"Label probs:\", probs)  # prints: [[0.9927937  0.00421068 0.00299572]]"
   ]
  },
  {
   "cell_type": "code",
   "execution_count": null,
   "metadata": {},
   "outputs": [],
   "source": [
    "# loss function skeleton\n",
    "image_features = clip.encode_image(image)\n",
    "text_features = clip.encode_text(text)\n",
    "\n",
    "# normalized features\n",
    "image_features = image_features / image_features.norm(dim=1, keepdim=True)\n",
    "text_features = text_features / text_features.norm(dim=1, keepdim=True)\n",
    "\n",
    "# cosine similarity as logits\n",
    "logit_scale = clip.logit_scale.exp()  # temperature parameter\n",
    "logits_per_image = logit_scale * image_features @ text_features.t()\n",
    "logits_per_text = logits_per_image.t()\n",
    "# shape = [global_batch_size, global_batch_size]\n",
    "\n",
    "# lables are the indices of the correct pair, which is just the index of the sample in the batch\n",
    "labels = torch.arange(batch_size) \n",
    "\n",
    "loss_i = torch.nn.functional.cross_entropy(logits_per_image, labels)  # applies softmax to logits inside\n",
    "loss_t = torch.nn.functional.cross_entropy(logits_per_text, labels)\n",
    "loss = 0.5 * (loss_i + loss_t).mean()"
   ]
  },
  {
   "cell_type": "markdown",
   "metadata": {},
   "source": [
    "#### CLIP Extensions\n",
    "---\n",
    "* <a href=\"https://github.com/yzhuoning/Awesome-CLIP\">Awesome-CLIP</a> - a repository that collects CLIP-based applications\n",
    "* <a href=\"https://arxiv.org/abs/2107.07651\">ALBEF - Align Before Fuse</a>\n",
    "    * <a href=\"https://github.com/salesforce/ALBEF/\">PyTorch Code</a>\n",
    "* <a href=\"https://arxiv.org/abs/2204.05991\">ReCLIP - A Strong Zero-Shot Baseline for Referring Expression Comprehension</a>\n",
    "    * <a href=\"https://github.com/allenai/reclip\">PyTorch Code</a>\n",
    "* <a href=\"https://arxiv.org/abs/2303.15343\">SigLIP - Sigmoid Loss for Language Image Pre-Training</a>\n",
    "    * <a href=\"https://huggingface.co/docs/transformers/main/en/model_doc/siglip\">Model on HF</a>\n",
    "* <a href=\"https://github.com/mlfoundations/open_clip\">OpenCLIP - an open source implementation of CLIP</a>"
   ]
  },
  {
   "cell_type": "markdown",
   "metadata": {
    "slideshow": {
     "slide_type": "subslide"
    }
   },
   "source": [
    "### <img src=\"https://img.icons8.com/bubbles/50/000000/video-playlist.png\" style=\"height:50px;display:inline\"> Recommended Videos\n",
    "---\n",
    "#### <img src=\"https://img.icons8.com/cute-clipart/64/000000/warning-shield.png\" style=\"height:30px;display:inline\"> Warning!\n",
    "* These videos do not replace the lectures and tutorials.\n",
    "* Please use these to get a better understanding of the material, and not as an alternative to the written material.\n",
    "\n",
    "#### Video By Subject\n",
    "\n",
    "* Transfer Learning - <a href=\"https://www.youtube.com/watch?v=yofjFQddwHE\"> Transfer Learning (C3W2L07) </a>\n",
    "    * Transfer Learning in PyTorch- <a href=\"https://www.youtube.com/watch?v=K0lWSB2QoIQ\"> PyTorch Tutorial 15 - Transfer Learning </a>\n",
    "* LoRA - <a href=\"https://www.youtube.com/watch?v=dA-NhCtrrVE\">Low-rank Adaption of Large Language Models: Explaining the Key Concepts Behind LoRA</a>\n",
    "    * <a href=\"https://www.youtube.com/watch?v=rgmJep4Sba4\">Insights from Finetuning LLMs with Low-Rank Adaptation</a>\n",
    "* DoRA - <a href=\"https://www.youtube.com/watch?v=m7KQdGSr0Dg\">DoRA: Weight-Decomposed Low-Rank Adaptation</a>\n",
    "* General Self-Supervised Learning - <a href=\"https://www.youtube.com/watch?v=dMUes74-nYY\">Lecture 7 Self-Supervised Learning -- UC Berkeley Spring 2020 - CS294-158 Deep Unsupervised Learning</a>\n",
    "* SimCLR - <a href=\"https://www.youtube.com/watch?v=APki8LmdJwY\">SimCLR Explained!</a>\n",
    "* MoCo - <a href=\"https://www.youtube.com/watch?v=LvHwBQF14zs\">Momentum Contrastive Learning</a>\n",
    "* BYOL - <a href=\"https://www.youtube.com/watch?v=YPfUiOMYOEE\">BYOL: Bootstrap Your Own Latent: A New Approach to Self-Supervised Learning</a>\n",
    "* DINO - <a href=\"https://www.youtube.com/watch?v=h3ij3F3cPIk\">DINO: Emerging Properties in Self-Supervised Vision Transformers (Facebook AI Research Explained)</a>\n",
    "* CLIP - <a href=\"https://www.youtube.com/watch?v=u0HG77RNhPE\">Connor Shorten - CLIP: Connecting Text and Images</a>\n",
    "* Ilya Sutskever's NeurIPS 2024 talk on the limits of pre-training scaling - <a href=\"https://youtu.be/1yvBqasHLZs?si=K3irLkcZuT2oafQR\"> Ilya Sutskever: \"Sequence to sequence learning with neural networks: what a decade\"</a>"
   ]
  },
  {
   "cell_type": "markdown",
   "metadata": {
    "slideshow": {
     "slide_type": "skip"
    }
   },
   "source": [
    "## <img src=\"https://img.icons8.com/stickers/100/null/prize.png\" style=\"height:50px;display:inline\"> Credits\n",
    "---\n",
    "* Icons made by <a href=\"https://www.flaticon.com/authors/becris\" title=\"Becris\">Becris</a> from <a href=\"https://www.flaticon.com/\" title=\"Flaticon\">www.flaticon.com</a>\n",
    "* Icons from <a href=\"https://icons8.com/\">Icons8.com</a> - https://icons8.com\n",
    "* <a href=\"https://ruder.io/transfer-learning/\">Sebastian Ruder - Transfer Learning - Machine Learning's Next Frontier</a>\n",
    "* <a href=\"https://ai.googleblog.com/2018/11/open-sourcing-bert-state-of-art-pre.html\">Jacob Devlin and Ming-Wei Chang - Open Sourcing BERT: State-of-the-Art Pre-training for Natural Language Processing</a>\n",
    "* <a href=\"https://sites.google.com/view/berkeley-cs294-158-sp20/home\">CS294-158-SP20-Deep Unsupervised Learning</a>\n",
    "* <a href=\"https://paperswithcode.com/method/contrastive-predictive-coding\">Contrastive Predictive Coding</a>\n",
    "* <a href=\"https://paperswithcode.com/method/simclr\"> Simple Framework for Contrastive Learning of Visual Representations (SimCLR)</a>\n",
    "* <a href=\"https://leimao.github.io/blog/Exponential-Moving-Average/\">Exponential Moving Average</a>\n",
    "* <a href=\"https://paperswithcode.com/method/moco\">Momentum Contrast</a>\n",
    "* <a href=\"https://untitled-ai.github.io/understanding-self-supervised-contrastive-learning.html\">Understanding self-supervised and contrastive learning with \"Bootstrap Your Own Latent\" (BYOL)</a>\n",
    "* <a href=\"https://creatis-myriad.github.io/2022/06/01/EmergingPropertiesSSViT.html\">MYRIAD - Emerging Properties in Self-Supervised Vision Transformers</a>\n",
    "* <a href=\"https://openai.com/blog/clip/\">OpenAI - CLIP: Connecting Text and Images</a>"
   ]
  }
 ],
 "metadata": {
  "kernelspec": {
   "display_name": "Python 3 (ipykernel)",
   "language": "python",
   "name": "python3"
  },
  "language_info": {
   "codemirror_mode": {
    "name": "ipython",
    "version": 3
   },
   "file_extension": ".py",
   "mimetype": "text/x-python",
   "name": "python",
   "nbconvert_exporter": "python",
   "pygments_lexer": "ipython3",
   "version": "3.12.7"
  }
 },
 "nbformat": 4,
 "nbformat_minor": 4
}
