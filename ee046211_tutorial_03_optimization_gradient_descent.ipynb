{
 "cells": [
  {
   "cell_type": "markdown",
   "metadata": {
    "slideshow": {
     "slide_type": "slide"
    }
   },
   "source": [
    "# <img src=\"./assets/course-icon.png\" style=\"height:50px;display:inline\"> ECE 046211 - Technion - Deep Learning\n",
    "---\n",
    "\n",
    "#### <a href=\"https://taldatech.guthub.io\"> Tal Daniel</a>\n",
    "\n",
    "## Tutorial 03 - Optimization & Gradient Descent Algorithms\n",
    "---"
   ]
  },
  {
   "cell_type": "markdown",
   "metadata": {
    "slideshow": {
     "slide_type": "subslide"
    }
   },
   "source": [
    "### <img src=\"https://img.icons8.com/bubbles/50/000000/checklist.png\" style=\"height:50px;display:inline\"> Agenda\n",
    "---\n",
    "\n",
    "* [Unimodal vs. Multimodal Optimization](#-Unimodal-vs.-Multimodal-Optimization)\n",
    "* [Convexity](#-Convexity)\n",
    "* [Optimality Conditions](#-Optimality-Conditions)\n",
    "* [(Batch) Gradient Descent](#(Batch)-Gradient-Descent)\n",
    "* [Stochastic Gradient Descent (Mini Batch Gradient Descent)](#Stochastic-Gradient-Descent-(Mini-Batch-Gradient-Descent))\n",
    "* [GD Comparison Summary](#GD-Comparison-Summary)\n",
    "* [The Learning Rate](#-The-Learning-Rate)\n",
    "* [Example - (Multivariate) Linear Least Squares](#-Example---(Multivariate)-Linear-Least-Squares)\n",
    "* [Learning Rate Scheduling (Annealing)](#-Learning-Rate-Scheduling-(Annealing))\n",
    "    * [Learning Rate Scheduling in PyTorch](#-Learning-Rate-Scheduling-in-PyTorch)"
   ]
  },
  {
   "cell_type": "markdown",
   "metadata": {
    "slideshow": {
     "slide_type": "subslide"
    }
   },
   "source": [
    "* [Momentum & Nesterov Momentum](#-Momentum-&-Nesterov-Momentum)\n",
    "    * [Momentum in PyTorch](#-Momentum-in-PyTorch)\n",
    "* [Adaptive Learning Rate Methods](#-Adaptive-Learning-Rate-Methods)\n",
    "    * [Adagrad](#-Adagrad)\n",
    "        * [Adagrad in PyTorch](#-Adagrad-in-PyTorch)\n",
    "    * [RMSprop](#-RMSprop)\n",
    "        * [RMSprop in PyTorch](#-RMSprop-in-PyTorch)\n",
    "    * [Adam - Adaptive Moment Estimation](#-Adam---Adaptive-Moment-Estimation)\n",
    "        * [Adam in PyTorch](#-Adam-in-PyTorch)\n",
    "* [Comparison Between Methods](#-Comparison-Between-Methods)\n",
    "* [Recent Advances in Optimizers](#-Recent-Advances-in-Optimizers)\n",
    "    * [AdaBelief](#-AdaBelief)\n",
    "    * [MADGRAD](#-MADGRAD)\n",
    "    * [Adan](#-Adan)\n",
    "    * [Schedule-free Optimization](#-Schedule-Free-Optimization)\n",
    "\n",
    "* [Recommended Videos](#-Recommended-Videos)\n",
    "* [Credits](#-Credits)"
   ]
  },
  {
   "cell_type": "code",
   "execution_count": 1,
   "metadata": {
    "slideshow": {
     "slide_type": "skip"
    }
   },
   "outputs": [],
   "source": [
    "# imports for the tutorial\n",
    "import numpy as np\n",
    "import pandas as pd\n",
    "import matplotlib.pyplot as plt\n",
    "from mpl_toolkits.mplot3d import Axes3D\n",
    "from sklearn.model_selection import train_test_split\n",
    "%matplotlib ipympl\n",
    "# %matplotlib inline\n",
    "\n",
    "# pytorch imports\n",
    "import torch\n",
    "import torch.nn as nn\n",
    "import torchvision.transforms as transforms\n",
    "import torchvision.datasets as dsets"
   ]
  },
  {
   "cell_type": "markdown",
   "metadata": {
    "slideshow": {
     "slide_type": "subslide"
    }
   },
   "source": [
    "## <img src=\"https://img.icons8.com/cute-clipart/64/000000/minimum-value.png\" style=\"height:50px;display:inline\"> Unimodal vs. Multimodal Optimization\n",
    "---\n",
    "* **Unimodal** - only **one** optimum, that is, the *local* optimum is also global.\n",
    "\n",
    "<center><img src=\"./assets/unimodal.jpg\" style=\"height:200px\"></center>"
   ]
  },
  {
   "cell_type": "markdown",
   "metadata": {
    "slideshow": {
     "slide_type": "subslide"
    }
   },
   "source": [
    "* **Multimodal** - more than one optimum.\n",
    "  \n",
    "<center><img src=\"./assets/multimodal.jpg\" style=\"height:200px\"></center>\n",
    "\n",
    "Most search schemes are based on the assumption of **unimodal** surface. The optimum determined in such cases is called **local optimum design**.\n",
    "\n",
    "The **global optimum** is the best of all *local optimum* designs."
   ]
  },
  {
   "cell_type": "markdown",
   "metadata": {
    "slideshow": {
     "slide_type": "slide"
    }
   },
   "source": [
    "### <img src=\"https://img.icons8.com/office/80/000000/statistics.png\" style=\"height:50px;display:inline\"> Convexity\n",
    "---\n",
    "* **Definition**: $$\\forall x_1, x_2 \\in X, \\forall t \\in [0,1]: $$ $$ f(tx_1 + (1-t)x_2) \\leq tf(x_1) + (1-t)f(x_2) $$\n",
    "  \n",
    "<center><img src=\"./assets/convex_1.jpg\" style=\"height:200px\"></center>"
   ]
  },
  {
   "cell_type": "markdown",
   "metadata": {
    "slideshow": {
     "slide_type": "subslide"
    }
   },
   "source": [
    "<center><img src=\"./assets/convex_concave.gif\" style=\"height:200px\"></center>\n",
    "\n",
    "<a href=\"http://mathworld.wolfram.com/Convex.html\">Image Source</a>"
   ]
  },
  {
   "cell_type": "markdown",
   "metadata": {
    "slideshow": {
     "slide_type": "subslide"
    }
   },
   "source": [
    "* Convex functions are **unimodal**.\n",
    "    * However, unimodal functions are not always convex, but they are usually still easy to optimize.\n",
    "      \n",
    "<center><img src=\"./assets/convex_2.jpg\" style=\"height:200px\"></center>"
   ]
  },
  {
   "cell_type": "markdown",
   "metadata": {
    "slideshow": {
     "slide_type": "slide"
    }
   },
   "source": [
    "## <img src=\"https://img.icons8.com/dusk/64/000000/copyleft.png\" style=\"height:50px;display:inline\"> Optimality Conditions\n",
    "---\n",
    "* If $f: \\mathbb{R}^d \\to \\mathbb{R}$ has *local* optimum at $x_0$ then $\\nabla f(x_0) = 0$. \n",
    "    * $\\nabla f(x_0)$ is also called **the gradient** at $x_0$.\n",
    "* **The Hessian Matrix** : $H(f)(x)_{i,j} = \\frac{\\partial^2}{\\partial x_i \\partial x_j} f(x) \\in \\mathbb{R}^{d \\times d}$\n",
    "$$ H = \\begin{bmatrix} \\frac{\\partial^2 f}{\\partial x_1^2} & \\frac{\\partial^2 f}{\\partial x_1 \\partial x_2} & \\cdots & \\frac{\\partial^2 f}{\\partial x_1 \\partial x_d}  \\\\ \\frac{\\partial^2 f}{\\partial x_2 x_1} & \\frac{\\partial^2 f}{\\partial x_2^2} & \\cdots & \\frac{\\partial^2 f}{\\partial x_2 \\partial x_d}  \\\\ \\vdots  & \\vdots  & \\ddots & \\vdots  \\\\ \\frac{\\partial^2 f}{\\partial x_d x_1} & \\frac{\\partial^2 f}{\\partial x_d \\partial x_2} & \\cdots & \\frac{\\partial^2 f}{\\partial x_d^2}  \\end{bmatrix} $$"
   ]
  },
  {
   "cell_type": "markdown",
   "metadata": {
    "slideshow": {
     "slide_type": "subslide"
    }
   },
   "source": [
    "* If the **Hessian** matrix is:\n",
    "    * **Positive Definite** (all eigenvalues *positive*) at $x_0 \\rightarrow$ *local minimum*.\n",
    "    * **Negative Definite** (all eigenvalues *negative*) at $x_0 \\rightarrow$ *local maximum*.\n",
    "    * Both **positive and negative** eigenvalues at $x_0 \\rightarrow$ *saddle* point.\n",
    "      <center><img src=\"./assets/saddle.jpg\" style=\"height:100px\"></center>\n",
    "* Note: the Hessian matrix is symmetric if the second partial derivatives are continuous, but this is not always true (<a href=\"https://en.wikipedia.org/wiki/Symmetry_of_second_derivatives\">Schwarz's theorem</a>)."
   ]
  },
  {
   "cell_type": "markdown",
   "metadata": {
    "slideshow": {
     "slide_type": "slide"
    }
   },
   "source": [
    "## <img src=\"https://img.icons8.com/dusk/64/000000/treasure-map.png\" style=\"height:50px;display:inline\">(Batch) Gradient Descent\n",
    "---\n",
    "* Generic optimization algorithm capable of finding optimal solutions to a wide range of problems.\n",
    "* The general idea is to tweak parameters **iteratively** to minimize a cost function.\n",
    "* It measures the local gradient of the error function with regards to the parameter vector ($\\theta$ or $w$), and it goes down in the direction of the descending gradient.\n",
    "* **Once the gradient is zero - the minimum is reached (=convergence)**."
   ]
  },
  {
   "cell_type": "markdown",
   "metadata": {
    "slideshow": {
     "slide_type": "subslide"
    }
   },
   "source": [
    "* **Pseudocode**:\n",
    "    * **Require**: Learning rate $\\alpha_k$\n",
    "    * **Require**: Initial parameter vector $w$\n",
    "    * **While** stopping criterion not met **do**\n",
    "        * Compute gradient: $g \\leftarrow \\nabla_w f(x,w)$ \n",
    "        * Apply update: $w \\leftarrow w - \\alpha_k g$\n",
    "        * $k \\leftarrow k + 1$\n",
    "    * **end while**"
   ]
  },
  {
   "cell_type": "markdown",
   "metadata": {
    "slideshow": {
     "slide_type": "subslide"
    }
   },
   "source": [
    "<center><img src=\"./assets/minimum.jpg\" style=\"height:200px\"></center>\n",
    "\n",
    "* **Convergene**: When the cost function is *convex* and its slope does not change abruptly, (Batch) GD with a (small enough) *fixed* learning rate will eventually converge to the optimal solution (but the time is depndent on the rate)."
   ]
  },
  {
   "cell_type": "markdown",
   "metadata": {},
   "source": [
    "<center><img src=\"./assets/gd_animation.gif\" style=\"height:200px\"></center>\n",
    "\n",
    "<a href=\"https://commons.wikimedia.org/wiki/File:Gradient_descent.gif\">Image Source</a>"
   ]
  },
  {
   "cell_type": "markdown",
   "metadata": {
    "slideshow": {
     "slide_type": "slide"
    }
   },
   "source": [
    "### <img src=\"https://img.icons8.com/dusk/64/000000/waypoint-map.png\" style=\"height:50px;display:inline\">Stochastic Gradient Descent (Mini-Batch Gradient Descent)\n",
    "---\n",
    "* The main problem with (Batch) GD is that it uses the **whole** training set to compute the gradients. But what if that training set is huge or each sample has a very large number of features? Computing the gradient can take a very long time.\n",
    "* *Stochastic* Gradient Descent on the other hand, samples just one instance randomly at every step and computes the gradients based on that single instance (remember the Perceptron algorithm?). This makes the algorithm much faster but due to its randomness, it is much less stable. Instead of steady decreasing untill reaching the minimum, the cost function will bounce up and down, **decreasing only on average**. With time, it will get *very close* to the minimum, but once it is there it will continue to bounce around!\n",
    "    * When we have outliers, SGD may take us to undesirable areas.\n",
    "* The final parameters are good but **not optimal**."
   ]
  },
  {
   "cell_type": "markdown",
   "metadata": {
    "slideshow": {
     "slide_type": "subslide"
    }
   },
   "source": [
    "* When the cost function is very irregular, this bouncing can actually **help the algorithm escape local minima**, so SGD has better chance to find the *global* minimum.\n",
    "* How to find optimal parameters using SGD?\n",
    "    * **Reduce the learning rate gradually**: this is called *learning rate scheduling*.\n",
    "        * But don't reduce too quickly or you will get stuck at a local minimum or even frozen!\n",
    "* *Mini-Batch* Gradient Descent - same idea as SGD, but instead of one instance each step, $m$ samples.\n",
    "    * Get a little bit closer to the minimum than SGD but a little harder to escape local minima."
   ]
  },
  {
   "cell_type": "markdown",
   "metadata": {
    "slideshow": {
     "slide_type": "subslide"
    }
   },
   "source": [
    "* **Pseudocode**:\n",
    "    * **Require**: Learning rate $\\alpha_k$\n",
    "    * **Require**: Initial parameter $w$\n",
    "    * **While** stopping criterion not met **do**\n",
    "        * Sample a minibatch of $m$ examples from the training set ($m=1$ for SGD)\n",
    "        * Set $\\{x_1,...,x_m,\\}$ with corresponding targets $\\{y_1,...,y_m\\}$\n",
    "        * Compute gradient: $g \\leftarrow \\frac{1}{m} \\sum_{i=1}^m f'(x_i,w, y_i)$\n",
    "        * Apply update: $w \\leftarrow w - \\alpha_k g$\n",
    "        * $k \\leftarrow k + 1$\n",
    "    * **end while**"
   ]
  },
  {
   "cell_type": "markdown",
   "metadata": {
    "slideshow": {
     "slide_type": "subslide"
    }
   },
   "source": [
    "<center><img src=\"./assets/sgd.png\" style=\"height:250px\"></center>\n",
    "\n",
    "<a href=\"https://towardsdatascience.com/gradient-descent-algorithm-and-its-variants-10f652806a3\">Image Source</a>"
   ]
  },
  {
   "cell_type": "markdown",
   "metadata": {
    "slideshow": {
     "slide_type": "slide"
    }
   },
   "source": [
    "#### GD Comparison Summary\n",
    "---\n",
    "\n",
    "| Method|Accuracy | Update Speed | Memory Usage |Online Learning |\n",
    "|---|---|---|---|---|\n",
    "| **Batch** Gradient Descent | Good | Slow |  High | No |\n",
    "| **Stochastic** Gradient Descent |  Good (with softening) | Fast |  Low |  Yes |\n",
    "| **Mini-Batch** Gradient Descent | Good | Medium | Medium | Yes (depends on the MB size) |\n",
    "\n",
    "\n",
    "* **\"Online\"** - samples arrive while the algorithm runs (that is, when the algorithm starts running, not all samples exist)\n",
    "* Note: all the Gradient Descent algorithms require **scaling** if the features are not within the same range!"
   ]
  },
  {
   "cell_type": "markdown",
   "metadata": {},
   "source": [
    "#### Update Speed\n",
    "---\n",
    "* Assume: number of samples $M=100$ and we wish to train for $N=10$ epochs (iterating over all of the samples 10 times).\n",
    "* Denote `batch_size` with $m$.\n",
    "* `batch_size` and `num_epochs` are **hyper-parameters**: parameters that are chosen by the user prior to the training stage, they are not learned.\n",
    "\n",
    "| Method|# Gradients Updates (=iterations) |\n",
    "|-------|----------------------------------|\n",
    "| **Batch** Gradient Descent, $m=100$| $\\frac{M}{m} \\cdot N = 1 * 10$ |\n",
    "| **Stochastic** Gradient Descent, $m=1$ |  $\\frac{M}{m} \\cdot N =100 * 10 = 1000$ |\n",
    "| **Mini-Batch** Gradient Descent, $m=10$ | $\\frac{M}{m} \\cdot N =10 * 10 = 100$ |\n",
    "\n",
    "* The update speed affects how we tune the **learning rate**, which is also a hyper-parameter (usually, larger batches enable using higher learning rates)."
   ]
  },
  {
   "cell_type": "markdown",
   "metadata": {
    "slideshow": {
     "slide_type": "subslide"
    }
   },
   "source": [
    "#### Challenges\n",
    "---\n",
    "* Choosing a **learning rate**.\n",
    "    * Defining **learning schedule**.\n",
    "* Working with features of different scales (e.g. heights (cm), weights (kg) and age (scalar)).\n",
    "* Avoiding **local minima** (or *suboptimal* minima)."
   ]
  },
  {
   "cell_type": "markdown",
   "metadata": {
    "slideshow": {
     "slide_type": "subslide"
    }
   },
   "source": [
    "###  <img src=\"https://img.icons8.com/fluent/96/000000/sample-rate.png\" style=\"height:50px;display:inline\"> The Learning Rate\n",
    "---\n",
    "* **Learning Rate** hyper-parameter - it is the size of step to be taken in each iteration.\n",
    "    * Too *small* $\\rightarrow$ the algorithm will have to go through many iterations to converge, which will take a long time.\n",
    "    * Too *high* $\\rightarrow$ might make the algorithm diverge as it may miss the minimum.\n",
    "<center><img src=\"./assets/lr.png\" style=\"height:250px\"></center>\n",
    "\n",
    "<a href=\"https://www.jeremyjordan.me/nn-learning-rate/\">Image Source</a>"
   ]
  },
  {
   "cell_type": "markdown",
   "metadata": {},
   "source": [
    "<center><img src=\"./assets/gd_converge_diverge.gif\" style=\"height:300px\"></center>\n",
    "\n",
    "<a href=\"https://towardsai.net/p/machine-learning/analysis-of-learning-rate-in-gradient-descent-algorithm-using-python\">Image Source</a>"
   ]
  },
  {
   "cell_type": "markdown",
   "metadata": {
    "slideshow": {
     "slide_type": "subslide"
    }
   },
   "source": [
    "### <img src=\"https://img.icons8.com/dusk/64/000000/classroom.png\" style=\"height:50px;display:inline\"> Example - (Multivariate) Linear Least Squares\n",
    "---\n",
    "* **Problem Formulation**\n",
    "    * $y \\in \\mathbb{R}^N$ - vector of values.\n",
    "    * $X \\in \\mathbb{R}^{N \\times L}$ - data matrix with $N$ examples and *$L$ features*.\n",
    "    * $w \\in \\mathbb{R}^L$ - the *parameters* to be learned, a **weight for each feature**.\n",
    "* **Goal**: find $w$ that best fits the measurement y, that is, find a *weighted linear combination* of the feature vector to best fit the measurment $y$.\n",
    "* Mathematiacally, the problem is:\n",
    "$$\\min_w f(w;x,y) = \\min_w \\sum_{i=1}^N||x_i w-y_i||^2 $$\n",
    "* In vector form:\n",
    "$$\\min_w f(w;x,y) = \\min_w ||Xw - Y||^2 $$"
   ]
  },
  {
   "cell_type": "markdown",
   "metadata": {
    "slideshow": {
     "slide_type": "subslide"
    }
   },
   "source": [
    "#### <img src=\"https://img.icons8.com/dusk/64/000000/idea.png\" style=\"height:30px;display:inline\">   (Multivariate) LLS - Analytical Solution\n",
    "---\n",
    "* Mathematically:\n",
    "$$\\min_w f(w;x,y) = \\min_w ||Xw - Y||^2 = \\min_w (Xw-Y)^T(Xw-Y)= \\min_w (w^TX^TXw -2w^TX^TY + Y^TY)$$\n",
    "* The derivative: \n",
    "$$\\nabla_w f(w;x,y) = (X^TX + X^TX)w -2X^TY = 0 \\rightarrow w=(X^TX)^{-1}X^TY $$ $$X^TX \\in \\mathbb{R}^{L \\times L} $$\n",
    "\n",
    "* Notice how the gradient is dependent on the features, which is why scaling them is important when applying gradient descent (however, scaling is not necessary if we use the closed-form solution, the least-squares solution)."
   ]
  },
  {
   "cell_type": "code",
   "execution_count": 2,
   "metadata": {
    "slideshow": {
     "slide_type": "subslide"
    }
   },
   "outputs": [
    {
     "data": {
      "text/html": [
       "<div>\n",
       "<style scoped>\n",
       "    .dataframe tbody tr th:only-of-type {\n",
       "        vertical-align: middle;\n",
       "    }\n",
       "\n",
       "    .dataframe tbody tr th {\n",
       "        vertical-align: top;\n",
       "    }\n",
       "\n",
       "    .dataframe thead th {\n",
       "        text-align: right;\n",
       "    }\n",
       "</style>\n",
       "<table border=\"1\" class=\"dataframe\">\n",
       "  <thead>\n",
       "    <tr style=\"text-align: right;\">\n",
       "      <th></th>\n",
       "      <th>id</th>\n",
       "      <th>diagnosis</th>\n",
       "      <th>radius_mean</th>\n",
       "      <th>texture_mean</th>\n",
       "      <th>perimeter_mean</th>\n",
       "      <th>area_mean</th>\n",
       "      <th>smoothness_mean</th>\n",
       "      <th>compactness_mean</th>\n",
       "      <th>concavity_mean</th>\n",
       "      <th>concave points_mean</th>\n",
       "      <th>...</th>\n",
       "      <th>texture_worst</th>\n",
       "      <th>perimeter_worst</th>\n",
       "      <th>area_worst</th>\n",
       "      <th>smoothness_worst</th>\n",
       "      <th>compactness_worst</th>\n",
       "      <th>concavity_worst</th>\n",
       "      <th>concave points_worst</th>\n",
       "      <th>symmetry_worst</th>\n",
       "      <th>fractal_dimension_worst</th>\n",
       "      <th>Unnamed: 32</th>\n",
       "    </tr>\n",
       "  </thead>\n",
       "  <tbody>\n",
       "    <tr>\n",
       "      <th>90</th>\n",
       "      <td>861648</td>\n",
       "      <td>B</td>\n",
       "      <td>14.620</td>\n",
       "      <td>24.02</td>\n",
       "      <td>94.57</td>\n",
       "      <td>662.7</td>\n",
       "      <td>0.08974</td>\n",
       "      <td>0.08606</td>\n",
       "      <td>0.03102</td>\n",
       "      <td>0.02957</td>\n",
       "      <td>...</td>\n",
       "      <td>29.11</td>\n",
       "      <td>102.90</td>\n",
       "      <td>803.7</td>\n",
       "      <td>0.1115</td>\n",
       "      <td>0.1766</td>\n",
       "      <td>0.09189</td>\n",
       "      <td>0.06946</td>\n",
       "      <td>0.2522</td>\n",
       "      <td>0.07246</td>\n",
       "      <td>NaN</td>\n",
       "    </tr>\n",
       "    <tr>\n",
       "      <th>35</th>\n",
       "      <td>854253</td>\n",
       "      <td>M</td>\n",
       "      <td>16.740</td>\n",
       "      <td>21.59</td>\n",
       "      <td>110.10</td>\n",
       "      <td>869.5</td>\n",
       "      <td>0.09610</td>\n",
       "      <td>0.13360</td>\n",
       "      <td>0.13480</td>\n",
       "      <td>0.06018</td>\n",
       "      <td>...</td>\n",
       "      <td>29.02</td>\n",
       "      <td>133.50</td>\n",
       "      <td>1229.0</td>\n",
       "      <td>0.1563</td>\n",
       "      <td>0.3835</td>\n",
       "      <td>0.54090</td>\n",
       "      <td>0.18130</td>\n",
       "      <td>0.4863</td>\n",
       "      <td>0.08633</td>\n",
       "      <td>NaN</td>\n",
       "    </tr>\n",
       "    <tr>\n",
       "      <th>101</th>\n",
       "      <td>862722</td>\n",
       "      <td>B</td>\n",
       "      <td>6.981</td>\n",
       "      <td>13.43</td>\n",
       "      <td>43.79</td>\n",
       "      <td>143.5</td>\n",
       "      <td>0.11700</td>\n",
       "      <td>0.07568</td>\n",
       "      <td>0.00000</td>\n",
       "      <td>0.00000</td>\n",
       "      <td>...</td>\n",
       "      <td>19.54</td>\n",
       "      <td>50.41</td>\n",
       "      <td>185.2</td>\n",
       "      <td>0.1584</td>\n",
       "      <td>0.1202</td>\n",
       "      <td>0.00000</td>\n",
       "      <td>0.00000</td>\n",
       "      <td>0.2932</td>\n",
       "      <td>0.09382</td>\n",
       "      <td>NaN</td>\n",
       "    </tr>\n",
       "    <tr>\n",
       "      <th>118</th>\n",
       "      <td>864877</td>\n",
       "      <td>M</td>\n",
       "      <td>15.780</td>\n",
       "      <td>22.91</td>\n",
       "      <td>105.70</td>\n",
       "      <td>782.6</td>\n",
       "      <td>0.11550</td>\n",
       "      <td>0.17520</td>\n",
       "      <td>0.21330</td>\n",
       "      <td>0.09479</td>\n",
       "      <td>...</td>\n",
       "      <td>30.50</td>\n",
       "      <td>130.30</td>\n",
       "      <td>1272.0</td>\n",
       "      <td>0.1855</td>\n",
       "      <td>0.4925</td>\n",
       "      <td>0.73560</td>\n",
       "      <td>0.20340</td>\n",
       "      <td>0.3274</td>\n",
       "      <td>0.12520</td>\n",
       "      <td>NaN</td>\n",
       "    </tr>\n",
       "    <tr>\n",
       "      <th>433</th>\n",
       "      <td>908445</td>\n",
       "      <td>M</td>\n",
       "      <td>18.820</td>\n",
       "      <td>21.97</td>\n",
       "      <td>123.70</td>\n",
       "      <td>1110.0</td>\n",
       "      <td>0.10180</td>\n",
       "      <td>0.13890</td>\n",
       "      <td>0.15940</td>\n",
       "      <td>0.08744</td>\n",
       "      <td>...</td>\n",
       "      <td>30.93</td>\n",
       "      <td>145.30</td>\n",
       "      <td>1603.0</td>\n",
       "      <td>0.1390</td>\n",
       "      <td>0.3463</td>\n",
       "      <td>0.39120</td>\n",
       "      <td>0.17080</td>\n",
       "      <td>0.3007</td>\n",
       "      <td>0.08314</td>\n",
       "      <td>NaN</td>\n",
       "    </tr>\n",
       "    <tr>\n",
       "      <th>530</th>\n",
       "      <td>91858</td>\n",
       "      <td>B</td>\n",
       "      <td>11.750</td>\n",
       "      <td>17.56</td>\n",
       "      <td>75.89</td>\n",
       "      <td>422.9</td>\n",
       "      <td>0.10730</td>\n",
       "      <td>0.09713</td>\n",
       "      <td>0.05282</td>\n",
       "      <td>0.04440</td>\n",
       "      <td>...</td>\n",
       "      <td>27.98</td>\n",
       "      <td>88.52</td>\n",
       "      <td>552.3</td>\n",
       "      <td>0.1349</td>\n",
       "      <td>0.1854</td>\n",
       "      <td>0.13660</td>\n",
       "      <td>0.10100</td>\n",
       "      <td>0.2478</td>\n",
       "      <td>0.07757</td>\n",
       "      <td>NaN</td>\n",
       "    </tr>\n",
       "    <tr>\n",
       "      <th>525</th>\n",
       "      <td>91805</td>\n",
       "      <td>B</td>\n",
       "      <td>8.571</td>\n",
       "      <td>13.10</td>\n",
       "      <td>54.53</td>\n",
       "      <td>221.3</td>\n",
       "      <td>0.10360</td>\n",
       "      <td>0.07632</td>\n",
       "      <td>0.02565</td>\n",
       "      <td>0.01510</td>\n",
       "      <td>...</td>\n",
       "      <td>18.45</td>\n",
       "      <td>63.30</td>\n",
       "      <td>275.6</td>\n",
       "      <td>0.1641</td>\n",
       "      <td>0.2235</td>\n",
       "      <td>0.17540</td>\n",
       "      <td>0.08512</td>\n",
       "      <td>0.2983</td>\n",
       "      <td>0.10490</td>\n",
       "      <td>NaN</td>\n",
       "    </tr>\n",
       "    <tr>\n",
       "      <th>42</th>\n",
       "      <td>855625</td>\n",
       "      <td>M</td>\n",
       "      <td>19.070</td>\n",
       "      <td>24.81</td>\n",
       "      <td>128.30</td>\n",
       "      <td>1104.0</td>\n",
       "      <td>0.09081</td>\n",
       "      <td>0.21900</td>\n",
       "      <td>0.21070</td>\n",
       "      <td>0.09961</td>\n",
       "      <td>...</td>\n",
       "      <td>33.17</td>\n",
       "      <td>177.40</td>\n",
       "      <td>1651.0</td>\n",
       "      <td>0.1247</td>\n",
       "      <td>0.7444</td>\n",
       "      <td>0.72420</td>\n",
       "      <td>0.24930</td>\n",
       "      <td>0.4670</td>\n",
       "      <td>0.10380</td>\n",
       "      <td>NaN</td>\n",
       "    </tr>\n",
       "    <tr>\n",
       "      <th>497</th>\n",
       "      <td>914580</td>\n",
       "      <td>B</td>\n",
       "      <td>12.470</td>\n",
       "      <td>17.31</td>\n",
       "      <td>80.45</td>\n",
       "      <td>480.1</td>\n",
       "      <td>0.08928</td>\n",
       "      <td>0.07630</td>\n",
       "      <td>0.03609</td>\n",
       "      <td>0.02369</td>\n",
       "      <td>...</td>\n",
       "      <td>24.34</td>\n",
       "      <td>92.82</td>\n",
       "      <td>607.3</td>\n",
       "      <td>0.1276</td>\n",
       "      <td>0.2506</td>\n",
       "      <td>0.20280</td>\n",
       "      <td>0.10530</td>\n",
       "      <td>0.3035</td>\n",
       "      <td>0.07661</td>\n",
       "      <td>NaN</td>\n",
       "    </tr>\n",
       "    <tr>\n",
       "      <th>337</th>\n",
       "      <td>897630</td>\n",
       "      <td>M</td>\n",
       "      <td>18.770</td>\n",
       "      <td>21.43</td>\n",
       "      <td>122.90</td>\n",
       "      <td>1092.0</td>\n",
       "      <td>0.09116</td>\n",
       "      <td>0.14020</td>\n",
       "      <td>0.10600</td>\n",
       "      <td>0.06090</td>\n",
       "      <td>...</td>\n",
       "      <td>34.37</td>\n",
       "      <td>161.10</td>\n",
       "      <td>1873.0</td>\n",
       "      <td>0.1498</td>\n",
       "      <td>0.4827</td>\n",
       "      <td>0.46340</td>\n",
       "      <td>0.20480</td>\n",
       "      <td>0.3679</td>\n",
       "      <td>0.09870</td>\n",
       "      <td>NaN</td>\n",
       "    </tr>\n",
       "  </tbody>\n",
       "</table>\n",
       "<p>10 rows × 33 columns</p>\n",
       "</div>"
      ],
      "text/plain": [
       "         id diagnosis  radius_mean  texture_mean  perimeter_mean  area_mean  \\\n",
       "90   861648         B       14.620         24.02           94.57      662.7   \n",
       "35   854253         M       16.740         21.59          110.10      869.5   \n",
       "101  862722         B        6.981         13.43           43.79      143.5   \n",
       "118  864877         M       15.780         22.91          105.70      782.6   \n",
       "433  908445         M       18.820         21.97          123.70     1110.0   \n",
       "530   91858         B       11.750         17.56           75.89      422.9   \n",
       "525   91805         B        8.571         13.10           54.53      221.3   \n",
       "42   855625         M       19.070         24.81          128.30     1104.0   \n",
       "497  914580         B       12.470         17.31           80.45      480.1   \n",
       "337  897630         M       18.770         21.43          122.90     1092.0   \n",
       "\n",
       "     smoothness_mean  compactness_mean  concavity_mean  concave points_mean  \\\n",
       "90           0.08974           0.08606         0.03102              0.02957   \n",
       "35           0.09610           0.13360         0.13480              0.06018   \n",
       "101          0.11700           0.07568         0.00000              0.00000   \n",
       "118          0.11550           0.17520         0.21330              0.09479   \n",
       "433          0.10180           0.13890         0.15940              0.08744   \n",
       "530          0.10730           0.09713         0.05282              0.04440   \n",
       "525          0.10360           0.07632         0.02565              0.01510   \n",
       "42           0.09081           0.21900         0.21070              0.09961   \n",
       "497          0.08928           0.07630         0.03609              0.02369   \n",
       "337          0.09116           0.14020         0.10600              0.06090   \n",
       "\n",
       "     ...  texture_worst  perimeter_worst  area_worst  smoothness_worst  \\\n",
       "90   ...          29.11           102.90       803.7            0.1115   \n",
       "35   ...          29.02           133.50      1229.0            0.1563   \n",
       "101  ...          19.54            50.41       185.2            0.1584   \n",
       "118  ...          30.50           130.30      1272.0            0.1855   \n",
       "433  ...          30.93           145.30      1603.0            0.1390   \n",
       "530  ...          27.98            88.52       552.3            0.1349   \n",
       "525  ...          18.45            63.30       275.6            0.1641   \n",
       "42   ...          33.17           177.40      1651.0            0.1247   \n",
       "497  ...          24.34            92.82       607.3            0.1276   \n",
       "337  ...          34.37           161.10      1873.0            0.1498   \n",
       "\n",
       "     compactness_worst  concavity_worst  concave points_worst  symmetry_worst  \\\n",
       "90              0.1766          0.09189               0.06946          0.2522   \n",
       "35              0.3835          0.54090               0.18130          0.4863   \n",
       "101             0.1202          0.00000               0.00000          0.2932   \n",
       "118             0.4925          0.73560               0.20340          0.3274   \n",
       "433             0.3463          0.39120               0.17080          0.3007   \n",
       "530             0.1854          0.13660               0.10100          0.2478   \n",
       "525             0.2235          0.17540               0.08512          0.2983   \n",
       "42              0.7444          0.72420               0.24930          0.4670   \n",
       "497             0.2506          0.20280               0.10530          0.3035   \n",
       "337             0.4827          0.46340               0.20480          0.3679   \n",
       "\n",
       "     fractal_dimension_worst  Unnamed: 32  \n",
       "90                   0.07246          NaN  \n",
       "35                   0.08633          NaN  \n",
       "101                  0.09382          NaN  \n",
       "118                  0.12520          NaN  \n",
       "433                  0.08314          NaN  \n",
       "530                  0.07757          NaN  \n",
       "525                  0.10490          NaN  \n",
       "42                   0.10380          NaN  \n",
       "497                  0.07661          NaN  \n",
       "337                  0.09870          NaN  \n",
       "\n",
       "[10 rows x 33 columns]"
      ]
     },
     "execution_count": 2,
     "metadata": {},
     "output_type": "execute_result"
    }
   ],
   "source": [
    "# let's load the cancer dataset\n",
    "dataset = pd.read_csv('./datasets/cancer_dataset.csv')\n",
    "# print the number of rows in the data set\n",
    "number_of_rows = len(dataset)\n",
    "# reminder, the data looks like this\n",
    "dataset.sample(10)"
   ]
  },
  {
   "cell_type": "code",
   "execution_count": 3,
   "metadata": {
    "slideshow": {
     "slide_type": "skip"
    }
   },
   "outputs": [],
   "source": [
    "def plot_3d_lls(x, y, z, lls_sol, title=\"\"):\n",
    "    # plot\n",
    "    fig = plt.figure(figsize=(5, 5))\n",
    "    ax = fig.add_subplot(111, projection='3d')\n",
    "    ax.scatter(x, y, z, label='Y')\n",
    "    ax.scatter(x, y, lls_sol, label='Xw')\n",
    "    ax.legend()\n",
    "    ax.set_xlabel('Radius Mean')\n",
    "    ax.set_ylabel('Area Mean')\n",
    "    ax.set_zlabel('Perimeter Mean')\n",
    "    ax.set_title(title)"
   ]
  },
  {
   "cell_type": "code",
   "execution_count": 4,
   "metadata": {
    "slideshow": {
     "slide_type": "skip"
    }
   },
   "outputs": [],
   "source": [
    "def batch_generator(x, y, batch_size, shuffle=True):\n",
    "    \"\"\"\n",
    "    This function generates batches for a given dataset x.\n",
    "    \"\"\"\n",
    "    N, L = x.shape\n",
    "    num_batches = N // batch_size\n",
    "    batch_x = []\n",
    "    batch_y = []\n",
    "    if shuffle:\n",
    "        # shuffle\n",
    "        rand_gen = np.random.RandomState(0)\n",
    "        shuffled_indices = rand_gen.permutation(np.arange(N))\n",
    "        x = x[shuffled_indices, :]\n",
    "        y = y[shuffled_indices, :]\n",
    "    for i in range(N):\n",
    "        batch_x.append(x[i, :])\n",
    "        batch_y.append(y[i, :])\n",
    "        if len(batch_x) == batch_size:\n",
    "            yield np.array(batch_x).reshape(batch_size, L), np.array(batch_y).reshape(batch_size, 1)\n",
    "            batch_x = []\n",
    "            batch_y = []\n",
    "    if batch_x:\n",
    "        yield np.array(batch_x).reshape(-1, L), np.array(batch_y).reshape(-1, 1)"
   ]
  },
  {
   "cell_type": "markdown",
   "metadata": {
    "slideshow": {
     "slide_type": "subslide"
    }
   },
   "source": [
    "* **Pseudocode** for Linear Regression:\n",
    "    * **Require**: Learning rate $\\alpha_k$\n",
    "    * **Require**: Initial parameter $w$\n",
    "    * **While** stopping criterion not met **do**\n",
    "        * Sample a minibatch of $m$ examples from the training set ($m=1$ for SGD)\n",
    "        * Set $\\tilde{X} = [x_1,...,x_m] $ with corresponding targets $\\tilde{Y} = [y_1,...,y_m]$\n",
    "        * Compute gradient: $g \\leftarrow 2\\tilde{X}^T\\tilde{X}w - 2\\tilde{X}^T \\tilde{Y}$\n",
    "        * Apply update: $w \\leftarrow w - \\alpha_k g$\n",
    "        * $k \\leftarrow k + 1$\n",
    "    * **end while**"
   ]
  },
  {
   "cell_type": "code",
   "execution_count": 5,
   "metadata": {
    "slideshow": {
     "slide_type": "subslide"
    }
   },
   "outputs": [
    {
     "name": "stdout",
     "output_type": "stream",
     "text": [
      "total batches: 56\n"
     ]
    }
   ],
   "source": [
    "# multivaraite mini-batch gradient descent\n",
    "X = dataset[['radius_mean', 'area_mean']].values\n",
    "Y = dataset[['perimeter_mean']].values\n",
    "# Scaling\n",
    "X = (X - X.mean(axis=0, keepdims=True)) / X.std(axis=0, keepdims=True)\n",
    "Y = (Y - Y.mean(axis=0, keepdims=True)) / Y.std(axis=0, keepdims=True)\n",
    "N = X.shape[0]\n",
    "batch_size = 10\n",
    "num_batches = N // batch_size\n",
    "print(\"total batches:\", num_batches)"
   ]
  },
  {
   "cell_type": "code",
   "execution_count": 6,
   "metadata": {
    "slideshow": {
     "slide_type": "subslide"
    }
   },
   "outputs": [
    {
     "name": "stdout",
     "output_type": "stream",
     "text": [
      "iter: 0 batch: 0  w = \n",
      "[[0.]\n",
      " [0.]]\n",
      "iter: 0 batch: 50  w = \n",
      "[[0.4391737 ]\n",
      " [0.41735388]]\n",
      "iter: 1 batch: 0  w = \n",
      "[[0.45621431]\n",
      " [0.43296123]]\n",
      "iter: 1 batch: 50  w = \n",
      "[[0.50458588]\n",
      " [0.46953377]]\n",
      "iter: 2 batch: 0  w = \n",
      "[[0.50659246]\n",
      " [0.46976394]]\n",
      "iter: 2 batch: 50  w = \n",
      "[[0.51664408]\n",
      " [0.46913792]]\n",
      "iter: 3 batch: 0  w = \n",
      "[[0.51715596]\n",
      " [0.46786206]]\n",
      "iter: 3 batch: 50  w = \n",
      "[[0.52339741]\n",
      " [0.46367398]]\n",
      "iter: 4 batch: 0  w = \n",
      "[[0.52374047]\n",
      " [0.4622501 ]]\n",
      "iter: 4 batch: 50  w = \n",
      "[[0.5295512 ]\n",
      " [0.45779193]]\n",
      "iter: 5 batch: 0  w = \n",
      "[[0.52985556]\n",
      " [0.456353  ]]\n",
      "iter: 5 batch: 50  w = \n",
      "[[0.53556725]\n",
      " [0.45194588]]\n",
      "iter: 6 batch: 0  w = \n",
      "[[0.53584598]\n",
      " [0.45050492]]\n",
      "iter: 6 batch: 50  w = \n",
      "[[0.54149192]\n",
      " [0.44617918]]\n",
      "iter: 7 batch: 0  w = \n",
      "[[0.54174661]\n",
      " [0.44473749]]\n",
      "iter: 7 batch: 50  w = \n",
      "[[0.54733087]\n",
      " [0.44049501]]\n",
      "iter: 8 batch: 0  w = \n",
      "[[0.54756198]\n",
      " [0.43905271]]\n",
      "iter: 8 batch: 50  w = \n",
      "[[0.55308576]\n",
      " [0.43489257]]\n",
      "iter: 9 batch: 0  w = \n",
      "[[0.55329364]\n",
      " [0.43344969]]\n",
      "iter: 9 batch: 50  w = \n",
      "[[0.55875783]\n",
      " [0.42937075]]\n"
     ]
    }
   ],
   "source": [
    "num_epochs = 10\n",
    "alpha_k = 0.001\n",
    "batch_gen = batch_generator(X, Y, batch_size, shuffle=True)\n",
    "L = X.shape[-1]\n",
    "# initialize w\n",
    "w = np.zeros((L, 1))\n",
    "for i in range(num_epochs):\n",
    "    for batch_i, batch in enumerate(batch_gen):\n",
    "        batch_x, batch_y = batch\n",
    "        if batch_i % 50 == 0:\n",
    "            print(\"iter:\", i, \"batch:\", batch_i, \" w = \")\n",
    "            print(w)\n",
    "        gradient = 2 * batch_x.T @ batch_x @ w - 2 * batch_x.T @ batch_y\n",
    "        w = w - alpha_k * gradient\n",
    "    batch_gen = batch_generator(X, Y, batch_size, shuffle=True)\n",
    "\n",
    "lls_sol = X @ w"
   ]
  },
  {
   "cell_type": "code",
   "execution_count": 7,
   "metadata": {
    "slideshow": {
     "slide_type": "subslide"
    }
   },
   "outputs": [
    {
     "name": "stdout",
     "output_type": "stream",
     "text": [
      "w:\n",
      "[[0.55894282]\n",
      " [0.42792729]]\n"
     ]
    },
    {
     "data": {
      "application/vnd.jupyter.widget-view+json": {
       "model_id": "3560d0ab9b21404995cfd251a0d31441",
       "version_major": 2,
       "version_minor": 0
      },
      "image/png": "[encoded data removed]",
      "text/html": [
       "\n",
       "            <div style=\"display: inline-block;\">\n",
       "                <div class=\"jupyter-widgets widget-label\" style=\"text-align: center;\">\n",
       "                    Figure\n",
       "                </div>\n",
       "                <img src='data:image/png;base64,iVBORw0KGgoAAAANSUhEUgAAAfQAAAH0CAYAAADL1t+KAAAAOXRFWHRTb2Z0d2FyZQBNYXRwbG90bGliIHZlcnNpb24zLjUuMywgaHR0cHM6Ly9tYXRwbG90bGliLm9yZy/NK7nSAAAACXBIWXMAAA9hAAAPYQGoP6dpAAEAAElEQVR4nOydd3gc1dn279leJK20ktVlNduS3LstOWCb5lASSgj1pSd53xAgjYSE5CMJKQ6EUJIQIBRDCAFCCDU0U4wN2OCi3nuvu2rby5zvD3GG2dVqtVUryed3Xb4SVrtnzszOzn2e5zyFI4QQMBgMBoPBWNBIYj0BBoPBYDAY4cMEncFgMBiMRQATdAaDwWAwFgFM0BkMBoPBWAQwQWcwGAwGYxHABJ3BYDAYjEUAE3QGg8FgMBYBTNAZDAaDwVgEMEFnMBgMBmMRwASdwWAwGIxFABN0BoPBYDAWAUzQGQwGg8FYBDBBZzAYDAZjEcAEncFgMBiMRQATdAaDwWAwFgFM0BkMBoPBWAQwQWcwGAwGYxHABJ3BYDAYjEUAE3QGg8FgMBYBTNAZDAaDwVgEMEFnMBgMBmMRwASdwWAwGIxFABN0BoPBYDAWAUzQGQwGg8FYBDBBZzAYDAZjEcAEncFgMBiMRQATdAaDwWAwFgFM0BkMBoPBWAQwQWcwGAwGYxHABJ3BYDAYjEUAE3QGg8FgMBYBTNAZDAaDwVgEMEFnMBgMBmMRwASdwWAwGIxFABN0BoPBYDAWAUzQGQwGg8FYBDBBZzAYDAZjEcAEncFgMBiMRQATdAaDwWAwFgELQtA7OjrAcZzwTyKRICkpCaeffjreeeediB9v165d2LVr17TjP/nkkxE/lj/y8vLAcZzHXMT8/e9/F67JgQMH5nRuC4nq6mpwHAe5XI7+/v5YT8cnv/zlL4V7u62tbdrfzWYzEhISwHEcrr322rmf4Dxn165dHs8ItVqNdevW4f777wfP8xE7TqyeBZTf/e53ePnll+f0mCfrcygvLw/nnXee3/dce+21iIuLm3WsTz/9FBdeeCGWLl0KpVKJtLQ0lJaW4oc//OGsnw3m2bAgBJ1y88034/Dhwzh06BDuueceNDc345xzzsHBgwejetyMjAwcPnwY5557blSP44v4+HgcPHgQra2t0/72xBNPICEhYc7ntNB47LHHAAAulwt///vfYzwb/8TFxWHfvn3TXn/hhRfgdDohl8tjMKuFQUFBAQ4fPozDhw/j+eefR1ZWFr7//e/jpz/9acSOEctnARAbQQfYcygc/vvf/6KsrAwTExO4++678c477+CBBx7Ajh078Pzzzwc8TiDPhqgKusViieh4S5cuxfbt27Fjxw7ccMMN+Mc//gG3243HH388osfxRqlUYvv27ViyZElUj+OLL33pS8jKysITTzzh8XpraysOHjyISy+9dM7ntJCw2+145plnsG7dOp/X0R9WqzWKM/PNpZdeiqeeemqaVfn444/jwgsvhEKhmPM5LRTUajW2b9+O7du346tf/SpeeeUVFBQU4C9/+QucTmdYY7vdbtjt9pg+C6IFPTd/sOdQ6Nx9993Iz8/H22+/jcsuuww7d+7EZZddhnvuuQddXV0BjxPIs0Fy5513oqSkBCqVCsnJydi9ezc++eQT4c2EEPz1r3/F+vXroVarkZSUhIsvvnia6b9r1y6sXr0aBw8eRFlZGTQaDa6//vrwrsQsbN68GQAwODjo8fqDDz6IU089FampqdBqtVizZg3uvvvuaT9qQgjuvvtu5ObmQqVSYePGjXjzzTenHceXm+3aa69FXl7etPdS94iYF154Adu2bYNOp4NGo0FBQUHA10YikeDqq6+e9kU+8cQTyMnJwRlnnOHzc8eOHcNXv/pV6PV6qFQqbNiwAf/617883jM8PIwbb7wRK1euRFxcHFJTU3Haaafh0KFDPs//nnvuwb333ov8/HzExcWhtLQUR44c8Tv/yspKcBznc9H15ptvguM4vPrqq8J8vvWtbyEnJwdKpRJLlizBjh078O677wZ0rXzx8ssvw2Aw4Bvf+AauueYaNDU14aOPPpr2Pupe+89//oMNGzZApVLhV7/6FQBgYGAA//u//4vs7GwoFArk5+fjV7/6FVwul8cYv/rVr7Bt2zbo9XokJCRg48aNePzxx0EICXi+119/Pbq7u7F//37hNTrnme6ZiYkJ3HrrrcjPz4dCoUBWVha+973vwWw2e7wv0N8F/S0fPXoUp5xyinDP/v73v5/Vfb1hwwaccsop0153u93IysrCRRddJLz20EMPYd26dYiLi0N8fDyKi4tx++23z3qNAkUul2PTpk2wWCwYHh4GENh3Se/3u+++G7/5zW+Qn58PpVKJDz74wOezgP7mq6qq8PWvfx06nQ56vR4/+MEP4HK50NjYiC9/+cuIj49HXl4e7r777mlzDeQ75DgOZrMZTz31lODiFrvBwz03fyz051AsMRgMSElJgUwmm/Y3iSRwmzqgZ4NMJiO33noreeONN8irr75Kbr/9dvLss88Syje/+U0il8vJD3/4Q/LWW2+Rf/7zn6S4uJikpaWRgYEB4X07d+4ker2e5OTkkD//+c/kgw8+IB9++CGJBO3t7QQA+cMf/uDxek1NDQFAbr75Zo/Xv//975OHHnqIvPXWW+T9998n9913H0lJSSHXXXedx/t+8YtfEADkhhtuIG+++Sb529/+RrKyskh6ejrZuXPntOPv27dPeO2aa64hubm50+ZKx6R88sknhOM4ctlll5E33niDvP/++2Tfvn3kqquumvW8c3NzybnnnktaWloIx3HkjTfeIIQQ4nK5SFZWFrnjjjvICy+8QACQDz74QPjc+++/TxQKBTnllFPI888/T9566y1y7bXXTjuHhoYG8u1vf5s899xz5MCBA+T1118nN9xwA5FIJB7j0fPPy8sjX/7yl8nLL79MXn75ZbJmzRqSlJRExsbG/J7Hhg0byI4dO6a9fskll5DU1FTidDoJIYTs2bOHLFmyhPztb38jBw4cIC+//DK54447yHPPPTfrtZqJM888kyiVSmI0GoXreO211057X25uLsnIyCAFBQXkiSeeIB988AH57LPPSH9/P8nJySG5ubnkkUceIe+++y759a9/TZRK5bRxrr32WvL444+T/fv3k/3795Nf//rXRK1Wk1/96lezzpPeN8PDw+SUU04hl1xyifC32267jeTl5RGe54lWqyXXXHON8Dez2UzWr19PUlJSyL333kveffdd8sADDxCdTkdOO+00wvO88N5Afxc7d+4kycnJZPny5eThhx8m+/fvJzfeeCMBQJ566im/5/HAAw8QAKSpqcnj9TfeeIMAIK+++iohhJBnn31W+O2+88475N133yUPP/wwueWWW2a9Vr7YuXMnWbVq1bTXN27cSGQyGbFYLAF/l/R+z8rKIrt37yb//ve/yTvvvEPa29t9Pgvod1dUVER+/etfk/3795Mf//jHBAC56aabSHFxMfnTn/5E9u/fT6677joCgLz44ovC5wP9Dg8fPkzUajU555xzyOHDh8nhw4dJbW0tIYRE5NxmYrE8h4KFnrc/rrnmGqLVav2+5xvf+IZwrx85coQ4HI6g5hHMswGPPvrojAMdPnyYACB//OMfPV7v7u4marWa/PjHPxZe27lzJwFA3nvvvaAmGwj0i7zrrruI0+kkNpuNVFRUkNLSUpKRkeH3ZnS73cTpdJK///3vRCqVEqPRSAghZHR0lKhUKnLhhRd6vP/jjz8mACIm6Pfccw8BENLNJr6hdu7cSS6++GJCCCH//e9/CcdxpL293ecPqbi4mGzYsEEQSsp5551HMjIyiNvt9nk8l8tFnE4nOf300z2uCz3/NWvWEJfLJbz+2WefEQAeC0Bf/OlPfyIASGNjo/Ca0WgkSqWS/PCHPxRei4uLI9/73vdmuSqB09HRQSQSCbnsssuE13bu3Em0Wi2ZmJjweG9ubi6RSqUecySEkP/93/8lcXFxpLOz0+N1+r3SB6o39L678847SXJysoew+kL8o923bx9RKpXEYDAQl8tFMjIyyC9/+UtCCJkm6Hv37iUSiYQcPXrUY7x///vfBIDw8J1pft6/C3qNAJBPP/3U4zMrV64ke/bs8XseIyMjRKFQkNtvv93j9UsuuYSkpaUJ9+RNN91EEhMT/Y4VDFTQnU4ncTqdpK+vj/zkJz8hAMjXv/51Qkjg3yW93wsLC6c9fP0Juvdzcv369QQA+c9//iO85nQ6yZIlS8hFF10kvBbMd+j9/VMicW4zsVieQ8ESKUEfGRkhX/rSlwgAAoDI5XJSVlZG9u7dSyYnJ2edRzDPBok/1+/rr78OjuPwP//zP3C5XMK/9PR0rFu3blpEY1JSEk477TT/foMptfMYz9t1ORO33XYb5HI5VCoV1q9fj5qaGrz22mvTXN/l5eX46le/iuTkZEilUsjlclx99dVwu91oamoCABw+fBg2mw1XXnmlx2fLysqQm5sb0HwCYcuWLQCASy65BP/617/Q29sb0jjXX389Xn31VRgMBjz++OPYvXu3T5d/S0sLGhoahPMSX+NzzjkH/f39aGxsFN7/8MMPY+PGjVCpVJDJZJDL5XjvvfdQX18/bexzzz0XUqlU+O+1a9cCADo7O/3O/corr4RSqfRwUz777LOw2+247rrrhNe2bt2KJ598Er/5zW9w5MiRsPc99+3bB57nPVzV119/Pcxms89glLVr12LFihUer73++uvYvXs3MjMzPa7l2WefDQD48MMPhfe+//77OOOMM6DT6YT77o477oDBYMDQ0FDA8/76178OhUKBZ555Bm+88QYGBgZmjGx//fXXsXr1aqxfv95jfnv27JkWdRzI74KSnp6OrVu3Trs+s33XycnJ+MpXvuLhmh0dHcUrr7yCq6++WnA7bt26FWNjY7j88svxyiuvYGRkJODrMxO1tbWQy+WQy+XIzMzEH//4R1x55ZV49NFHAQT3XQLAV7/61aCCEL0joktKSsBxnDA+AMhkMixbtszjOgbzHc5EtM+NspCfQ96aQ4LYCguH5ORkHDp0CEePHsXvf/97nH/++WhqasJPf/pTrFmzJqh7f7Zng8SfD39wcBCEEKSlpQk/FPrvyJEj0yaSkZER0KQ+/PDDaeN1dHTM+rnvfve7OHr0KD766CPcc889cDqdOP/882EwGIT3dHV14ZRTTkFvby8eeOAB4UI++OCDAL4IdKKfSU9Pn3YcX6+FyqmnnoqXX34ZLpcLV199NbKzs7F69Wo8++yzQY1z8cUXQ6VS4b777sNrr72GG264wef7aDzBrbfeOu0a33jjjQAgfG/33nsvvv3tb2Pbtm148cUXceTIERw9ehRf/vKXfQaEJScne/y3UqkEMHvwmF6vx1e/+lX8/e9/h9vtBgA8+eST2Lp1K1atWiW87/nnn8c111yDxx57DKWlpdDr9bj66qsxMDAQyCXygOd5PPnkk8jMzMSmTZswNjaGsbExnHHGGdBqtT739H3dv4ODg3jttdemXUs6b3otP/vsM5x11lkAgEcffRQff/wxjh49ip/97GcBXSMxWq0Wl156KZ544gk8/vjjOOOMM2ZcZA4ODqKqqmra/OLj40EIEeYX6O+C4v1dA1PfdyDncf3116O3t1fY66OLN/GD56qrrsITTzyBzs5OfO1rX0Nqaiq2bdvmsT8YLIWFhTh69CiOHTuGmpoajI2N4R//+Ad0Oh2AwL9LSqDPM4per/f4b4VCAY1GA5VKNe11m80m/Heg36E/on1ulIX8HPKex1NPPRXcyYfJ5s2bcdttt+GFF15AX18fvv/976Ojo8NnTMVMzPZskPE8P+PGfEpKCjiOw6FDh4SLJsb7Ne9gsJnYtGkTjh496vFaZmbmrJ/Lzs4WAuF27NiB9PR0/M///A9+8Ytf4C9/+QuAqSAos9mM//znPx4nWlFR4TEWvSl8icXAwIDPVacYlUrlMzLU14/v/PPPx/nnnw+73Y4jR45g7969uOKKK5CXl4fS0lK/x6FoNBpcdtll2Lt3LxISEjyCi8SkpKQAAH7605/O+J6ioiIAwD/+8Q/s2rULDz30kMffJycnA5pTMFx33XV44YUXsH//fixduhRHjx6ddtyUlBTcf//9uP/++9HV1YVXX30VP/nJTzA0NIS33norqOO9++67wordlzgdOXIEdXV1WLlypfCar/s3JSUFa9euxW9/+1ufx6H37XPPPQe5XI7XX3/d4wEeaorR9ddfj8ceewxVVVV45plnZnxfSkoK1Gr1jNH79H4I9HcRCfbs2YPMzEzs27cPe/bswb59+7Bt2zaPaw1M3RPXXXcdzGYzDh48iF/84hc477zz0NTUFJKXTKVSCc8HXwT6XVICfZ6FS6Df4WxjzMW5LeTnkLfm5OfnR3T8YJDL5fjFL36B++67DzU1NUF91t+zQfbkk0/OGD173nnn4fe//z16e3txySWXhDx5b+Lj4/3+8ALlyiuvxGOPPYZHH30UP/rRj5CbmyvcqOLFBiFEcLtRtm/fDpVKhWeeeQZf+9rXhNc/+eQTdHZ2ziroeXl5GBoawuDgINLS0gAADocDb7/99oyfUSqV2LlzJxITE/H222+jvLw8YEEHgG9/+9sYHBzEzp07p636KUVFRVi+fDkqKyvxu9/9zu94HMdNW5RVVVXh8OHDyMnJCXhegXDWWWchKysL+/btw9KlS6FSqXD55ZfP+P6lS5fipptuwnvvvYePP/446OM9/vjjkEgk+M9//iNYaJSenh7BQrznnnv8jnPeeefhjTfeQGFhIZKSkmZ8H8dxkMlkHq5Aq9WKp59+Oui5A0BpaSmuv/56jI+P48ILL/Q7v9/97ndITk72+4AK9HcRCaRSKa666ircf//9OHToEI4dO4ZHHnlkxvdrtVqcffbZcDgcuOCCC1BbWxvRbS9KoN/lXBPodwjM7CWZy3NbqM+hSGhOKPT39/v0iNDthECMWTH+ng2y//u//0NjYyN2794Nnufx6aefoqSkBJdddhl27NiBb33rW7juuutw7NgxnHrqqdBqtejv78dHH32ENWvW4Nvf/nboZxoB7rrrLmzbtg2//vWv8dhjj+HMM8+EQqHA5Zdfjh//+Mew2Wx46KGHMDo66vG5pKQk3HrrrfjNb36Db3zjG/j617+O7u5u/PKXvwzI5X7ppZfijjvuwGWXXYYf/ehHsNls+NOf/iS4lCl33HEHenp6cPrppyM7OxtjY2N44IEHIJfLsXPnzqDOdf369QFZfI888gjOPvts7NmzB9deey2ysrJgNBpRX1+PEydO4IUXXgAw9RD49a9/jV/84hfYuXMnGhsbceeddyI/Pz/guIZAkUqluPrqq3HvvfcKK3ux0I6Pj2P37t244oorUFxcjPj4eBw9ehRvvfWWxwr/zjvvxJ133on33ntvxutnMBjwyiuvYM+ePTj//PN9vue+++7D3//+d+zdu9fvXuKdd96J/fv3o6ysDLfccguKiopgs9nQ0dGBN954Aw8//DCys7Nx7rnn4t5778UVV1yBb33rWzAYDLjnnnt8erYCJZD6Ct/73vfw4osv4tRTT8X3v/99rF27FjzPo6urC++88w5++MMfYtu2bQH/LiLF9ddfj7vuugtXXHEF1Gr1tDzlb37zm1Cr1dixYwcyMjIwMDCAvXv3QqfTCXEnnZ2dKCwsxDXXXBORWhOBfpdzTaDfIQCsWbMGBw4cwGuvvYaMjAzEx8ejqKhoTs9tIT+HgmVgYAD//ve/p72el5cnLBDcbrfP99CF6p49e5CdnY2vfOUrKC4uBs/zqKiowB//+EfExcXhu9/9btDzmvH3cMcdd5Dly5cThUJBkpOTyWmnnUY++eQTjyi7J554gmzbto1otVqiVqtJYWEhufrqq8mxY8eE98yUNhIJZkpbo3z9618nMpmMtLS0EEIIee2118i6deuISqUiWVlZ5Ec/+hF58803p0Vh8jxP9u7dS3JycohCoSBr164lr732Gtm5c+esUe6ETKXirF+/nqjValJQUED+8pe/TItyf/3118nZZ59NsrKyiEKhIKmpqeScc84hhw4dmvW8A4my9BVdSgghlZWVQlqYXC4n6enp5LTTTiMPP/yw8B673U5uvfVWkpWVRVQqFdm4cSN5+eWXp0Xw+7v+AMgvfvGLWc+FEEKampqESM/9+/d7/M1ms5H/+7//I2vXriUJCQlErVaToqIi8otf/IKYzWbhffT6ep+vmPvvv58AIC+//PKM73n44Yc90of8Xevh4WFyyy23kPz8fCKXy4leryebNm0iP/vZz4jJZBLe98QTT5CioiKiVCpJQUEB2bt3L3n88ccJAL+ZGOLzGh4e9vs+X1HOJpOJ/PznPydFRUVEoVAQnU5H1qxZQ77//e97pJYG+ruY6bc8U2bHTJSVlREA5Morr5z2t6eeeors3r2bpKWlEYVCQTIzM8kll1xCqqqqhPfQ+85XVLc3gT5/Avku/d3v/qLcvb+7mSKgfc010O+woqKC7Nixg2g0mmnZOOGe20wstudQoOTm5grPK+9/9J685pprZnwPnfvzzz9PrrjiCrJ8+XISFxdH5HI5Wbp0KbnqqqtIXV3drPMI5tnAETJHoX4MBoPBYDCixoKq5c5gMBgMBsM3TNAZDAaDwVgEMEFnMBgMBmMRwASdwWAwGIxFABN0BoPBYDAWAUzQGQwGg8FYBDBBZzAYDAZjEcAEncFgMBiMRQATdAaDwWAwFgFM0BkMBoPBWAQwQWcwGAwGYxHABJ3BYDAYjEUAE3QGg8FgMBYBslhPgMFgMBiRw+12w+l0xnoa8wK5XA6pVBrracwZTNAZDAZjEUAIwcDAAMbGxmI9lXlFYmIi0tPTwXFcrKcSdZigMxgMxiKAinlqaio0Gs1JIWD+IITAYrFgaGgIAJCRkRHjGUUfJugMBoOxwHG73YKYJycnx3o68wa1Wg0AGBoaQmpq6qJ3v7OgOAaDwVjg0D1zjUYT45nMP+g1ORniCpigMxgMxiLhZHez++JkuiZM0BkMBoPBWAQwQWcwGAwGYxHABJ3BYDAYcw4hBGeccQb27Nkz7W9//etfodPp0NXVFYOZLVyYoDMYDAZjzuE4Dvv27cOnn36KRx55RHi9vb0dt912Gx544AEsXbo0hjNceDBBZzAYDIZA27AJHzQOoX3EHPVj5eTk4IEHHsCtt96K9vZ2EEJwww034PTTT8e1114b9eMvNlgeOoPBYDAwZnHglmcrcLB5WHjt1OVL8OfLN0CnkUftuNdccw1eeuklXHfddfja176Gmpoa1NTURO14ixlmoTMYDAYDtzxbgY9bRjxe+7hlBDc/Wx71Y//tb39DXV0dvve97+GRRx5Bampq1I+5GGGCzmAwGCc5bcMmHGwehpsQj9fdhOBg83DU3e+pqan41re+hZKSElx44YVRPdZihgk6g8FgnOR0Gi1+/95hiP5+ukwmg0zGdoHDgQk6g8FgnOTk6v2XjM1L1s7RTBjhwASdwWAwTnIKlsTh1OVLIPUqkyrlOJy6fAnyU5igLwSYoDMYDAYDf758A3YsS/F4bceyFPz58g0xmhEjWDhCvKIgGAwGg7GgsNlsaG9vR35+PlQqVVhjtY+Y0WEwIy9Zuygs80hem/kOi0BgMBgMhkB+yuIQ8pMR5nJnMBgMBmMRwASdwWAwGIxFABN0BoPBYDAWAWwPncGIIoQQuN1u2Gw2yGQySKVSyGQycF7pQQwGgxEuTNAZjChBCIHT6YTL5YLD4YDD4QDHceA4TqiKxQSewWBECiboDEYUcLvdcDqdIISA4zhIpVJIJBIQQsDzPJxOpyDwEokEUqkUcrkcUqkUUqmUCTyDwQgaJugMRgQhhMDlcsHlcgEAOI6DuNQDFXfx+30JvNiCZwLPYDACgQk6gxEhqDDzPA8AkEimYk791W4SCzx9H8/zcDgc6OzsBABkZWUxgWcwGLPCotwZjDChgW8OhwNut1uwsoOF7q/TfXWbzQar1QpCCBwOB8xmMyYnJzExMQGz2Qy73Q6Xy+V3wcBgzGfcbjfKysrwta99zeP18fFx5OTk4Oc//3mMZrYwYYLOYIQBDXxzOBwghEAikUTMeqbjUIGnFjohBHa7HRaLhQk8Y0EjlUrx1FNP4a233sIzzzwjvH7zzTdDr9fjjjvuiOHsFh5M0BmMEKGucZfLJVjlkXSF+9p/pxY8DaCjgXbeAm+xWGC32+F2u5nAM+Y1y5cvx969e3HzzTejr68Pr7zyCp577jk89dRTUCgU2LRpE/74xz8K77/gggsgk8kwMTEBABgYGADHcWhsbIzVKcwbmKAzGEFCA9+oiz3SQh4oviLkqcDbbDaYzWZMTEwIAk/nywSe4ZeRFqB5P2BonbND3nzzzVi3bh2uvvpqfOtb38Idd9yB9evXAwB27dqFAwcOAJj67R06dAhJSUn46KOPAAAffPAB0tPTUVRUNGfzna+woDgGIwgIIZicnERHRweWL18eVTH3ttADeb/YTU8IEf7ZbDbhPRKJBHK5XHDhx2pBwphnWIzAi98AWt/74rXC04GLHwfUSVE9NMdxeOihh1BSUoI1a9bgJz/5ifC3Xbt24fHHHwfP86iuroZUKsX//M//4MCBAzjnnHNw4MAB7Ny5M6rzWygwC53BCBC32w273Q6r1Yru7u6ghDBYcaaEY017W/AymczDgjeZTJiYmMDk5CSz4BlTYt52wPO1tgPAv2+Yk8M/8cQT0Gg0aG9vR09Pj/D6qaeeisnJSZSXl+PDDz/Ezp07sXv3bnz44YcAwARdBBN0BmMWvAPfqPUb7BjBEmmreSaB53kedrsdJpMJk5OTMBgMmJiYYAJ/MjHSMmWZE7fn68Q99XqU3e+HDx/Gfffdh1deeQWlpaW44YYbhPtOp9Nh/fr1OHDgAD788EPs2rULp5xyCioqKtDc3Iympibs2rUrqvNbKDBBZzD8IA58A74QxbkSuWgeRyzwNIqe4zg0NDSgq6tLSJNjFvxJwGi7/78b26J2aKvVimuuuQb/+7//izPOOAOPPfYYjh49ikceeUR4z65du/DBBx/g4MGD2LVrFxITE7Fy5Ur85je/QWpqKkpKSqI2v4UEE3QGwwfi3HKe5z2i2EN1nwfLXO9r03Ok/2gBG9pchgq8yWSC1WoVrg0T+EVAUr7/v+sLonbon/zkJ+B5HnfddRcAYOnSpfjjH/+IH/3oR+jo6AAwJehvvfUWOI7DypUrhdeeeeYZ5m4XwQSdwfDC28UuDjYDQt8PD3UusUJchpZG0XMcB5fLBavVKkTRU4GnVfKYwC9AUpZNBcBxUs/XOenU68mFUTnshx9+iAcffBBPPvkktFqt8Po3v/lNlJWVCa73U089FQCwc+dO4be4c+dOuN1uJugiWJQ7gyGClm/1l45GX6NiHy3mW+Q5XdiIS9rSFD6n0+kzT55G0TMWABc/PhUAJ45yL9g19XqU2Llzp7Cd5c3bb78t/H+dTjftfRdccAFbPHrBBJ3BwBcudpfLBZ7n/UawByvo4QjzfH5gBSrw3nXomcDPU9RJwFX/mQqAM7ZNudmjZJkzogMTdMZJD3Wxu91TEb6zpaOJBT1QQhH1+Wahz8ZMAk+3LwD47CTHBH6ekVzIhHyBwgSdcVJD+5bPZpWLCUXQQ2U+W+izMZvAMwuewYgsTNAZJyXivuXBNlWZK0FfaBb6bPgSeBqz4HQ6YTabYbVakZGRIQg8TaVjMBizwwSdcdLB8zxcLlfALnZvghV0q9WKjo4OxMXFQa/XQ6FQBHyshWyhz4a4FzwAmM1mDAwMICUlRbDgvfPkWS94BmNmmKAzThqoRdjd3Q273Y7c3Nyw9rZ5np/1vUNDQ6iqqoJOp4PRaERdXR20Wi2SkpKQlJSExMREyOVyv8c5maB77ICnBe8t8OIo+pPxOs3EYl4AhsrJdE2YoDNOCsQudrPZDLPZHLIQBGKh8zyPxsZG9Pb2YuXKlUhOTgYAOJ1OjI2NYXR0FK2trbBYLIiPj4der0dSUhJ0Op2H1XoyPYy8z1VswdO/+RJ47z34k1Hg6aLQYrFArVbHeDbzC4vFAgAzLpwXE0zQGYsecW55JEq3ziboFosFFRUVAIDS0lJoNBohyluhUCA1NRWpqakAALvdjtHRUYyOjqK+vh4OhwM6nQ5JSUnC/v7JxGypgr4E3uFwwG63n9QCL5VKkZiYiKGhIQCARqM5Kc7bH4QQWCwWDA0NITEx0WOhvFhhgs5YtMyUWx6JSm8zjTEwMICamhpkZmaiuLh41sWDUqlEeno60tPThS5oVOBHRkbgdrtRUVEhuOjj4+MX7YM6lDRAXwJvt9v9pskt1uuXnp4OAIKoM6ZITEwUrs1ihwk6Y1HiL7c8Es1VvMdwu91oaGhAf38/1qxZg7S0tKDH5DgOarUaarUamZmZ6O3tRX9/P5KTkzE6OorOzk4AUw8oKvBarXZRCVS42yBUtMW94L0Fnu6/025zi+X6cRyHjIwMpKamwul0xno68wL6XZ8sMEFnLDqoG3am3HKO4wIKaJsNKuhmsxkVFRWQSCQoKyuDRqMJe2zgiz3knJwc5OTkgBCCyclJjI6OwmAwoLW1FVKpVBD3pKQkqNXqBStQkdxeENff9xZ4m80mvIcKPLXgF4PA00UN4+SDCTpj0UBd7E6n029ueSQt9L6+PtTW1iInJwcrVqyIaFEUXwuRhIQEJCQkIDc3FzzPY2JiAqOjoxgcHERTUxMUCoUg7nq9HkqlMmLzmQuiJaazCXx/f78Q37DYBJ5x8sAEnbEoCKZ8a6Qs9JaWFoyOjmLdunVCkNtMhLpv7+8zEokEiYmJSExMRH5+PtxuN8bHxzE6Oore3l7U19dDo9F4pMgFkwM/18xlAKC3wE9OTkKj0Uyz4L1z4JnAM+YzTNAZCx6xVe7d6tQX4QbFmUwmoYXojh07oFKpQh7LH8EKh1QqhV6vh16vBwC4XC4hRa6jowMmkwlxcXEeAk9zvucLsRJL6tHx3oPneV4QeNonngk8Y74yv37NDEYQiHPLAQQk5kB4Lveenh7U19dDIpGgpKQkamJOCWfhIZPJkJKSgpSUFACAw+EQIuibm5ths9kQHx8vCLx3DvxcE8sUPe/OeTO56N1uN9xuN2w2GxN4xryDCTpjQUJzy6nrPJi961Bc7i6XC3V1dRgZGcGGDRtQW1sb1OdDIdLCoFAokJaWJkTgi1PkxDnwDocDSqVSCCqcK6LdXz6cY8/UaIYKPM2Dpy56cR16JvCMuYIJOmNBIS4HGkyHNDHBWuiTk5OoqKiAUqlEWVkZVCpVRHLZZyPax1CpVMjIyEBGRgYIIbBarYJ7vr+/H/39/R4pcnFxcVEXp/kq6N4E2gveVx16JvCMaMEEnbFgIITAZDKhu7sb+fn5Ibs3AxVKQgi6u7vR2NiI/Px8FBYWCsebC0GfSziOg0ajgUajgdFohE6ng16vFyz49vZ2cBznkSIX6Wpk88nlHizBCLy4Dj1rFcuIJEzQGQsCapVbrVa0tbWhsLAw5LECcbm7XC7U1NRgdHQUGzduFGqxi8dY6Bb6bMeOi4tDXFwccnJywPM8TCYTjEYjhoeH0dLSAplMNi0HPhLHjQWRdvczgWfEAibojHmNd/lWmUwWdsrZbC738fFxVFZWQq1Wo6yszGcu92Kz0GdDIpEIOfB5eXngeV5Ikevv70djYyOUSqWHwAebAx9rCz2aYupP4Pv7+2EymVBQUDCtTC0TeEYwMEFnzFt85ZZTMQ7HoppJjAkh6OrqQlNTEwoLC5Gfn+83l30xW+izIZFIBOEGplIHaYpcd3c36urqPHLgk5KSAup2tVgs9NkQC7zT6YTNZgPHcR6d5DiOYwLPCAom6Ix5Cc0t9w58E1s44Qi6t5XvdDpRU1OD8fFxbN68WRAqf2MEK7axjOKONlKpFMnJyT7bxLa3t6OmpkbIgdfr9dDpdNNy4GNtocc6B57+o6/RbSZal91b4GkUPYNBYYLOmFd455Z7B77RB144KVXeLvexsTFUVlYiLi4OZWVlAVVTi1S1udmOMV8t9NmQy+VYsmQJlixZAsAzB76pqQk2mw0JCQmC9Z6QkADg5LHQxfA877PMr7gmgFjgfVnw4ih6xskLE3TGvME7t9xXio9Y0EOFijEhBB0dHWhpacGyZcuQl5cX8ANxIYttLPDOgbdarRgbG4PRaERfXx9cLhfkcjmUSiXGx8cRHx9/0uTAB7I4DUTgaaU7cZAdE/iTCybojJgjfjjNVr6Vvh6OmEokEvA8jxMnTmBychJbtmxBYmJiUGOc7Hvo4ULbxNIceIvFIljuVVVV4Hl+TnPg54PLPRgCFfiTpRc8Ywom6IyY4h34NlvhDfq3cCz0iYkJYawdO3YEFKzlax7BiK3ZbIZUKo16qdiFCMdx0Gq1QprcsmXLYDKZPHLgaSOaaObAzyeXe7CIBZ7el7SNMK1ixwR+8cMEnREzqEXhdrsDLhJDH0yhCDohBG1tbWhtbQUArFu3LuTa5YFWm+N5Hs3Nzejo6AAhBHFxcdDr9UJzFH/Hj5WFHmuvAMdxiI+PR3x8PJYuXQqe54U+8NHKgY+EqIYKISSiNfTFNejp+AAT+JMBJuiMOcc7tzzYim+hCJ3dbkdVVRWsVis2btyIY8eOBTvtacw2B5vNhsrKSjgcDmzduhVSqVSI/G5oaBBqp9PIb1/7xrEW17lkJtezRCKBTqeDTqdDXl4e3G630Aee5sCrVCoPgQ+2TWysLfRo58ADngJP/9ntdjQ0NCApKQnJyclM4Bc4TNAZc0owfctnIlgL3WAwoKqqCklJSdiwYYMgkuHuw/v7vMFgQGVlJVJSUrBx40ZhjzM9PR3p6eketdONRiO6u7tBCPEQJYZvpFKpxzVyuVxCkZuuri7U1tZCq9V6tImdbVsl2oVl/DHX3gHvTnITExNISEgQBF5swcvlctZJbgHBBJ0xZ7hcLo+HRagPh0AFnRCC1tZWtLe3o7i4GNnZ2eA4TkiJCzdSfqbiNG1tbWhra/M4Js0lFn+e1k7PysoS6tQbjUYYDAa0trYK59nX1we9Xr/o999DtZJlMtm0HHi6/97a2gqLxeLRJtbXVsdCC4qLJDzPCxa5uFUsIUToBc8EfmHABJ0RdWhu+fDwMKqrq7Fz586wG2EE4u6uqqqC3W7H9u3bER8fL/xNXLwjknNwOByoqqqCxWLBtm3bhNzqQMej+8a5ubmCkLe2tqKvr09wK9P990Arr52MyOVypKamIjU1FcDUdgsV+MbGRtjtdo8ceJ1Ot6hd7oEcX7zA8bbgZxJ4705yTOBjDxN0RlTheR4ul0sIfIuEe3E2C31kZARVVVWCu9u7IlkkIuW9BX10dBQVFRVITExEaWlp2GIrkUgQHx8PqVSKzZs3w+VyCXnbtPIatTpp5bVIBlbFgmiJqlKpFLY6AAhbHaOjo0IOPM/z6O/vR1paGuLi4uZUYGMZkAdA+G3OxEwCz/O8IPC0yh0T+NjCBJ0RFXzllkul0ohUV5tJ0HmeR0tLCzo7O1FSUoLs7Gyfn6cPqEhY6OLiNMuXL0dubm7EHmLicWQyGVJSUpCSkgLA0+qsr68XAuyoBT/XhVkiwVwFANIc+MzMTCEH/rPPPoPZbEZFRcW0WAatVhv1HPhYW+jBHN+fwNvtdthsNibwMYIJOiPieJdvFTeiiJSgez/8rVYrqqqq4HQ6UVpairi4OL9jRELQXS4XysvLMTExEVJxmkCYaY5iq5MG2BmNRiEwTCxKer0+4nnb0WKu50hz4AGgqKgIKpVKyIE3Go1oa2vzaERDU+QiOc9YW+jhuvy9a0dQgXe73XC73dOC7MR16BfCPbmQYILOiCji3HL6I6ZQQQ/XtepdR31oaAjV1dVIS0tDSUlJQK7ncGuxO51ODAwMICkpKaD676GcbzBlaGmAXXZ2NgghQt72yMgIWltbIZPJPPbf52OAXaxS9MTd+2bKgTcajRgcHERTUxMUCoWHwId7LefDHnokjy9ewAOeAu9yuYS/e+/BM4EPHybojIgQSG55JDql0XF4ngfP82hqakJ3dzdWrVqFzMzMoMYIRUAIIeju7sbQ0BASExOxcePGgM4lVLEK5XMcxwm9y3Nzc4W8baPRiN7eXjQ0NECtVgvWeyBpXXNFLB/ovo4tzoHPz8+H2+0WUuTotYxEDnwsU+YiXdjGm5kE3uVywel0Ynh4WGjmI65Dv9C2jOYDTNAZYRNobnkkOqXRcWw2Gz799FPwPI+ysjLBbRooobjcXS4XampqMDo6itTU1Ii7Xr2J1Njeedvi1qbitC5qwcfSUo4F4mZAsyGVSqHX66HX6wFACFYcHR1FZ2enkAMvrgboHZTp6/ixjLAHMKfi6S3wo6OjwgLT6XR6WPBM4IODCTojLGg5yUAqvlErINx9dIfDgZaWFmRnZ6OoqCgk6yJYl/vk5CTKy8uhVqtRVlaG9vb2ORGgaBzDu7Wp3W4X9t/r6+tht9thsVjgdruFCnZzJTixEDZ6jUPNgRcHKzocDkHgW1paYLVaPXLgfWUjxNLlHgtB9zUH6noHplvwdH7eVeyYwE+HCTojJKiLnUaxBxLBGm7rU57n0dDQAJPJhMzMTKxcuTKkcehcAhXLnp4e1NfXIy8vD8uWLRMsiLnohz4XKJVKZGRkCJ3PysvLIZfLMTk5ia6uLgBAYmKiYHVGK8AuVrng4Qi6NwqFwmcOvNFo9MhGEPeBj7XLHYitoLvdbp958N4uenEnuU8//RTPP/889u3bF6tpz0uYoDOCJtTyreEIodlsRmVlJQAgOTl51ij2QOYy2zzcbjfq6uowNDSEDRs2CFZYoJ+PBHPthuY4DjKZDImJicjJyREC7IxGo9AYRS6Xe0TQK5XKOZ1jpImkoHvjKxuBphv29PTA7XaDEIKBgQEhIG8uFzWh9FKINN6C7o0vge/t7UVtbe1cTXHBwASdERTUKg/1QRBK6lp/fz9qa2uRlZWFoqIiVFdXhy2ms1noJpMJFRUVkMvl2LFjx7RI5rl4AM6HiF9xgB1tjEKDwqjnQqPReOwZhxpgtxgsdH/4KvdrNptx7NgxIQcegEeb2GjnwMc6wh6YXdC94TgOFosl6LiZkwEm6IyA8M4tD3VVH4ygu91uNDQ0YGBgAGvXrhXcmKFGqIvxFxTX39+PmpoaLF26FMuXL/f5wFusFvpsiIPCCgsLhQA7o9EoBNh5l1Wd7xXs5krQveE4TvA0FRcXQ61WC+mGtJ6/OKAxWjnwsRb0UOZgNpuZoPuACTpjVniex8jICGQyGdRqddgR6oEIIbWQZTIZysrKPPpdR6JAjS9Bpnv0fX19WLdunbCAmOnzwYhtNPPQY4l3gJ3NZhNcynV1dXC5XNMq2M10XrG00GOZA02j3L3TDXmeF9rEinPgxfUEwt3umK3s61wQrIUOTAl6uNtuixEm6IwZEZdvbWlpQXJyMvLy8sIaMxAx7u3tRV1d3YwWciSsY29BtlgsqKioAMdxKCsrg0aj8fv5SHgJAmG+WeizoVKpPALsLBaLEBTW2dkJAB7772KLM5bpcrESc3rOM/WBT0xMRGJi4rQc+J6eHtTV1UGj0XhY8MFud8wHCz0UQbdYLEzQfcAEneET78A3WrM5XPwJusvlQn19PYaGhrB+/XrB6vM1RrhzEY8xODiI6upqZGZmori4OOAHXLQFaCFY6P6gZVW1Wi2ys7OFqmujo6MYHh5Gc3OzUHVNr9fHLB871p3WgMCizH3lwFNvCG3YExcX59EmNpAc+IUo6CaTibncfcAEnTENcflWulcukUgEcQ+HmQR9cnISlZWVMwaheY/h3V88WDiOE/bou7u7sXr1amRkZAT1+blyucdScCKJuOqaOMDOaDSiu7sbk5OTMJvNMJvNgijNJkiRYD4Ieqg58OLtDofDIQh8c3MzbDbbrDnwoYhpJAm1Up3ZbEZycnKUZrVwYYLOEPBXvjVandJoCgrN8y4sLJzVYojEHjohBG1tbcIefbCr/WC9BDSgMNiyoIsZb4vzxIkT0Gq1IISgtbVVKMpC94x1Ol1UrMn56nIPFoVCgbS0NKSlpQHwjGeor6+H0+kUAhZpwaBYW+ih5sGzPXTfMEFnAJg9tzySndLoOC6XC7W1tTAYDNPyvP0Rbqe04eFhjI2NISEhAVu3bg250lygczAYDKisrPQoKqLX65GQkDBrH2pg8Vjos0HzsGlNfipIRqNR6FtOU7r0ej3i4uIicl0WqoU+G97xDN458DzPC0F1k5OTEbuewSDe0gsGtofuGybojIByyyUSiZCyFg5U0CcmJlBRUQG1Wo0dO3YEFa0b6uKCEIKWlhZ0dHQgPj4eGRkZIbsbAxF0Qgja29vR2tqK5cuXQ6fTCS7m3t5e8Dy/IFucRhPx+fsKsKMlajs6OsBxnHDtwknpirWgz0WE/Uw58G1tbZiYmMCJEyeE60n/BX0/EgKI3s9ZDJD0l4OzGkHUevAZG0E0eo+P+OrKGAgsbc03TNBPYoLJLZdKpXA4HGEfk+M4jIyMoL6+HgUFBSgoKJiT4jR2ux2VlZWw2+3Yvn07Wltbw+6H7u/zTqcT1dXVmJiYwNatW6HVauF0OqHVapGZmQlCCEwmE4xGo9DiVC6XC+Kk1+tjHv091/g7T3GAXU5OzoxtTcXXL9DtjVg2R4lV2VeaA5+QkACpVIqSkhLhfqQVAWUy2bQc+Gk4rZD2HYdksAKcywE+pQjurC3gbBOQn3gM3ESP8FbS9i4cm74Foi8QXgt1D99kMiE+Pj6kc1/MMEE/SaGBb2KXn7+HWiSC4pxOJyYnJ+F2u7Fp0yZh7zRYgnW5GwwGVFVVQa/XY+PGjZDJZGGnvvmbA23kotFohF7p3t4N6l6Oj48XWpxS672rqwt1dXWCBWI0GqHX6+d9gZZIEKiw+mprSpuidHd3C9dP3CJ2pgC7+WChxwqe54VGJ+KKgDzPCyly/f39aGxshFKp9BB4pUwCWcMrkPafAJFrAakc0o4D4AzNkFgM4CZ7QfTLAYkU4N3gjC2Q1/4Lji/9GODC67zIKsX5hgn6SYY4tzyYghrhBsWNj48LpS1zcnJCFnMgcAudBr61tbWhqKgIOTk5wrmGm/o2k6DTHHpxI5dA8A4QczgcGBkZQUNDA5qamuB0Oj323+e65vdcEM73IZVKkZycLEQ+O53OaRHf3hXsxLXBYxUYFstjAzMXlpFIJB4td10ulyDwdMG0hIxg2ehBSPW5UMXrIZVIQbSpkPQehcQ0AH5JyZSYA4BECpKQBcloG7iJHhDdUuH4wS5U6XYB20OfDhP0kwjvwLdg9u7C2bfu7OxEc3MzCgsLYTKZwn6ABTIXh8OBqqoqmM1mbN26FTqdzuPv4QbWeX+e53nU19djYGDAbw59oNCuXQ0NDdi6dSucTieMRqNQoIXjOA/3sk936AIjkpayXC736HomDggTB9iJtzZiwXyIMg9EUGUy2bQFk73uTXBGHiPjFtiHR6FSqqDWaJBIZFDbJwHOa1xOMrXPzn/hrQrV5c720H3DBP0kwVdueTCE4nJ3OByoqanBxMQENm/ejKSkJNTW1kaksYq/McbGxlBRUQGdToeysjKf1bMi6XK3Wq0oLy8HAJSWls5aZS6YY1BoQJO4QIvRaMTAwACampqgUqk8SoKG2iAl1kRLXNVqNdRqtRC/YDabhQj60dFREEJQU1Mz5wuk+eByD+VekcvlUOmXQKaLR3zyUrjcblit1qnAxQkLNA4J0NMAkpQPlVoNhVwOqWkAJCEbJCFbGCccQWd76NNhgr7I8ZdbHgzButxHR0dRWVmJhIQEYR8ZiFwddl/WtdgbsHz5cuTm5s54rpFyuQ8PD6Oqqgrp6ekoLi6ek31u7/1jl8slNEhpb29HbW2tUFBEr9dHLX870sxV8B8NCIuLi0NOTg4GBwfR3t4OrVYrBNjR/WK6SIpW/YBYu9zD8RDw+mUgaj24iR7IErKmYkLkbkhk6bAlnQq0H4J7rBVmgwRWtxVQJcKUswVKkxXx8TLBSAj2N+NwOOByuZig+4AJ+iKGEIKxsTHwPA+NRhNW3+Ng9q3FqVreohqJ9Ddfc3E6naipqcH4+LjgDfBHJOrB2+12VFRUYOXKlcjKypr1eMESaJS7TCZDSkqKkMdvt9sF93xtbS3cbrdH/na0W3KGQ6zmJZfLkZ+fPy3ArrOzE7W1tUGXVA2UheJy9wXRLoFr+dmQtbwNiaFp6jW5Bu7cL4FbtgeS/B1QdB+GZqIXNmUKRuJKMMgnYrSyEoQQJCYmCr/DYLZbTCYTADCXuw+YoC9SaG55e3s7pFIpiouLwxpPKpXO6nKfbd8aiIyF7j0GDbjTarUe3gB/hLOH7nA40NLSAqfTidLSUiQkJIQ0TrRQKpUe+dtms1kQeFodT7z/Hm7HrkgxX5qzeAfY+SqpKq64NluBIH/E2uUebrc1Pn09HLrcqWA33gU+PnPKpc5x4JNXgE9eAQCQAEj9/B9N2aTxDFarFR999JFHH3h/OfBM0GeGCfoiQ5xbTmskR6NkqzdGoxGVlZVITEyccd86kHECgYoxIQTd3d1obGwMOqc9VJf7+Pg4ysvLoVKpoFKpoirmkchDF7uXly5dKqQjGY1G9PT0oL6+flp6VyyZj81ZvEuq0gA7cYEgsRgFU3FtIbvcBdRJ4NWbAn67OGXT6XTC4XAgMzNTaNrT0tICuVzukSIn7u1AU9bm6rrt3bsXt99+O7773e/i/vvvn5NjhgoT9EUEz/NwuVwe5VtlMhmsVmvYY88UFOcvNWymcSJhobvdblRVVcFoNGLjxo1BN2oI1uVOCEFPTw8aGhpQWFgInU6H6urqoI43HxCnIxUWFgrpXUajUbA+aWe9hIQExMfHz9mDc75Y6LPhK8COBte1t7cL11hcwW4mYm2hR8rl7+IJJBwgCfJc3G43ZDLZtKY9tA98X18fGhoaoFKpkJSUhKNHj2LJkiVzVlXx6NGj+Nvf/oa1a9dG/ViRgAn6IsBfbnkgrvJA8GXp2+12VFVVwWq1Ytu2bQFZq5EQdJvNBofDAbvdjrKyspBcxsFY6G63G7W1tRgZGREWDzQyOprMRaU4X+ld1dXVQmU9YOb+5dEgFuIWjqj68oBQMRIXZBFnIIi3hBbyHjoADEzYUdc/if4JOxRSCYrStChJn/JQtAyZ0W6wwM0T5OrVKEqLg0Lmea5ut3va71cqlU7LgR8bG0N3dzfuu+8+tLW1QaPR4JZbbsHpp5+OXbt2RcWzZDKZcOWVV+LRRx/Fb37zm4iPL6avrw8WiwVKpRJxcXHQaDQhPdeYoC9wvMu3eueWR6OpCvBFw5Hk5GRs2LAh4CChcOfT29uL2tpacByHLVu2hPUgDkQozWYzKioqIJVKUVZWJrj+QtmDD3Wuc2m5qtVqIQUuKytLSI8bGhpCc3NzVKO/F4qF7g+JRILExEQkJiZ6ZCD4CrDT6/Vh72GHSzgLisEJO/Y3DGPc6kSiWo5JuwsfNhswYnLA5nTjRPcE3IRAwnE43j2O1RnxOG9NGpQiUQ/k+OKgzxMnTuDZZ5/F3r17wfM8fvrTn6KpqQmPPvoorr/++pDOYya+853v4Nxzz8UZZ5wRVUH/4IMPcPvtt6O5uRlGo9Hjb1qtFpOTkwGPxQR9ASPOLZ+pwUGkLHRq0bpcLrS3t6OjowMlJSXIysoK6mEYqqC73W7U19djcHAQJSUlqK+vD+shHIjLfXBwENXV1cjKykJRUZHH9Q23ME2gxNIdy3GcRzlQGv1Ni9v4So8LN21vPu6hh4N3BgINsDMajWhsbITNZoNcLkd7ezuSkpLCCrALhXAWFPUDJoxbnchP/sL9bbZL8WnHKCbtbuTq1YhTTkmMzelGTd8kCpdosT77C09eKGlrUqkUaWlpePDBBwFMWbeRrrvw3HPP4fjx4zh27FhEx/VmcnISN9xwA9avX48777wTcXFxcDgcsNlssFgsQT+7maAvQILJLY+kyx0Ajh07BqfTie3bt4eUBxpKkJ63lQwgIvvwMwkyz/Nobm5GV1cXVq9ejYyMjKA+H2nmS3MWX9HfNHqe9tvW6XRCCdtg23EuBgt9NrwD7JqamjAxMQGz2Sy0NKUV7JKSkqKeYhiqhc4Tgr4JG3Rqucf8tEoZDCYnnDwRxBwAVHIppFIObSPmsAXdZDJ5FG+i7XYjRXd3N7773e/inXfe8QjGiwa0OdNzzz0XEW8XE/QFxmx9y72JVJQ7dQWpVCps3rw55DzcYC30gYEB1NTUIDs7GytWrIBEIoHNZgMQnrtwJgtd3JWttLR0xnrRJ4OFPhsKhQLp6elIT0/32d5UHBym1+tnfTjGqklKLJuzyGQyxMXFobi42COdy2g0orW1NbCOZ2EQ6m+IA6CWSWG0eHZgdPME4ADpDENy8LzOoQh6tOu4Hz9+HENDQ9i06YvIfbfbjYMHD+Ivf/kL7HZ7xApIKZVKnH322aisrMSWLVvCHo8J+gKC53k4HI6gKr6F2yVNbK0CQFFRUVhFNQKNLud5Hg0NDejr68OaNWsEiwaAR1ONcObh/fnR0VFUVFQgKSlJ6Mrmj5PNQveHr/amExMTMBqNQnCYWq322H/3dX1PNkEXB+SJ07nEAXbia0ijvek1DNfVHGpQHMdxWJGmxQdNNkzaXIhXyeDmCXrGbMjVq2E0O4XXAcDqdMPtJihY4lkWOZTjWyyWqAr66aefPi2D5brrrkNxcTFuu+22iFaD1Gg0yMnJwU033YSHHnoIGRkZQpnnUL5bJugLAOpip1HswVR8C8flbrVaUVlZCZfLhdLSUnzyySdRr8MOTP1gKz+vJlVWVjatNjoV9HAidMUuc3HJ2BUrVmDp0qWzXt+5crnPZwvdH+LgMGAqUllseVqt1mnFWWLpcp+P3dZ8XUMaYNfe3o6amhrExcUJ4p6YmBjU74FWaPM4vsMMWeeH4Ma7QdTJcOftBNH6bjS0IlWLUYsTjYMmDE06IOGAJXEKbM9PQt3AJI51jWNwwg5wUxb92qx4lKR5CnEoe/jRbswSHx+P1atXe7ym1WqRnJw87fVQoYvIhoYG/PnPf8aSJUuwdetWKJVKSKVSyGQyTE5O4stf/jJee+21gMdlgj7PCdbF7k2ogj40NITq6mqkpaWhpKQEUqk0Iu772cagx83IyEBRUZHPB5RY0EOFegpcLhdqamowOjoaUMlY8eeZhR44MpkMS5YsEbrQ2Ww2Yf+dFmehtfHlcvmc5RkDsbfQA/V4+Qqwo1scjY2NsNvt01rs+hNL+vuh7+EmeqB872eQGFsBEHAE4Kv+AfupPweftXna5+VSCXYUJKEoVQujxQm5VIJMnRIquRRZiSrkJ2vQbrCAEGCpXo0VqVrIpdPT1kLZQ1/orVPp/VZSUoL9+/cD+LyDnd0Ou90Oh8OBsbGxWUtKe8MEfR5DrfJwmqoEu2fN8zwaGxvR29uLVatWeQSEheu+9zcfsWt/1apVfgNdIpGfTWvKHz58GEqlMuh8dvEcAvlenE4nxsfHg26UslAt9NlQqVTIzMwUirOYTCacOHECY2Nj6O3tFSqF0f33aDVHAWIv6KEe2zuGQdwitru7G4QQj/137wA7b0FXfPYgpCNN4BOyAakchPCQjHdD+ckfYb1wHyCbHgPBcRyWxCuxJN4rl1zCoSgtDkVp/oU31D309PT0oD4TLgcOHIjKuPHx8Tj11FMjNh4T9HmId255OE1VqIUeyEPLYrGgoqICwFQbUG+3VjTqsANT1lplZaVQG3221TfNtQ9nLqOjozCbzSgoKMCyZcuCdvsFI+i0XKzT6QQAIYpZr9cHZIkuBgvdH3TvWCqVoqioCFqtVihP293djbq6Oo/c7WBdy7MRS0GPlLuf4zhh7zUrK0tYJBmNRhgMhmkBdnq9XvisRCIBZx6CtP8EeLUekH6+d8tJwMdngJvshXSgAu7s7WHPUwwtiBXKHvpiquPucDjQ3d0Np9MJjuOE4jJKpTLoErdM0OcZNLf88OHDKCkpCbsCEv2xzPbDodHkmZmZKC4ujlpOu7egj4yMoKqqCkuWLMHKlSsD/nGHurigHoienh4olUqsWLEi6DGAwL0EtF56YWEhMjIyYLVaPR6ycrkcer0eycnJPoOcFquF7gt6LaVSqbDgAabnblPXMn1PfHx8WNcplnvo0aoUJw6wy83NFWr403KqtIIdAAwPDyNZYgJ4NyD38lJJZOB4N+CyRXyOtB/DfItyn0scDgcee+wxPPjgg6ivrxdep1t6P/jBD3DPPfcEPB4T9HmCuHyruGBMuNAfy0yuLbfbjcbGRvT19WH16tV+XVmRstDpuba2tgoFarKzs4MaJ5Q9bJvNhoqKCrjdbqxcuRKtra1Bfd77+MDMgs7zPOrr6zEwMICNGzciKSkJDofDo0youFALDXJKSEgQhIqW0l3sFroYX8Iszt2mrmW6d0yzL8Tu+WBTuxaqyz0YxDX8CwoK4HK50N/fj5aWFrS3t6PWNIEyPg5xEwMgCQrI5FP55ZzVCKLSgV+yMuJzEscFBUO0g+LmArqQe/HFF/HAAw/gtttuw9GjR9HV1YUf/ehH+N3vfgeFQoEbb7wxqHGZoM8DfAW+RbLCG+A7gIwWbJFIJD6jyX2NFQkLHZgqUGOz2UIuUBPs4oKWqqWegPHx8bCD6gDfYmuz2VBeXi5E6avVap/H8i7UIu5jXl1dDZ7nwfM8hoaGIJPJol5HPdYEsnARu5azs7PB87xQnnZwcBBNTU1C7fRAU7ti2SAlVt4BmUyGhIQEyOVybNu2bSoYq9YE9bH7AWMbLJwScs4FiVQO6+orIVGnINKzpM+S+Za2NhfQe/3QoUMoKyvD9ddfj2PHjiE9PR27du3C0qVL8dOf/hTl5eUoKCgIeFwm6DFGbI2L98qlUqmwhx4OtCSstxD39fWhtrYWOTk5QsGW2YhElPv4+DiAqQdKWVlZ1AvUEELQ3t6O1tZWFBcXIzs7W9iDDzePnY4vxmg0oqKiAqmpqUJ2QKB49zGngWI0yClYoVqIBCusEolE6NQlrp0u9nrEx8cL181XUOLJYKHPdGx6LZRKJZQbL0SrMgvHyo9jdHwc6UoXCjLTYHStADl0yGP/PRJZCN7PvECg3e0Wi6CPjY0JjZGoF9XtdqOgoADDw8Po7OwMalwm6DFitvKtkbLQvccS10Rft26dcDMFQjgudyqsLS0tAICVK1eGVaAmkLk4nU5UV1djYmICW7duhU6n8/h8JAVdnMteXFyMnJyckMem48fHx0Mmk2HFihWIi4vzECpaR53uv89lm9NoEYmtBe/ULrHXo7a2Fi6Xy0OYtFptzAU9lvv34gXnoRYjnq5UYcK+DRIN4OaBHKsKN2/NQ5J8qo7AyMiIEGAn7iAXSonUUOtILIa0NfqdFxQUCEbOhg0b8I9//ANVVVUghKCjo8Nn2Wl/MEGPAYHklstksogLuslkQkVFhWAdB7vXGKrL3eFwoLq6GiaTCVu3bsWRI0fCfnjPZmFPTEygoqICGo0GZWVl09KeImmhi3PZt2zZEvFWjjRwyJd73mAwCHnc1AoNZR95vhBpYfX2eoh7l7e1tUEmkwn3gt1uD6llZTjMl4C8CZsL/zrRD7uLR0HK1NaOmydoN1jxUuUgvndaPhISEpCbmyv0K6c1BBoaGjyqACYmJgbkPQq1McxisNDpeV988cX49NNP0dfXh2uuuQavvPKKUHL2kksuwa5du4Ialwn6HBNobnkkLXSJRIKhoSF0dXUhNzc3pDQtOqdgLfSxsTFUVFQgISEBZWVlkMvlUc1nB76ILM/Pz0dhYaHPaxxugJ/QXcpsRn19PeRyeci92QM5jjfeQuW9j0xboPorszrfiLal7Kt3+fj4OBobGzE+Po6PP/4YWq3WQ5iifd1i6XIXC2rjoAkjZgdyk1RfbPtJOCRr5agfNGHM4kSiZkqkvfuVO51OoYJdW1sbzGaz4D1KSkqasQtfKDnotGfAQhd0yvr167F+/Xrhv//73//i448/hlQqxfr162eNa/Jm/v/KFwnB5pZHStBdLpeQ57h+/XqhUlcoBCOChBB0dXWhqakJy5YtQ15ennC+kSib6msu4u2EDRs2CG5XX0Sq0lt5eblH45hoMNs8vduciveRxWVWxdHzizm4LlBo5LdGo4Fer0daWppQmKW5uRk2m83jukVjW2O+WOiEAPBxm3EcQHji608Ccrncowqg3W4X0gzFXfjEFew4jgtJ0G02G9xu96IRdGDKmzg4OAiHw4G8vDyccsopIY/FBH0OEKejAV8URvFHJAR9cnJSKBSzYsWKsMQ8mDk5nU7U1NRgbGzMZznVSKS/eQsyLYrDcVxA2wnhFKYhhAgpb4WFhcjPzw9pnEAIRXi995HFZVa7u7sBhJfmFS1i3W1NLpcjNTVViCsRp8fR6yYuChSJrINY76HTY69I1UKvkWFo0oEM3ZSXiScEBrMTm5bqkKgOXCqUSuW0Lnx0oSROMxQ3WQr0OprNZgBYNII+Pj6OX/7yl3jzzTfR1NSEV155BV/5yldw3333ged5fPvb3w7KSmeCHkXEueX0pg2mqYrdbg/5uD09PWhoaEBeXh5GR0cj8tAIxFVO967VajV27Njhs2RnpCvODQ8Po6qqCunp6SgpKQnoXEN5mABTi5WqqiqYzWZIJBK/XoBIEAlPgneZVW/3vFqtFkQq0vv/C4GZ7gG1Wo2srCyh8hq9bsPDw2huboZCofDY1gilPG2so9yphZyokeOi9Rn457FetI5YIJdycLgI0hOUuGhdeshzFHfhy87O9riOAwMDsFgs+OSTTzwCFf1tW5lMJiF1cSFD77k777wT77//Ph577DFcfPHFwkJl/fr1uO2223DVVVcxQZ8PeAe+BSPmQOhpa+IArY0bNyI5ORnHjx+PSE90iUQCh8Ph82/iRYS/vWs6TiT20N1uN5qbm9HR0YGVK1cG1cgg2FrswJTHo7y8HFqtFqWlpTh48OCCK/riyz1P3aPUzSyVSkEIQUJCQthV2IIh1ha6P7yvGy0KNDo6is7OTtTW1gqdz2h6XCDu5Fi63L2D0k4rSka6Tokj7aMwmp3IS1bjlGV6pCcEH8E+E+LrKJFIMDY2huzsbIyOjqK3txf19fXCFggVeXEcA90/j9Z98tBDD+Ghhx5CR0cHAGDVqlW44447cPbZZ0fleM8++yyee+45fOlLX4LL5RLEu7i4GC0tLUHHcDBBjwIz5ZYHQygu9/HxcVRWVkKtVnsEaEVqP36moDiXy4W6ujqMjIwIiwh/RMJCp2lihJCQitPQ7yRQl2d/fz9qamo8Fitz0XEt2sfw7oJmtVpRXV0Nu90ubNeIo+dDSU8KhFgujEJZSHhnHYg7n4n3jel1m0mE5ovLHZi611ZlxGNVRvCFnkLB7XYL6W+0zC8NsBPHf8THxyMpKQltbW1QKpVR7cSXnZ2N3//+91i2bBkA4KmnnsL555+P8vJyrFq1KmLHEQfV0i1Jl8slWOhWqxV2uz3o7TAm6BGG53k4HI6wOqQBwYmwOACtoKAABQUFUclp9yXENBWORnkH8sAPV9CpZaTRaLB9+/aQCqyIXe7+EHef887bD1ZsF0IgmlqtFiLkMzMzBfdof38/GhsbPdzzSUlJEW2SAsTmGkXCM+Dd+cxisQgC39HRIQTgeS+MYu1yj2XtAl9Bcb4C7IxGI3p6evDNb34TJpMJ8fHxuOuuu3DmmWdi/fr1Eb0Hv/KVr3j8929/+1s89NBDOHLkSEQFnbJnzx48/fTT+PnPfw6e56FQKOByufDUU09h7dq1TNDnA9SNFs4PNdA8dHEA2qZNmzy6KFEiKejicWi1uWBT4UIVdEIIuru70djYCK1Wi/T09JCrpYkt9JmgVirtAuddPzpYQafvDea+mMu+6974qsJG3fNNTU0eTVKSk5PDcoXG0kKPtKiK941zcnLA87yQty1eGCUlJQnlfQOG8JAM1YAzD4NPygdJCrwsqDehFnaJFIEcX5ye2dbWhkcffRR/+tOfcOTIEfz+97+HRCLB448/jgsvvDDi83O73XjhhRdgNptRWloa8fEB4LbbbsMll1yCyclJmM1mPPnkk2hqasJ///tfvP7660GPxwQ9wkgkkoisegMR4bGxMVRWViIuLm7GADQ6p0jsoVOXuzg9LJRUuFDm43a7UVtbi5GREWzatAk9PT1Bfd7XHICZhWRsbAzl5eXQ6/XYtGmTz72sWIptLPB2z1Mr1Gg0orOzExKJxMM9H0pO/kK10P0hkUiQmJgoBByKF0YAcPTo0Wlphb6eIdxEL1Tv3g7JcB3AOwGZCq68XbDvugOQBx8kxvN8TMsHU5d7oNAFZnZ2Nl5++WW4XC4cP348qNiZQKiurkZpaSlsNhvi4uLw0ksvYeXKyDanoduxmzZtwosvvohf/epXWLZsGZ544gls3boV7733XkiLCCboUSASD3p/gk7LAjY3N2P58uUeOd4zjRVqxLwYGhR35MgRoaFLKClPwQq62WxGeXm5h1u/r68vKs1VxMF9y5cvR25u7ozXdjHsoYeDd5MU7+phNLgpkB7moXgvIsVcB+PRhZFer0dvby+2bNmCyclJjI6OCk15xOlxGo0GHAhU7/4EkoEq8AodHMpkKJyTkDW/CaLSwXHKT4OeR6wt9FDy0E0mkxA4JpPJsG3btojPq6ioCBUVFRgbG8OLL76Ia665Bh9++GFERV183uvXr8dLL70UkXGZoM9TZhJ0WkZ1cnISW7duDSjNKFIu94mJCZhMJuTm5qKoqChkT0Qwgj44OIjq6uppxVsilcsuHoN6HoaGhmbcvvD+/HwV27lGbIUWFBTA6XRO62EuFqloRioHSyyj64GpuIX4+HghrdBkMmF0dBQGgwGtra2Qy+XIQT9y++vxb/5MvDm2DhO8EoUyAy5VfISy5jfh2HIjoNLNckRPQi29GilCEfS5KPuqUCiEoLjNmzfj6NGjeOCBB/DII49EZHyTyYR3330XcXFxkMlkwvaMRqNBXFwcNBpNyDUOmKDPU3yJ8OjoKCorK5GQkIAdO3YE7C4LV/xoYFhPTw+USiVKSkpCHivQ+fA8j+bmZnR1dWHNmjXT+rSHUxhGPA/6ULVarSgvLxcK0wQS3HeyW+j+EBdpEfcwNxqN6OjoEMqHUoGnD/aTwUKniAtNUWhTnvj4eCxduhRutxvj4+Nw1zThXvPZeMu1CXLODSXnRrk9E43OC/AzvILNVgNIkII+H4PiZiMWZV9pnf9IUVtbi4suugipqalIS0uD1WqF1WqF2+0WChxZLBaUlpbilVdeCWpsJujzFCro9GHe1taGtrY2rFixAkuXLg06pz1UC91qtaKiogKEEKxatQpNTU0hjSNmNkH3Dkbz9QOORC47FUuDwYCKioqgCtOIPx/oe09WfPUwn5iYgMFgEOru04DD0dFRD4GfC2Jtofu736RSKfR6PdpSN+FDXgudxIZ4qX2qTgBvQb87AU9ZdiB5xAa9dCKougGxFvRQXP4mk2lacGokuf3223H22WcjJycHk5OTeO6553DgwAG89dZbETuGRqNBTk4O9Ho9TjnlFKxZs0bInpmcnITNZsP4+HhIsQFM0KNApPbQgamynTU1NbBYLNNagAYzVijiNzQ0hOrqaqSnp6O4uBgmkyliBWpmGmd0dBQVFRV+g9HoGE6nM+y5dHd3o7e3FyUlJcjOzg7qs8F8zxMTE2hvbxeCnwKt/rRQLXR/iN3zhYWFcDqdGB4eRkNDA5qamuB0Oj3c81qtNqqCG6viLjS6PpBza3SlwSrpRQrfCxApOE4CTuKGDlZ0yfLQO+5EV38FgMDL+s6HPfRgr7vZbI5qNcPBwUFcddVV6O/vh06nw9q1a/HWW2/hzDPPjNgxSkpK8Nxzz+Gpp57CRx99hMnJSZx33nnYvXv3rNt8s8EEfZ5Cf2iHDx+GXq8XOpWFOlYwgs7zPFpaWtDZ2YlVq1YhMzMTQOSi5X2NI+4nHogXIty50D70AwMDIS+UAhVbmt6XmpqKoaEhNDc3C7neycnJs3b1WmyC7g3NPW5oaMC2bds8epjTFqfi6PlQSqz6I5Yu90CPq1XJwakT4SIOyG1GgLhBOCkcqhQo41OwYe1qqGTctLK+SqXSo26A+BkSaws9FJe71WoNeuEdDI8//njUxqbIZDKUlpaitLQUAwMDePDBB/Hzn/8cGo0GV111FS677LJpW4wBjx3huTIiACEEbW1tAIClS5f6LaMaCMGIn81mQ2VlpU93d7QK1LhcLlRXV2N8fDzgfuLh7KHTYjjAVGnHUMSczsGf2PI8j6amJvT09GDdunXCcWjZUHG5VZ1Oh+Tk5GkBYyeLq17sfvbO4R4fHxcay9TV1XmUWE1MTAxblGLpcg907puX6pCqU6N/Ih3pSzIhJS7YiBxmixunL0uGRjEljN51A2gRpvb2dtTU1AhtTfV6PVwu14IT9Gi73OcCQoiQspeeno5f//rXuP322/GnP/0JP/jBD3DkyBE899xzId2XTNCjQDgPB5vNhqqqKthsNkgkEqSlpYX9sAlUiA0GAyorK5GSkuLT3U2DyMJ9AIrr1NOOcCqVCmVlZQFbX6G2YKVR8zk5ORgYGAir37U/QXc4HKisrITNZkNpaSk0Go1QB9+7G5rVaoXBYPAIGKMPXZ7nF72FDszshaAV1pKSklBYWAiHwyFEz9fV1cHlcnm4mEMpCxpLC10ikcDicOPN2kEcbemDTCLFKSuzcXpRCmSSL+akUUjxg9Pycc+7bRgwOcBBAqmEx4acBFy11fdeq/d9Rj0fo6OjqK2thcPhQFtbG0wm05xsbXgTisvfbDYvaEGn95pMJsPQ0BBaWlpQW1uLDz/8EEeOHMHq1atxySWXhDw+E/R5xMjICKqqqpCSkoKNGzfi0KFDEavB7m8c2g60vb0dxcXFyM7O9vnDpqv5YAtC+BqH53mPSnPLly8P6mESrMudEIKWlhZ0dHQIUfNDQ0NhieVMXoLJyUmcOHEC8fHxKC0thUwm83sctVqN7OxsIWCMWqRdXV0wmUxwOBywWq1+i44sFma7BxQKBdLS0pCWlgZCCMxmM4xGo0eKV7Ad0GIp6DY38P2nP0LNoG1qHgAONA3jo2U6/PJrWyEVifr6bB0evHQ1jnSMYdzqRH6yBhtydB7C7w9x1TVCCA4dOgSdTidY8N6ZB6EUBgoUaqWGsoe+UFun0vustbUVH3zwAVpaWnD06FHY7Xacc845uOuuuzwC4Vja2gJFvGddUlKCrKwscBwX0aYqM41DLUmr1Ypt27YhISHB7zh0vuHAcRzGxsYwNDQ0rT56MGMEOg+Hw4GqqiohFYQ+EMJNffP1g/PVxCUYvC3S48ePQ6PRCE1TeJ732E+eL73MwyWUhRXHcYiLi0NcXJxHihetXFdbW+vhYtbpdD4FJJaCXt45jJoBFeJhhUwydS/aeRk+aOZxWk0bdq8t9PiMTi3HnpLgKjP6gnqXMjMzodVqhYWkr65ndGsjnEW8N/R3txDS1iIFvc/uu+8+/PWvf0VBQQFuvPFGnHvuuUhISIDL5cLIyAji4uJCboLEBD0KBPNwEO9Ze3cNi/SetfeDi0aUJyYmoqysbNYfLH0YhiOCVqsVXV1dcLlcKCsrC7mvcaAu94mJCZSXlwvWsjgoKFS3PUW8ICCEoKmpCd3d3SEvUnwhlUqh0+lm7WVOg+tiGbUcCcLdyhF37qId0IxGI2pra+F2u6dXYPtc2OZE0AkBZxkBkSkBZQIIIagZsoKDCjIJATA1B6XEBTMPHCmvmibokUQcFCdeSIoLA42OjgpxHuLytPHx8WF5iuhzLZj7lXpkFqqg03ssPT0dRUVFiI+Px3333Yc777xTyEEHprxQRqMRTz/9NK688sqgjsEEPYbQtLC0tDSUlJRMu7kjaaGL975p6diWlpag8tppik2oc6L53lqtFlKpNGQxBwJzuVOXvq8OdED4KWH0806nU/BybN++PeIPHHFZ1Jl6mTc2NsLhcHgE1831nmg4RENUvTugzeSeJ4QIMR3RQtrxIRSf/hkSYyvASeDK2wmu+HpwbgcA73vw8+tgG4/afOgCfyZRFhcGAiAUBhodHUVPTw94np+WHhfM90efISeTy51enxtuuAHnnXeecN85nU44HA7Y7XbY7XY4HA6MjIywWu4LBRr93N3d7ZEW5k0kBR2Y+hG53W5UV1djYmIi4Ihy77GCtdBp1H5bWxtKSkrAcRx6e3uDGsMbf4LO8zwaGhrQ39/vt3lMuC53iUQCm82Gw4cPQ6vVhtzK1R/+HpLiZim0GhsNrmtra/PYT9br9TFtxBFrZnLPGwwGAIE3SAkFac9nUL31fUw4CJq5AmhgRVHzW0gbrMMOVRmaTWlwEQlk3OcudyKDBATbUiJXncwbet8Heo5qtRpZWVnIysry8BQNDw+jpaUl6NgFGhAX7CJuIQs6hcYxRAMm6FHA301qsVhQWVkJnudRVlbmN2JTHA0eDvRHOzo6ivr6esTFxQUVUe49VjAi6HQ6UVVVBZPJJOzR9/f3R2Qf3pd1TbcwXC6XEF0+E+G63O12O4aHh5Gfn49ly5ZFzRoOZI7iamw03YumxnV0dKCurk7YT05OTkZCQsK8st7neh+buud1Oh26u7uxdetWQaRorEI4FqgY2Ykn8A/zFjzjPB3jRA0peCyXDeA29/PYs2QIH1v60cxnAOTzVEUQlMkaceqX9kTylD0IVtDFeHuKaBrm6OioELsgTi3U6XTTvI+hBMQtdJe7mGjd70zQ5xCaMpWRkYHi4uJZ948iZaHTG6eiogLLli1Dfn5+yDdTMHOi+9d0AUEtxEgUqPE1Bo0JSE5OxqpVq2a9vqFa6DRifnx8HOnp6Vi+fHnQYwRKqN+TuJXpsmXLYLfbBeudtp6lf09OTo5qRPN8hi6WVCoV4uLihAhwk8kkWKDNzc1+C7RQxixOvFI1iKOdY1DJJTijeAnOKE7BgS7gIfs54DggkTPDBSlqnNn4qetq7JVU4a87zHjt6Bs46CyGAi6crmzAl8/6MmRp4fVM8Ec4gu6NVCpFcnIykpOTAXwRu0ANCKfTCZ1O59GYJ9Q67oSQRSHo0YrdYII+B9DmJr29vVi1alXA7pZICLrL5UJNTQ0AYOXKlWFXWQpUjGmNbl/715EWdEIIurq60NTUFFRMQCgWOvU4mM1mpKSkBPVwCXXPPhJ56EqlEpmZmUJwHW112t/fj8bGRiGiOTk5OSZ577Gupz5Tg5Tc3FyPQkDt7e3ToucTEhJgtLjwnedr0Gm0CufycdsoPmkzwmDfDjeANIkZACAHD7lkEr28Hp84l+GSU2/EZev7cGXvEUCqgGvptUF3TgsWaiFH45p7xy5YLBYh1qOjowMSiQQajQY8z8NqtQacqWE2T12/xSDoQHSKRjFBjwLiL8psNqOyshIAgo7qDlfQJycnUV5eDrVaDYVCEZEfwmxzoi1IBwcHsWHDBqGohZhItT6luay1tbUwGAzYvHkzkpKSgh4jUEwmE06cOAGNRoPS0lI0NDTMSbe1aIwprihGI5oNBgPq6+tht9thtU4JU6jFWoIlVsVzAunD7m2BikvTUvf8OwNqtBvsiJMRyOECAQc7FHi3YQRabinUnBEgPMBJABDI4QAHDTqURVPzSMiEK+GiqJ8vZa7KvnIcJ1T+o3UWJicn0d3dDZPJhCNHjghlkGl63EyxHmazGVKpNOSUrvnGxx9/jFWrVkW0Nj0T9CjS39+P2tpaZGVlhdQ/XCaThdy2j1rINB86UkVq/ImxxWJBRUWF0IJ0ppV3pCx0t9uNTz/9FBKJBKWlpUH/0INxuQ8NDaGqqgpLly4ViuDMVeOUaB/Du9VpeXk55HK5EA2uUCg8gusimY8sZr5Y6LPhXaDFZDLh7ierIXXZIHeZAEwViFFxEtglSZBqtbC6XUjgreDIVEyME3K45XFIDLHscLjEqo67RCKBTqeDxWKBw+HA2rVrBe9Ha2srrFar4P1ISkryqB1Aq8RFa9579+7Ff/7zHzQ0NECtVqOsrAx33XUXioqKonK83bt348CBAygrK4vYmEzQowC1Gvv7+7FmzRqkpaWFNE4oFrrb7UZdXR2Gh4c9LORoNlYBvkjBo/EB/n50kZjL+Pg4nE5nQMfzN4/ZxFJcRc+7L/tc9UOfS2hZyqSkJGRnZ3u4m9va2lBbWytEgycnJwfVrtMf89lCFyPpPwF543/BmfrBpxTBWXwB4hNzIXebp8SaA4ApKxyEB1w2pMvc6JRrMYQ86KR2uCHBmFuFFI0EGzNiE7swXxqzeJentdlsgnu+t7cXPM9Dp9PhvffeQ0ZGRliprrPx4Ycf4jvf+Q62bNkCl8uFn/3sZzjrrLNQV1cXlXKzO3fuhMViieiYTNCjgMvlgt1ux44dO8Kq5BWsoNOmI3K5HGVlZR4Wa7SqzolLqvpLwRMTjqDTFLjW1lZwHIeVK1eGNA4wuyC7XC5UVVVhcnJyWtGfQD4fKWJZy13sbl6+fDlsNpsQXNfd3Q2O4zys93CC62JloQd6XFndi1B+fA/gsgKQQNr9CWQNr8L25XtxBvcZ/oHNcEMCKTdVJMZG5JCAxzVLmlGp3IQ3my0Ysisgk0pQoJfjylUaaBWxEdX50DrV1/FVKtU070dPTw/efPNNVFRUQCKR4Nprr8WZZ56JM844I+SuZL7w7nm+b98+pKam4vjx4zj11FMjdhzKqaeeijvvvBMpKSlIS0uDWq2GUqmEQqEI+bthgh4FVCoVNm7cGPY4wYgwLaJCXcLeq+9odEoTl431JXj+xghlLrQr28TEBNavX4/y8vKgx/Cex0wLC7PZjBMnTkClUqG0tNRnit9cWejzqTmLSqUS8pF5nheC62i5UJqulJycPGOpVV/E0kIPSNCto1B8+heAd4Jo0wGOAwgPzjQI5eH7cZ20GR9JctHBpwp1YjgQnC07jjNSgN07N+MGmxPVXSNwWiahdU9iYnwQQxapkJGQlJQUte0Mb0JJG4v08QPJQomPj0dJSQneffdd/Pvf/8bevXuRlZWFBx54ANdccw2eeeYZXHbZZVGZ4/j4VGGfcHuU+8LhcOCtt95CfX09vvSlL2HVqlWIj4+HTCaDVCpFfHw8nnvuuaDHZYIeJSLxIA5EhN1uNxoaGjAwMOC35GgkBZ26YSsqKqDT6QIqG+s9RrBd20wmE8rLywWBpZWuwomOnuk7ovvlOTk5PhdHs33+ZEEikSAxMRGJiYkoKCgQOqEZDAah1Kp3JzR/zLee5A4Xj8Pto2g3WJBiasZZFgcS4/RTYg4AnAREmQDJSANSUjLxtOsevMCfhsOu5VBzDnxZXoFz8AlcqXcBAOJVcpStyAAwleXS2NgIu90uNOywWq1ISEgQKv1FajtjpvOOpaCH4iFwOBxYsmQJfve73+F3v/sdDAZD1IolEULwgx/8AF/60pewevXqqIx/wQUX4JJLLoHT6cTk5CQsFgvsdjssFgur5b4YmU2ExUFogRRRidQe+ujoKNra2rB8+XLk5uaG1IAECNw6GhgYQHV1tUdXNtqKNFxBF18TcUW71atXz5peGG6luUDnuFAWDb46oRkMBiGXm0Yz07rz4kXgfLPQRyZt+OlL1WgemAB4NwiAx8kt+K38bWxW9097v3PtFUga+X/4lvtVfFOhnLLeeRd4/TK4ls1cIEaj0WDZsmUAviivSjvtAfDYzohkdHesBT2UPHTvojI06yAa3HTTTaiqqsJHH30UlfGVSiV+9KMfRXxcJujzGH+CTovUZGZmBhQUFqmc9tHRUdjtdmzatClkV5S4yYu/eYsbnqxdu9YjuJA+hMN5MInFUuzOn63rnK/PMzwRl1qludw02Ik2+6DFRmju+7zYQycEsuY38PAbTWg0L0ciTFBwLrgJByN0+MHIV7BWOYgJosIqxQAu4A5gRXY6XCUXwaqIh/LIfZCMdYJIpHAVngX7KT8B5L7jaHie97AwxeVVaXqXuFYAbcQTie5n82EPPdhKlXPVC/3mm2/Gq6++ioMHD4Zdt8MfFosFH374IQ4ePAidTodbb71VaCudnp4e0gKOCXqUiJTL3bv0K60D39PTg9WrVwccFBKuoNOAO7fbjfT09LD2lQLpq0735202m8+GJ5Ho/Ea3D8xmM8rLy6FQKGbcL/dFsN/xxMQE5HJ5UIGSi2XRIJVKPaKZxXXnOzs7BW/HwMAA9Hp9SGWJQ8Fb0GWNr8G6/7f42PwjqGGHgpv6/Um5qe2dfpIIt51DksSCt53LcEyajZ8sK0YJx8G97CxYCs/4vKOaGlD6jynxt4ih6V20VoC4EY/3gigU9/xisNAjDSEEN998M1566SUcOHAA+fn5UTuW3W7HI488gr1790IqlUKtVuMnP/kJ+vr6cNttt2Hjxo247bbbgh6XCfo8xluErVYrKisr4Xa7UVpaGtRqNdRANGDK5V1TU4OcnBwPd3eozCbG4+PjKC8vh06nQ2lpqU/Rj4SgcxwHi8WCw4cPh1QrIFCXO60U2N3dDZ7nERcXJ0SOR7IJyEJCrVYjOztbKDbS09OD9vZ2dHd3+6w7H61r5CGqvBvyow/DYLfDDSnkcArvc0AOM9TgQJAkdyNVKQEvU6KTz8S/uhNwx+rPx+EkINrAWucGI6riRjwAhOprBoMBnZ2dQvvTQN3zsQ6KC8VDEG0L/Tvf+Q7++c9/4pVXXkF8fDwGBgYAADqdLqxsJTH0fjtx4gQefvhhvPzyy0hISMCFF14IYKpxy4YNG/DRRx8xQV9sUEEnhGBkZARVVVUztloNZCyn0zn7G0X48ga0trZGpMrbTGJIC+IUFhb6rTkvdrmHAiEE4+PjMBqNWLNmTUDpdjPNwR/U02C327Ft2zZwHIexsTEYDAZUV1eDEIKkpCRB4L3TvhaLhe4PiUSC+Ph4yOVybNmyRagFTq8Rz/Mee8mRergCnoLOmYcgGe9EGkzI4AxoIxmQgEABF2xEDjckkIGHVqOCO3kFACDB6kTDoAlWJw+NIrjfpL/2pbNBG/F4Zxv09fV5lPKl7nnv58V8sNBDaZ0azX3zhx56CACwa9cuj9f37duHa6+9NiLHoPdbZ2en0OPi6aefFuKfOI6DVCrF2NhYSOMzQZ/HUMu0qakJXV1dWLlyJbKyskIaSyqVwmazBfx+2rXM6XR6eAOikf4GTD1g6uvrMTAwMGPJWF9jhCJ2tL79+Pg4kpOTQxJzYHYLnZaKjYuLw7Zt20AIAc/zHnWuJycnYTAYPGqqU3HX6XTzqiNaNBELq3ctcJPJBIPBgMHBQTQ1NXnsJSclJYW1FywWVaKYcuce5YswSBIxDi3GSBykcEMGNwg4JGMcam260MHczROoZFLIJMF/T/4i7IPBO9uAlvI1Go1CJH1iYqJHc5T5IOihWOi5ublRmtHcBmbSDB1g6vujz1en04mOjo6Qn0lM0KNEJH6odP98cHAwqDxvXwQjxEajERUVFUhJScGmTZs8XN7RqDhns9lQXl4OQojfkrH+xggUi8WC8vJyyGQy5ObmCg0fQsGf9UxT33Jzc4UoZm8PibgNJa2pTi1TmvZF99yDaWKxUPH1mxE3SsnLy/PYS25qaoLD4YBOpxNSvbRabVC/PQ+XuzIeh3Xn4Fvjp8MK5ReiDSnckEIJBxQSDrwyHhwAu4uH2e7GaStSoJAFL47RElXvUr7i6HnaHEUmk0Gj0cBut8ek016o3dbmIigumtDve/PmzUhPT8fdd98Nq9UKYOr5sG/fPhw8eBC33357SOMzQZ+nGAwGoanLxo0bww4GCUT8CCHo6OhAS0sLioqKhD1z73EiaaHTxcOSJUuwcuXKoH7kwaaNjYyMoLKyUigX29XVFdaq3Jegi1PfxKViAzmOXC73SPsymUxobGyExWLBkSNHoFarBes9MTFxUe29B/o9iPeSqVjR4Lq2tjbI5XIP9/xsecpiQSeEYK/9YlhhwVQ9dg4cePD4/O+QwKJOR/eoHRw3lY6+KiMel2wMrHuir2NH+zvkOE5wz9N4hYmJCTQ2NsJkMuHjjz+GVqv1656PBqEIuslkWvCCDkx978uXL8d3vvMd/L//9/8wMDAAmUyGlStXore3Fz//+c9x+eWXhzQ2E/R5hlgQioqK0NDQEJFxZ7PQadrW+Pg4tmzZMmMHIKlUGhELneM49PX1oa+vb8bFw2wE6nIXL1RKSkqEVJRw88i9Bd3tdqO6uhpjY2MBp775Gzs+Ph4JCQngOA75+fmC9U57TIv33heD9R7s9y8Wq5ycHPA8L9Sd7+zsnFZ3nl5LMWJB7x23oW+SB8dJwRMe3OdNViQAeHAgUgXi1Qp8fWM6XDyQr1dja14iVPLQBDBSLvdgoO55rVaL+Ph4ZGZmCtZ7Q0OD0Ls8VI9HoIQSFGexWBZF61QaWHzuueeirKwMr7zyCjo6OpCYmIhzzz0Xy5cvD3lsJuhRIpQfgcPhEHptb926FTqdDi0tLVGpwS5G3Ga1rKzMb8pQJFzubrcbTqcTAwMDfhcPsxHIXNxuN2pqamA0GoVrSgk34Ez8eavVivLyckilUpSWlkbMjUnvI5lM5uFG9VW0RWy9xzLHOBQisX9JS6jq9XoMTNjwUnkfOjomoOs2YHVcDxKV0wu1iAWd5wGp5Atr3OMnTAC5hAMBsGt5CrISwy/yEst9bHpsb6+QxWIRBL6trQ0ymczjmkUqnTDUoLiFLujUM/Gf//wHCQkJOOecc6YF3FVUVECv12Pp0qVBj88EfZ4wOjqKyspKoZQqdRX6ykUPhZkEndaAz8vLw7Jly2ZdiITrcqd72ABQVFQUVi/g2Sxsq9WKEydOQCaToaysbJrIhhpU5/350dFRlJeXIzU1FStXrvT5oKKR/aHgPUfvoi3ifeXGxkY4HA4kJiZ6WO8LIbguUnP8rGMMP3qpHhane6quOge8q1TgN2fnQiu3eQQgKpVKuFwuuN1uZCWqsHyJFp9ZHAABeDLVPO3zIaBRSJGkkWNJXGREbS5c7jPhazEh7l1OPR40E4SmE9Ja/Xq9HjqdLqSFIw0ODeazdBG70AWdnvNDDz2E0tJSnHPOOdPec9NNN+Giiy7CD37wg6DHZ4IeYwgh6OzsRHNzs89SqtGMKm9oaEB/fz/Wr18v5LfORjgu9+HhYVRWViIrK0tIzwgHf4JsMBhQUVGB9PR0lJSUzCiy4brcbTYbjh07FvK2QSDHmG3R4b2vbLFYYDAYPPqZU3EPNyo8WoRtobudkLZ/ANL1KX5dvgUWpxpqhRycZOr6TdpcuPfDPvzrGxuFAMTR0VH09PTAarXi0KFDSExMxAUrtOgZVaJn3A6eiMVcArVcggvXpYUUAOeLWLjcxcee7T6gue1JSUkoLCwUavUbjUZh20ccPR+oe54+z+ZbYZm54NixY1AqlbBarXC5XOjr64PL5YJKpYJKpRKykQLJ8vEFE/QoEciN7XQ6hfSpmVzP0Wh7arVaUVFRAULIrDXgvQnF5S7uKU5brH766adhu+59zUW8QCouLkZOTo7fz4cqJLREo8ViwebNm6OaHxvMHMVW1tKlS32WXBVb7xqNZt5Y7yHPw2WH8v2fQ9ZxAJ/ZczFk2w4lLJA4ZSCKOHAcB7mMQ/eYDY2DZpSkxwmR4NT7VVRUBIPBABiN+J98K44OS1BplMDiAuKUMuTo1bhwXTrOWx1Y0ZhAmA8u92DwrtUfqnue/mZPpj10er2ffPJJfPLJJ6ivr8fQ0BA+++wzEEKEanFtbW2QSCRYu3ZtSMdhgh4jxsfHUVFRAa1W63ffWiaTRVTQaaR3OAVqgpmP0+lEVVUVTCaTR+pdJPbivS1st9uN2tpaGAyGgPbmQ91Dp8ViqMUQTTEPV2y9S65S610cFS623ueqfac34Vjo7sa30dDcDLlyGSzqFPCTEnCEAG4bOJsTkMghkSrhIhLYXZ73LnV7ixdBa9a4cdbnwXV9QyMYNVmRoZchNc6CycnJiHVBi6XLPdxKcd7uebfbLbjnu7q6PKr9Ufe8uORzsFtQPM8vaAudnvv555+PnTt34ve//z02bdqEkpISmM1mWK1WOJ1OlJWV4ZJLLkFRUVFIx2GCPscQQtDd3Y3GxkYUFBSgoKDA740dSZe7y+VCeXm5R6R3KOMEKsQ02I4uWsQpRJGIlhdb2DQoTSKRoLS0NKDGBqEsKiYnJ3HixAnEx8dj+fLlQlesaBLJghfiqHDaBpe65q1WK3Q6HRwOB7Ra7Zw3TAnlWG/XD+OxtzmM2L4BcBzSZZNQwAU7ZNAQN0DcILwbdheQqFGgKM1TEHydo1QqFRY5y5cvh81mEzIMuru7wXGchyUaagBkrF3ukVxMSKVS4XoAEKr9GY1GoaYCdc+rVKqgBZ3Wi1iogk4588wzAQApKSnYvXt3xMdngh4lfN2sLpcLtbW1MBqN2LhxY0CWXSQE3eFwoLa2FgDCiiqn86G9yP39IPv7+1FTUzNjsF0kLHTvXHZ/QWm+CNZC9y4WMzQ0FLQ7PFii+cAXCxfwRcOUjo4OdHV1ob+/38N6j1bvaSC0RcvR9hH84Y1aOOwSyIgL40QLg2MqT1kCAh4SSOH+/H953KJ4DWrpl6Ydd7b7RaVSITMzE5mZmUIXNIPBgN7eXtTX13sEigVTHyDWQXHRjKXwrvZnNpuFRdHo6CgIIaivrw+4XoDFYgGw8AWdEAK3243du3ejvLwc+/fvR1dXF7773e9i+fLlQknYUL1+TNDniMnJSVRUVECpVPqMuJ6JcAVd7NoHwv9BiJui+HogiOu/r1u3DqmpvvccI+VyHxkZwfDwMIqKioJO8wg0KG6mYjHBLghCtbTnqiQlbZhiNBqRmJiIuLg4GAwGtLe3CzndVODj4uIiutgIyhtAeMgrn8ar743CblsOLawYQPLnAWwE/OcFYWRwQ8dZUCgdxNXy93GGuxwW4zfBp3zhzgzWCyHugkbLrFKhqqurEyxRmsftLz5lMVno/hBnZSxduhQjIyNoaGiAXC4X6gXM5J6nmM1myOXymFS1iyQcx0Emk+HgwYO47rrrEB8fj6qqKlx66aVYvnw59u3bh8bGRjz66KMhPauZoM8Bvb29qKurCzg1TEyogk4IQU9PDxoaGlBYWIjc3Fzs37/fb8vSQPAn6Ha7HZWVlXA4HLN2gwtX0N1uN0wmE5xOJzZv3oykpKSgxwhEkP0Vi5mLximxeuCLc7qBqfK84nan1MVKhSsS1nug5yovfxKKw/ehzfFDyOHCOOI+LwEz9V1w4CCDGxIQfF/5Kr6mOgbwToB8Xt5NRLjbCt553N71AZRKpXCNxDEKtJb3QgqKiyQKhUIoiWy32wX3fE1NDXie9+gcp1arYTKZohrAefDgQfzhD3/A8ePH0d/fj5deegkXXHBBVI4FAD/+8Y9x8cUX46677kJGRoaw8Lv44ovx1a9+NeRnIxP0KMFxHNxuN+rr6zE4OBhUapiYULqkud1u1NXVYXh4WHDt0wdXuO57cWCL+CE+NjaGiooKJCYmYuPGjbMuGsIRdFr73e12Izc3NyQxp3PwJ8jiYjG+AhfnqhPafOi2plKpkJWVJXT3Gh8fF1p30gAoar2HEjQW8Dk6rZBX/h08JIiHBa3IgA1yEEwVgxHeBjkI3Gh0ZwCEgHM7wesLwOuXTTtupETCuz6AOMNAHKNAxR1ATESVun3nS0CeUqlERkYGMjIyhJLHRqMRw8PDqKurw6233ooVK1ZAr9djdHRUWGRGErPZjHXr1uG6667D1772tYiP7019fT1eeOEF4di00mNycjL6+/sDigHyBRP0KOF0OnHkyBFBDEItzRlslzRauIUel94YHMdFbN/a21Xd3d2NhoYGLFu2DHl5eQE9IEOdCy3ismTJEmg0mrD2Af0JMj0OzQaYKY99sVro/hDnJwNTFha13sVBY9QyDbS62Gzn6nDxeO9EK46PfBnH3QUY5rWwQinUWhfGAYEEbjghhZ2XgnPbQOQa2Hf/CuA8v8doBv55ZxjQJil0IQRMdVJMSUmJaBW22RB3+YoF/uq4i5vx5Obmwm6345e//CVefPFFDA4OIjU1FVu2bMFZZ52Fq666SrDyw+Xss8/G2WefHZGxZoPneaEKKE2rpXFNNTU10Ol0Id8LTNCjhEwmQ35+PtLT08P64QRTKY4GbWVlZaGoqGjacSMZMe92u8HzPOrq6jA0NBRwkJ94jGA9D11dXWhsbMSKFSuwdOlS1NbWhrVAmWlRQRcos+3Ln0wWuj+USqVH0NjExIQQEe5tvfuqpw6IzpHwkAxWg7MawCcVgCTmAQAmbC7c8kItavvG4XRtBQ8pOBDEw4wJaD93uQMAgRwu8JCAAxCn1cK55mo41l4Joi/0edy5WjSp1WrBy2Gz2fDJJ59AqVR6XCd/+8iRItQ88EgRTGMWpVKJiy66CBKJBD09PXjttdewf/9+vPPOO+jp6YmYoM81119/PX77299CrVbD6XQKwYK33347Lr744pDHZYIeJTiOQ1ZWVtgP40BEmOd5tLS0oLOzE6tXr0ZGhu/uT5EsUmO1WlFTUwMAHp6AQAnGQhcvHDZt2iS43CJZi50eh1bPEx8n0M9Hg/looftD3JubVhej1jvtHii23mmQk8nuxvvNBjx96B9QO4z4srwCZyrrINEmg9ek4MHx3agbyIWC2OGEGhym7p1JaKCFGWZoQCCB9PPodjnc0MlcUG68HPYdM/fQnuvUPAo9Jo2poWleBoPBYx+ZXqdINt+hv7v5aKHPBO20lpWVhWuvvXZa/fOFhEQiwfe+9z0cP34cV111FVQqFa644gp0dHRgy5Yt+MMf/hDy2EzQ5zmziTANRLPb7SgtLfUbGRkpQSeEoKqqCunp6UGliYkJVNBtNhsqKirA8zxKS0s9HmzhbiGItw4cDgcqKiqEgL5AqucFK+g8z4e0dznfLXR/TDqBIV6LzKV6rFy5UrDexSlfMm0ifnVgBH3jHAjJBIdM7LevxlctH+H/TT6N90g8/ulMhwuAAhCi2YGpfXMJJFDADQKCdNkEEmUuKLU6jEuWoCTDf8e7WAk6jXCnx/ZO8zKZTDAYDBgcHERTUxPUarVgvYdbvpc+A+Zz2VlvFkMvdDGJiYmCt6G6uhpOpxNbtmzBaaedFta4TNCjSCQsOH+V4kZHR1FRUYGkpKSoB6IBX7QhdTqdyM3NRUlJSchjBTKXsbExlJeXIzk5GatWrZr2EAi3UQwNiqPFYhISEgK6jpRgasHTPXmXyxVU29OFZqFTrE43fvtWC16rHhSanJxZkoJfnbsCBQVTKV/UKv3LwS50jzkghwvuz13pHNx4lS/DUUcRhpAEM1Qg4DDx+d8JOEhAQAAoZFK4JSo4XARSXRasEg4WANvzkrAlV+d3nrFKHfN3XPE+cl5enkfznaamJtjtdo/UuGBbnNII91jdW6Esak0m04LPQffFmWeeKRSbocGK4SzWmKDPc3xZ1YQQdHV1oampyWdDl2DGChSXy4WamhqMjY1Bo9GEXe50NkHv6elBfX293/OLlMv9yJEjyM/PR2FhYdA5yYFA0xaXLVuGhIQEGI1GDA0Nobm5GWq12qPtqa8xF6KF/sv/NuGtumHwdGscwLsNI7A5eTx46WoAX1ilx4e74AIHJ7y3bQg6kYZEmOCCBDYohb1yDoCb7ptzgEYhw9osDVLjFJBLJdiWn4Rdy/WQS/1/R7FKHQvmuN7Nd8TBdbSGOhX3QFIIY52y5p0hEwgLueyrL5qbm/H666+jpaUFwFQWCa3tUFRUhMsvvzykcZmgz3O8RZgK6+joaND516EKutlsRnl5ORQKBUpLS3HixImoNFYBPPexZwu0C8fjQJu4APAbdzAb/o5PCEFTUxO6u7uxYcMGJCYmwuVyCRG8LpdrWlESur+cnJwMpVK5IC30wQk73qwdhvcyhCfAwRYj2g0W5Cd/saVhNDumvXcKDm5IYYAOEvCCZT5lnfMAOCjhwBKVBHs2Z+LKLVlQyYOzbmLtcg8WjuOE8r3Z2dngeR5jn9edp0VaEhIShPsoPj5+mnjPB0EPNubGbDYH1UQqWEwmkyCuANDe3h5WX3Jf0Hutvb0d3/72t3H06FGsXbsWHMcJtdyHhoawe/duJujzkUg8KMQibDKZUF5eHnS1OV9jBQqNnM/OzsaKFSsgkUgishfvS4ztdjsqKirgcrkC2scOVdDF3gYAM1azmw1/HgKXy+XRlCYuLm7aNZPJZEhNTUVqaqrHvint163VaiGXy8HzfMwfwsHQYbTMINBT3L2/FQ4Xj1GzDTLbOKzO2e9jHhIARCjlmoJxXC57H+fFNSHu6uegjU8Maa6xEvRIeQa8CwDRIi00ToEQ4hFcp1Kpol72dTZCcStbLJaQ6ngEyrFjxzxqq9Ne5Ndccw2efPLJiByD3muffvopmpub0djYKFSdjBRM0Oc5VDxpbfSlS5di+fLlUQ1EA6ZuvpaWFnR0dEyzYCOVzy4WuPHxcZw4cQJ6vR6rV68O6AcfSj9zq9WKEydOQCaTYcuWLTh06FDILu2ZCtNYrVYcP34cSqUSpaWlAbkXvfdNaUnR7u5uTE5O4qOPPvIZHT4fydT5t74+ah0FBMkP/DymasFxiIcVT6r+iCx9AipyvoHx4xVBxSWIWWgW+mx4F2mhdefpIlGj0UCtVgsBmrEQ9lAWpyaTCQUFBVGaEbBr164529oihKCkpCTknuf+YII+z6FWYG1tLdauXYu0tLSQxwrUsnY6naisrITFYvFoeRrsOP4QLwrEe8yBFqahYwTzI6RNXNLT01FcXCx8NtTFiS8LnQa/0WOEaoXRkqJOpxMymQwFBQUe0eGB5HbHipwkNbbnJeJo5xjcPr+eEGvaf75nvkFnQs7Vz4EkZGG9j3KrKpXKIy7Bn2jFUtCj7XHhOA4JCQlISEhAfn4+nE4nRkdH0dvbC4fDgUOHDk2rOz8X1yJUCz2aLve5gH7fZ5xxBtrb2/HYY4/h61//OgghUCqVUCgUkEqlYZXmZoI+j6EpWwCwefPmsLqkAYEJ8cTEBMrLyxEfHz+jdRlJC72+vh59fX3YsGFD0CvWYObhq1gM/WyoK3P68KOiQBcmMxWkofW7gz2G94NZnLNcWVkZcmW2aHLXBcW45YU6VPZOiF4NzwKSgCBODvzvhXtAPq+p711uVRwR3tjYCIfDIYgWtd7ForUQguIihVwuR2pqqmCdl5SUCPdRa2sr5HK5R935aHXXC0XQF1NQ3JIlS6BSqfDDH/4QTzzxBAoLCyGVSqHRaGA2m3H55ZfjvPPOC2lsJuhRJJzVLn1Yp6SkYHx8PCIuVtoTfSb6+vpQW1s7a5/2cNPFgKkfNW34EWjetzeBuNz9FYuh5xeOhU4/39LSgp6enqAr5gWC9yLAO2dZXJnN23oPpa56JNBrFbjnwmK8UTeEf33WhV5T6PcLBw4SCQetQoINOTqsyoyf8b3eEeEWiwUGgwEjIyNoaWkRmqXQlrCLzeUe6LGlUim0Wi20Wi1ycnLgdruF4Dpxdz1xcF2k5huqoHt7Chca1Cvzz3/+Ew8++CA2bdqE4uJi2Gw2WK1WWCwWdHd3Y3x8PORjMEGfZxBC0N7ejtbWVhQXFyM7OxuDg4MRq/DmcDimvc7zPBobG9HX1xdQExnaEz1UxsfHUVtbC47jsH379pBdTLO53GmxGKfT6XPRQK3fcC308vJyWK1WbN++fdbiF8EGJM02P47jPNp50rrqBoMBXV1dUemK5o3B7IDLTZAar5hqAMQT/PnDDrxY3g+TzQEXCVQICCSfh79NpaR9HtHOAVqFBKsy4vGTswohCVBYOI4TRGvp0qUezVKam5ths9mEe28uXc5AbCPNfd2DUqlUWOgAU95Bar3T+vzi4LpwDIxQBX2hF5ah3/mrr76KzZs34/nnn4/4MZigzyOcTieqq6sxMTGBrVu3QqebKooRyZKt3uMEG1kOhOdyp16ArKws9Pb2ht3KdaZ5BFosJpTAOgptmsPzPLZv3+5XLGnRCEIIHA6HUNiDNs2JFN511WlXtI6ODtTV1Qk9zVNSUoIuSOJN85AZD3zQjoreCYAAhUs0uGWTEq0VH+G5zjzYiBRuBPPgJtDBgptkL+MCycfo5ZNRsfFOcKkrkZWowoYcHWSS0Ofr3SzFYrGgqqoKFosFR48eFVzO1HoP596cjfneOlWlUnncRzS4Tlzhj0bXz1Q/IZzji6FtaRe6y52ec1FRUdhbljPBBD2KBPOwnJycRHl5OTQazbRWndESdFppLpjIcmDqxvRl6fuD53k0NTWhp6cH69evh1qtRk9PT1Bj+JqHrx/G4OAgqqqqAioWE2xgHWV0dBQnTpwAAKxbt86vmNO0M2DKJczzPAghwmtU1H2JezgeBHFXtGXLlglbHLTbl0wmg16vR0pKStACNjxpxy0v1MJgdkAhlYDjgPr+SfzwlV6ooYeFyDzamQYCBw48JFgvaYVeakFieh7yT98JSKITia3RaKBUKoV+5mNjY8J+Mm11SgU+3MWPN7G00IOt1CaRSDy8QDQDw2g0oq6uzqP6Ia077+9ahRoUt9AFnV6TzZs3495778Wjjz6Kc845BxzHQa1WQ6lUQi6Xh+VFY4I+D6DBVDMJUCS7pFEx6e7u9uhcFszDKliXu8Ph8Kg3r9VqYbFYwl6leosdIQStra1ob28POCMgFMGkVexWrFiB+vr6Ga8dDYKj351UKvXYd6d/o0FKFIlEEpWHvXdPc28Bo8FjLpdr1mvyWs0QjBYntEopHC4eTicPzmXDGNQwILQHLwFQyPVivbQTrpVfg23XHVETc+GYn++he7ucrVar0FSmvb0dcrlc2LqIRMBYrPfQw7m/aAZGWlqaYD3T/uXNzc1CnAINrhMvFOl9fzIGxdF77ZNPPkFtbS1++MMf4i9/+Qv0ej0kEglUKhWMRiMeeeQRrF27NqRjMEGPITzPo76+HgMDA373riNpodOiKsPDwwF1FPNFMC53GjWfkJCADRs2CD9u+kAJ5+EinofL5RK2K3yl2s1EMIJOCEFjYyN6e3uxceNGJCUlob6+3ufnxS52ehzxA5yeM32wUVGnDzwavCi25iMp8uKCJMuXLxcEzGAwYGxsDCaTaSpVKCEJh/ucqOozIV4pw9mrlmBtVgIaB03geR6jJucXJVgRXnS9RibBTy49F5bsqwHZ3OTZzxQUp1arkZ2d7VGNzWAweASM0QUALdkZ7HHn0x56qIizDLzjFMSeDroYonvvwRzf7XbDarUuaEEXL+C2bNmCtLQ0SKVSTExMwGq1wm63w+VyYWBgIKzzZIIeRfz9yK1WK8rLy8FxHMrKyvwWw4iUoLtcLkxOTgrHDLb8IiXQKHdaDMdX1HwkBd1isaC8vBxyuRylpaVBpW0FujhxuVweuflarVYQa29BF1vege6Ri61y6qK32+3o7++HQqEQBJ6+L9JiIBawyspKqFQqTNh53PxcAwatZCrSnAOeP96HG0/NRUqcAg6XGzwiY2WqJBz2FGpQkpcZkfECJZAod+9qbHTrgpZbDSXwMNYWerTiA7zjFMR15zs7O4X7dmhoCCkpKQH9Vs1mMwAsWEEXL954nsdFF10UtWMxQY8Bw8PDQvvRkpKSWR/OkRD0kZERNDY2QiKRYOvWrWEJwmwud3EN83Xr1vksrSq+wUOF4zi43W4cPnwYGRkZIRVyCcRCt1gsOHHiBFQqlUfwmzgPnSIW81A7WkkkEmHBFxcXh5UrVwrBe2Lr3d/eezjQ6PDnWy0YsXNCIBrhCXjw+MuHHTh1iQU8wu/RzYFAp5LhitUJ2Jk79/nzoaSteW9d0MDDzs5O1NXVBZQ2GOs99LmqVaBWqz2u1dDQEOrq6tDb24uGhgbEx8cLiyWdTufzmix0Qec4Do888gguuOACpKWlYf/+/QCAhIQEaLVaoTa/RqOBSqUK67thgj6HiPd4V65ciaysrIA+R13loR6TpsHl5uair68v7AeJP6uW7pfbbDahhvlMYwDhCfrQ0BCcTidWrVqFnJyckMaYLcrdaDSivLwcmZmZKCoq8hu0Fgkxp8esrKxEdnY2li1b5jEOtd7pP19775EQCkII3qwbhpsnQse0Kabm8sFQeGKer5xEVqIKp6xdgfPXZWKgpzPkezwcwnV9iwMPAQhpg7Rs70xFf2Ltco/FsSUSCbRarVB2mRZIMhqNqKmpAc/z04LrgClBpwFj0eKvf/0r/vCHP6C/vx+rVq3C/fffj1NOOSVi4//zn//Erl27kJaWht/+9rfo7+/3MIw4joNMJoPZbMbx48eDarolhgl6FBE/iB0Oh5AiE8weLxC6hU73lcfHx7F161ZwHIfu7u6gxwl0PjRVjFaZ8+fWo4IXiqCLYw8kEknIYk7nMZOFTqvLFRcXz3gMeg5icQ1HzKnlUlxc7HPB5+2aF+/VR9J6JwCsDreXmIdf61rKAT8/ezku3uDpWo9lk5RIHtc7bVBc9EdsvVut1qgKlD9i7R2g++feBZJoc6LBwUE0NTVBpVLhxRdfxNKlS6HT6aJ2fzz//PP43ve+h7/+9a/YsWMHHnnkEZx99tmoq6uLWKe1++67D3l5eQCAH//4x7BarSCEwG63C/8cDgcmJyfZHvp8Z3x8XAgMC7RZh5hQBJ12ZlOpVEIanNlsjmi0vJiBgQFUV1cH1Vc8lHx2h8OB8vJyuFwubNiwAUePHg3q8974crkTQtDQ0IC+vr5ZK79Rtz+9rt7Bb4FCm+H09PRgw4YNAQUrzhRYR4PowrHen630rsMeYvEdEOgxAbkEWJuThB+etwWZiaHFbkSDaC4kJBIJEhMTkZiYiMLCQjgcDiHwcGRkBMBU7Ym5brgTy25rM6WseTcncrlcGBwchMFgwCuvvIKRkRGceeaZ2LNnD/bs2YM1a9ZE7Hu79957ccMNN+Ab3/gGAOD+++/H22+/jYceegh79+6NyDE2btwo/P/y8nLcfPPNSPi8fHEkWRj9GBcoND3ss88+Q25uLjZs2BDSqjxYQR8cHMSRI0eQlpaGzZs3C24+6uIJt6uQOCiO7pfX1NRg7dq101zEs40TjKBPTEzgk08+gVKpxLZt26BWq0Oqj+5vDk6nE8ePH8fIyAhKS0v9ijkVA4PBAJfLFbJl7na7UVVVhcHBQWzdujWkzAN6LnK5HAqFQvhHU+V4nofL5YLD4YDL5RK2BnxRPezE89Vj9CwRqphLwOPmEhvuOzMFt2+Px6UrlLAaejE2Njbt2IvFQveHQqFARkYGVq9ejbS0NKSmpkKj0aC3txcff/wxPvvsM7S2tvq8PpFkvlWp84VMJkNWVhb27duHP//5z8jPz8cFF1yAgwcPorS0FP/85z8jMh+Hw4Hjx4/jrLPO8nj9rLPOwieffBKRYwBfxNk4nU78v//3/2AwGAB8sYUWqU5vzEKPIjzPY2BgIOz63jKZDHa7fdb3EULQ3NyMzs5OrFmzZlqvXbGrNpwVOl0YeHdlC9ZVFIygUw+AOGJevKgI9aEsttAtFguOHz8OtVodcOW33Nxc9Pb2orm5GYmJiUhJScGSJUsCLiNKG/BIpVJs3bo1YsFKs6XFeRe1OdY1jrfrDTBaHGjqs4IQNxBGBHuRtB/fP28LdqwuBAChGInBYEB1dTUIIR57yyeDoHsfV61WIz8/HwUFBR4Nd+j1EbeEjaT1HmxhmUgSyrEtFgsSExNx00034aabboLdbo+YAI6MjMDtdk+rWZGWloaBgYGIHAPw3H699dZb8cEHHyAvLy/i3wMT9ChCH9Lh3nyBWOjiYLTS0lKf4kof7uH2QaYW+uHDh6HVakPaRgACK7sq7svuXSwmEqlvVNANBgMqKiqQlZWFoqIivw95cfAbfSBbrVaMjIxgeHgYra2tUCqVQvpOUlKSz+tNqwPq9XqsXLkyqg/ZmfbeeZ7H05/24NFPeuBw8+AJgcNNEKqYx8GM/xa9A/1Xfg0ov4gT8S5G4l1KVC6XQ61WY3x8fE7bwcZS0MXft/d+sq8+5lTcZ4oGD5T5soceKN513KOxNeF9D0TrvnC5XBgfH8ctt9yCvr4+rFu3DkuWLEFcXBy0Wi3i4+PD6pPOBD3KhFO6kzKboNM9ep1O5zcYjf6Iw91HHx0dhcvlQm5ublAudm9mS3+brViMr7SxYJFIJBgZGcHg4CBKSkqQnZ0943upe5+6ycQudrVajZycHKFzldFoxMjICOrr6+F0OoUSqykpKVCpVBgeHhZiDoLpAR8MDjePQy0G9I7akJOkxpeW6SGXSjys994xKx75uAcWhxt8WEFvBNkKO+48rxj6knP8vtNXO9ja2lrY7fY5bwc7H/uh++pjTq332tpauN1uD+s92HoSC13QI0lKSgqkUuk0a3xoaCigSpPBMjo6itdeew0lJSX485//DIvFImyB0Wdqe3t7yOMzQV8A+BN0Wja2sLAQ+fn5fh9OtMRlqIIutpYBhCXmgH+XO839VigUMxaLCTf1jed5mM1mjI2NzVo1Tyzk9NgznbtUKvVo4WkymTAyMoL+/n40NDRAoVDA4XCgoKAgamLeYbDgO89Vo2fMKiwqlyap8dDla5Gd9EXK2XOfdcLkCC9dTA4nzliehNvP24FETfCeGoVCAY1GIwjY5OQkRkZG0NXV5dFQJhrtYBdC+1Rv74Z3NLharRauTyCNUuZjUJw/oln2VaFQYNOmTdi/fz8uvPBC4fX9+/fj/PPPj/jxMjIyhEWrQqGAzWbD5OQknE4nrFZr2N8LE/QFgC8RFvf53rBhQ8BumlA7pTmdTlRVVcFsNmPjxo04evRo2A/DmeZC3d+zFYsJp5853f93Op3Iy8ubVczFZVyDsW7E0bu5ubmora3F8PAwkpKS0NnZia6uLsFyT05OjkgqEyEEP/5PHXrHrAAAp2vK9m4dseCav5fjvzduRU2fCS/tP4CX++IRqnudA0G6dBLXnLYBl23OgjSMTmjia0sbgRQWFk5rByuRSATxikQ72FhVbAs1D91XNDi13qk3SGy9+6pAuRCC4sSYTKaotk79wQ9+gKuuugqbN29GaWkp/va3v6Grqwv/93//F/FjcRyHJUuWwGq1orOzU7jPgch8L0zQo0wkHhbehWVoIBXP8wG3PBWPFWoKnFqtRmlpqXBO4QbX+BL0rq4uNDY2+s39poTaz9xsNuPEiRPQaDSzikKkisXQBZHD4UBpaSnUarVQZWxkZATt7e2oqakRAuvCaW9a129C87AZPCFwea11+sft2Hnvx3A4nLCT0NJmtLDivIQ2XLE1B6mrT4dCLgPh3eARXlEbX+ca7XawC8FC94dMJkNqaipSU1OFRikGgwFDQ0Nobm6GSqXysN7p73+hBcVFU9AvvfRSGAwG3Hnnnejv78fq1avxxhtvIDc3NyrHO3bsGB577DF88MEHWLZsGf773/+ip6cHr7zyCnbv3o2VK1eGPDYT9AWAWIRpFbHk5GSsWrUq6NVusII+NDSEqqoq5OTkYMWKFR6BbOGm1ogFnRaLGRwcxObNmwOulBSsx8E7+K2ysnLGBYHYMg9HzC0WCyoqKqBWq7FlyxaPBjW0yhhtkDIyMoKRkZGAA+t8YbQ4fIo5ZdLuRigZqxx4FKEHj1+cC13xdyJa1CaQRVk02sHOxz30UBE3SsnNzYXL5RIapTQ2NsLhcCAxMVHoExBoJkYkcbvdQQe1mc1mZGRkRGlGU9x444248cYbozY+vc9aW1vx85//HBKJBDt27EBdXR2AKdd/eXk5+vr68Nvf/jbk4zBBXwBQC72zsxNNTU0oKipCTk5OSD/GQAVdXKZ29erVHj8o+rAON7iOirHdbkdFRQXcbrdgvQY7RiBQ618c/DbT58XlVcMR87GxMVRUVCA9PR0rVqzw+xD3F1jncDig1+uxZMkSIbDOG5vTjZcrB/BGzSBcbl8CGV5w5teUJ3DTdVcjKfWLdMhIFrUJt6b6TO1gk5OTZxSv+RLlHg1kMplHLIfFYsHIyIhgFNA2p7Ql7Fzsq8+3PfS5gt5n77//PsbHx3H48GE8/fTTaGxsBACkpqYiMTExrIA4gAl61InEw4KKZ1tbW1DWqy8CEUCXy4WqqipMTk7OWKY21L147zEsFgsOHz6MxMRErFmzJugfeyDzoPEGAwMD066ft8s+mOC32ejv70ddXR1WrFgRdHla78A6s9mM4eFhIbBOq9UK4q7T6eDkCX70nzp82jEKEEDCIWKV3gAgjnPg/333RshVM9fmnyktztf19LbeI1HsaKZ2sG1tbVAoFNPEK5SYiEgx13v3tOGOUqlEa2srysrKhNS4pqYm2O32gBZA4RLKHno0o9znCnqvDQ0NQafTAZgyMMTPVtqEJhyYoM9zLBYLKisrAQDbt28Pynr1xWwWutlsRnl5OZRKpd9WpOJqcaFit9sxNDSEZcuWTWuvGiiz7aE7nU5UVFTAbrdj+/bt0+INxFsI4QS/iSGEoK2tDV1dXVi3bl1YeaV0jtSVStOYqGu+oqICANBki8PHrSbwBF4NVUIXSg4EBIAUBDuWJc8o5t4EW9SGfoeRFBBxO1i32y1Y701NTYLrmQZCLlYL3Rf02svlco82pxaLRWgq09bWBrlc7rEAilS71VD20BeDhU7vsdzcXLz55psYHh4Gz/OCoNfW1qK1tRW7d+8O6zhM0Ocx4jarJpMpIj8qf4I+PDwsdPmazT08Ww65P2j62/j4ONLS0oQoz1DwZ6HTzkVarRbbt2/3ef1oc5aZ8suDxe12o66uDmNjY9iyZUtUHkRyuRwZGRnIyMgAIQSjY2O4++/VsLlCL9PqCwIOUg5I1irwf6eFHqjjz3qn96LYmo+00EmlUkGcxNY7rad+7NgxIcuABo5Fm1hF14t7Doih7Tvpdo/39oVOpxOuYajBmvT4oVjowTSzmo/Qe/rLX/4y3nzzTdxyyy3o6emBXC7HSy+9hLvvvhsJCQm47LLLwjoOE/QoE2qjjra2NrS1tWHVqlXIyMhAd3c33G532Gk6vixr7+NlZmbO8GnPcUIRdOrON5lMSEtLC9vjMNM8qPUqDubzBbXQIxHJ7nA4BIt569atUalo5eJ5fNw6iorucagVUuxekYzGQTt6J90IT8wJ1sTbcOaG5XBL5TjQZITV6ca2/CRcsSULufrAMyn84ct67+3thdFoREZGxpz0eqfilZGRgYMHD6KwsBCjo6NoaGgIKO0rEsQqdSyQe1y8AAIgLICMRiPa29shl8uFwj9JSUlBPZPmW2GZuSYlJQWPPfYYfvzjH+P/t3fe4VFWefu/Zya990YSQhII6Z1mAwEJUhJEWV9XxYoNFtZ31XfVF+G17sqqiwrKio39KSpBBBFEqoKKpDdSSa8zqVMy/fn9wZ7HmWGSTJ8hnM91ee0Swsx5pjz3Od9yf8vKyjAyMoJ77rkHeXl5eO211zBt2jSzHp8KuoOhUChQWVkJoVCI2bNnsxN5LBHiBq48WWuOWNV8vokwZT3ELMbV1RVz5sxBU1OT2Xl4fSF3Ujxo6Mx5iUQCqVQKNzc3k8WctPb5+vqa1H1gCGK5Ev+9rxrFbcNg/mPR+s+Tl/4j46aLuStkeCA3FBuW/j4R6pEbzLuxGALDMGhtbUVLSwsyMjLg7+9vk1nvms8PXL7JEtMW3bYvY01bjHluewm6sZ9NzfSFZvFhc3MzqqurtYx/vLy8xv0OGSvopJjvag65k3RSd3c3fvvtN3A4HDz11FN45ZVXMDw8jLCwMIulNKigOxDE29vDw+OK/LU5Dm+aaD6OphsbGbFqzOOY0i4WERGBhIQE9uZsqUp5wLjWNxJmDwgIwMDAAM6dOwdfX192uIoxYcX+/n62tc/Q0bGmsOfXDhS1DQMARpVqXNYj80LsrpDj+tgAPHBzmvkLNAKGYVBXV8e+VySkqhua15xGZenTOxF08n7pa/sipi01NTVQqVRs4Z0plqua2PuEbiqaxYcA2NbBgYEBtLa2gsfjadn26p7er8WiOA6Hg/b2dmzatAnHjx9nBf7vf/871q1bZ9EaEiroDgKZJhYTE6PXUtXSgi4QCFBeXq4lsMZgaMidYRi0tbWhvr7+Cq90LpcLhUJh9DXoWwcZTqNp3DLemkjxW0BAAObMmQOZTMYOVyFV0aSKPCAgYMzXp729nb02Q1IVpsIwDD4v6sSoXGX2iRwA3CHDDeEMbpgeigBmBBd+OcsatAQFBVnEsW4s1Go1qqqqIBQKMWvWLL3vlTVnvRN0BV0XXdMWYrna09OD+vp6eHp6sidTHx8fo57fnjl0S24kdFsHifFPa2srampq4O3trWXba2pR3NWaQydCvX37dtTX1+OFF15Aamoq9uzZgy1btmDWrFnIzMy02PNRQbcyE31p1Wo16uvr0dHRgfT0dISEhOj9PV23OHPWMzQ0hM7OToND0vow5HStVqtRU1ODvr4+vSdmS5zQORwORkdH8euvv8LLywuzZ88eN3w1VvGbq6sre2NSqVQYHBwEn89n7TQ1xc7V1ZWdA9/d3Y2srCyzWgknYkAsw9NfXwRfJIclit7SOZfw7qY/IsD7spAyDMM61rW2tqK6upqNVgQFBU0YRjUGYrmrUqmQm5trcFTI3LY4fWhW20+EruXqRONgx6ufINGhq/GEPh6axj8AtGx729vb2fbbgYEBuLi4GPTeK5VKyGSyq/aETgT9hx9+wBNPPMHayS5evBhhYWEWHdEKUEG3K6SIipwqx/vQWuKErlQqwefzIRaLMXv2bLYf0hQmCrkbYhZjiV52pVKJpqYmTJ06ddziN8BwG1cej8eKmeZwFTLq08vLi32c3Nxcq91s2gdHsfPMJfxU34d+KWAJMeeAwea1K1kxBy6LlZ+fH/z8/FgHNtIWR6IV5PUICAgwuT5AKpWitLQUbm5uyMzMNPlxTGmL0ydi5oQ5JxoHq3ky1R0Ha+/+d1s9r65tLzFZ6u7uRmNj47ivEUEkEgHAVXtCJ/T29iI9PV3rZ97e3kZtKg2BCrqdICNP/fz8kJWVNWFRhLmCLpFIUFpaCqVSiYCAALPEHBhfjEdGRlBSUjKhWYw5gk5C+UKhEOHh4UhISBj39011ftM8mU2bNg0jIyOsj75arUZxcTGbdzdH7HQZHlXgyc/Oo7lfChmcYIpVqz6Sw30xMyp43N9xc3PT6uEeHByEQCBAXV0dZDKZ1ihYQ6vAiX9+QEAAEhMTLSoqhrTF6f4eaVe0lPGT7jhYcnrXNw6WrMFelrP2mLTG5XJZUc7JydGqT+jo6AAAvREOYrZiy6K4l19+GYcPH0ZZWRlcXFwwNDRk9mNKJBKcPXuWjcxMmTIFQ0NDGBoawuDgIJycnODi4mJ2ZwwVdCuj70vb0dGBixcvIj4+3uDxmU5OTiYLuub0Mm9vb4uEecbaYHR3d6Oqqsqgca6mCrpm8Zufn9+4u3cS3iRrNactbXh4GGVlZQgODsbMmTMBQK/Y6dqzNvLFOF0vgFypxqwYf2RF+4JLBtyoGZS2D6NXKGOnokX5u+FoWTMu9qughmmzwH0ghhTOUMEZ4HDB43Lg7+GCp28xbuStbrRCLBaz8+Pr6urg6enJ/r2vr69eoSYns8jISKsWDQITn941C+tUKpVV1uLi4oKwsDCEhYVBrVZfMQ6WfF7FYjF8fX1tKuz2nLSm+R10dXXV8lIYGRnRinB4eXnh+PHjiIqKgoeHh003IXK5HHfccQfmzp2L3bt3m/VY5L2NiYnBv//9b+zfvx8Mw8DJyQlKpRJvvPEGdu/eDWdnZ8hkMhw6dMisaAQVdBtCcsq9vb3Iyspi+zwNwZQTOmkLamhoYAvSurq6LFJcpyvGDMOgoaGBdUcbqxZgvMcwBJKmUCgUmDt3Lurr6w0argL8Pp3NFHp7e1FdXY3Y2FhMnTqVfRwSMpwxYwYkEomWPauXlxfO9Llg/0URVMzlIaUf/9qO+TOC8PLKmegYlOLpr6vRLJBAotB9HRiYOtZ0Fmrw76A9KEx7DwdbOBgQy5ES4YP/ypmCpHDTbxaaVeAkj0wMWsiQG81RsC4uLuDz+aisrMT06dONtr+1BLqnd83/RkZGwOVyIZfLrdIWR55fdxxsb28vhEIhysvLweVadhzsRDjCpDXd7yCHw2Ffo9jYWMjlcggEAlRUVGDnzp2Qy+X4wx/+gLy8POTl5Zlc92MoW7duBQB8/PHHZj8Wuda///3vGB4ehlQqxejoKKRSKVatWgWxWAypVAqZTAahUEhP6FcDpHCrtLQUADBv3jyjDSuMFXSVSoWqqioMDAwgNzcXfn5+7OOYm7cGtAvaNM1i5syZY3B4zFhBF4lEKCkpgbe3N5umGOsxLDX2lGEYtLS0sENqxtqoEK9sT09PVuzOVLfjq+o2qNUMXLgAl8uBGhycrBPg86JO7D7XCoFIoSczbnqunAcV7kv3gjL/PPIB5F9v8kNNiLOzM3sSJacsPp/PFta5ublBKpUiPj5eq7vBXmgKdmdnJxobGzFz5kw2/G5tUxvgcl45ODgYjY2NuP7669mTqaXGwU6EvU/ohpy0XVxcEBERgb179+LUqVN47LHHkJqait27d+ORRx7Bp59+irvuussGK7YcS5YsscnzUEG3ASTkHRISgsTERJPCR8YIOtk8cLlczJs3T2vXZ8n2N4VCcYVZjDG97MYIOrGljY6OxvTp09kbnb7HsJSYk9B+f38/cnJyDDbdAS6LXXGfGuBw4e3O/b1YS62GQsng9WONuHIgmnm+6y5QINNbiBuW32Py45j8/BqnrLi4OLZzw9fXl/W1t0atgSm0tbWhsbERGRkZbJRM9/RuTVMbkkfl8XgWHwc7EVeDoGsilUrh5+eHzZs3Y/PmzRgYGLCYCctkhL4yVoZhGFy8eNHskKOhQjwwMICysjKEhobqLT6ylKBrTkqzZi+7ZtpAny2trlOcpcaekvYqpVKJWbNmmWQiIpYpoWYYjCrUkCrUUDMMuBwOVGpN6TZNxF0hhQLOcIYKnk4MXHhczJnqgyeX32xXsSSfd4FAgNmzZ8PLywtqtZptAyS1Bv7+/mytgbXsVfWt7dKlS2hvb0d2drZWYehYhXWWmPWuy1g96JYYB2vIc9vr82EJUxliaGMsW7ZsYUPpY3HhwgXk5OSY9PiOAhV0K8PhcHDdddeZ/Tg8Hg8ymWzMv9c0cJk5c+aYmwdL9H6T8OrAwACSk5NNDqdOJOik5oDP52ulDfQ9hiWL38RiMcrKyuDp6WlWe1VKhDe+LuuGVEOz1Vr5ftNP5M5QI4nXhhfvzYPSxRd+Hs4I8ba8d7wxqFQqVFZWQiKRaG2CNPPExMqTz+ezhXUeHh7s6X2swjpzIc50xBNhvLSQtU1tDOlB13RkM3QcrCHY+4RuiqmMJdpC169fP+Hgk5iYGLOfx95QQbcBlui3Hu9krVKpUF1dzYaGxzM5MTeHTkS2v78ffn5+ZuVGx3td5HI5SktL2T72sU7IxG1O01zEnOK3gYEBVFRUICIiQiu0bwqhPq56xphydP5sHDyo4M+R4E/pwJKFd8Hb0zan24kgY2oBIDc3d8ziLn21BgMDA2wRlFqt1jLxMSaFMxZqtRrV1dUYGRlBbm6u0REBS5vamCKqhoyD1Ty9j/fc9gpZ23Mwi+ao2MkMFfSrhLEEnZh1ABhX+HQfx5QeXJlMhtLSUqjVasTFxaG/v9+of6/LWIIuEolQXFwMHx8fpKamjnsDIu1HpAXJnNNHV1cXLl68iISEBJM2Kj0jUrQPjILH5eBEnQBfl3X/Z6K4JuacypWY7inHs/k5yIgNt9tJSxdSs+Hp6YmUlBSjbtq6Bi0jIyNaLV4+Pj7s6d0UxzqVSsVaAhvjTDcWljC1Mdf2VXccrEQiYTdFjY2NcHNz0xooo/l+qFQqi2ySTMFUQbf1YJa2tjYMDAygra0NKpWK3ajGx8c7/JAYKug2wCKm+3r60AcHB1FaWoqQkBAkJSUZdIPXvBEZ8+UiRjj+/v5ISUlBb2+v2VEHfYJOit+mTp2q19NeE4Zh4OzsjObmZshkMgQHByM4ONjofDeZz97R0aFVKGUoowoVtv3QhO+qeiGUKTVO5ebCgAPADTI4cxisSvLH0gQfDHY24kx7PQIDA9k8tLXbncaCdB6Q3nxzPuu6hXXEX18gEKClpQVOTk5abXETfX4VCgVKS0vB4XCQnZ1tldfIFFMbS9q+akY8oqKioFQqMTg4iP7+fr3jYK+2HLpEIrG57evmzZvxySefsH8mXuunTp3C/PnzbboWY6GCfpWgeUJnGAbt7e2oq6tDQkICoqKiDL6RkhuJMbtlfWYxlkojkMcg7WGNjY1ISUlBeHj4uP+W3DgjIiLg7+8PgUCAnp4e1NXVwcvLixV3b2/vCcc5ag4KMfTmUdMtxIk6AcQyJZr7Jfj10gCuaCU3+TTOgPuff+vJkSPKC7j3hkSszIm9/LcaJ1lN73Ui7tZod9LHwMAAu/mayETIFDT99UlhnUAgQH19PVtYRwReN8wsk8lQUlICd3f3cd0KLYmhpjZyuRwcDscq+WwnJyf2s69vHCxJUXl5eVl0HKwhmJJDF4lENj8Vf/zxxxbpQbcHVNCvEoigaw48yc7ONrrqU/NmMxHjmcVYoriO9P+qVCrU1NRAIBBg1qxZ49rSkuI3zUp2TbMTuVyO/v5+th+anOr0tUsRv3kul4tZs2YZHIr87EIHdvzYAoVSDTUDiOX6XgfTxJwLJbgA0jjNuHtKD5ioGzE3N1OrIFD3JEu81/l8PpqamuDq6spes7+/v1Vu2sRoJyEhwepGH4B2YV1CQgLrWMfn81FfX88W1pG8e1lZGfz8/AyOXFlrzbqmNkqlEr29vXBxcWEF3lqmNvrGwRYXF7P3EJVKpXV6N2ccrCGYGnI3tbL9WoQKug2wxMmFTFs7f/48GIaZcEToeGsxRIyVSiXKy8shFov1msVYwqCG3MAuXLgAtVo9YQ2AppCTf6/72rq4uLCWkprtUrW1tZDL5WyY2s3NDTU1NfD39zfqpt/SL8Hbp5shVajB4wDyK5vJYU6e3AejyPHqx13z0qFWpyIzM3PC91nXe53kU6urq6FUKrVC85bIn7a3t6OhoQGpqakIDh7fF95akDAzESriWFdRUQGFQgEPDw/4+/tDqVTaLWesCdm81tTUQKFQID09nf0O2crUxsnJCU5OTpgyZQpCQ0MtOg7WEK6WHPrVDBX0qwSJRAKZTIbAwEAkJyebFUKcqBedDNJwc3PD3Llz9eYeLRFyl0gkAC6LMLnBjYWujashNxvdUx2ZmtbS0gKJRAJXV1d4eHiweTpDNl5vnmjC8Ki+MbbmJc45YHA9KrAsPRL+wUlwcnJCenq60XlfHo/HhlxnzpwJkUgEPp+P9vZ2s4vMGIZBU1MTOjo6kJWVpbeN0B44OTkhNDQULi4u6O3tRWRkJJydndmZCeSag4KCJkzBWAulUskWr2ZnZ2sVelpj1vtYaPozWGocrKGYUpAnkUiooBsBFfSrgPb2dly8eBEcDgepqalm35DGE2Piyz1lyhTMmDFjzBuJuQY1fX19qKioAAAkJSUZLOamtqSR8OPg4CBkMhlr+cnn89Hc3AwXFxdWCP39/aFiLg9V4YCD6SGe4HE5+KmxH6cb9FX2mybm7pCCC8ADo3jZ80tk/ddWFDfx4eftieTkZLNv4po37djY2CuKzJydnbVC8+O9B8Q1j1gJO9p8auIZP2PGDLZDIT4+ftzCuoCAAJu0cCkUCpSUlMDZ2VnvxtXWpjb6/q0542CNeW57ta1dK1BBtwHmWo/29PQgNTWVHYBhrqDrE2NNR7akpKQJ86KmntB1i9/INY33++aKOXD5tSTGIpqnyylTprBhaj6fj+rqalTwVTjczgN/lIEagKczF048DvqEur7rpp/Ks1GLJO9RhAYFIi8lHG5R23G+sgZRUVFWm0imr8iMz+fj4sWLbDqCiJ1m6oO0fslkMuTm5lo912os3d3dqKmpQXJyMsLCwrT+bqzCuoaGBoyOjmqNgh2vf9tUSHGeh4cHUlNTDTKUAaxnamOIqOobB0tMbTo6Oq4YB2voqdvUorirfRa6LaGC7qBo9nzPmzePPUlYYlqSrqAT4w2BQDCmI5suJA9vzAZD83lI8VtlZeWYw1V0i9/MsXGtrKyETCbDrFmzrshJa4apL3YL8eWFcgxKFFAzAAMGUr2T0EyFQTKa8eEtLnCe8ziAy4JUWl5lcv+7KegrMtOdFBccHAw/Pz80NDTAyckJOTk5dmuPGwviy56enj6hcchEhXXu7u5sxMISFeBSqRTFxcXw9fU1uTjPEUxtdOtSdMfBkoEygYGB46Y0TMmhSyQSq2y0JitU0B2QoaEhlJaWauXLyRdXpVKZfVPVLIojGwdSaGfo6Yt8MQ0V9LGeZ6zhKhMVvxkKMT1xc3NDbm7uhCHWbyp6MCLV7CXXfF7ThNwFcjhDCQ6AOdyLeGO+K5zm/ElrkpshgmQtNKuhNU9k3d3duHTpErhcLsLCwjA4OGhQ/7ctIL7sbW1tJufzdQvrSJSGbDLJbPvAwECjc8gSiQTFxcUIDAxEYmKiRSIuljC1MfdAwOVeOQ6WnN7b2tq0Nk2642CNFXTSdkdP6IZDBd0GGPNlJoU806dP15q7Tb6glpqUplarWbOYgIAAowvtNE8NE90ghEIhiouL4efnd0VPsK6gm1L8NhZDQ0MoLy9HaGjouPUAmjTyxVD8p3Ld3AEqAOAHIe7mHgecXZGVOAO5168BL2Aq1Go1amtr2aiII920XFxc4OnpCaFQiKioKAQHB1/R/23rwSqaaPqy5+bmWqRoysnJCSEhIQgJCWFzyJrFhN7e3uzpfaLCOuJ0GB4ebrZ98HgYa2pDvmuWrF53dXVFREQEIiIi2HuKvnGwgYGBdrV+vVaggu4gkBt8d3c3MjMz9Z7W9LnFmQKPx8PAwABqamoQHx+PmJgYo2865IupUqnGPfX29fWhvLwc06ZN05sb1hR0S4XYAaCnp4e9vujo6Cv+XixX4lgNHyXtw3DmcZAd5Yfr4v3RNSS1iJADgBMUeMfpbeTeeh9UGXezPyfz40kKwNFy0v39/aioqMC0adPYTaVumJoMVvH09GTF3dfX1+oV5CRtMzw8bJIvuyFo5pA1T6F8Pp89hWp6G2h+/kdGRlBSUoKoqCjExsbarKLeEFMbzVO8NUxtuFzuuONgVSoVOjo6oFarDR4HS0/oxkEF3QEgBidKpRJz584dM2dkidGnZNpVf38/MjMzTe4jJjeqsQrjGIZBc3MzmpqakJqaekWxEkFzWpolZphrhmLH6pMekSrwl8IaVHcLIVWoIFOq8UVRF5y4HCjUDMwVcgBwhRyfuPwd0/74NpSRSWzgXiqVoqysDM7Ozg6ZkyYFZklJSXrd+jTD1AqFghU6YrFKxD0wMNDiFeS6vuyWaKUyBN1T6NDQEPh8PltYRxzrXF1dcfHiRUybNs3uk7t0T+8qlQr19fVwdXVlPS00f88a5ju642B/+uknODk5GTwOVi6Xs652FMOggm5nSNjbz8/viv5UXcwVdIVCgYqKCkilUkRGRpplCjKeQY3m9LeJnN+4XC6USqVFxJw4zg0NDSEnJ2fMnf2+km5UdwvB/GdWOcEyYs5gOe8Cnpzei6Fpm1HU2AfuJQHbA93S0sLmVR1luAqhtbUVTU1NBvvZOzs7IywsDGFhYWy4VSAQoKmpCZWVlVqheXMLmzSnuVnLl90QNMeaJiQkQCKRQCAQoKurC0KhEC4uLuyJ3loufcbC4XDQ0NCAwcFBZGdnw83NjY2E2crUhhjrxMTEwNPT06BxsGKxGABsJugtLS148cUXcfLkSfT09CAiIgJ33303nnvuOYcwJzIEKug2YCyB6uzsNCrsbY6gE7MYd3d3hIWFWeT0pM8tzpgiOzKkQigUslOhTBVzuVyO8vJyqNVqzJo1a9zT2+l6ARgwGNIyiDH/VO4EOf4xrQyL7/kfAEAYgBn/OdER730OhwO5XI6urq4r2sPsBcMwqK+vR09PD7Kzs8fdgI2FZriVTADTtWbVDM0bIxik9cvNzQ1paWkOUZRH8PDwgLu7OyQSCWbOnAlXV9crXPpIW5ytIgqaEHe6wcFB5OTksJ83a7XFjbcOzZa5icbB/vvf/0Z4eDj8/f1tlkOvra2FWq3G+++/j/j4eFRVVeHhhx+GWCzGtm3bbLIGc6GCbiM4HA5b6EV6oru6upCRkWHwSdlUQRcIBCgrK0NkZCQSEhJQV1dnkVy8bkEbyR+SiWyGmMWEhISgra0NLS0tbF4yKCjIqA2HSCRCWVkZfHx8xi3uk6vUqO8VoU8kx5CEiLklRqMxuJ5bg62zgfCbn9T6Gy6Xy3qtJyUlwc/PT6s9zJhiK2ugm5O2VIuQh4cHoqOjER0drWXNWl5eDgCsHW1gYOC4p22JRIKSkhK7+7KPRU9PD6qrq5GSkoLQ0FAA0CqsEwgEWuYsRNxNNWcxBoZh2PdWU8w1Gc/UxpS2uLEgj6Pvu6lvHOyvv/6KI0eOYGhoCElJSbj11ltx66234sYbb7TaJjgvLw95eXnsn2NjY1FXV4edO3dSQafoRy6Xo6ysDHK5fNx8uT40c1+GMJZZDI/Hg0wmM3rt+tZDNga9vb2oqKhAbGzshMVAmjeLmJgYxMTEYGRkBH19fbh06RKqqqrYlqGJxqGSAq6JDFl+vjSAt040oa5X9J+paJYQcjVu9u3DM7ffhKiwGwCedlhOM5+vGcb29PRkB8mQU2xra6uWc1tAQIDVxYv49SsUCqOG0xgLsWbVnHlOHPqqqqrg5+fHXrfmaUwoFKKkpARhYWGYMWOGXSxbx6OzsxN1dXV6Ww41C+tiY2PZ95r0b5PCOmvVG5CNmlAoRE5OjkHRgYlMbQxpixsLcp+Y6PfJONj/+Z//waJFi7BmzRps27YNR44cwUMPPYTNmzfjoYceMug5LcHw8PBVNRyGCroNISdYX19fZGVlGf0lNuaErpnH1jWLscSkNM3HaWpqwqVLl8YtfiOMVfxGelvJDp3P57OV1MTkJCQkRMt/vKOjA3V1dUhMTERERAT7HN3DUnxX1YszDf3oFcogkanQL1GQFZh51Qx8IEKsqwibVs3HrBmL9P6WplXqWPl8FxcXrWIrMlTl4sWLUCgUFh+qoglJjbi4uCAnJ8cmFqiA9qS4+Ph4jI6OskLX1NQENzc3th2usbERMTExVhnNai7E0CYjI8OgG77uez00NHRFvQEReHNDzGq1GlVVVRCLxcjOzjY51G9MW9xEp3dDBV0TMphlxYoVWLlyJfv8tqKpqQlvv/02/vGPf9jsOc2FCrqN6O7uRmVlpUEn2LEwVNClUik7CEJfHtsSk9KAyzfn5uZmjI6OYvbs2fDx8Rn39zXdrcYrfvPw8MDUqVMxdepUvafY4OBgyGQyDAwMICsrC/7+/uy/bemX4NlvLqKuV6RV8GaJE7k7RrHR/zziFj6MzPgIeLjoD+2T4kOFQmGwVarmiY0MktEdqkIiFubOOxeLxWwhpr3D2O7u7oiKikJUVBRUKhVrL0pOsSKRCN3d3VbZ1JhKc3MzWlpazKo3IIV1M2bMYOsNiCWtm5sbu5EztrBOrVajsrISEokE2dnZFnvNzDW1IT3oxnxuRSKR1medw+GYtPHcsmULtm7dOu7vXLhwATk5Oeyfu7q6kJeXhzvuuMOmEQFzoYJuAxiGQU9Pj1H5cn0YIujDw8MoKSkZdyqbJdrfZDIZO7Fs7ty5454CiI2r5i7d0C+25slGpVJpGZxwuVy0t7ezU+hGVcD/Ha5DTbdQY6yp+ULOgxL+bs5YvzATa7KXjfu7ZDPl6upq8slX31AVPp8PPp+PS5cuwdXVlRV3Yy1KSVfFlClTEB8f71AnX/K5HBwcREpKCjw9PbU2Nb6+vlqheVuvnWEYNDY2orOzc9wuCmPRrDcgmxpTCuvUajXruW9JMdeHsaY2pgxmIVMQzWX9+vW48847x/0dzTbDrq4uLFiwAHPnzsWuXbvMfn5bQgXdBnA4HGRlZZl9Kp7IWKarqwvV1dUTVs2bK+gkdcDj8RATEzOhmGs6v5kzYEWhUKC5uRnu7u6YPXs2BoVilDR242JFEySSKnzZ4oTWEcsJOQC4Q4Lc6EAUzIrDksTxN2NCoRClpaUICgpip7lZAldX1yvmnWtalGqG5scrMCPzwscy27E3ZM66Zk5a09yFz+dDIBCwbU7kmm1Rb6DrTmetymsej6flWEciNaSwjqSfdAvrVCoVKioqIJfLbd7Wp3l617So1myLk0qlbIrO0Nw7OaGbC9kMGUJnZycWLFiA7OxsfPTRRw5XhDkRVNCvIng8HuRy+RU/J21H7e3tBkUBzMmh9/T0oLKyEnFxcRgYGJhwUpqlnN9GRkZQVlbG9nCfaujH7nNt6BySggMGYrkzxHI1LCXkTlDirzcE4fYb58OZN/GXmoglMRWx1ulRc5CMZoFZS0sLqqur4efnx/69ZsFlV1cXLl68qHcimb0xxJddd1OjOSmO1BtYqz1Ms/XLWu50+tCN1OgrrCPV4Z2dnVCr1cjKyrKrWRERQM3Tu1QqRXNzM/z8/IxqiyM5dFvR1dWF+fPnIzo6Gtu2bQOfz2f/ztG+M2NBBd1GWOIGr+9kTfK1EokEc+bMMegLYEoOndx0L126hLS0NISGhmJkZGRcpzhLmMUAl+1jq6qqEBsbi6lTp6KicwQvHKrD4KgCv+8nLCPkgBqPzgrDn/JSDP4XpDhvLHc1azFWgRlxMfPw8EBQUBCUSiV6enqQmZnpcBW75OTb29trsC87j8djxZucYnXbw8gp1txWQFJgJhKJxmz9shW6hXXDw8Po6+vDxYsXoVKp4Ofnh87OTnYz5wjpFBI58PT0ZIfUGGpqY2tBP3bsGBobG9HY2HjF1MPxDi6OBBX0qwhdQdc0i5kzZ47BO3NjQ+4qlQpVVVUYHBzUKn4baya6ocVvE0Ha7i5duoSUlBSEhIQAAF79vgEDFqtaZ1eNF7K4uOPWmw0OszEMg6amJrS3tzuEWGoWmCmVSraKWiKRwMnJCV1dXexp1lZV7eOh2QOvb6ytIWieYsmkOLKpaWlpgZOTk1YroDF5XCJGMpkMOTk5DlOUB1z+7nl7e6OxsRE+Pj5ISEhgLWmbmprg6urKXre9HOsUCgWKi4vh7u6uNQveUFMbWw9mue+++3DffffZ7Pmsgf2/1RSD0RRiPp+P8vJyREVFGd2ja4ygkyIvDodzRfGbbujenOI3XciwGj6fj5ycHHYT0dIvRkWnEJYTcgapvmrsvG8uAnwNPw0QMRoaGrLYxC9LwuFw0NvbCwC47rrrIJPJtNqkSJ+/vSamEbGUSqUW9WXXPcUODg5CIBCgrq4OMplM67rHO22THn2VSmVXq9mxUCqVKC0tBZfLRUZGBng8Hry9vdluAVJnQQrrAgIC2KiGLaIMCoWCdffTFHNNJpr1fubMmQk7ZyjaUEG3EZYKuSuVSjQ3N6OxsRHJycla/deGYmgOXbNiPiUl5YovpWbo3tLFbyVl5SjrkaGfF4LjZ7owxXcAAkEfvqwaAGCJk5IKs4LU+K/cGARxRSi58Cs7OSwkJGTcUK1CoWBv9hPZzNoD4nvOMAxyc3Ph4uICDw8P1pZ1rIlpwcHBNnEw0/Rlt+aAGs0c84wZM9jrJi59Xl5e7ClW87oVCgVKS0vB4/FM8ouwNmR9Tk5OSE9PvyLqoFtnQVISXV1dWtdtrQl5RMxdXFyQlpZmUHRA8/TOMAxeffVVNDc3X3VV5vaGw1wtyYGrHJVKZZTLmz56e3tRWVnJ3mhM6YEFLreD/PTTT1iyZMmYv6NZ/DaWsQexkE1MTGR31uYOdpBIJCguKcF3bVwUCzgQiOWQKixrJrHIpwNvbrgLPN7vN2qFQsGGavv7+7VuippV1KOjoygtLYW7u7vD+YoDv0dUDPU9171uLperdd2Wvj5H8WUn103+Iz4A/v7+aG1ttfv6xoKIpbOzs14xnwi5XM62xQkEAnA4HC3HOnM3V0qlEiUlJXByckJGRobR9wKGYfCPf/wD27dvx4kTJ5Cenm7Weq41qKDbCHMFXSqV4sKFC5BIJLjpppvMCpvJZDKcOnUKt9xyyxVfOJIXbm5uRnp6Opu31kdjYyNGR0eRmJhoVr58aFSBc00DuNQzCJGgG+FB/viidhQdAxKoYLnTgxvkOLKQj9DZawCn8ft5SRU1n8+HQqFAUFAQvLy80NbWhrCwMCQkJDhE0ZEmIpEIpaWlCAwMNKltTnM0KJ/PZ/v7ySnW3EjE6OgoiouLHcLQRhNy3T09Pejq6gLDMFrWw/ZISehDLpejpKQErq6uSE9PN/v105yQJxAIIBaLWRte4lhnzGdcU8xN2WwwDIPt27fj9ddfx7Fjx7SMXiiGQQXdRqjVaigUiol/UQ9DQ0MoLS2Fj48PBgcHsWiRfrtRQ1EqlTh+/DgWLlyotSNXqVSorKzE0NAQsrOzJzTOaGpqgkAgQHJyMtzc3EwSuJZ+CV452oAWgRAymRwqjhOEUgUUjGXFMjnMC//vgSy4GBk+JUM2Wlpa2Jw0GQsaEhLiMDd78hmJjo422YlQE4ZhIBaLWXEfGRlhq8eDg4O1LHgNgfiyh4aGOuRmiGw2/P39ERMTw4rc4OAgPD092U2NNULUhiCXy1FcXAwPD48xc9LmomnDOzAwwBbWkcjFeAKtL6dvDAzD4L333sOLL76Io0ePYs6cOeZezjUJFXQbYaqgkxGr06dPR2BgIH755RfccsstZq/l2LFjmD9/PnvSl0qlKCkpAZfLRWZmpkHOb4ODg6irq4NQKISvry8rcoYOnGEYBs8frMWvTXz4OKkglYjQKvcALHQqd4MSGxfOwOKUMET4mh7RIIYnycnJ8PHxYUWO3OxtmX/WB2nrmzFjxhXtNpZCLpezxi4CgYA1djGkippsNqZOneqQvuxisRjFxcUICQm5YrOhUCjYAjOBQAAAFg1RGwIRc09PT721LNaAFNaR91sul2v1+mtGCFUqFVs4a6qYf/jhh3juuefw3Xff4frrr7f05VwzUEG3EcYKOunP7ejoQHp6OoKDgyGVSnH69GksWbLE7Jvi999/jxtuuAEeHh5s8VtQUBCSk5PHvWHom7xEbvZ9fX0YGBiAh4cHQkJCJhS59gEx7vnwAoYlo5DBBZYScl8nDv65Jgmz4kPNehyGYdDQ0MCOudU1PFEoFOjv72dv9qQ/2lr5Z310dHSgvr5eq63P2mgau/D5fNaeVN8gGWK4M336dERFRdlkfcZAIgcRERETWuEyDIPh4WH2/RaLxexQFV0jH0shk8lQXFwMb2/vCb+b1kKzsE4gEGB4eJjdyAYEBKCpqQkcDgeZmZkmifmePXvw1FNP4dChQ5g/f751LuIagQq6jWAYRq/Lmz5IFfXo6CiysrLYXkyFQoETJ05g0aJFZlfeHj9+HLNnz4ZIJEJVVdWEdrHkGjQr2fXdXEj/s6bIEXEnJ7nmfgn2/9aCcxd+Qy0saUHKwZ8XxODhG6aZ/UhkWt3IyAgyMzMn7IfVl3e35rQ03dGsmgNqbAlJSZDrFolEbLQGANuNYUvDHUMhvvYkcmAsmkY+AwMDcHd3Z99vYz329SGVSlFcXAxfX18kJyc7TGRDs5Cyr68PAFi7WmOiFgzD4IsvvsCf/vQn7N+/3+zII4UKus0wVNBFIhFKSkrg6emJtLQ0rS8HCZUvWLDA7AKlkydPIjg4GD09PRMWv5H1G+v8RkSur68PfD4fKpUK5zoVOHBJCQlcAFjqtMFBQogH3r8rDSE+5ue05XI5ysvLwTAMMjIyjBZjcqIh1y0Sica0ZDUF0qPf39+PzMxMh+qBl0qlrDWpWCyGq6srQkNDTRokY00GBwdRVlaGuLg4i/jaK5VKrdC8MR77+pBKpSgqKoK/vz+SkpIcRswJKpUK5eXlUCqViI2NZfv9xWIxu6GbqLCusLAQjz32GL788kvceuutNr6CyQkVdBthiKAbYhajGSo3FZVKhZMnT4LH4yE3N3fC4jdzbFwlchWa+GKoB9swcHgrNsjWQQ1LhaI5yIr0xOu3pSLczzLFaRKJBKWlpfDy8kJKSopFwuZSqZQ9wZKUBKk3MDbvTgoXR0dHkZmZaVcrUn0wDIPm5ma0trYiLS0NKpVKS+RIeNpW+Wd9kDRAQkICpkyZYvHH1/TYFwgEWlELQ6rHSYFeQEAAa5fqSKjVapSVlUGpVF7Rp69bWKc5REezsO7gwYN48MEH8dlnnyE/P99elzLpoIJuQ2Qymd6fMwyDlpYWg8xiSKjc1NGNpPhNJBIhJSVl3OcixW+m2rj+2jyIT06UobG7HyOMK4RwhyVO5TxwsGHBVDx4XQx4FjzxkRBseHi40e57hqKbkjCm71sul6OsrIwtPnI09zIyJKinpwdZWVlan1GSfybXTvLP5GZvjfyzPkgBYWJios3SACRqQTZ049mySiQSFBcXsxP7HFHMy8vLIZfLJxwEo1tYd+DAAVRWViIlJQWffPIJ9uzZg9tvv92Gq5/8UEG3IfoEneRq+/v7DTKLOXXqlMk5U1JtHBwcjJGREcTGxo45RUhf8ZvBNxdGjfrzR/HfxwbQhmAo4ARLFLw5cTj4a950rMoIg5uzZd27yI3elqNFNfu++/r6IJfL2Ru9bt6dGNqQSmdHMzxRq9WoqanB0NAQsrKyJhTo0dFRrW4BErWwZmtYd3c3Ll68aNMCQl00bVkFAoFWQaG7uzsqKysRGhpqtQ2lORgj5rowDIOqqirs3LkTR48eBZ/PR0pKCpYvX44VK1bQNjULQQXdhsjlcq2pPcTVC4DB4dMff/wRSUlJBs/3JXR3d6OqqgrTp0/H1KlT8dtvvyEyMlJvyNGQ4jc9/wicvlrwvn4A7YOj+LPicVQgDpapXOfgnswAPH2rdYSsra0NjY2Ndr3Ra86+5vP5Wq2AHh4eqK2t1dtW5Qho+rJnZWUZXd9BugXIKZbD4WhFLSxhvUq6AdLT0xEYGGj241kCzfe8t7cXIpEILi4uiIqKMqnX35qo1Wr2PTbV2/7HH3/EHXfcgXfeeQcrVqzAsWPH8O2330Imk+Grr76ywqqvPaig2xBNQSenZUNaxTQ5d+4c4uPjERpqWEsWwzBobGxEa2sr2/4GAEVFRQgJCbniNGp0vlwpBaenAs7HnoGMfwmb5ffhMJMLKcwPofq6cPDYdRHICFBjeEDAOrYZW007FiRE3N3djczMTJOtdK0Bybt3dXVhZGQEzs7OiIiIQEhIiN3MTfSh6ctuiTQAcS8jGxupVMqG5oODg02qGSAT++zZDTAeIpGI7YP39vZGf38/+vv74ezsrBWat1dURq1Ws3Ubpor5uXPnsHr1avzjH//AQw895DCf38kGFXQbQgRd0yxm6tSpxuWlf/0V0dHRBg1lUSqVqKysxMjICLKzs7WqoUtLS1lXLILufOLx1sXhX4Ks8EGUDjqjWj0NQsYNB9TXoRfGRQ7GeHR8cX86UqN+H0dK2qNI5bhYLNay5zT2Rk9GwopEImRmZtosh2sMvb29qK6uRnx8PFxdXdkwLfHfDgkJsVm/uz5s4cuu6VY3PDwMLy8v9j2faNY5ae1rb29HVlaWQ07uEgqFKC4uRlRUlJbDn1qtZvPPfD5fy9jFEja8hkLmwYvFYmRnZ5vUfnn+/HkUFBTg5ZdfxhNPPEHF3IpQQbchMpkMtbW16OjoQEZGhtFhc+DyyTo0NHRCkw6Sc+XxeMjMzLzii1hRUQFPT0/ExcUBMHCGOaMGeqvR8vX/4duBcJxRpaEF4ZDCGSpwYV7B2+Xny4z0xr/vz57wSy+RSNjc8/DwMLy9vdl+94mqiDWLy9LT0x1qzjWBpAFSU1PZqAowtt86ETlbXQupxCY90rZoRyODRcjGZrxZ58QUqLu7+4rNrKOgKebke6gPTRteYuxizMbGVCwh5iUlJVixYgU2b96MTZs2UTG3MlTQbQTDMPj1118hFou1zGKMRd/JWpehoSGUlJQgJCRkzCEYVVVVcHFxwfTp0ycufmMYoP57uBx5Et9JZmCv6mbUMtEYhBcYs6vWOXDmADfPDMRf82YgxNv4kCpxqiMTw9zc3Fhx1w1Pi8Vi1hc/OTnZ4YrLSIqks7NzwjSA5o2+r69PK+9ONjbWgHgl2DOnr2vkQ06wpCWuubkZAoHArO+aNRkZGUFxcTFiYmKMNrWRy+Vs5bjmhDxiR2uJzzQpYhMKhcjJyTFJzMvLy7Fs2TI888wzePrpp6mY2wAq6Daku7sbPj4+ZhX56J6sdenq6kJ1dfWE4fyLFy8CAKZPnz528Zt0BKj/Hs1nv8DA8BBG4YZ/KxeijolELwJgesHb5X/nzAHumxeFjQtiLXbCU6lU6O/vR19fHxueJgLH4/FQUVGBKVOmTGjzaQ9Ipfjg4KBJQiSTybT63d3c3Nh+d0vl3S09BMYS6BYUjoyMgMPhsKkpY6eGWRtitTxt2rRxN+aGoC9io9kOaMrwIIZhWJfE7Oxsk8L71dXVWLp0KTZu3Ijnn3/eoV7/yQwVdBuiVCqhUpk327u6uhrOzs6YMWOG1s9JiLGtrU2r+G0s6uvrIZPJkJCQoB1iZxhwag9B+ONOnO93w7fq2ehWB0IJHnrhjwF4m3Eqv/wcU/1dsHZONJYmh8HXw3q91Jo3u+7ubigUCnh7e2Pq1KkmuXdZE6VSiYqKCsjl8gmH4xj6eJrhaQDsxsbUUxwxZLFla58xkOItoVCIyMhIDA0Nob+/36hBMtaGbIhiY2MxdepUiz++Zmh+aGiI9VwPCgoyaFPHMAzbfpiTk2PS57C2thZLly7Fww8/jBdffJGKuQ2hgm5DLCHotbW1YBgGiYmJWo9LbmRZWVkT5gtJYV51dTV8fHwu+zAH+MG7ag+Upf8Pnw8l4hPVYvQi4D895AADDsw9kU8PcsezS2dg9rSACX7fcjAMg9bWVjQ1NWH69OlQKBSsHau/vz8bmren45pcLkdpaSk7R9oSbVqaaFaO9/X1QSaTISAgACEhIQgKCjLopt3T04Pq6mokJSU5pC87sSIlPdIkRKzb961SqcyyZDUHYjcbHx9vk0E1usODSLSKhOZ1P2eaYp6dnW3Sd6KxsRF5eXm4++678dprrzmM1e+1AhV0G2IJQW9oaIBUKkVqaiqAy8VJJSUlcHZ2Nsh3XLP4TaFQQNDXC68ftyKk63soGQ7eVeTjY3UexHCDGlyY10d++d/+ITMUGxfGwc/DNpW5BDKxrre3F5mZmVpVzsTYpK+vD0NDQ/Dy8mIHTNgyRCuRSFBSUmKz4jJ9c859fHy08u66107Gx+oW6DkKSqUSZWVlrPf+WCJNLFlJ5bimJas1aw4AYGBgAGVlZVYdcTseZFNHrl0ikVwRmr948SIGBgaQk5Njkpg3Nzdj6dKlWLVqFd58800q5naACroNsYSgX7p0CSMjI8jIyMDg4CBKS0sRGhqKxMTECceekh5zKEbB6yoCRyaEU8Vn4LacBsCgQj0NG+VPoB0huFwiZ0pxze9iMCfGD6+tSkKIt22FHPjd7IR4no+XSyRFRuQk4+rqyp7c/fz8rCbuIyMjKC0tRVhYmN2cwcbKu5OCwpaWFrS2tiIzM/OK8bGOgEKhYLs5jJ3FreuxT6alkWu3lCD19/ejvLzcat7xpiCRSNjP/ODgIPu6JSUlITg42Ohrb2trQ15eHpYuXYp3332XirmdoIJuQ1QqFdvnbSqtra0QCAQICwtDTU0NZsyYgejoaIPHnnJ6yuFy/m1wh1oBuQSc4VYADNpVgXhG8TDOIxEMnAAwMO50fvl3/dy4uD4uEGvnRiM5wj59vzKZDGVlZeDxeEhPTzcqrEqK6siNHgBbWGbJnm9yk4+NjTW7MMpS6F472XzGx8cjMjLS4ToC5HI5iouL4e7ujrS0NLNEhNQcEJEDoDVIxtQ0CKk7mDlzpkHeEbaGYRhcvHgRfX198Pf3x+DgIABodQxM9P3p6upCXl4e5s+fj127dlExtyNU0G2IJQS9vb0dTU1NUCqVBvWyM8IeoO1XMHIxGI9guJR9DM5wOyQ+0yAaHoQrvxK7VUvxoXopRkHCbMYLOQDEBLri07U5CPR0tlshjEgkQmlpKfz8/MwOYTMMg6GhIdbMRiaTsTf54OBgk/Ov3d3dqKmpcdh8tFqtRnV1NQYGBhAcHIzBwUFIpVItIx9bGZuMBZkVTtoPLSkiZJAM2dhohqeJ57oh8Pl8VFRUOOz7TJwS+/r6kJOTA3d3d71DdPz8/NjPvW5aoqenB0uXLsXs2bPx0UcfOdym71qDCroNMVfQlUolfvvtN4hEIsybN2/84jeGAaf8M3BLPwFH0g/wXC47wUmF+MV7CUrkURBLRlEs9EMVpkF1RXh9PEEmf3f5FM8DsCwlCFtXJMHV2X5f6IGBAXb8bFxcnEU3FST33NfXh76+PnbGOQnNG3KTJwV6zc3NSEtLcxhPcU3G8mXX7Hc3JO9uTchEssDAQJuMFyUmRgKBAIODg2zleHBw8Jjjb/v6+tjJYobaNNsSTTHPzs4e0ylRdxyqm5sbOjs74e7ujqysLBQUFCAtLQ179uyxeDEnxXiooNsQUohmCsSZi8PhQK1W44Ybbhj/H1w8DKczLwJyCRj3AHAYNSAdwpmRKSh0yoPMyQdKlRo/S8IgZ6ehkY+CvhvklVXuSaFuWD3TE8G8UUB62dSEFJaZ0v9qDuTUO3PmTJvkKXWnhRHnrpCQEL1DNTRHi+oW6DkKxJedYRhkZmaOGYHQNfJxdXVlBc7Pz8+qIVdiamOviWS6leNcLlcrNM/j8dDb24uqqiqHFvOGhgb09PQgJyfHYNtjkpLZsWMHPvjgA4yOjiIwMBAvvvgiVqxYYZLzJcWyUEG3IaYKumbxW2hoKKqrq3HTTTdd/kvJADjiPgAA4xkMxj0AzOggnL7/K7gd58H4TAG4PIBhIB4W4IWBPDRzIuDi6o5hlQsaZL7/kXEi6Jo3SC44ADx5DHw9eIjy90K4nxuiAz2wLCUMkf6/izYpMOrr62MFzhZV42SWPDn12uOmolAoIBAI0NfXxw7V0CyqAy47842MjBg0WtQeyOVylJSUwMXFBenp6QaHTvXVHFgi96wPYpUaGRlp8QiMKegzdfH09IRIJEJiYqLDFMBpQpwIiSWuKZX9Q0NDWLZsGQIDAzFv3jx89913KCsrw1133YVPP/3UCqumGAoVdBtiiqCTQS4JCQmIjo7G8PAwiouLcfOCBeD0VoHTVQIoRJd/2dkTypA0MFxnuJx+EZzBS2C8wwDO5RNTjcgTz/cugBdG4e/ORT/jid9Gp0B9xYn89xOWpxODhFBPpEcH4q7cKZjiN/HJm/R661aNW3pSmFqtRm1tLQQCATIzM+Ht7W2RxzUHzb5nPp9/uRCRwwGPx0N2drbNIxeGQFofzc1H68s9a/a7m9PrTwxZLOGuZg3IxrKpqQkeHh6QSCTw9vZmNzfW8ls3do1NTU3o7OxETk6OSWI+MjKClStXIiAgAAcOHGDf066uLrS3t2P27NmWXjbFCKig2xCGYSCXyw3+3fr6enR0dCA9PZ09eYpEIvzyyy9YPCcF3PojgJMb4BEIhmGgFvcDMiGY4Jlwqvwcbe3tOCpPR6liKlTgwBtiVMuCEOksgZfz5cr3n0anQQxnkNO45ofBnQcsTAjA9TNCkTPVDxG+xt+QNa1Y+Xw+uFwuK+7muHYRZzWZTGbwLHlbI5VKUVRUxIo6GaRCBM4RhsJY05ddd1Kat7c3G5o3ZtY36eGePn26TQxZTKGrqwu1tbVslEizFVJ3FGpAQIBdKsGbmprQ0dFh8rAakUiEVatWwc3NDd9++61Dbk6vdaig2xBDBV2pVKK8vJydcqS5kx4dHcWZM2eQlxIIXscFMIFxl8VcrYaaYcAbagYTkoz6hlq8V65CpTQICvDAAaBQc6CAM0L9vRDm5wU3JwZdIjVquiX/6Tv/nQgPYPud6UiKtJyrGxmoQcRdpVKxN/igoCCDw7xSqRRlZWVwdnZGWlqaQ1m4EsRiMUpKSuDv74+kpCRwOJwrBqn4+fmxeXd73ByHh4dRWlp6xehOa0AEjqQlDM278/l8VFZWOmzbF3A5ilZXV4f09HS9hY5kFCqJWCkUCi23Olts7C5duoS2tjbk5OSYJOYSiQSrV68GABw+fNgu0+u2bNmCrVu3av0sNDQUPT09Nl+Lo0LLEh0M4hzm6uqKuXPnXiFWRPTU8lFwuTyoGQbMf8Scy+GAw3WCTAWcUGeiAb1w4UkRgUFwoMagkx+61H4QqZwhZ3iQyBh4ujohJYILdxcnDElkUMtGMSvCBRuWZcPHw7KnXi6Xi8DAQAQGBmLmzJkYGRlBX18fGhsbUVVVxZ5ex2sJI21pAQEBE5rp2AsilLq5Xi8vL3h5eWHatGlapiYNDQ3w9PRkr90W4VnSB28rX3YXFxdEREQgIiJCKy1RWVkJtVrNznfXzLs7enEZAHR0dKC+vh4ZGRkICNC/+SWFc0FBQVqDZNrb21FTU2P1joHm5mazxHx0dBR33nknlEoljhw5YtdRtMnJyTh+/Dj7Z9ompw0VdBsy0Rd1cHAQJSUlCA8Px8yZM/WKFfkAK90C4KRSomdEhm6pMxRqLgJdVYhWKCHgBqFlFJC7+sHfUwlwA6DmOsGT5w4foQIqNeDt5gRXZy6cuBykRATjhmg3NF2sQnh4hE2qhzkcDnx9feHr64v4+Hi2JaytrQ01NTVs329ISAgbTu/v70dFRYVDTfrShYjURELp5uaGqKgoREVFsZXTfX19aG1thbOzM3vt1qgaJ0Jpr/5oHo/HCphm3r2pqQmVlZUICAiAi4sLent7kZaW5pB2s8DvlriZmZnw9/c36N9wOBx4e3vD29sbsbGxkEqlbGj+0qVLFu8YaG5uRmtrq8lhdplMhrvvvhsjIyM4duyY3bsznJycEBYWZtc1ODJU0B2Ejo4OXLx4kS1+GwvyBZd7hqORmYayRgEkcIcTF1ArZIgOiUWcZxh43F4wcALj4gbmP73hjEoNN2cuvN2cMX9GILzdnBDi7QZvtRD1VeWYMWOGXXKUHA6HPb3GxsZq+azX19fD29sbbm5u4PP5SEpKcvjQa3JyslEnSmdnZ4SFhSEsLIwNz5I+ZrVabVJaYizIidJRhJLD4cDPzw9+fn6YPn06JBIJGhoa0N3dDeBy3lcoFBqdd7c2bW1taGpqQlZWllmWuG5uboiMjERkZCRbbyIQCNj33pxBMi0tLWhpaUFOTo5JBaNyuRz33nsvent7cfz4cYew/m1oaEBERARcXV0xe/ZsvPLKK4iNjbX3shwGmkO3MXK5HJovORkg0tnZiYyMjAnNRhiGwfHjxxESGYPKfgYuMgECVXyAYaDwCEWbMgC5ccGo6hTi8+JOqJRqBHu7guEAw6MKyJVq3BgfgCcXxcOFx0VTUxPa29uRmprqkH2kMpkMNTU16O/vBwB4eHiwoemxTD1sDcMw7EkoPT19zNCrKY9L0hJ8Ph+jo6Ns1XhwcLBRuVdShd3S0oKMjAyDT5S2hrQgZmZmwsPD44rCMkcYg0rWmJWVBV9fX6s8B3nvSVqGOLaR65+o9bG1tRWXLl1Cdna2SadqhUKBBx54AA0NDTh58qRD3BuOHDkCiUSCGTNmoLe3Fy+99BJqa2tRXV3tkCZN9oAKuo3RFHRS/CaRSJCVlTVhGwnxZG9ra8OF+naUdMsQG+wFfz9/+Pj6wInnhD6hDF6uPOTG+GPX2RacbRzAqOJyyZurEwcJod54/MYYzAjxQHV1NYaHh5GZmWnXvNhYqNVqdgIUqWQnoWmBQAAnJyerhqYNgWEY1NbWgs/nW711jqQlyJQ0MiksJCRk3Bu8pqlNVlaWQ7T36UJaqjo6OpCVlXWFCOm2A5K8u6F+45aCbNz0rdGakKgVcWzz8PDQGiSjubHVjB6YsuFQKpVYt24dKioqcOrUKYetXxCLxYiLi8PTTz+NJ5980t7LcQiooNsYIuiaxW/jjXwkEDFXq9XgcrloEkhwvLoLvlwZhoeGMSodhbe3N1TOnggJ8MOqrEiI5UqcvzSI0o5hSBUqzAjxwg3TA+HvykF5eTkAGDRy1R4oFApUVFRAoVAgIyPjirY0zdA06fcmNzji2GVtVCoVqqqqIBaLJ5zoZmnIlLS+vj72Bq8vcqFWq9kZ145qakM2HL29vcjKyppwc6nv9GqL2fYkmpWdnW3XTREZJEMEHvjdzGd0dNSs6IFKpcITTzyBX3/9FWfOnHFID3pNFi9ejPj4eOzcudPeS3EIqKDbGOIqVlpaioiICCQkJBg09pTMMOdyueBwOBiSKPB9TR+ceVz4ezhDLpejf3AQ9d2DiHSRIj1Svw2r5vCSpKQkh6wSlUqlKC0thaurK9LS0iZ0GyOFVcRnXS6Xa/V7W+P0ZqhNqi1QKpVa4195PB5bMd7R0QGpVOqwvfpk2ld/f/+4nuLjQbzW+Xw+O9uebO4s0TGgGT2wt5jrQuac8/l8dHd3Qy6Xw8fHBxEREeycc2Mea+PGjTh9+jROnTplk+4Hc5DJZIiLi8O6deuwefNmey/HIaCCbmMuXbrEeo5PVICmKeTA5QIizZtTddcISttHoFSrweNwoFCpERXgjpxIL4iG+lkbVm9vb4SEhMDZ2RkNDQ0OXSUuFApRWlqKoKCgMSv9x4O0BRFxF4vFWnlnS0wJk0qlKCkpgYeHB1JTUx1qU0R6/Xt6etDd3Q2GYRASEoKwsDCLW7GaC5nqNjIyguzsbItsOPTZ8JqTdydWqV1dXSZXitsCUuyYlJTERm+GhoYMGiQDXH4vnnrqKRw5cgSnTp3CtGnTbHwFE/OXv/wFK1asQHR0NPr6+vDSSy/hzJkzqKysxNSpU+29PIeACrqNqaioQFBQkEHFb2SGOQC9NyKGYdA9IkPX0ChkSjVCvF0R6e8Od42JZ8TQo7W1FSKRCK6uroiIiEBoaKhDVQ0Dv8+OJvaellibRCJhw/LDw8Pw8fFhIxemnAaJs5qpGw5bQHzZnZ2dERsby9YdSCQStmra3iNQVSoVKisrMTo6iuzsbKukfTQNXYiRkTFV45pDTEz1PbcFpLtCt32ObG5IUSGXy2Xf+4CAgN89LdRqPPvss/j6669x6tQpxMfH2+tSxuXOO+/Ejz/+CIFAgODgYMyZMwcvvvgikpKS7L00h4EKuo1RKpVQqVTj/o5uvtwcYSP5ye7ubqSmpkKhULBFZS4uLlbxWDeFjo4O1NXVWbU3WjfvTMxcxpqQpsvg4CDKysocOsJBfNm9vb2RkpKiteHQtWIlmxt9c66tiUqlQllZGZRKJbKysmySrhgr7z7WjHPNvL4xE8lsDbGcHc/YBvg9ckMEXiqV4oMPPsDs2bPR09ODffv24fTp00hISLDh6imWhgq6jZlI0DVP5rohdlOei5yCMjIytG5Kuh7rJO9q64pxkp9sb2+3aTuV5umFbG40K+Z1X/e+vj5UVVVhxowZiIyMtMkajYVED4KDgzFz5sxxPzsymYwNTQ8MDMDd3Z29fmu2A5LaAw6Hg4yMDLulAHTH32o69Xl5eaGurg4CgcDkvL4tMFTMdWEYBoODg9i2bRu+++47NDY2IiUlBWvWrMHKlSuRmprqkJtVysRQQbcxYwn6WMVvpjI6OoqysjK4uLhM6HdOdu+9vb1aFeOksMpa4k5yqENDQ3ZtnSMtUWRzw+Fw2OsPCAhAZ2cnGhoakJKSgpCQELuscSLM8WXXrJrWHKBj6UEipo5otTa6mzvCzJkzERYW5pBple7ubly8eHFM//iJYBgG//jHP7B9+3Z89dVXaGlpwaFDh/D999/jrbfewsMPP2yFVVOsDRV0G6NSqaBUKrV+NlHxm7EMDw+jrKyMPakZc0NiGAZDQ0NsUZlSqWR9ti3hVEZQKBQoLy+HSqVCRkaGXfO5mpAZ15oV8wAQGxuL6OhohyoqI1jSl13z+vl8PhQKhZbPuqnhcZlMplVI6IgiyTAMqqur0d/fj8DAQAwMDLCff1Pd2qxBT08PqqurDTKi0gfDMNi+fTtef/11/PDDD8jOzmb/TiqVQqVSOWy9AGV8qKDbGF1BN6T4zRh6e3tRXV2NuLg4REdHm51/FwqF6O3tRV9fH6RSqZa4m3pzGx0dRWlpKdzd3ZGWluYwJzVNSP92f38/goODMTQ0ZJZTm7Wwpi87ef+JuJOOAZJ3NrQqfXR0FMXFxWyrpCOL+fDwMFtxT66fRC5EIhH8/PzY998eE/LI+605UtkYGIbBe++9h5deeglHjx6l88snGVTQbYymoFu6+I1YUlojNMwwDOtU1tfXB5FIxIpbSEiIweI2MjKC0tJShIaGWnz+tqVQqVSoqKi4on9bn1Obvl5/W0FalVJTU23iy076vfv6+tj55ppFdfreSzJGlnQFOOL7TVI/QqEQ2dnZY0aL9OXdDWkJsxREzE314WcYBh9++CGef/55HD58GNdff70VVmk8r776Kp599lls3LgRb731lr2Xc1VDBd3GqNVqKBQKi4o5sUjt7++3uv0ogbSD9fX1YWRkhD25aE5H04VMIouNjcXUqVMd8uYul8tRVlYGLpeL9PT0MaMQZPwp6fX38vJir98aIzA1cQRfdrlczopbf38/3NzcWHEnHRMikQjFxcUIDw/H9OnTHfL9VqvVrNtfVlaWwakfzQl5/f39WhPkLFl3QCDDeswR8z179uCpp57CoUOHMH/+fIuuz1QuXLiANWvWwMfHBwsWLKCCbiZU0G2MWq2GTCazWPGbXC7XykXbww1MV9y8vb0RGhqq1etNRk0aO4nMlpCWLy8vL6SkpBicClAoFOz1jyVuloL0Rnd3dzuML7tmx4RAIGBH4w4MDCA6OlprJrwjoVarUVlZCYlEYlYvPCkqJRschUKh1e9vbt6dz+ejoqICqampJkXeGIbB3r17sXHjRhw4cACLFi0yaz2WQiQSISsrCzt27MBLL72EjIwMKuhmQgXdxnz00Ufw8vLCggUL4O7ubtaNTiwWo7S0lO05doRcNDm5EXHz9PQEj8eDWCx26ClfQqEQJSUlZqcC9LUDkop5cyeEaQ6rcdR2KrVazW7eeDweGIaxug2vKajVapSXl0MmkyErK8ti9RCaToWaeXdDp6TpQsQ8JSXF5I1wYWEhHnvsMXz55Ze49dZbTXoMa7B27VoEBATgzTffxPz586mgWwDHK9md5HR1dWHXrl0YGhpCXl4eCgoKsHjxYqO/6AMDAygvL0dkZCTi4+Md5gTk4uKCKVOmYMqUKZDJZCgrK4NQKAQAVFdXsyd3Rxl9Cvz+WsbExJjtUKfZz09Obn19faiuroZKpTJ5tjlxVpNIJMjNzXVIX3bgsvlOU1MTZs6ciSlTprDi1traiurqapsMUZkIUiMhl8uRnZ1t0U0Gh8OBt7c3vL29ERcXx0av+Hw+GhoajBr/S5wTzRHzgwcP4tFHH8Vnn33mUGK+d+9eFBcXo6ioyN5LmVTQE7odUKvV+O2331BYWIivv/4aPT09uOWWW1BQUIAlS5ZMGEbt7OxEbW0te9N0REgqgGEYZGRkgMfjjWlk4+/vbzdxJy1AiYmJiIiIsNrzaM42Jx0D5OQ6UVhWqVSirKwMarXa7oNgxoOY7yQmJuqtuCdFZX19fewQFVvVHRBUKhXKy8uhVCpt/lqSvDvpdx/LihX4vRUxKSkJYWFhJj3fd999h7Vr1+KTTz7B7bffbqnLMJv29nbk5OTg2LFjSE9PBwB6QrcQVNDtjFqtRmlpKQoLC7F//360trZi0aJFKCgowK233qq1i1epVGhqakJnZyfS09ONcoeyJRKJBKWlpWPmojVHn/b19QEAe2O3RkHRWLS1taGxsRFpaWkmtQCZir6OgbFOro5qxqJLT08PampqDO6wIDMGiLi5urqy16/Pqc8SEMtZsjGyp6eAvn5/knfn8XjsJtPUVsTjx4/jrrvuwr/+9S/813/9l4VXbx4HDhzAqlWrtD7LKpUKHA4HXC4XMpnMYT/njg4VdAeCYRhUVVVh37592L9/P+rr63HzzTcjPz8f8+fPx6OPPorU1FRs3rzZYY0fiGNZeHg4ZsyYMeGNmRjZkF53EpYmRibW+GKTwrKuri5kZmaaNDfakuieXEk7mI+PD2pra/X6sjsSZDiIqRsjUndAQtMAtJz6LPEZUCqVKC0ttbvlrD5I3p2MQJVIJPDw8MCUKVNMGiJ05swZrFmzBu+++y7uueceh0ltEYRCIVpbW7V+dv/992PmzJl45plnkJKSYqeVXf1QQXdQGIZBXV0dCgsL8cUXX6CpqQnh4eF4+OGH8Yc//AHBwcEO90UlIVdTHcs0w9K9vb2QyWSskU1wcLBFbsLEMIbYzTraxogUFXZ3d2NwcBBOTk6IjIx0uLoDQltbG5qamixW8KjpVMjn89nPgDkV40TMuVwum/5xRAYGBlBWVoa4uDhwuVzw+XwMDAzAw8ODvf6JuibOnTuH1atX44033sCDDz7ocJ+XsaAhd8tABd3BKS8vx/Lly5Gbm4vs7GwcOnQIxcXFmDt3LgoKCrBy5UqEh4fb/YtLwteWMrXRN9dcM+dsSlWyUqlki6EyMzMdxm5WFxLliIiIgI+PDxuWdnJy0hogY+8Te3NzM1pbW60W5dCXmjDWqU2hUKC0tBROTk4OnbIYHBxEaWkpEhIStOpi9Pnsj5V3P3/+PAoKCvDKK6/g8ccft/s9wRiooFsGKugOzOjoKOLi4rB+/Xr89a9/BYfDAcMwaGtrw/79+7F//378+uuvyM3NRX5+PvLz8xEVFWXTL7LmeFZrhq/J6E9NI5vQ0FCDq6VlMhlKS0vh7OyM9PR0hwq5akKKoeLi4jB16lT255p1B7oDdCwVljYUhmHQ2NiIrq4um/bC6zq1eXl5sa+BvvG3CoWCnQvvyGI+NDSEkpKSCSf5kbw7eQ1kMhl++eUX+Pr6YubMmbjvvvvwwgsvYOPGjVeVmFMsBxV0B6e3t3fMlhWGYdDV1YWvv/4ahYWFOHv2LDIyMlBQUID8/HxMmzbNql9slUqFqqoqiEQiZGZm2qwvWiqVsqe2oaEhdq73WPlGiUSCkpIS+Pr6Ijk52e4n27Eg1p4TVdzrhqXlcrnNer1JKqivrw/Z2dl2S1mQCWnE78DZ2VmrqE6pVKKkpASurq5IT0932Pd8aGgIpaWliI+PR1RUlMH/jkQv3n33XezduxcNDQ2YOnUqHnvsMRQUFGDGjBlWXDXFUaGCPklgGAZ9fX04cOAACgsLcfr0aSQlJSE/P5/9gltS3IlFKofDQXp6ut0GlcjlclbcBwYG4Onpyfa6e3p6st7xERERDms/Cpjuy64vNaE5QMaSaQVibDM4OIjs7Gy7+Nfrg4y/JSdXMrXQ09PTodv8hoeHUVJSYrSYa1JdXY2lS5figQceQFxcHA4ePIgTJ05g1apV+Pzzzy28YoqjQwV9EsIwDAYGBvDNN9+gsLAQJ06cQHx8PFauXIlVq1YhMTHRrBMLcajz8fFBcnKyw4QyNU9tAoEAzs7OkMvliIqKsviGxpKQoTqWKCwjHvt8Ph/Dw8MTRi8MhXieE7tORzW2kclkuHDhApuekslkWtELR5iQB/wu5mQqoinU1tZi6dKlWLduHf7v//6P/XyLRCJ0dXXRU/o1CBX0SQ7DMBgeHsahQ4ewf/9+fP/994iMjER+fj5WrVqFtLQ0o8R9aGgIZWVlmDJlikM51OnS0dGBuro6eHt7QywWw8nJiRU2a/U5G4umL3tmZiZ8fHws+vgymYytOyDRC/Ia6Ms5jwVxVrO0TaqlkclkKC4uhre3N5KTk8HhcLRqL4RCIWvDaq8JecDliYPFxcXskCJTaGhowNKlS3H33Xfjtddec9iUAsW2UEG/xhAKhTh8+DD279+PI0eOICgoiBX37OzscW8MZNb69OnTTQ4RWhuGYdDa2orm5makpaUhMDCQLSjr7e0Fn88Hh8NBcHAwQkNDzfZXNxVNX/asrCyr56J1c84uLi5aFfNjifvV4lInlUpRXFzM1knoux5NG1bNDU5wcDC8vb1tsskTCoUoLi5mbYZNobm5GXl5eWx7mr3EfOfOndi5cydaWloAAMnJydi8eTOWLl1ql/VQqKBf00gkEhw9ehSFhYU4fPgwfHx8sHLlShQUFGD27NlsKJ2IT29vr81mb5sCqbjv6ekZs/pa06HLVkY2upBiQjKy09bha5JzJqF5ssHRdeojLV88Hs+hOwOkUimKiorg7++PpKQkg4RZc/wpSc9YuyWQiPnUqVMxbdo0kx6jra0NeXl5uPXWW/HOO+/Y9WR+6NAh8Hg8xMfHAwA++eQTvP766ygtLUVycrLd1nUtQwWdAuDyTfGHH35AYWEhDh48CDc3N6xYsQLLly/Hp59+itbWVhw8eNDiYWFLQXK8QqEQWVlZBoVTSTqCiLtcLmeNbIKCgqwiYEqlkh136wgnXl0LUqVSicDAQAQEBKC9vR1ubm5IS0tzmDoJXUZHR1FcXIyAgAAkJiaadMrWbQlUq9UmD9EZC5FIhKKiIkRHRyM2Ntakx+jq6sKSJUtw88034/3333fIMHtAQABef/11PPjgg/ZeyjUJFXTKFcjlcpw6dQqff/45vvzyS3h5eeGWW27BmjVrcOONNzpcDlWhUKC8vBxqtRoZGRkmrU+3WlwikWhVi1vimuVyuZbJiaOdeBmGgVAoRFdXFzo6OsAwjJZTn6O97xKJBMXFxQgKCsLMmTMtEjLXdCvk8/kYHR01+3NAxDwqKgpxcXEmraunpwdLly7FnDlz8OGHHzrcBkulUuGrr77C2rVrUVpaiqSkJHsv6ZqECjpFLz09PVixYgU8PT3x5z//GUePHsU333wDqVSKZcuWoaCgAAsWLLB7tbNUKkVpaanFT5KaDmVCoZAdnhISEmJSK9jo6ChKSkoc3pednHj9/f0xderUKwrKjHFpsyZisRjFxcUIDQ21agcD+Rzw+XyMjIzA19eXDc0b0jUgFotRVFSEyMhIk8Wcz+fj1ltvRVpaGvbs2eNQG8HKykrMnTsXUqkUXl5eDjem9VqDCjpFL/feey8YhsEHH3zACphKpcK5c+fYsa/Dw8NYunQpCgoKsGjRIpsZyxDEYjFKSkrYcKu1RJI4lPX29mq1goWGhhokbER8goKCTA4L2wKyzpCQECQkJGitkxSU9fX1sS5tth59qrnOoqIihIeH29RbQLdrYKLZ5mSdU6ZMQVxcnEnr7O/vx7JlyzB9+nTs3bvX7ikaXeRyOdra2jA0NITCwkJ88MEHOHPmDD2h2wkq6BS9iMVieHh4jHkTUqvVOH/+PCvuvb29WLJkCfLz85GXlwcvLy+rro+0z5GTj71u6prCpu+aiS+7rddpLEKhECUlJQaJj0KhYF+D/v5+uLm5sa+BtQfIiEQiFBcXIyIiwq5tk0qlUmv8K4/HY8Xd398fo6OjKCoqMmudQ0NDWL58OSIjI7Fv3z6HS3noY9GiRYiLi8P7779v76Vck1BBp5gNmelOxr62t7dj0aJFyM/Pv2KmuyXg8/morKy0e/ucrrC5u7uzwubt7Y3BwUF2epap/ca2gJicxMTEGF19TUafkrA0j8djQ9KWbgkkuWhH2xyp1WoMDg5qFRYyDIOAgACkpKSYdKoeGRnBypUrERgYiAMHDjjsICFdFi5ciKioKHz88cf2Xso1CRV0ikUhM92/+uor7N+/H42Njbj55puxcuVKLF++HP7+/mbdiIlFanJy8pge9/aATMXq7e1lT2xyuRzTpk1zKPHRhYzsNHXkrSaawtbX18dWi1uiJZC0fJlTWGYLSJjdzc0NKpUKEokEgYGBbNW8IcIsEomwatUquLu749ChQ3avVxiLZ599FkuXLkVUVBSEQiH27t2L1157DUePHsXixYst8hwqlcrhCgAdGSroFKvBMAxqa2uxb98+fP3116iqqsKNN96IgoICrFixAkFBQQYLHcMw7LhOS83ethbt7e2or6+Hr68vRCIROBwOe3K3l5GNPgQCASoqKq4Y2WkJSEsgiWBIpVKt8bfGnFpHRkZQUlJiVv+2LSBh9uDgYLYGgTjV6VrxBgcH6zUTkkgkWL16NQDgu+++s9vwG0N48MEHceLECXR3d8PX1xdpaWl45plnLCbmDMOw94d33nkH3d3dcHFxwbPPPutwtQSOAhV0ik1gGAZNTU2suJeUlGDevHnsTPewsLAxxZ1sDPh8PrKysqyenzcH4suenp6OgICAK06t9hx7qgmZ7JacnIywsDCrPpe+ueaka2Ci8bckHTBt2jSTndVsgT4x10Umk7FufQMDA3B3d0dwcDDUajXi4+Mhl8uxZs0aSKVSHD161GZjaR0RTTF/8skn8dFHH2HevHn4+eefMXPmTOzevZsW3umBCjrF5hB7Vs2Z7rNnz2ZnukdGRrJfZrFYjLq6OkilUoceCkJmhHd2diIrK0uvAY+mkU1vby8UCoXVjWz00d3djYsXL9rN9Y90DZDxt97e3loV8wQyWtQcz3NbQJzqAgMDDe6HJykaPp+P+++/Hz09PYiMjIRUKsXZs2cd1o3R1nR3d2PdunX429/+hoSEBAwMDGDhwoXgcDj497//jdTUVHsv0aGggk6xK2Sm+/79+1FYWIhz584hMzMT+fn5uOGGG/D4449j0aJF2Lp1q8OG2RiGwcWLF9Hf32+wLzsxcSGn1tHRUZND0sZAahDS09MRGBholecwBrlcrtU1QAoL3dzcUF9fb/fCx4kgYm6OU51QKMQDDzyAixcvQiaTQSgU4tZbb8Xdd9+N5cuXW2HVVwdvvfUWPvzwQ4SFhWHPnj1szYxQKMT8+fMhk8nw73//GxkZGfZdqANBBZ3iMDAMg97eXhw4cAD/7//9P1y4cAGxsbG47bbbcPvttzvkPHO1Wo3KykqzfdlFIhHb664ZkjbVyEYfJB2QmZkJPz8/izymJSGtYB0dHRgcHISTkxPCw8Ot6q9uDmQgjJ+fn8Ee8rooFArcf//9aGxsxMmTJxEYGIjS0lIcOHAAnp6eeOaZZ6yw8quDoqIi/OEPf8DAwAB++eUXzJw5E2q1GlwuF6Ojo1i4cCGqq6vZMbQUKugUB6Sqqgp5eXlYvHgx5s2bhwMHDuD48eOYMWOG1kx3e4s78WVXKpXIzMy0WJ/w6Ogoe3IfHh6Gr68vK+6mVDwzDINLly6hvb19zHSAo9Df34/y8nJMnz4d7u7ubCuYo9QeEGQyGYqKiswSc6VSiXXr1qGiogKnT59GSEiIFVZ6daCZM9ekpqYGS5YswYwZM/D5558jJCSE/V2ZTIbnnnsO27Zts8OKHRMq6BSHQqlUIjExEWvXrsVzzz0HDofD5p4PHjzIznSPjo5mx76mpqba/PRmK192mUzGijtxaAsNDb0i3zwWmjPXs7OzHbqgkFTdz5w5ExEREezPGYbRGiBDhuiQ4Sm2TsWQues+Pj5jjmqdCJVKhccffxy//fYbTp8+jfDwcCusdGJeffVV7N+/H7W1tXB3d8e8efPYfLWt0BTz7u5uqFQqhIWFsd+pixcvYsmSJYiPj8dnn32GsLCwMTcA1zpU0B2ElpYWvPjiizh58iR6enoQERGBu+++G88999xV4RBlSQQCAYKCgsb8+5GREa2Z7iEhIcjPz0dBQcGEM90tgVQqRUlJCTw9PW26mSBGNr29vVr55tDQUHh5eV1xg9PM7WdnZ9vcmtcY+Hw+KioqkJSUNK646Q7REYvFWsNTrG3AIpfLUVRUxHrymzrdbePGjThz5gxOnTpl1xqBvLw83HnnncjNzYVSqcRzzz2HyspK1NTU2KRlTlOYd+3ahR07dkAsFoNhGOzatQuzZ8+Gp6cnGhoakJeXh6ioKOzZs8eh6yrsCRV0B+Ho0aP44osv8F//9V+Ij49HVVUVHn74Ydxzzz00pDQOYrFYa6a7n58fVq5cifz8fK2Z7pZ8vpKSEgQGBto17E/yzWSet4uLCxuW9/X1BcMwqKmpwfDwMLKzsx22OwAA+vr6UFlZiZSUFKPNgiQSCSvupgxPMQa5XI7i4mJ4enqaPGBHrVbjqaeewtGjR3Hq1CmHa8Xj8/kICQnBmTNncOONN9rseT/88EM8+eST+Nvf/oa8vDw8+uijqKmpwYsvvojVq1fD09MTLS0tSEtLwx/+8Af861//stnariaooDswr7/+Onbu3IlLly7ZeylXBaOjo+xM90OHDrEz3VetWoV58+aZHRYnBidTpkyxq4+4LvrsV7lcLhiGQW5u7qQVc110ffY9PT21fPbNeb8sJebPPvssvv76a5w+fdohC7kaGxsxffp09j2xBQ0NDbj33nvxyCOP4L777kNJSQmWLFmC6OhoVFVVYceOHbj99tvh6+uL3t5eBAYGOtTEOUeCCroD8/zzz+Po0aMoKiqy91KuOuRyOU6ePIl9+/bhm2++AYfDwfLly7Fq1SrceOONRuddBwYGUF5e7vAGJwqFAsXFxZBKpezPNO1XHalSnJjbpKamWrwgTKFQsBGM/v5+uLi4sK+Dn5+fUeJOXlN3d3eTUyxqtRpbtmzBZ599hlOnTtk0R20oDMMgPz8fg4OD+Omnn2z2vJcuXcKhQ4ewbt06tLW1YfHixXjggQewZcsWLFu2DGVlZXjqqafw8MMPO7RzniNABd1BaWpqQlZWFv7xj3/goYcesvdyrmqUSiXOnDmDffv24cCBA5DL5Voz3SfKu5JT5MyZMy1ukWpJlEolSktLAQCZmZng8XhsMVlfXx8UCgUrakFBQXatFO/u7kZNTQ3S0tKsbqKiUqkwMDDARjA4HI5Wxfx4Ak3E3M3NDWlpaSaJOcMweOWVV/DBBx/g1KlTDutw9sQTT+Dw4cM4e/YsIiMjbfrcbW1tiI6Oxvr169Hf34+PPvoIbm5uePTRR3H48GEEBASgqKjIYb0oHAUq6FZmy5Yt2Lp167i/c+HCBeTk5LB/7urqwk033YSbbroJH3zwgbWXeE2hUqlw9uxZduyrUCjUmumu2xZGjFhSUlIcuq1IoVCgpKQEzs7OSE9Pv0KsNY1sent7WW/10NBQm1eKd3V1oba2FmlpaeMWP1oDtVqtVTGvVCpZtz7dUC55TV1cXJCenm6ymG/btg1vv/02Tp48ibS0NEtejsXYsGEDDhw4gB9//NGqfvmkCK6hoQFisRgCgQCLFi1i/37lypWIiYnB9u3bAVz2i9+wYQOSkpKuueJgU6CCbmUEAgEEAsG4vxMTE8PmObu6urBgwQLMnj0bH3/8sUOFSCcbarUav/76KyvufD6fnem+ZMkSbNu2DU1NTfjnP/+JgIAAey93TGQyGUpKSuDu7m7wKVKzUlwkfEMA0QAAKJlJREFUErGV4iEhIVa9cXZ2dqKurs4hnOoYhsHIyAibdx8dHWVfB39/f1RVVbEbJFPFfPv27Xj99dfxww8/IDs72wpXYR4Mw2DDhg1sXn/69OlWfS4Oh4PDhw/jySefhKurKwYHBxEXF4c33ngDWVlZ2LRpEz799FM8+uijqKysRFFREaqrqx36++dIUEF3IDo7O7FgwQJkZ2fj3//+t93NM64l1Go1SkpKsG/fPhQWFrKDVP77v/8b69atg6+vr72XqBfiVkZ6ok0RHn2V4qTX3ZIFdSTakZGR4ZA3aDJApre3F0KhEE5OTpg2bRpCQ0ONNvRhGAbvvfceXnrpJRw9ehSzZ8+20qrN4/HHH8dnn32Gb775Riuv7+vra5WxrRcuXMCiRYvw2muv4aGHHkJ5eTlmzZqF3bt34/777wcAPPLII6ipqYGvry/ee+89m4f/r2aooDsIJMweHR2NTz/9VEvMrT0Ni/I7KpWKzdsVFBTgxx9/ZGe65+fnY9myZWbPdLcUEokExcXFFm2hk0ql7Il1cHBwzMEpxtLe3o6GhgZkZmY69OhbzTqEkJAQCAQC1tBH83UY77VmGAa7d+/G//7v/+K7777DddddZ6vlG81Y1/HRRx/hvvvus/jzvf3227hw4QI+/fRTtLa2YtGiRbj55pvx/vvva/2eUCiEm5sbzZkbCRV0B+Hjjz9md6i60LfIdjz22GM4ffo0jh07hqioKNachYx9ra6uxk033YSCggIsX77cqJnulkQkEqG4uBhhYWGYMWOGVdagOTilv7/f5DawtrY2NDU1OayHPEGlUqGkpARcLhcZGRnsppoY+pDXwc3NjX0dfHx8tF4HhmGwZ88ePP300zh48CDmz59vp6uxPxKJBCKRSMuu9YEHHoBarcbHH3+MuLg4tk6Iy+Vi165dGBoawtNPP23vpV+1UEGnUDSorKxEeHi43mItMiK1sLAQ+/fvR2lpKa677jp2pntoaKhNxJ30w0dFRSE2NtYmz6lUKllREwgEcHV1ZcPyuqKmCRkIk5WV5bBpC+CymOt2CIz1ewKBAHw+n+359/b2RmtrK/Ly8vD1119j06ZNOHDgABYuXGjLS3AoJBIJwsPDERMTg2+//ZZ1djt06BBeffVVtLS0YOHChdizZw8r9hs3bsTAwADef/99h3Y1dGSooFPw8ssv4/DhwygrK4OLiwuGhobsvSSHh8x0J+J+/vx5zJkzh53pPmXKFKsILZkRbs9+eH1GNuTEqpmOaG5uRmtrq8MPhFGpVCgrKwPDMOOKuS5qtRqDg4M4e/Ys1q9fD7lcDgDYtGkT/vrXv17TokRaEtVqNZKTk3Hw4EFMmzYNNTU12LRpE5qamvD3v/8dq1evxuDgIN5++2288847OH36tMO29V0NUEGn4IUXXoCfnx86Ojqwe/duKuhGwjAMOjs72ZnuP//8M7Kyslhxj4mJsYi4DwwMoKyszKFmhKvVaq0eb4ZhEBISwp5kc3Jy4O3tbe9ljgkRc7VajczMTJMdyA4cOIAXXngBqampqKqqQkdHB5YsWYIXX3zRZo5rjgLDMJBKpdiwYQP8/PxQXV2NqqoqnDx5EtOnT8dPP/2El156CY2NjXBzc0NQUBCampqwb98+zJkzx97Lv6qhgk5h+fjjj7Fp0yYq6GZAZrp//fXXKCwsxI8//oiUlBRW3E2d6c7n81lzG81JZI4EwzAYHBxEQ0MDRkZGwOPxHMbIRh8qlYodf5uVlWWymH/33XdYu3YtPv30U6xevZr10f/6669x1113ITY21sIrd1w0h63s3r0bW7ZswcGDB/HCCy+gpKQEx44dQ1JSEurr63Hp0iWcOnUK2dnZSE9Pd0j3vKsNKugUFiroloVhGPT39+Obb75BYWEhTpw4gRkzZrCT4QytTO/p6UF1dbVF/M6tCakx6OrqQlZWFtRqNdsOJ5VKWQMXe4w81UWtVqO8vBwKhcIsMT9+/DjuuusufPDBB7jzzjstvMqri8HBQfj4+Ght3NasWYPs7GysXbsWd999N6qrq/H99987rMHO1Q51LaFQrASHw0FQUBAefPBBHD58GD09PXjqqadQWVmJG264AdnZ2di6dSsqKiqgVqv1PkZnZydqamqQnp7u8GLe0NCArq4uNszu6+uL6dOnY968eZg9eza8vLzQ0tKCM2fOoKSkBJ2dnWze2ZYQMZfL5WaF2c+cOYO77roLO3bswB/+8AcLr9I4fvzxR6xYsQIRERHgcDg4cOCATZ8/MTERaWlpePrpp/Hdd9+xP7/xxhvx7bffIiwsDAcOHEB6ejpuvfVWOp/CSlBBn6Rs2bIFHA5n3P/ol8p2cDgc+Pv7495778U333yD3t5evPDCC2hqasKiRYuQnp6O559/HkVFRay4b9++Hb/++isyMjJsbpFqDAzDoL6+Hj09PcjJybmiX53D4cDLywtxcXGYO3cu5s2bh4CAAHR2duLHH39EUVER2tratAbKWAu1Wo2KigrIZDJkZWWZHCk4e/Ys1qxZg7feegv33HOP3X0JxGIx0tPT8c4779j8uRsaGtDe3o7Ozk6IRCLcc889uP/++/Hhhx9i/fr1EAqFeOutt+Dl5YW9e/ciKSkJS5YsgVAotPlaJzs05D5JMdZyFqAhd3shFotx5MgRFBYW4rvvvoOfnx9mzpyJn3/+GV988YVD9zIzDIO6ujrw+XxkZ2cbXdktlUrZsPzQ0BB8fHzYinlLV4mr1WpUVlZidHQU2dnZJov5+fPnUVBQgFdeeQWPP/643cVcFw6Hg6+//hoFBQU2e86SkhLk5+fj+uuvx5/+9CccPnwYJ06cwOjoKAAgNDQU+/btg7e3N4aGhtDS0oKMjAybre9agQo6hYUKuv2RSCRYu3Ytvv32W0RGRkIikWDFihUoKCiwyEx3S0JMdwYGBpCdnW22VahcLmfFXXOeeWho6ITubBNBxFwikSA7O9tkv/ri4mKsXLkSW7ZswZ/+9CeHE3PAPoIOXBb1W265BUuWLMEbb7yB0NBQvPXWWzh27BhSU1Pxt7/9zabruRahgk5BW1sbBgYGcPDgQbz++uvsLOT4+Hh4eXnZeXXXDmq1Gn/+859RWFiI48ePIzY2FsePH0dhYSEOHjwILpfLznS/4YYb7FpYRiq5BwcHkZOTY1HPd0B7nrlAIBjXnW0i1Go1qqqqIBaLzRLz8vJyLFu2DH/961/xl7/8xSHFHLCfoANARUUFlixZgpSUFOzbtw++vr4QCoUO3bo4maCCTsF9992HTz755Iqfnzp1yqHDvZMNmUyGxx57DP/7v/97xQhLhUKhNdNdoVBg+fLlyM/PN2imuyVhGAbV1dUYHh5Gdna2xcVcF9LTTsTdycmJFXc/P79xhVWtVqO6uhoikcgsMa+ursbSpUuxadMmPPfccw4r5oB9BR0ALl68iCVLliA2NhZffPGFQxdzTjaooFNsyo4dO/D666+ju7sbycnJeOutt3DDDTfYe1lXFWSmOxF3oVCIW2+9FQUFBVi4cKFVpmQRiEAKhUJkZ2fbdCNBnp8Y2fT19YHD4bC97gEBAVrT5hiGQVVVFYRCIXJyckwW89raWixduhSPPPIItm7d6tBiDthf0AGgvr4ey5cvh7+/P/bv348pU6bYbS3XElTQKTbjiy++wD333IMdO3bguuuuw/vvv48PPvgANTU1iI6OtvfyrkrITHci7nw+H3l5eexMd3MmpOl7LhK6zsrKsrmY61vP0NAQK+4qlUpL3GtrazEyMmLWxqOhoQFLly7FPffcg1dffdWk8bS2xlqCrlarjbr+pqYmXHfdddi1axdWrlxp0bVQ9EMFnWIzZs+ejaysLOzcuZP9WWJiIgoKCvDqq6/acWWTA7VajeLiYnYyXGdnJxYvXoz8/HwsXbrULD91SxWVWQuGYTAyMsLOM5dKpeByuZg+fTrCw8NNKiZsbm5GXl4ebr/9dvzjH/9waDEXiURobGwEcHm4zBtvvIEFCxYgICDAIptlpVLJvoYtLS1wd3eHh4cHvL29tdzhdBGLxRbdVFLGhwo6xSbI5XJ4eHjgq6++wqpVq9ifb9y4EWVlZThz5owdVzf5IP3WRNybmpqwcOFCdqb7RLln3ccqLy9ne7cdTcw1IcV6/f39CA0NxcDAAMRiMQIDAxESEoLg4GCD1t/W1oYlS5Zg+fLlePvttx1azAHg9OnTWLBgwRU/X7t2LT7++GOzHlulUrHub2vWrEFjYyMGBwcxf/58bNiwAVlZWeOKOsV2UEGn2ISuri5MmTIF586dw7x589ifv/LKK/jkk09QV1dnx9VNbjRnuu/fvx81NTWYP38+O9M9MDBwzJuxSqVCRUUF5HK5WUYstkCzjU6z8l4sFrNheaFQCH9/f1bc9RX0dXV1YcmSJVi4cCHee+89hxdzW5GXl4f+/n68++67aG1txebNm+Hu7o5//vOfbB0MFXb7Qj+pFJui+2WnNwDrw+FwkJSUhM2bN6O0tBTV1dVYsGABPvroI8TFxWH58uXYtWsXenp6oLm/F4vFKC0tZf3OHV3Ma2trrxBzAPD09MS0adMwe/ZsXHfddQgODkZPTw/Onj2L3377DS0tLWhpaQFw2Td/2bJluOGGG7Bz504q5v9h+/btGB4exokTJzBr1iyUlZWBz+fDz88Pjz/+OM6dOwfgyu83xbbQTyvFJpBpWz09PVo/7+vro20tNoTD4WD69On461//it9++w319fVYtmwZvvzySyQkJCAvLw/vvvsu6urqsHTpUnz55ZdXhZjX1dVBIBBM2Ebn7u6O6Oho5Obm4oYbbkBERAQ6OjqQmZmJ9PR0LF26FPHx8fjggw8cbjqcPcnKysLKlSvh4+ODF198EXv27MHJkyfx7LPPoqOjA/fffz8OHjxo72Ve81BBp9gEFxcXZGdn44cfftD6+Q8//KAVgqfYDg6Hg2nTpuEvf/kLzp07h0uXLuH222/HN998g+uvvx5DQ0MIDg5GR0cHHDUzR3zk+Xw+cnJyjGrZc3V1RWRkJK6//nr89ttvCAkJgVQqxcmTJ5GamornnnsONTU1Vly9Y6JvUND111+PDRs2oK+vD0eOHMG2bduQlpaG7OxszJw5E+Hh4WhtbbXDaimaUEGn2Iwnn3wSH3zwAT788ENcvHgRf/7zn9HW1oZHH33U3ku75uFwOIiKisIDDzwADoeDrKwsPPHEE/jpp5+Qnp6OG2+8Edu2bUNDQ4PDiDuZ8Nbb22uW9ezQ0BDuv/9+BAUFoaGhAQKBAC+++CKam5uvuWJNlUrFphkqKytx8uRJtLS0QKlUwsvLC319faipqWEr11tbWxEeHo6///3v2LBhgz2XTgEtiqPYmB07duDvf/87uru7kZKSgjfffBM33nijvZdF+Q8rV66ETCbDgQMH4O7uDoZhIBAI2JnuJ0+eREJCAvLz85Gfn2/wTHdLQ2avd3d3Iycnx+RBLiMjI1i5ciUCAwNx4MABu/fW2xPNepb7778flZWVaGxsxOzZsxEYGIgPPvgAEokE999/P4aGhnDzzTfjww8/RH5+vl2mvFGuhAo65Zrgxx9/xOuvv47i4mJ0d3fb3UnLUamvr0d0dLTePDTDMBgaGsLBgwdRWFiIH374ATExMcjPz0dBQQFSUlJsUkRGxJzMXje1z1kkEqGgoAAeHh44dOiQVR32DMURnBSfeeYZfPHFF/j222+RnJyMgoICFBUV4fjx40hMTMShQ4fw+eefo7W1FfPmzcPrr79u0/VRxoYKOuWa4MiRIzh37hyysrKwevVqKugWYGRkBN9++y0KCwtx9OhRhIeHY+XKlVi1ahUyMzOtJu6NjY3o7Ow0S8zFYjFWr14NLpeLw4cPO4T5ib2cFMnJnGEYCIVCrF69GuvXr0d+fj4+/PBD/PnPf8bnn3+OW2+9FUKhEJ6enuByuZBIJBYfcUsxDyrolGsOR/C6nmyIRCKtme4BAQFYsWIFVq1ahdzcXItVjDc1NaGjowPZ2dkmTwIcHR3FmjVrIJPJcOTIEYeZBGYPJ0VNO1c+nw93d3csXLgQu3fvxoULF7Bx40Z88sknWLVqFcRiMXbt2oX09HTMnz+ftvQ5II4zXJlCoVy1eHl54Y477sAdd9yB0dFRfP/999i/fz9Wr14NT09Pdqb73LlzTZ7pfunSJbS3tyMnJ8dkMZfJZPjjH/8IsViM77//3mHEXC6Xo7i4GP/zP/+j9fNbbrkFP//8s9Wel4jyo48+CpFIhNdeew0A8NBDD6GhoQG7d+9mnR3b29uxb98+REVFUTF3UOi7QpkQhmH0trJQKPpwd3dHQUEBPv30U3R3d+P999+HXC7HH//4R0yfPh1/+tOfcOrUKSgUCoMfs7m5GW1tbWadzOVyOe69917w+XwcOXIEvr6+Jj2ONRAIBFCpVFd4MoSGhl7h3WBp2tvbcf78eTz66KOIjIzEO++8g7a2NqSlpWH16tUQiUTo6OjAvffei9DQUNx+++1WXQ/FdOgJnTIucrkcLi4ubPUrwzBgGIbu0CkG4ebmhmXLlmHZsmV47733cPr0aRQWFuLBBx+EUqlkZ7rPnz9/zArzlpYWtLa2Ijs72+QTtUKhwAMPPIC2tjacOHEC/v7+5lyW1bC1k+Ibb7yB0tJSpKenIycnB8Dl4S7bt2/Hfffdh8zMTKhUKri7u8PX1xf79++32loo5kMFnTIumzdvxo8//ogFCxbgwQcfRGxsLLV3pJiEs7MzFi9ejMWLF+Odd95hZ7pv2LABIpEIy5YtQ35+vtZM988//xwhISHIzc01WcyVSiXWrVuHuro6nDp1CkFBQZa8LItgDydFlUoFuVyOvXv3arUfOjk54fbbb8fcuXPxxRdfgMvlIjo6GrfddptV1kGxHPSYRRkTPp+P2tpaiMVi/PLLL0hKSsLcuXNx/Phxey+NcpXj5OSE+fPn45133kFraysOHz6MkJAQPPPMM5g2bRrWrl2Lxx57DBs3bkRISIjJo19VKhWeeOIJlJWV4fjx4wgJCbHwlVgGWzopkvQZj8fDhg0bsGPHDly8eBEvvfQS+ztKpRJTpkzBk08+iU2bNlExv0qggk4ZkwsXLqCvrw8bN27EyZMn0draipSUFLz22msYHh629/KMQiQSoaysDGVlZQAu52TLysrQ1tZm34VRwOPxcN111+HNN99EU1MTjh8/jsHBQXz22WcIDQ3Fq6++ii+//BJCodCox1Wr1di4cSN++eUXHD9+HOHh4Va6AstgTSfFoqIi/P3vf4dQKNSqh/H09MTdd9+N7du349VXX8ULL7wA4PKGS61WO4wrIMVAGAplDDZv3szccMMNjEAgYH/25ZdfMgEBAcyXX37JMAzDqNVq9n+VSiX7Z0fj1KlTDIAr/lu7dq29l0bR4d1332V8fHyYn3/+mSkpKWGee+45JjExkXFzc2OWLVvG7Nq1i+ns7GREIhEjFov1/icUCplHHnmEiYmJYZqbm+19SQbz7rvvMlOnTmVcXFyYrKws5syZM2Y/5tDQEBMSEsJwOBxm1qxZzF/+8hfm5MmTWr8jFouZXbt2Mc7Ozsyzzz5r9nNS7AMVdIpe+vv7mZUrVzIuLi7Mvffey5w6dYoZHBxkHn/8cYbD4TDl5eXs7yoUCq1/66iiTnF8BgcHmbi4OObcuXNaP1er1UxVVRWzZcsWJi0tjXF2dmZuueUWZseOHUxra6uWuAuFQmb9+vVMZGQk09jYaKcrcRyUSiXzP//zP8yHH37I7N+/n9m0aRPj7u7OPPLII8yOHTu0fvfDDz9kOBwO8+abb9pnsRSzoIJO0cvRo0eZOXPmMA899BDz2GOPMT4+PoyzszPD4/GYpUuXsr+nUqmYxx57jFm+fDmzbds2hs/n23HVjskrr7zC5OTkMF5eXkxwcDCTn5/P1NbW2ntZDotcLh/379VqNVNXV8e8/PLLTHZ2NuPk5MQsWLCAeeutt5impibmv//7v5nw8HCmrq7ORit2fD7++GMmPDyc6ejoYBiGYerq6pinn36a4XA4zI033shs376daWhoYBiGYY4cOcKMjo7ac7kUE6FOcRS9bN26FceOHcO//vUvJCUl4fvvv8dTTz2FP/zhD3jggQfYfGRbWxs+/vhjuLq64ssvv4RMJsPbb7+NBQsWsI/FaFhLyuVyuLq64rPPPkN1dTXWr1/v8LlNc8nLy8Odd96J3NxcKJVKPPfcc6isrNSaWkUxDYZh0NzcjMLCQuzfvx+//fYb3NzccOHCBSQlJdl7eQ7FvffeCx8fH3aQyoIFCyCTyZCUlIRLly7h9OnT2LVrFx566CE7r5RiKlTQKVcwNDSERx55BFwuF59//jn782XLluGxxx7D8uXLoVKp9Np53nnnnZBIJPjmm2+0+tWFQqFW29Hjjz+O8+fP48CBA4iKisIbb7yB5ORkLFmyxPoXaGf4fD5CQkJw5swZOmnOgjAMg7KyMrS0tLDuZpTfN9S7du3CV199hR9++AG33XYbKioqcObMGUyZMgUtLS04efIkbrvtNvj5+dl7yRQToVXulCv4+eefcfHiRcyePRvA5RYWAFo+0zweDy0tLdi8eTNWrFiBhx56CEVFRbjpppugVCrR0tICLpeLnp4e/O1vf8NNN92E6Oho7N69G1VVVWhqasINN9yAqKgoqNVquLu749dff2WfazJDOgQCAgLsvJLJBYfDQWZmJhVzHUh/+cMPP4ze3l64uLigvLwcR44cwZQpUwAAMTExeOCBB6iYX+VQYxnKFYSEhGDOnDns2EbS5uLq6gqBQADg8pjN559/Hr/88gs2btyIyspKLF++HEKhEBkZGQgLCwNw+SReXFyMdevWISwsDEePHkVpaSlUKhVyc3MBXPaTfuyxx9jnZyaxGx3DMHjyySdx/fXXIyUlxd7LoVwjkCEszz//PJ5//nm8++67mD59ur2XRbEwVNApV5CTk8PaQAKXTS+Ay7v4jo4OdHR0oLOzE5WVlXjrrbewevVqAEBpaSnWrVuH1NRUuLu748yZM/j2229x6NAhNpTu4uKCDRs2IC0tjd0wvPzyy5gyZQruvPNOuLq6gsPhTFo3uvXr16OiogJnz56191Io1xBkczxr1ixIpVKUlJRg8eLFdl4VxdJMviMQxWpcf/31mDlzJjgcDmbMmIHR0VH09vYCuGxRuWfPHnR0dGDRokUAgI8//hhz5szRyhNfd911UKlUyMjIQHR0NKRSKQ4ePIjjx49DrVaDw+Hg1VdfZR9XE5VKZZsLtRIbNmzAwYMHcerUKURGRtp7ORQb8PLLL2PevHnw8PBwiHB2TEwMnn/+ebz88ssoKSmx93IoFoYKOsVgYmJicOLECUyZMgVhYWG4//778dRTTyE7OxubNm3CRx99hNDQUOTl5QEAzp8/j5tuugnu7u6s49S5c+cQGxvL5ufPnDkDlUqF+fPnw8PDA9XV1XjuuedQXl5+xfNrFuExV9EEOIZhsH79euzfvx8nT57EtGnT7L0kio2Qy+W44447tFJK9mbJkiXIzs5GRESEvZdCsTA05E4xCR6PhxdeeAFPP/00Tpw4wdpESiQSeHl5QSwWIy0tDdXV1QB+L8w5duwY/Pz8WH/q48ePw9fXF2lpaQCATz75BKmpqUhNTWWf6+eff8Z9992HAwcOsK1ImmF5lUoFLpfrsGH6J554Ap999hm++eYbeHt7swM4fH192SEklMnJ1q1bAVyOVjkKU6dOxZEjR+Dm5mbvpVAsDBV0ilm4u7tj+fLlAC63tRGx8vT0xIoVK/D888/j5MmTiI2NxZdffol9+/bh/vvvx7Rp06BQKFBcXIyEhAQkJycDAL788kvccccdCAwMZJ/jq6++gru7Oyt+DQ0N+P7775GQkIDFixfrbZ/ThZzm7VFoRzoD5s+fr/Xzjz76CPfdd5/N10OhUDGfnFBBp1gMHo/HtsEAlw1Vzp07hyVLlmDJkiXo7e2Fn58fWwz3008/YWhoCGlpafD09ERjYyPa2tpwyy23sIV4AHDo0CHcfvvtmDZtGg4ePIitW7fC3d0dLS0tkEql+POf/4z169fD19f3ijWp1WqMjo7a1cDF3lYPO3fuxM6dO9HS0gIASE5OxubNm7F06VK7rotCoVgWmkOnWI3AwEDs2LEDCoUCb731Fp5++mnMmjULGRkZAIDvvvsOAQEByMrKAnD5JJ6YmIjExET2McrKysDn89nCujNnzsDb2xtnz55FR0cHPvjgAwwODkIsFms9NxHRmpoaLF26FLNmzUJpaanedV4tuXhTiYyMxGuvvYaioiIUFRXh5ptvRn5+PpsOoRjHli1b2JTPWP8VFRXZe5mUaxB6QqfYhPj4eMTHx+OOO+4AcFlwm5qaEBwczIbbe3t74e7urpUL/+ijjxAXF4eEhAQAQFxcHHbu3IkDBw5g4cKFKCgoQGJi4hUFPuQxqqurIZfLUVRUhLq6OmRmZrIud8RBazL2u2uyYsUKrT+//PLL2LlzJ3799Vf2tacYzvr163HnnXeO+zsxMTG2WQyFogEVdIpd4HA4+Prrr9Hb2wsvLy8AwB133IF9+/bh1KlTWLhwIfbs2YOPPvoI69atY/3eH330UQwODuLtt99GbW0tnnrqKVbsdZHL5aioqIBcLkdiYiLrzEZO7wcPHsT777+PG2+8ERs3brwmCtRUKhW++uoriMVizJ07197LuSoJCgpCUFCQvZdBoVwBFXSKXQkNDWX/f1ZWFtatW4c//elPuOmmm8DlcqFSqbBgwQJ4eHigq6sLERER2LRpE2JiYvDMM8+gqakJ77zzDlxdXdnHISfv5uZmlJWVISEhAbGxsTh37hxuueUWODk5obe3F3/5y1/Q0tKC6upqrFu3blILemVlJebOnQupVAovLy98/fXXdHiJDWhra8PAwADa2tqgUqlQVlYG4HLEimxkKRRLQQWd4jC4u7tj8+bN2Lx5MwYGBnD+/HlIpVIkJSWhvb0db775JlavXo3rrrsOf/zjH6FQKPDMM8+wVeS6VFdXo6GhAZ988gl2794Nf39/AEBVVRX+9a9/gWEY3HbbbfD390dAQAC7EQAu59XVajV4PJ7DtsMZQ0JCAsrKyjA0NITCwkKsXbsWZ86coaJuZTZv3oxPPvmE/XNmZiYA4NSpU1d0PVAo5kKnrVGuCnp6evDCCy/gwIEDmD17NlJTU7Fv3z5MnToVx44d0xJj4PJAmS1btuDQoUMoLS3F7bffjuuvvx5PPvkkli9fzp6QfvvtN9xzzz2455572H8rk8m0TvyTkUWLFiEuLg7vv/++vZdCoVAsxOSuBqJMGsLCwvD+++/j5MmTmDFjBsrLy/GXv/wFu3fvBvB7Xpz8b0tLC8rKypCVlQUul4vc3FwUFRVh7969KCoqwpNPPgm1Wg2hUIiFCxcCuBwefemll1BQUICMjAxs27YNQqHwirUQE52rGYZhIJPJ7L0MCoViQWjInXJVkZycjG3btl3xc91K9ZqaGrS3t+Pee+8FAIyMjGDv3r3g8Xh49dVXERQUhPLycsyYMQMRERHo7+/H2rVr4eTkhIcffhhtbW0oLCxEd3c3tm3bpnX6J89F7GcNMbaxJ88++yyWLl2KqKgoCIVC7N27F6dPn8bRo0ftvTQKhWJBqKBTJhUcDgcqlQpnzpzB8PAwa54ydepUAJdDzWvXrsXhw4fR3d2NNWvWAAD+9a9/4cyZM9i3bx9uu+029neXLFmCP/7xj2yv/AcffIDR0VEsXboU8fHxDi/mwOV2wHvuuQfd3d2sze7Ro0fptC0KZZJBc+iUSYdarcaRI0dQVFSEF154gc2vC4VCeHt7AwD+93//F99//z3279+PyMhIJCYmQqVSQSqVYnR0FEuWLMEtt9yCzz//HKtWrcK6detw6dIlvPLKK+js7MS5c+eQm5uLN954A+np6VesgXytJkNBHYVCuTqgOXTKpIPL5WLZsmV44YUX2J+p1WpWzFtaWlBZWYnExERERkZiZGQEHR0deOutt1BfX4/PPvsMrq6u2Lp1K77//nvWJCQmJgY7d+7EkSNH0NzcDFdXV+zYsYN9DplMxo591RweM9md6Ezh1VdfBYfDwaZNm+y9FApl0kAFnTLp0XWD6+7uRnt7O3JzcwEAEokEmZmZ+Pbbb+Hm5obFixdj9+7dqKmpwfnz53HLLbdArVbj7Nmz+Oc//4lvvvkGgYGBWLt2LWpqalBfXw8AKCoqwooVK7BlyxacO3cOFy5cAGCfgTCOzIULF7Br1y52wh6FQrEM9E5DueaYO3cuzp49iwceeADA5Qr6u+66C0VFRTh+/DiAyyKvVCqRm5uLkZER/N///R+WL1+Os2fP4q9//Sv8/PzwyiuvoKuri3Wxa2xsREdHB7755hvs2bMHixcvxs0334y2tja7XaujIRKJ8Mc//hH/+te/WF8ACoViGaigU65J3N3d4eHhwf75rrvuwnXXXYf8/HwkJiZiw4YNeO2118Dn89Hc3IzCwkI8//zz2L9/P6qqqrB3715IJBIkJSXB29sbQ0ND+PXXX6FSqfDRRx9hx44dKC8vR11dHU6fPm2/C3UwnnjiCSxbtgyLFi2y91IolEkHFXQKBYCPjw/efPNNDA4OYuvWrYiIiMC8efMQHBwMPz8/dHR0YNq0aeByueByuZBIJBgZGWGr6Ovr61FTU4N7770XGRkZ4HK58PT0REpKCn777Tc7X51jsHfvXhQXF+PVV1+191IolEkJbVujUDRwcXHBmjVr2HY2AJgyZQruuOMObNiwAT/++CP8/f3x/vvvQyqVslO3qqur0dvby7a8AUBXVxeEQiHCwsJsfh2ORnt7OzZu3Ihjx47Bzc3N3suhUCYl9IROoUyAk5MTdu3ahZ07d0Imk8HLywvTp09HTEwMAgICMDIygsrKSgQEBGhNMKupqUFbWxuWLVtmx9U7BsXFxejr60N2djacnJzg5OSEM2fOYPv27XBycoJKpbL3EimUqx56QqdQDGTVqlVYtWoVAGDx4sVsi1pNTQ1OnDiBBQsWsL8rEonw22+/ITg4mB3IcS2zcOFCVFZWav3s/vvvx8yZM/HMM89cFQY9FIqjQwWdQjEBTZGOi4vDbbfdhltuuYX9WXNzMy5cuMDm2K91vL29kZKSovUzT09PBAYGXvFzCoViGlTQKRQzCQ4O1jKxAS6b1xQXF+O1116z06ooFMq1BrV+pVCsRG1tLWbOnGnvZVAolGsEKugUCoVCoUwCaJU7hUKhUCiTACroFAqFQqFMAqigUygUCoUyCaCCTqFQKBTKJIAKOoVCoVAokwAq6BQKhUKhTAKooFMoFAqFMgmggk6hUCgUyiSACjqFQqFQKJMAKugUCoVCoUwCqKBTKBQKhTIJoIJOoVAoFMokgAo6hUKhUCiTACroFAqFQqFMAqigUygUCoUyCaCCTqFQKBTKJIAKOoVCoVAokwAq6BQKhUKhTAKooFMoFAqFMgmggk6hUCgUyiSACjqFQqFQKJMAKugUCoVCoUwCqKBTKBQKhTIJoIJOoVAoFMokgAo6hUKhUCiTACroFAqFQqFMAqigUygUCoUyCaCCTqFQKBTKJIAKOoVCoVAokwAq6BQKhUKhTAKooFMoFAqFMgmggk6hUCgUyiSACjqFQqFQKJMAKugUCoVCoUwCqKBTKBQKhTIJoIJOoVAoFMokgAo6hUKhUCiTACroFAqFQqFMAqigUygUCoUyCaCCTqFQKBTKJIAKOoVCoVAokwAq6BQKhUKhTAKooFMoFAqFMgmggk6hUCgUyiSACjqFQqFQKJMAKugUCoVCoUwCqKBTKBQKhTIJoIJOoVAoFMok4P8DCkehEUhkUmEAAAAASUVORK5CYII=' width=500.0/>\n",
       "            </div>\n",
       "        "
      ],
      "text/plain": [
       "Canvas(toolbar=Toolbar(toolitems=[('Home', 'Reset original view', 'home', 'home'), ('Back', 'Back to previous …"
      ]
     },
     "metadata": {},
     "output_type": "display_data"
    }
   ],
   "source": [
    "# plot\n",
    "plot_3d_lls(X[:,0], X[:, 1], Y, lls_sol, \"Breast Cancer - Radius Mean vs. Area Mean vs. Perimeter Mean - LLS Mini-Batch GD\")\n",
    "print(\"w:\")\n",
    "print(w)"
   ]
  },
  {
   "cell_type": "markdown",
   "metadata": {
    "slideshow": {
     "slide_type": "slide"
    }
   },
   "source": [
    "## <img src=\"https://img.icons8.com/clouds/100/000000/stopwatch.png\" style=\"height:50px;display:inline\"> Learning Rate Scheduling (Annealing)\n",
    "---\n",
    "* When training deep networks, it is usually helpful to anneal (gradually change the rate) the learning rate over time. \n",
    "    * **Physics intuition**: with a high learning rate, the system contains too much *kinetic energy* and the parameter vector bounces around chaotically, unable to settle down into deeper, but narrower parts of the loss function. \n",
    "* Knowing when to decay the learning rate can be tricky: decay it **slowly** and you’ll be wasting computation bouncing around chaotically with little improvement for a long time. But decay it **too aggressively** and the system will cool too quickly, unable to reach the best position it can. \n",
    "* There are three common types of implementing the learning rate decay: step deacy, exponential decay and $1/t$ decay.\n",
    "    * Recently, *cyclic* learning schedulers, such as <a href=\"https://www.kaggle.com/residentmario/one-cycle-learning-rate-schedulers\">One-cycle learning rate scheduler</a> or *cosine* scheduling, have been gaining popularity as well."
   ]
  },
  {
   "cell_type": "markdown",
   "metadata": {
    "slideshow": {
     "slide_type": "subslide"
    }
   },
   "source": [
    "* **(Multi) Step decay**: Reduce the learning rate by some factor every few epochs. \n",
    "    * Typical values might be reducing the learning rate by a half every 5 epochs, or by 0.1 every 20 epochs. These numbers depend heavily on the type of problem and the model. \n",
    "    * One heuristic you may see in practice is to watch the *validation error* while training with a fixed learning rate, and reduce the learning rate by a constant (e.g. 0.5) whenever the validation error stops improving."
   ]
  },
  {
   "cell_type": "markdown",
   "metadata": {
    "slideshow": {
     "slide_type": "subslide"
    }
   },
   "source": [
    "* **Exponential decay**: has the mathematical form: $$\\alpha = \\alpha_0 \\exp(-kt),$$ where $\\alpha_0, k$ are hyperparameters and $t$ is the iteration number (but you can also use units of epochs).\n",
    "    * $\\alpha_0$ is the initial learning rate.\n",
    "    * $k$ is also referred to as the `gamma` ($\\gamma$) hyperparameter."
   ]
  },
  {
   "cell_type": "markdown",
   "metadata": {
    "slideshow": {
     "slide_type": "subslide"
    }
   },
   "source": [
    "* **1/t decay**: has the mathematical form: $$\\alpha = \\frac{\\alpha_0}{1+kt},$$ where $\\alpha_0,k$ are hyperparameters and $t$ is the iteration number."
   ]
  },
  {
   "cell_type": "markdown",
   "metadata": {
    "slideshow": {
     "slide_type": "subslide"
    }
   },
   "source": [
    "* **Cosine annealing**: has the mathematical form: $$ \\alpha = \\alpha_{min} +\\frac{1}{2}(\\alpha_0 - \\alpha_{min})\\left(1 +\\cos\\left(\\frac{t}{t_{max}}\\pi\\right) \\right), $$ where $\\alpha_{min}$ is the minimum learning rate (deafult is 0) and $t_{max}$ is number of iterations to perform a cycle."
   ]
  },
  {
   "cell_type": "markdown",
   "metadata": {
    "slideshow": {
     "slide_type": "subslide"
    }
   },
   "source": [
    "* In practice, we usually find that the **step decay** is slightly preferable because the hyperparameters it involves (the fraction of decay and the step timings in units of epochs) are more interpretable than the hyperparameter $k$. \n",
    "* Lastly, if you can afford the computational budget, you can try a slower decay and train for a longer time.\n",
    "* Recently, **warm-up** schedules are common: learning rate increases and then eventually starts decaying."
   ]
  },
  {
   "cell_type": "markdown",
   "metadata": {
    "slideshow": {
     "slide_type": "slide"
    }
   },
   "source": [
    "### <img src=\"https://img.icons8.com/cotton/64/000000/olympic-torch.png\" style=\"height:50px;display:inline\"> Learning Rate Scheduling in PyTorch\n",
    "---\n",
    "* We will use learning rate scheduling to train the neural network models later in the course.\n",
    "* PyTorch offers several schedulers which can be found <a href=\"https://pytorch.org/docs/stable/optim.html#how-to-adjust-learning-rate\">here</a>.\n",
    "* A typical workflow with schedulers (learning rate scheduling should be applied **after** optimizer’s update):\n",
    "<code>\n",
    "scheduler = ...\n",
    "for epoch in range(100):\n",
    "    train(...)\n",
    "    validate(...)\n",
    "    scheduler.step()\n",
    "</code>"
   ]
  },
  {
   "cell_type": "markdown",
   "metadata": {
    "slideshow": {
     "slide_type": "subslide"
    }
   },
   "source": [
    "* <a href=\"https://pytorch.org/docs/stable/generated/torch.optim.lr_scheduler.StepLR.html#torch.optim.lr_scheduler.StepLR\">`torch.optim.lr_scheduler.StepLR`</a>\n",
    "* <a href=\"https://pytorch.org/docs/stable/generated/torch.optim.lr_scheduler.MultiStepLR.html#torch.optim.lr_scheduler.MultiStepLR\">`torch.optim.lr_scheduler.MultiStepLR`</a>\n",
    "* <a href=\"https://pytorch.org/docs/stable/generated/torch.optim.lr_scheduler.ExponentialLR.html#torch.optim.lr_scheduler.ExponentialLR\">`torch.optim.lr_scheduler.ExponentialLR`</a>\n",
    "* <a href=\"https://pytorch.org/docs/stable/generated/torch.optim.lr_scheduler.CosineAnnealingLR.html#torch.optim.lr_scheduler.CosineAnnealingLR\">`torch.optim.lr_scheduler.CosineAnnealingLR`</a>\n",
    "* <a href=\"https://pytorch.org/docs/stable/generated/torch.optim.lr_scheduler.OneCycleLR.html#torch.optim.lr_scheduler.OneCycleLR\">`torch.optim.lr_scheduler.OneCycleLR`</a>\n",
    "* <a href=\"https://pytorch.org/docs/stable/generated/torch.optim.lr_scheduler.CyclicLR.html#torch.optim.lr_scheduler.CyclicLR\">`torch.optim.lr_scheduler.CyclicLR`</a>\n",
    "* And more..."
   ]
  },
  {
   "cell_type": "markdown",
   "metadata": {
    "slideshow": {
     "slide_type": "subslide"
    }
   },
   "source": [
    "#### Reducing LR on Plateau\n",
    "---\n",
    "* Reduce learning rate when a metric has stopped improving. Usually the validation accuracy.\n",
    "* Models often benefit from reducing the learning rate by a factor of 2-10 once learning does not improve. \n",
    "* This scheduler reads a metrics quantity and if no improvement is seen for a `patience` number of epochs, the learning rate is reduced.\n",
    "* In PyTorch: <a href=\"https://pytorch.org/docs/stable/generated/torch.optim.lr_scheduler.ReduceLROnPlateau.html#torch.optim.lr_scheduler.ReduceLROnPlateau\">`torch.optim.lr_scheduler.ReduceLROnPlateau`</a>."
   ]
  },
  {
   "cell_type": "markdown",
   "metadata": {
    "slideshow": {
     "slide_type": "subslide"
    }
   },
   "source": [
    "<center><img src=\"./assets/tut_opt_reduce_lr.png\" style=\"height:300px\"></center>\n",
    "\n",
    "* <a href=\"https://www.researchgate.net/publication/339252130_Exponential_Step_Sizes_for_Non-Convex_Optimization\">Exponential Step Sizes for Non-Convex Optimization, Li et al. 2020</a>.\n",
    "* Plots of the train loss and test accuracy for training a 20-layer Residual Network to do image classification on CIFAR-10.\n",
    "* The number of milestones in the legend denotes how many times we can choose to decrease the step size during training."
   ]
  },
  {
   "cell_type": "markdown",
   "metadata": {},
   "source": [
    "### <img src=\"https://img.icons8.com/cotton/64/000000/stop-sign.png\" style=\"height:50px;display:inline\"> Question time!\n",
    "---\n",
    "#### Lecture question\n",
    "This question relates to slide ~26 in the Optimization lecture slides.\n",
    "For multivariate quadratic optimization via GD i.e.\n",
    "$$f(w)=\\frac{1}{2}w^THw$$\n",
    "$$\\nabla f(w)=Hw$$\n",
    "$$w(t)=w(t-1)-\\eta Hw(t-1)$$\n",
    "We saw in the lecture (via Eigenvalue Decoposition, $H$ is symmetric) that \n",
    "$$H=U^T \\Lambda U\\quad ; \\quad z(t)\\triangleq U^T w(t)$$\n",
    "where $\\Lambda$ is the eigenvalue matrix with eigenvalues $\\lambda_1 \\leq \\lambda_2 \\leq...\\leq \\lambda_d$.\n",
    "$$z(t)=(I-\\eta\\Lambda)^t z(0)$$\n",
    "\n",
    "Show that:\n",
    "1. $$f(w(t))=\\sum_{i=1}^d (1-\\eta\\lambda_i)^{2t}\\lambda_iz^2_i(0)$$\n",
    "2. $$\\mathrm{rate}(\\eta)=\\max(|1-\\eta\\lambda_{\\min}|,|1-\\eta\\lambda_{\\max}|)$$ (explain informally)\n",
    "3. $$\\eta_{\\mathrm{opt}}=\\arg\\min_{\\eta}\\mathrm{rate}(\\eta)=\\frac{2}{\\lambda_{\\max}+\\lambda_{\\min}}$$\n",
    "4. $$R_{\\mathrm{optimal}} = \\min_{\\eta}\\mathrm{rate}(\\eta) = \\frac{\\lambda_{max}/ \\lambda_{min} - 1}{\\lambda_{max} / \\lambda_{min} + 1} = \\kappa \\text{(condition number)} $$"
   ]
  },
  {
   "cell_type": "markdown",
   "metadata": {},
   "source": [
    "### <img src=\"https://img.icons8.com/cotton/64/000000/checkmark.png\" style=\"height:50px;display:inline\"> Answer time!\n",
    "---\n",
    "<details>\n",
    "  <summary>Hint</summary>\n",
    "    \n",
    "1. Use the fact that $U$ is orthogonal, i.e. $U^T U=I$.\n",
    "    \n",
    "2. Consider what element dominates a decaying exponential sum.\n",
    "    \n",
    "3. What is the derivative of $\\mathrm{rate}(\\eta)$? what happens at the non-differntiable critical point?\n",
    "    \n",
    "4. Use section 3\n",
    "</details>\n",
    "\n",
    "<details>\n",
    "  <summary>Solution</summary>\n",
    "    \n",
    "#### Section 1\n",
    "We begin with the definition of the GD step: $$ w(t) = w(t-1) -\\eta H w(t-1) = (I -\\eta H)w(t-1) = (I -\\eta U\\Lambda U^T)w(t-1). $$\n",
    "We now multiply by $U^T$ from the left-hand side and recall that we defined $z(0) = U^Tw(0), z(t)=U^Tw(t)$ to get:\n",
    "$$U^Tw(t) = U^T(UU^T - \\eta U\\Lambda U^T)w(t-1) \\to z(t) = (I -\\eta \\Lambda)z(t-1), $$ where we used $UU^T=U^TU=I$.\n",
    "\n",
    "Next, we can unroll the GD steps up to step $t$ to get: $$  z(t) = (I -\\eta \\Lambda)^t z(0). $$\n",
    "\n",
    "Going back to the form with $w(t)$ by multiplying by $U$: $$ UU^T w(t) = U(I -\\eta \\Lambda)^t U^T w(0) $$\n",
    "$$ \\to w(t) = U(I - \\eta \\Lambda)^t U^T w(0) $$\n",
    "\n",
    "Finally, let's plug-in this result in $f(w)$ to get: \n",
    "$$ f(w) = \\frac{1}{2}\\left[U(I -\\eta \\Lambda)^t U^Tw(0) \\right]^T U\\Lambda U^T\\left[U(I -\\eta \\Lambda)^t U^Tw(0) \\right] $$\n",
    "\n",
    "$$ = \\frac{1}{2}z(0)^T (I -\\eta \\Lambda)^t \\Lambda (I -\\eta \\Lambda)^t z(0) $$\n",
    "\n",
    "$$ = \\frac{1}{2}z(0)^T (I -\\eta \\Lambda)^{2t}\\Lambda z(0) $$\n",
    "\n",
    "$$ = \\frac{1}{2}\\sum_{i=1}^d (1 - \\eta \\lambda_i)^{2t}\\lambda_i z_i(0)^2$$\n",
    "\n",
    "#### Section 2\n",
    "Looking at the sum above, for $t>1$ this is a decaying exponential sum that is dominated by by the slowest decaying components: $$ rate(\\eta)=\\max_i |1-\\eta\\lambda_i| =  max(|1-\\eta \\lambda_{max}|,|1-\\eta \\lambda_{min}|),$$ where we denoted $\\lambda_1 =\\lambda_{min}, \\lambda_d = \\lambda_{max}. $\n",
    "#### Section 3\n",
    "Finding the optimal learning rate $\\eta_{optimal}$: if we take the derivative of $rate(\\eta)$ we will get a constant at any differentiable point. Thus, the minimum is reached in the non-differentiable critical point (you can also see this geometrically if you draw the $\\max (\\cdot, \\cdot)$ function): $$ |1-\\eta \\lambda_{max}| = |1-\\eta \\lambda_{min}| $$ $$ \\to \\eta \\lambda_{max} - 1 = 1-\\eta \\lambda_{min} $$ $$ \\eta_{optimal} = \\frac{2}{\\lambda_{min} + \\lambda_{max}}. $$\n",
    "#### Section 4\n",
    "Finally, we plug $\\eta_{optimal}$ in the $rate(\\eta)$ to get:\n",
    "$$ R_{optimal} = rate(\\eta_{optimal}) = 1 -  \\frac{2}{\\lambda_{min} + \\lambda_{max}}\\cdot \\lambda_{min} $$\n",
    "$$ =\\frac{\\lambda_{max} - \\lambda_{min}}{\\lambda_{max} + \\lambda_{min}} = \\frac{ \\frac{\\lambda_{max}}{\\lambda_{min}} - 1 }{\\frac{\\lambda_{max}}{\\lambda_{min}} + 1 }$$\n",
    "#### Extra\n",
    "For most step-sizes, the eigenvectors with largest eigenvalues converge the fastest. \n",
    "This triggers an explosion of progress in the first few iterations, before things slow down as the smaller eigenvectors’ struggles are revealed.\n",
    "\n",
    "In order to converge, each $|1-\\eta \\lambda_i|$ must be strictly less than 1. \n",
    "All workable step-sizes, therefore, fall in the interval: $$ 0 \\leq \\eta \\lambda_i \\leq 2 $$ The overall convergence rate is determined by the slowest error component, which must be either $\\lambda_{min}$ or $\\lambda_{max}$.\n",
    "</details>"
   ]
  },
  {
   "cell_type": "markdown",
   "metadata": {},
   "source": [
    "### <img src=\"https://img.icons8.com/cotton/64/000000/stop-sign.png\" style=\"height:50px;display:inline\"> Question time!\n",
    "---\n",
    "#### Lecture question\n",
    "This question relates to slide ~32 in the Optimization lecture slides.\n",
    "$$f(w)=\\frac{1}{2}\\sum_{n=1}^N h_n w^2$$\n",
    "SGD update ($n(t)\\sim U(1,N)$)\n",
    "$$w(t)=w(t-1)-\\eta h_{n(t)}w(t-1)=(1-\\eta h_{n(t)})w(t-1)$$\n",
    "Define \n",
    "$$h\\triangleq \\mathbb{E}h_{n(t)}=\\frac{1}{N}\\sum_{n=1}^N h_n, \\quad \\rho\\triangleq \\mathrm{Var}(h_{n(t)})=\\frac{1}{N}\\sum_{n=1}^N h_n^2-h^2$$\n",
    "\n",
    "Show that \n",
    "1. $$\\mathbb{E}w(t)=(1-\\eta h)\\mathbb{E}w(t-1)$$\n",
    "2. $$\\mathbb{E}w^2(t)=\\left ((1-\\eta h)^2+\\eta^2\\rho\\right )\\mathbb{E}w^2(t-1)$$"
   ]
  },
  {
   "cell_type": "markdown",
   "metadata": {
    "jp-MarkdownHeadingCollapsed": true
   },
   "source": [
    "### <img src=\"https://img.icons8.com/cotton/64/000000/checkmark.png\" style=\"height:50px;display:inline\"> Answer time!\n",
    "---\n",
    "<details>\n",
    "  <summary>Hint</summary>\n",
    "    \n",
    "1. Since $n(t)$ is uniform, $h_{n(t)}$ is independent of $w(t)$\n",
    "    \n",
    "2. Note that $\\mathbb{E}h_{n(t)}^2=\\rho+h^2$\n",
    "    \n",
    "</details>\n",
    "\n",
    "<details>\n",
    "  <summary>Solution</summary>\n",
    "    \n",
    "#### Section 1\n",
    "$$\\mathbb{E}w(t)=\\mathbb{E}[(1-\\eta h_{n(t)})w(t-1)]$$\n",
    "Since $n(t)$ is uniform, $h_{n(t)}$ is independent of $w(t)$, so $\\mathbb{E}[h_{n(t)}w(t-1)]=\\mathbb{E}h_{n(t)}\\mathbb{E}w(t-1)$\n",
    "$$\\mathbb{E}w(t)=\\mathbb{E}[(1-\\eta h_{n(t)})]\\mathbb{E}w(t-1)=((1-\\eta h)\\mathbb{E}w(t-1)$$\n",
    "\n",
    "#### Section 2\n",
    "$$\\mathbb{E}w^2(t)=\\mathbb{E}[(1-\\eta h_{n(t)})^2 w^2(t-1)]=\\mathbb{E}[(1-2\\eta h_{n(t)}+\\eta^2 h_{n(t)}^2) w^2(t-1)]$$\n",
    "Since $n(t)$ is uniform, $h_{n(t)}$ is independent of $w(t)$, so $\\mathbb{E}[h_{n(t)}w(t-1)]=\\mathbb{E}h_{n(t)}\\mathbb{E}w(t-1)$\n",
    "$$\\mathbb{E}w^2(t)=\\mathbb{E}[1-2\\eta h_{n(t)}+\\eta^2 h_{n(t)}^2] \\mathbb{E}w^2(t-1)=[1-2\\eta h+\\eta^2 (\\rho+h^2)] \\mathbb{E}w^2(t-1)$$\n",
    "$$\\mathbb{E}w^2(t)=[1-2\\eta h+\\eta^2 h^2+ \\eta^2\\rho] \\mathbb{E}w^2(t-1)=[(1-\\eta h)^2+ \\eta^2\\rho] \\mathbb{E}w^2(t-1)$$\n",
    "</details>"
   ]
  },
  {
   "cell_type": "markdown",
   "metadata": {
    "slideshow": {
     "slide_type": "slide"
    }
   },
   "source": [
    "## <img src=\"https://img.icons8.com/clouds/100/000000/hill-descent-control.png\" style=\"height:50px;display:inline\"> Momentum & Nesterov Momentum\n",
    "---\n",
    "* Gradient descent is simple and has many virtues, but **speed** is not one of them.\n",
    "* For a step-size small enough, gradient descent makes a monotonic improvement at every iteration. It should always converge (sometimes to a local minimum).\n",
    "* **Momentum update** is another optimization approach that *almost always* enjoys better convergence rates in deep networks. \n",
    "    * It can be seen as a **\"global\" (equally for all parameters) adaptive learning rate**."
   ]
  },
  {
   "cell_type": "markdown",
   "metadata": {
    "slideshow": {
     "slide_type": "subslide"
    }
   },
   "source": [
    "* This update can be motivated from a physical perspective of the optimization problem. In particular, the loss can be interpreted as the height of a *hilly terrain*.\n",
    "    *  Initializing the parameters with random numbers is equivalent to setting a particle with zero initial velocity at some location. The optimization process can then be seen as equivalent to the process of simulating the parameter vector (i.e. a particle) as rolling on the landscape.\n",
    "    * Since the force on the particle is related to the gradient of potential energy (i.e. $F=−\\nabla U$ ), the force felt by the particle is precisely the (negative) gradient of the loss function. \n",
    "    * Moreover, $F=ma$ so the (negative) gradient is in this view proportional to the acceleration of the particle.\n",
    "    * The physics view suggests an update in which the gradient only directly influences the velocity (and maintains information about the acceleration), which in turn has an effect on the position."
   ]
  },
  {
   "cell_type": "markdown",
   "metadata": {
    "slideshow": {
     "slide_type": "subslide"
    }
   },
   "source": [
    "* Momentum proposes the following tweak to gradient descent, giving gradient descent **a short-term memory**: $$ z^{k+1} = \\beta z^k -\\alpha\\nabla f(w^k) $$ $$ w^{k+1} = w^k + z^{k+1} $$\n",
    "    * $\\alpha$ is the learning rate.\n",
    "\n",
    "* When $\\beta = 0$ , we recover gradient descent. But for $\\beta = 0.99$ (sometimes 0.999, if things are really bad), this appears to be the boost we need. Our iterations regain that speed and boldness it lost, speeding to the optimum with a renewed energy.\n",
    "* $\\beta$ is a variable that is sometimes called *momentum*.\n",
    "* Effectively, this variable **damps the velocity and reduces the kinetic energy of the system**, or otherwise the particle would never come to a stop at the bottom of a hill.\n",
    "* With Momentum update, the parameter vector will build up velocity in any direction that has consistent gradient.\n",
    "* <a href=\"https://distill.pub/2017/momentum/\">Momentum Demo</a>\n",
    "* Note: Momentum usually works in **larger batches** and may break in smaller batches."
   ]
  },
  {
   "cell_type": "markdown",
   "metadata": {
    "slideshow": {
     "slide_type": "subslide"
    }
   },
   "source": [
    "<center><img src=\"./assets/sgd-mom.png\" style=\"height:250px\"></center>\n",
    "\n",
    "* <a href=\"https://dominikschmidt.xyz/nesterov-momentum\">Image Source</a>"
   ]
  },
  {
   "cell_type": "markdown",
   "metadata": {
    "slideshow": {
     "slide_type": "slide"
    }
   },
   "source": [
    "#### Nesterov Momentum\n",
    "---\n",
    "* Nesterov Momentum is a slightly different version of the momentum update that has gained popularity. \n",
    "* It enjoys stronger theoretical convergence guarantees for **convex functions** and in practice it also consistenly works slightly better than standard momentum.\n",
    "* The core idea behind Nesterov momentum is that when the current parameter vector is at some position $x$, then looking at the momentum update above, we know that the momentum term alone (i.e. ignoring the second term with the gradient) is about to nudge the parameter vector by $\\beta * z_k$. \n",
    "* Therefore, if we are about to compute the gradient, we can treat the future approximate position $x + \\beta * z_k$ as a **“lookahead”** - this is a point in the vicinity of where we are soon going to end up. \n",
    "* Hence, it makes sense to compute the **gradient** at $x + \\beta * z_k$ instead of at the “old/stale” position $x$, since while the gradient term always points in the right direction, the momentum term may not. \n",
    "* If the momentum term points in the wrong direction or overshoots, the gradient can still \"go back\" and correct it in the same update step."
   ]
  },
  {
   "cell_type": "markdown",
   "metadata": {
    "slideshow": {
     "slide_type": "subslide"
    }
   },
   "source": [
    "* **Nesterov Momentum**: $$ z^{k+1} = \\beta z^k -\\alpha \\nabla f(w^k +\\beta z^k) $$ $$ w^{k+1} = w^k + z^{k+1} $$"
   ]
  },
  {
   "cell_type": "markdown",
   "metadata": {
    "slideshow": {
     "slide_type": "subslide"
    }
   },
   "source": [
    "<center><img src=\"./assets/sgd-nag.png\" style=\"height:250px\"></center>\n",
    "\n",
    "* <a href=\"https://dominikschmidt.xyz/nesterov-momentum\">Image Source</a>"
   ]
  },
  {
   "cell_type": "markdown",
   "metadata": {
    "slideshow": {
     "slide_type": "slide"
    }
   },
   "source": [
    "### <img src=\"https://img.icons8.com/cotton/64/000000/olympic-torch.png\" style=\"height:50px;display:inline\"> Momentum in PyTorch\n",
    "---\n",
    "* `torch.optim.SGD(model.parameters(), lr=learning_rate, momentum=0.9, nesterov=True)`"
   ]
  },
  {
   "cell_type": "code",
   "execution_count": null,
   "metadata": {
    "slideshow": {
     "slide_type": "slide"
    }
   },
   "outputs": [],
   "source": [
    "# simple optimizer and lr scheduling example\n",
    "# courtesy of: deeplearningwizard.com/deep_learning/boosting_models_pytorch/lr_scheduling/\n",
    "\n",
    "from torch.optim.lr_scheduler import ReduceLROnPlateau\n",
    "\n",
    "'''\n",
    "STEP 1: LOADING DATASET\n",
    "'''\n",
    "\n",
    "train_dataset = dsets.MNIST(root='./data', \n",
    "                            train=True, \n",
    "                            transform=transforms.ToTensor(),\n",
    "                            download=True)\n",
    "\n",
    "test_dataset = dsets.MNIST(root='./data', \n",
    "                           train=False, \n",
    "                           transform=transforms.ToTensor())\n",
    "\n",
    "'''\n",
    "STEP 2: MAKING DATASET ITERABLE\n",
    "'''\n",
    "\n",
    "batch_size = 100\n",
    "n_iters = 6000\n",
    "num_epochs = n_iters / (len(train_dataset) / batch_size)\n",
    "num_epochs = int(num_epochs)\n",
    "\n",
    "train_loader = torch.utils.data.DataLoader(dataset=train_dataset, \n",
    "                                           batch_size=batch_size, \n",
    "                                           shuffle=True)\n",
    "\n",
    "test_loader = torch.utils.data.DataLoader(dataset=test_dataset, \n",
    "                                          batch_size=batch_size, \n",
    "                                          shuffle=False)\n",
    "\n",
    "'''\n",
    "STEP 3: CREATE MODEL CLASS\n",
    "'''\n",
    "class SimpleModel(nn.Module):\n",
    "    def __init__(self, input_dim, hidden_dim, output_dim):\n",
    "        super(SimpleModel, self).__init__()\n",
    "        # Linear function\n",
    "        self.fc1 = nn.Linear(input_dim, hidden_dim) \n",
    "        # Non-linearity\n",
    "        self.relu = nn.ReLU()\n",
    "        # Linear function (readout)\n",
    "        self.fc2 = nn.Linear(hidden_dim, output_dim)  \n",
    "\n",
    "    def forward(self, x):\n",
    "        # Linear function\n",
    "        out = self.fc1(x)\n",
    "        # Non-linearity\n",
    "        out = self.relu(out)\n",
    "        # Linear function (readout)\n",
    "        out = self.fc2(out)\n",
    "        return out\n",
    "'''\n",
    "STEP 4: INSTANTIATE MODEL CLASS AND DEVICE\n",
    "'''\n",
    "input_dim = 28 * 28\n",
    "hidden_dim = 100\n",
    "output_dim = 10\n",
    "device = torch.device(\"cuda:0\" if torch.cuda.is_available() else \"cpu\")\n",
    "\n",
    "model = SimpleModel(input_dim, hidden_dim, output_dim).to(device)\n",
    "\n",
    "'''\n",
    "STEP 5: INSTANTIATE LOSS CLASS\n",
    "'''\n",
    "criterion = nn.CrossEntropyLoss()\n",
    "\n",
    "\n",
    "'''\n",
    "STEP 6: INSTANTIATE OPTIMIZER CLASS\n",
    "'''\n",
    "learning_rate = 0.1\n",
    "\n",
    "optimizer = torch.optim.SGD(model.parameters(), lr=learning_rate, momentum=0.9, nesterov=True)\n",
    "\n",
    "'''\n",
    "STEP 7: INSTANTIATE STEP LEARNING SCHEDULER CLASS\n",
    "'''\n",
    "# lr = lr * factor \n",
    "# mode='max': look for the maximum validation accuracy to track\n",
    "# patience: number of epochs - 1 where loss plateaus before decreasing LR\n",
    "        # patience = 0, after 1 bad epoch, reduce LR\n",
    "# factor = decaying factor\n",
    "scheduler = ReduceLROnPlateau(optimizer, mode='max', factor=0.1, patience=0, verbose=True)\n",
    "# multi-step\n",
    "# scheduler = MultiStepLR(optimizer, milestones=[50, 80, 100], gamma=0.1)  # reduce lr by x0.1 at epoch 50, 80 and 100\n",
    "\n",
    "'''\n",
    "STEP 7: TRAIN THE MODEL\n",
    "'''\n",
    "iteration = 0\n",
    "for epoch in range(num_epochs):\n",
    "    for i, (images, labels) in enumerate(train_loader):\n",
    "        # Send images and labels to device\n",
    "        images = images.view(-1, 28 * 28).to(device)\n",
    "        labeles = labels.to(device)\n",
    "\n",
    "        # Forward pass to get output/logits\n",
    "        outputs = model(images)\n",
    "\n",
    "        # Calculate Loss: softmax --> cross entropy loss\n",
    "        loss = criterion(outputs, labels)\n",
    "        \n",
    "        # Clear gradients w.r.t. parameters\n",
    "        optimizer.zero_grad()\n",
    "\n",
    "        # Getting gradients w.r.t. parameters\n",
    "        loss.backward()\n",
    "\n",
    "        # Updating parameters\n",
    "        optimizer.step()\n",
    "\n",
    "        iteration += 1\n",
    "\n",
    "        if iteration % 500 == 0:\n",
    "            # Calculate Accuracy         \n",
    "            correct = 0\n",
    "            total = 0\n",
    "            # Iterate through test dataset\n",
    "            for images, labels in test_loader:\n",
    "                # Send images and labels to device\n",
    "                images = images.view(-1, 28 * 28).to(device)\n",
    "                labeles = labels.to(device)\n",
    "\n",
    "                # Forward pass only to get logits/output\n",
    "                outputs = model(images)\n",
    "\n",
    "                # Get predictions from the maximum value\n",
    "                _, predicted = torch.max(outputs.data, 1)\n",
    "\n",
    "                # Total number of labels\n",
    "                total += labels.size(0)\n",
    "\n",
    "                # Total correct predictions\n",
    "                # Without .item(), it is a uint8 tensor which will not work when you pass this number to the scheduler\n",
    "                correct += (predicted == labels).sum().item()\n",
    "\n",
    "            accuracy = 100 * correct / total\n",
    "\n",
    "            # Print Loss\n",
    "            # print('Iteration: {}. Loss: {}. Accuracy: {}'.format(iter, loss.data[0], accuracy))\n",
    "\n",
    "    # Decay Learning Rate, pass validation accuracy for tracking at every epoch\n",
    "    print('Epoch {} completed'.format(epoch))\n",
    "    print('Loss: {}. Accuracy: {}'.format(loss.item(), accuracy))\n",
    "    print('-' * 20)\n",
    "    scheduler.step(accuracy)  # accuracy is used to track down a plateau\n",
    "    # scheduler.step()  # for multi-step, no need to pass anything to the scheduler when advancing it"
   ]
  },
  {
   "cell_type": "markdown",
   "metadata": {
    "slideshow": {
     "slide_type": "slide"
    }
   },
   "source": [
    "## <img src=\"https://img.icons8.com/dusk/64/000000/wired-network.png\" style=\"height:50px;display:inline\"> Adaptive Learning Rate Methods\n",
    "---\n",
    "**Adapative learning methods compute individual learning rates for different parameters.**\n",
    "Previously, we performed an update for all parameters $w$ (or $\\theta$) at once as every parameter $w_i$ used the same learning rate $\\alpha$.\n",
    "\n",
    "\n",
    "Popular algorithms include: AdaGrad, Rprop, RMSprop, Adam and more..."
   ]
  },
  {
   "cell_type": "markdown",
   "metadata": {
    "slideshow": {
     "slide_type": "slide"
    }
   },
   "source": [
    "### <img src=\"https://img.icons8.com/cotton/64/000000/olympic-torch.png\" style=\"height:50px;display:inline\"> Optimizers in PyTorch\n",
    "---\n",
    "All optimizers mentioned in this tutorial and more can be imported from the `torch.optim` library. Check out the full list of available optimizers in <a href=\"https://pytorch.org/docs/stable/optim.html#algorithms\">this link</a>."
   ]
  },
  {
   "cell_type": "markdown",
   "metadata": {
    "slideshow": {
     "slide_type": "slide"
    }
   },
   "source": [
    "## <img src=\"https://img.icons8.com/plasticine/100/000000/horizontal-settings-mixer.png\" style=\"height:50px;display:inline\"> Adagrad\n",
    "---\n",
    "* **Adagrad**: one of the first adaptive learning rate algorithm, with the basic idea of adapting the learning rate to the parameters by performing smaller updates (i.e. low learning rates) for parameters associated with *frequently* occurring features, and larger updates (i.e. high learning rates) for parameters associated with *infrequent* features.\n",
    "    * For this reason, it works well with *sparse* data.\n",
    "* Adagrad uses a different learning rate for every parameter $w_i$ at every time step $k$.\n",
    "* We denote:\n",
    "    * $\\alpha$ - the learning rate.\n",
    "    * $g_k = \\nabla f(w^k)$, the gradient at time step $k$, and $g_{i, k}$ the *partial* derivative w.r.t. the parameter $w_i$ at time step $k$.\n",
    "    * $G_k \\in \\mathbb{R}^{d \\times d}$ - a *diagonal* matrix, where each element $G_{i,i}^k$ is the **sum of squares of the gradients w.r.t $w_i$ up to time step $k$**, $G_{i, i}^k = \\sum_{j=1}^k g_{i, j}^2$.\n",
    "    * $\\epsilon$, a \"smoothing\" term that prevents division by zero, deafult is $10^{-8}$, but can range from $10^{-4}$ to $10^{-8}$."
   ]
  },
  {
   "cell_type": "markdown",
   "metadata": {
    "slideshow": {
     "slide_type": "subslide"
    }
   },
   "source": [
    "* The Adagrad update rule: $$ w_i^{k+1} = w_i^k -\\frac{\\alpha}{\\sqrt{G_{i,i}^k + \\epsilon}} \\cdot g_{i, k} $$\n",
    "* Interestingly, without the square root operation, the algorithm performs much worse.\n",
    "* In vectorized form, we use the matrix-vector product $\\odot$ between $G_k$ and $g_k$: $$ w^{k+1} = w^k -\\frac{\\alpha}{\\sqrt{G^k + \\epsilon}} \\odot g_{k} $$"
   ]
  },
  {
   "cell_type": "markdown",
   "metadata": {
    "slideshow": {
     "slide_type": "subslide"
    }
   },
   "source": [
    "* Adagrad eliminates, or alleviates, the need to manually tune the learning rate, which is nice. \n",
    "* Most implementations use a default value of 0.01 for the learning rate.\n",
    "* However, its main **weakness** is the accumulation of the squared gradients (a positive quantity) in the denominator which keeps growing during training and causes the learning rate to **shrink** and eventually become very small, at which point the algorithm doesn't acquire additional knowledge."
   ]
  },
  {
   "cell_type": "markdown",
   "metadata": {
    "slideshow": {
     "slide_type": "subslide"
    }
   },
   "source": [
    "### <img src=\"https://img.icons8.com/cotton/64/000000/olympic-torch.png\" style=\"height:50px;display:inline\"> Adagrad in PyTorch\n",
    "---\n",
    "* `torch.optim.Adagrad(model.parameters(), lr=learning_rate, initial_accumulator_value=0, eps=1e-10)`"
   ]
  },
  {
   "cell_type": "markdown",
   "metadata": {
    "slideshow": {
     "slide_type": "slide"
    }
   },
   "source": [
    "## <img src=\"https://img.icons8.com/cute-clipart/64/000000/square-root.png\" style=\"height:50px;display:inline\"> RMSprop\n",
    "---\n",
    "* **RMSprop**: an unpublished (no official paper) optimization algorithm designed for neural networks, first proposed by Geoffrey Hinton in <a href=\"https://www.cs.toronto.edu/~tijmen/csc321/slides/lecture_slides_lec6.pdf\">lecture 6 (slide 29)</a> of the online course “Neural Networks for Machine Learning”.\n",
    "* The RMSProp update adjusts the **Adagrad** method in a very simple way in an attempt to reduce its aggressive, monotonically decreasing learning rate.\n",
    "* In particular, it uses **a moving average of squared gradients** instead.\n",
    "* We denote:\n",
    "    * $\\alpha$ - the learning rate.\n",
    "    * $g_k = \\nabla f(w^k)$\n",
    "    * $\\mathbb{E}[g^2]$ - moving average of squared gradients (stored in a cache with squared gradients from previous iterations).\n",
    "    * $\\beta$ - moving average parameter (good default value — 0.9)."
   ]
  },
  {
   "cell_type": "markdown",
   "metadata": {
    "slideshow": {
     "slide_type": "subslide"
    }
   },
   "source": [
    "* The RMSprop update rule: $$ \\mathbb{E}[g^2]_{k+1} = \\beta\\mathbb{E}[g^2]_k + (1-\\beta)g_k^2 $$ $$ w^{k+1} = w^k -\\frac{\\alpha}{\\sqrt{\\mathbb{E}[g^2]_{k+1}}}\\nabla f(w^k) $$\n",
    "* The learning rate is adapted by dividing by the root of squared gradient, but since we only have the estimate of the gradient on the current mini-batch, we need instead to use the moving average of it."
   ]
  },
  {
   "cell_type": "markdown",
   "metadata": {
    "slideshow": {
     "slide_type": "subslide"
    }
   },
   "source": [
    "### <img src=\"https://img.icons8.com/cotton/64/000000/olympic-torch.png\" style=\"height:50px;display:inline\"> RMSprop in PyTorch\n",
    "---\n",
    "* `torch.optim.RMSprop(model.parameters(), lr=learning_rate, alpha=0.99)`\n",
    "    * `alpha` is $\\beta$ from the equations above, the moving average parameter."
   ]
  },
  {
   "cell_type": "markdown",
   "metadata": {
    "slideshow": {
     "slide_type": "slide"
    }
   },
   "source": [
    "## <img src=\"https://img.icons8.com/clouds/100/000000/heat-map.png\" style=\"height:50px;display:inline\"> Adam - Adaptive Moment Estimation\n",
    "---\n",
    "* **Adam**: another optimization method that computes adaptive learning rates for each parameter. \n",
    "* Adam combines the advantages of Adagrad, RMSprop and Momentum: It uses the **squared gradients to scale the learning rate** like RMSprop and it takes advantage of momentum by using **moving average of the gradient instead of the gradient itself** like SGD with momentum.\n",
    "* In addition to storing an exponentially decaying average of past **squared gradients** like Adadelta and RMSprop, Adam also keeps an exponentially decaying average of past **gradients** similar to momentum.\n",
    "    * Whereas momentum can be seen as a ball running down a slope, Adam behaves like a heavy ball with friction, and thus prefers flat minima in the error surface."
   ]
  },
  {
   "cell_type": "markdown",
   "metadata": {
    "slideshow": {
     "slide_type": "subslide"
    }
   },
   "source": [
    "\n",
    "* We denote:\n",
    "    * $\\alpha$ - the learning rate.\n",
    "    * $m$ - moving average of gradients. Estimates the first moment (mean) of the gardients.\n",
    "    * $v$ - moving average of squared gradients. Estimates the second momemnt (variance) of the gradients.\n",
    "    * $\\beta_1$ - moving average parameter for $m$ (default: 0.9).\n",
    "    * $\\beta_2$ - moving average parameter for $v$ (default: 0.999)."
   ]
  },
  {
   "cell_type": "markdown",
   "metadata": {
    "slideshow": {
     "slide_type": "subslide"
    }
   },
   "source": [
    "* The Adam update rule: $$ \\mathbb{E}[g]_{k+1} = m_{k+1} = \\beta_1 m_k + (1-\\beta_1)\\nabla f(w^k) = \\beta_1 m_k + (1-\\beta_1)g_k $$  $$ \\mathbb{E}[g^2]_{k+1} = v_{k+1} = \\beta_2 v_k + (1-\\beta_2)(\\nabla f(w^k))^2 = \\beta_2 v_k + (1-\\beta_2)g^2_k $$ Then, we use an **unbiased** estimation: $$ \\hat{m}_{k+1} = \\frac{m_{k+1}}{1 -\\beta_1^{k+1}} $$ $$ \\hat{v}_{k+1} = \\frac{v_{k+1}}{1 -\\beta_2^{k+1}} $$ (the $\\beta$'s are taken with the power of the current iteration) $$ w^{k+1} = w^k -\\frac{\\alpha}{\\sqrt{\\hat{v}_{k+1}} +\\epsilon}\\hat{m}_{k+1} $$\n",
    "\n",
    "* $\\epsilon$, a \"smoothing\" term that prevents diviosn by zero, deafult's is $10^{-8}$, but can range from $10^{-4}$ to $10^{-8}$. Note that the default $\\epsilon = 1e-8$ might be sub-optimal for various tasks, and thus it is recommended to test other values $\\in [1e-3, 1e-12]$ as well.\n",
    "    *  <a href=\"https://arxiv.org/abs/2011.02150\">EAdam Optimizer: How ε Impact Adam</a> - Wei Yuan, Kai-Xin Gao.\n",
    "    *  <a href=\"http://zna.do/epsilon\">ε, a A Nuisance No More</a> - Zack Nado."
   ]
  },
  {
   "cell_type": "markdown",
   "metadata": {
    "slideshow": {
     "slide_type": "subslide"
    }
   },
   "source": [
    "### <img src=\"https://img.icons8.com/cotton/64/000000/olympic-torch.png\" style=\"height:50px;display:inline\"> Adam in PyTorch\n",
    "---\n",
    "* `torch.optim.Adam(model.parameters(), lr=learning_rate, betas=(0.9, 0.999))`\n",
    "    \n",
    "If you want to use weight decay (i.e., $L_2$ regularization on the weights), use `AdamW`, which adds a fix to the update rule to account for the weight regularization.\n",
    "\n",
    "* <a href=\"https://pytorch.org/docs/stable/generated/torch.optim.AdamW.html#torch.optim.AdamW\">`torch.optim.AdamW(model.parameters(), lr=learning_rate, betas=(0.9, 0.999), weight_decay=0.01)`</a>"
   ]
  },
  {
   "cell_type": "markdown",
   "metadata": {
    "slideshow": {
     "slide_type": "slide"
    }
   },
   "source": [
    "## <img src=\"https://img.icons8.com/doodle/96/000000/scales--v1.png\" style=\"height:50px;display:inline\"> Comparison Between Methods\n",
    "---\n",
    "<center><img src=\"./assets/loss_conturs_all_grad_w_adam.gif\" style=\"height:300px\"></center>\n",
    "\n",
    "* Contours of a loss surface and time evolution of different optimization algorithms. \n",
    "* Notice the \"overshooting\" behavior of **momentum-based methods**, which makes the optimization look like a ball rolling down the hill.\n",
    "\n",
    "* <a href=\"https://github.com/ilguyi/optimizers.numpy\">Image Source</a>"
   ]
  },
  {
   "cell_type": "markdown",
   "metadata": {
    "slideshow": {
     "slide_type": "subslide"
    }
   },
   "source": [
    "<center><img src=\"./assets/saddle_point_all_grad.gif\" style=\"height:250px\"></center>\n",
    "\n",
    "* A visualization of a **saddle point** in the optimization landscape, where the curvature along different dimension has different signs (one dimension curves up and another down). \n",
    "* Notice that SGD has a very hard time breaking symmetry and gets *stuck* on the top. \n",
    "* Conversely, algorithms such as RMSprop will see very low gradients in the saddle direction. Due to the denominator term in the RMSprop update, this will increase the effective learning rate along this direction, helping RMSProp proceed.\n",
    "\n",
    "* Image credit: <a href=\"https://twitter.com/alecrad\">Alec Radford</a>"
   ]
  },
  {
   "cell_type": "markdown",
   "metadata": {},
   "source": [
    "## <img src=\"https://img.icons8.com/bubbles/50/new.png\" style=\"height:50px;display:inline\"> Recent Advances in Optimizers\n",
    "---\n",
    "* Adam, \"the king of optimizers\", has been the go-to optimizer for some time now, and while there were several attempts to dethrone it, there was not a major breakthrough in the optimizers literature to replace it, and Adam is still widely used in all major deep learning domains.\n",
    "* However, several notable recent works have proposed alternatives that show great promise as candidates to replace Adam, which we cover below."
   ]
  },
  {
   "cell_type": "markdown",
   "metadata": {},
   "source": [
    "## <img src=\"https://img.icons8.com/cute-clipart/64/pray.png\" style=\"height:50px;display:inline\"> AdaBelief\n",
    "---\n",
    "* Introduced in <a href=\"https://arxiv.org/abs/2010.07468\">AdaBelief Optimizer: Adapting Stepsizes by the Belief in Observed Gradients</a> - Zhuang et al., NeurIPS 2020.\n",
    "* **Motivation**: achieve three goals -- fast convergence as in adaptive methods, good generalization as in SGD, and training stability.\n",
    "* **Main idea**: adapt the step-size according to the \"belief\" in the current gradient direction -- the moving average (EMA) of the noisy gradient serves as the prediction of the gradient at the next time step; take a small step if the prediction and current gradient have a large difference and otherwise take a large step.\n",
    "  \n",
    "<center><img src=\"./assets/adabelief_algo.png\" style=\"height:250px\"></center>\n",
    "\n",
    "<center><img src=\"./assets/adabelief2.gif\" style=\"height:300px\"></center>\n",
    "\n",
    "\n",
    "* <a href=\"https://juntang-zhuang.github.io/adabelief/\">Website</a>, <a href=\"https://github.com/juntang-zhuang/Adabelief-Optimizer\">PyTorch Code</a>"
   ]
  },
  {
   "cell_type": "markdown",
   "metadata": {},
   "source": [
    "## <img src=\"https://img.icons8.com/external-bzzricon-smooth-bzzricon-studio/64/external-mad-puppy-bzzricon-smooth-bzzricon-smooth-bzzricon-studio.png\" style=\"height:50px;display:inline\"> MADGRAD\n",
    "---\n",
    "* Introduced in <a href=\"https://arxiv.org/abs/2101.11075\">Adaptivity without Compromise: A Momentumized, Adaptive, Dual Averaged Gradient Method for Stochastic Optimization</a> - Aaron Defazio and Samy Jelassi (META AI Research), JMLR 2022.\n",
    "* **Motivation**: combine adaptivity with strong generalization performance.\n",
    "* **Main idea**: based the dual averaging formulation of AdaGrad, combined with momentum and adaptivity to achieve the generalization performance of SGD and the fast convergence of Adam. \n",
    "  \n",
    "<center><img src=\"./assets/madgrad_algo.PNG\" style=\"height:250px\"></center>\n",
    "\n",
    "* <a href=\"https://madgrad.readthedocs.io/en/latest/\">Website</a>, <a href=\"https://github.com/facebookresearch/madgrad\">PyTorch Code</a>.\n",
    "    * Notes: GPU-only. Typically, the same learning rate schedule that is used for SGD or Adam may be used. MADGRAD requires less weight decay than other methods, often as little as zero. Momentum values used for SGD or Adam’s $\\beta_1$ should work here."
   ]
  },
  {
   "cell_type": "markdown",
   "metadata": {},
   "source": [
    "## <img src=\"https://img.icons8.com/external-goofy-color-kerismaker/96/external-Seesaw-momentum-science-goofy-color-kerismaker.png\" style=\"height:50px;display:inline\"> Adan\n",
    "---\n",
    "* Introduced in <a href=\"https://arxiv.org/abs/2208.06677\">Adan: Adaptive Nesterov Momentum Algorithm for Faster Optimizing Deep Models</a> - Xie et al., 2022.\n",
    "* **Motivation**: improve the deep learning model training speed by utilizing an accurate and stable estimation of the gradient moments.\n",
    "* **Main idea**: a new Nesterov momentum estimation (NME) method, which avoids the extra overhead of computing gradient at the extrapolation point and used to estimate the gradient's first-order and second-order moments in adaptive gradient algorithms for convergence acceleration.\n",
    "  \n",
    "<center><img src=\"./assets/adan_algo.PNG\" style=\"height:300px\"></center>\n",
    "\n",
    "<center><img src=\"./assets/adan_table.PNG\" style=\"height:300px\"></center>\n",
    "\n",
    "* <a href=\"https://github.com/sail-sg/Adan\">PyTorch Code</a>.\n",
    "    * Notes: Adan has a slightly higher GPU memory cost than Adam/AdamW on a single node."
   ]
  },
  {
   "cell_type": "markdown",
   "metadata": {},
   "source": [
    "## <img src=\"https://img.icons8.com/clouds/100/overtime.png\" style=\"height:50px;display:inline\"> Schedule-Free Optimization\n",
    "---\n",
    "* Introduced in <a href=\"https://arxiv.org/abs/2405.15682\">The Road Less Scheduled</a> - Defazio et al., 2024.\n",
    "* Presents two new optimizers: **Schedule-free SGD** and **Schedule-free Adam**, that do not require learning rate scheduling (but can optionally be combined with one).\n",
    "* **Motivation**: learning rate schedules that depend on a stopping-step $T$ greatly outperform schedulers that do not require specification of $T$.\n",
    "* **Main idea**: eliminating the need for $T$ by unifiying scheduling and iterate averaging with no additional hyper-parameters.\n",
    "  \n",
    "<center><img src=\"./assets/schedule_free_adam_algo.PNG\" style=\"height:300px\"></center>\n",
    "\n",
    "<center><img src=\"./assets/schedule_free_graphs.PNG\" style=\"height:300px\"></center>\n",
    "\n",
    "* <a href=\"https://github.com/facebookresearch/schedule_free\">PyTorch Code</a>."
   ]
  },
  {
   "cell_type": "markdown",
   "metadata": {},
   "source": [
    "### <img src=\"https://img.icons8.com/cotton/64/000000/stop-sign.png\" style=\"height:50px;display:inline\"> Question time!\n",
    "---\n",
    "#### Exam question\n",
    "This question appeared in Spring 2024 moed B\n",
    "\n",
    "We have an infinitly differentiable function $f:\\mathbb{R}^d\\rightarrow\\mathbb{E}$ with a finite global minimum.\n",
    "We optimize $f$ via heavy ball momentum:\n",
    "$$v(t)=\\gamma v(t-1)+\\nabla f(w(t-1)))\\quad ; \\quad w(t)=w(t-1)-\\eta v(t)$$\n",
    "where $v(0)=0$.\n",
    "We are told that near the stationary point, we have\n",
    "$$f(w)=\\frac{1}{2}w^THw$$\n",
    "for $H$ the Hessian matrix.\n",
    "\n",
    "1. Use the Hessian eigenvector decomposition $H=U\\Lambda U^T$ for diagonal eingenvalue matrix $\\Lambda$ with eigenvalues $\\lambda_i$ and eigenvector matrix $U$, to show that the update rule can be written as $$\\left [ \\begin{array}{l}\n",
    "        q_i(t)\\\\z_i(t)\\\\\\end{array}\\right ]=A_i \\left [ \\begin{array}{l}\n",
    "        q_i(t-1)\\\\z_i(t-1)\\\\\\end{array}\\right ]$$ where $q=U^Tv,\\quad z=U^T w$. What is $A_i$??\n",
    "2. We decompose $$A_i=V_i\\Sigma_i V_i^{-1}$$ where $\\Sigma_i$ is a diagonal eigenvalue matrix with eigenvalues $\\sigma_{i,\\pm}$. Show that\n",
    "   $$\\sigma_{i,\\pm}=\\frac{1}{2}\\left (1-\\eta\\lambda_i+\\gamma\\pm \\sqrt{(1-\\eta\\lambda_i+\\gamma)^2-4\\gamma}\\right )$$\n",
    "3. Write the solution for section 1 $h_i(t)=[q_i(t),z_i(t)]^T\\in\\mathbb{R}^2$ in terms of $h_i(0),V_i,\\Sigma_i,V_i^{-1}$ and explain why the convergence rate is $$\\mathrm{rate}=\\max_i\\max_{\\pm}|\\sigma_{i,\\pm}|$$ and the requirement for convergence is $\\mathrm{rate}<1$.\n",
    "\n",
    "Hint for the next sections: $$f_{\\pm}(x)=|x\\pm\\sqrt{x^2-c^2}|$$ is monotonically increasing/decreasing when $|x|>|c|$ and constant if $|x|<|c|$.\n",
    "\n",
    "4. Calculate $|\\sigma_{i,\\pm}|$ for complex/imaginary eigenvalues. What should $\\gamma$ be such that $|\\sigma_{i,\\pm}|<1$?\n",
    "5. For the $\\gamma$ value in section 4, we increase $\\eta$ such that $\\mathrm{rate}\\rightarrow 1$. Let $\\lambda_{\\max}$ be the largest eigenvalue of $H$. show that $$\\mathrm{rate}=\\max_i\\max_{\\pm}|\\sigma_{i,\\pm}|=\\frac{1}{2}\\left |1-\\eta\\lambda_{\\max}+\\gamma- \\sqrt{(1-\\eta\\lambda_{\\max}+\\gamma)^2-4\\gamma}\\right |$$\n",
    "6. Under the conditions of section 5, show that convergence requires $$\\eta<\\frac{2(1+\\gamma)}{\\lambda_{\\max}}$$"
   ]
  },
  {
   "cell_type": "markdown",
   "metadata": {},
   "source": [
    "### <img src=\"https://img.icons8.com/cotton/64/000000/checkmark.png\" style=\"height:50px;display:inline\"> Answer time!\n",
    "---\n",
    "<details>\n",
    "  <summary>Hint</summary>\n",
    "    \n",
    "1. Similar to the non-momentum setting.\n",
    "2. Find the characterisitc polynomial and solve the quadratic equation for its roots.\n",
    "3. Show that for some diagonal matrix $D$, $h(t)=Dh(0)$, the convergence rate depends on the eigenvalue closest to $1$ in absolute value.\n",
    "4. The complex eigenvalues are when the square root is negative. Consider $|\\sigma_{i,\\pm}|$ when this happens.\n",
    "5. Consider which of $|\\sigma_{i,+}|,|\\sigma_{i,-}|$ is larger.\n",
    "6. Note that the rate is monotonic, use the expression for we are given for $\\eta$.\n",
    "    \n",
    "</details>\n",
    "\n",
    "<details>\n",
    "  <summary>Solution</summary>\n",
    "    \n",
    "#### Section 1\n",
    "We note that $U^TU=I$\n",
    "$$q(t)=U^T v(t)=\\gamma U^Tv(t-1)+U^THw(t-1)=\\gamma q(t-1)+U^TU\\Lambda Uw(t-1)=\\gamma q(t-1)+\\Lambda z(t-1)$$\n",
    "Decomposing per $0\\leq i\\leq d$ we have \n",
    "$$q_i(t)=\\gamma q_i(t-1)+\\lambda_i z_i(t-1)$$\n",
    "\n",
    "$$z(t)=U^T w(t)=U^Tw(t-1)-\\eta U^Tv(t)=z(t-1)-\\eta q(t)$$\n",
    "Decomposing per $0\\leq i\\leq d$ we have \n",
    "$$z(t)=z_i(t-1)-\\eta q_i(t)=z_i(t-1)-\\eta (\\gamma q_i(t-1)+\\lambda_i z_i(t-1))=(1-\\eta\\lambda_i)z_i(t-1)-\\eta\\gamma q_i(t-1)$$\n",
    "\n",
    "Putting everything together we get \n",
    "$$\\left ( \\begin{array}{l}q_i(t)\\\\z_i(t)\\\\\\end{array}\\right )=\\left ( \\begin{array}{cc}\\gamma & \\lambda_i\\\\-\\eta\\gamma & 1-\\eta\\lambda_i\\\\\\end{array}\\right )\\left ( \\begin{array}{l}q_i(t-1)\\\\z_i(t-1)\\\\\\end{array}\\right )$$\n",
    "\n",
    "#### Section 2\n",
    "Looking at the characteristic polynomial, $$|A_i-\\sigma I|=0\\Rightarrow \\left | \\begin{array}{cc}\\gamma-\\sigma & \\lambda_i\\\\-\\eta\\gamma & 1-\\eta\\lambda_i-\\sigma\\\\\\end{array}\\right |=0$$\n",
    "$$(\\gamma-\\sigma)(1-\\eta\\lambda_i-\\sigma)-\\lambda_i(-\\eta\\gamma)=0$$\n",
    "$$\\Rightarrow \\sigma^2-(1-\\eta\\lambda_i+\\gamma)\\sigma+\\gamma=0$$\n",
    "Solving the quadratic equation gives us \n",
    "$$\\sigma_{i,\\pm}=\\frac{1}{2}\\left (1-\\eta\\lambda_i+\\gamma\\pm \\sqrt{(1-\\eta\\lambda_i+\\gamma)^2-4\\gamma}\\right )$$\n",
    "\n",
    "#### Section 3\n",
    "Marking $h_i=[q_i,z_i]^T, h=(h_1^T,h_2^T,\\ldots,h_d^T)^T$ and $p_i=V_i^{-1}h_i$, we can show that\n",
    "$$h_i(t)=A_i h_i(t-1)\\Rightarrow p_i(t)=V_i^{-1}h_i(t)=V_i^{-1}V_i\\Sigma_i V_i^{-1} h_i(t-1)=\\Sigma_i p_i(t-1)$$\n",
    "Considering $p_{i,\\pm}$ the two elements of $p_i$, we therefor have\n",
    "$$p_{i,\\pm}(t)=\\sigma_{i,\\pm} p_{i,\\pm}(t-1)\\Rightarrow p_{i,\\pm}(t)=\\sigma_{i,\\pm}^t p_{i,\\pm}(0)$$\n",
    "$$\\Rightarrow  h_i(t)=V_i\\Sigma_i^t V_i^{-1}h_i(0)\\Rightarrow h_i(t)=\\left ( \\begin{array}{ccc}V_1\\Sigma_1^tV_1^{-1}&0&0  \\\\ 0 & \\ddots& 0\\\\0&0&V_d\\Sigma_d^tV_d^{-1}\\\\\\end{array}\\right )h_i(0)$$\n",
    "\n",
    "The convergence rate depends on the eigenvalue whose absolute value is closest to $1$, as the slowest eigenvalue to converge, so \n",
    "$$\\mathrm{rate}=\\max_i\\max_{\\pm}|\\sigma_{i,\\pm}|$$\n",
    "and convegence requires $\\mathrm{rate}<1$\n",
    "\n",
    "#### Section 4\n",
    "Complex eigenvalues imply that the value under the square root is negative, $(1-\\eta\\lambda_i+\\gamma)^2<4\\gamma$.\n",
    "$$|\\sigma_{i,\\pm}|=\\frac{1}{2}\\left | 1-\\eta\\lambda_i+\\gamma\\pm \\sqrt{(1-\\eta\\lambda_i+\\gamma)^2-(2\\sqrt{\\gamma})^2)}\\right |$$\n",
    "From the hint, $f_{\\pm}=\\left |1-\\eta\\lambda_i+\\gamma\\pm \\sqrt{(1-\\eta\\lambda_i+\\gamma)^2-(2\\sqrt{\\gamma})^2)}\\right |$ is constant in our range and it is easy to see that this constant is $|c|$ in general, or in our case\n",
    "$$|\\sigma_{i,\\pm}|=\\frac{1}{2}|2\\sqrt{\\gamma} |=\\sqrt{\\gamma}$$\n",
    "Notably, this does not depend on the learning rate $\\eta$ or on the eigenvalues of the Hessian $\\lambda_i$.\n",
    "Convergence requires $$\\sqrt{\\gamma}<1\\Rightarrow \\gamma<1$$\n",
    "\n",
    "#### Section 5\n",
    "For large learning rate $\\eta$, $x=1-\\eta\\lambda_i+\\gamma$ is increasingly more negative, meaning \n",
    "$$\\sigma_{i,+}=\\frac{1}{2}\\left (1-\\eta\\lambda_i+\\gamma+\\sqrt{(1-\\eta\\lambda_i+\\gamma)^2-4\\gamma}\\right )$$ decreases while \n",
    "$$\\sigma_{i,-}=\\frac{1}{2}\\left (1-\\eta\\lambda_i+\\gamma- \\sqrt{(1-\\eta\\lambda_i+\\gamma)^2-4\\gamma}\\right )$$ increases.\n",
    "Since they both start from the positive value $\\sqrt{\\gamma}$, this means $|\\sigma_{i,-}|$ will be the larget of the eigenvalues, and since it is monotonically decreasing in $x$, we can choose $\\lambda_i=\\lambda_{\\max}$ to get the largest $|\\sigma_{i,-}|$.\n",
    "$$|\\sigma_{\\max,-}|=\\frac{1}{2}\\left |1-\\eta\\lambda_{\\max}+\\gamma- \\sqrt{(1-\\eta\\lambda_{\\max}+\\gamma)^2-4\\gamma}\\right |<1$$\n",
    "\n",
    "#### Section 6\n",
    "$x-\\sqrt{x^2-c^2}$ is monotonic, so we can just set $\\eta<\\frac{2(1+\\gamma)}{\\lambda_{\\max}}$ and check that the rate is less than $1$:\n",
    "$$\\mathrm{rate}<\\frac{1}{2}\\left |1-2(1+\\gamma)+\\gamma- \\sqrt{(1-2(1+\\gamma)+\\gamma)^2-4\\gamma}\\right |=\\frac{1}{2}\\left |-(1+\\gamma)- \\sqrt{(1+\\gamma)^2-4\\gamma}\\right |=\\frac{1}{2}\\left |-(1+\\gamma)- \\sqrt{((1-\\gamma))^2}\\right |$$\n",
    "$$\\mathrm{rate}<=\\frac{1}{2}\\left |-(1+\\gamma)- (1-\\gamma)\\right |=1$$\n",
    "</details>"
   ]
  },
  {
   "cell_type": "markdown",
   "metadata": {
    "jp-MarkdownHeadingCollapsed": true,
    "slideshow": {
     "slide_type": "subslide"
    }
   },
   "source": [
    "### <img src=\"https://img.icons8.com/bubbles/50/000000/video-playlist.png\" style=\"height:50px;display:inline\"> Recommended Videos\n",
    "---\n",
    "#### <img src=\"https://img.icons8.com/cute-clipart/64/000000/warning-shield.png\" style=\"height:30px;display:inline\"> Warning!\n",
    "* These videos do not replace the lectures and tutorials.\n",
    "* Please use these to get a better understanding of the material, and not as an alternative to the written material.\n",
    "\n",
    "#### Video By Subject\n",
    "\n",
    "* Gradient Descent - <a href=\"https://www.youtube.com/watch?v=sDv4f4s2SB8\">Gradient Descent, Step-by-Step</a>\n",
    "    * <a href=\"https://www.youtube.com/watch?v=jc2IthslyzM\">Mathematics of Gradient Descent - Intelligence and Learning</a>\n",
    "* Stochastic Gradient Descent - <a href=\"https://www.youtube.com/watch?v=vMh0zPT0tLI\">Stochastic Gradient Descent, Clearly Explained</a>\n",
    "* Momentum - <a href=\"https://www.youtube.com/watch?v=k8fTYJPd3_I\">Gradient Descent With Momentum (C2W2L06)</a>\n",
    "* RMSProp - <a href=\"https://www.youtube.com/watch?v=_e-LFe_igno\">RMSProp (C2W2L07)</a>\n",
    "* Adam - <a href=\"https://www.youtube.com/watch?v=JXQT_vxqwIs\">Adam Optimization Algorithm (C2W2L08)</a>\n",
    "* Learning Rate Decay - <a href=\"https://www.youtube.com/watch?v=QzulmoOg2JE\">Learning Rate Decay (C2W2L09)</a>\n",
    "* Momentum, Adagrad, RMSProp, Adam - <a href=\"https://www.youtube.com/watch?v=gmwxUy7NYpA\">UC Berkeley, STAT 157 - Momentum, Adagrad, RMSProp, Adam</a>\n",
    "* AdaBelief - <a href=\"https://www.youtube.com/watch?v=oGH7dmwvuaY\">AdaBelief Optimizer: Theory and Practical Guidelines</a>"
   ]
  },
  {
   "cell_type": "markdown",
   "metadata": {
    "slideshow": {
     "slide_type": "skip"
    }
   },
   "source": [
    "## <img src=\"https://img.icons8.com/dusk/64/000000/prize.png\" style=\"height:50px;display:inline\"> Credits\n",
    "---\n",
    "* Icons made by <a href=\"https://www.flaticon.com/authors/becris\" title=\"Becris\">Becris</a> from <a href=\"https://www.flaticon.com/\" title=\"Flaticon\">www.flaticon.com</a>\n",
    "* Icons from <a href=\"https://icons8.com/\">Icons8.com</a> - https://icons8.com\n",
    "* Datasets from <a href=\"https://www.kaggle.com/\">Kaggle</a> - https://www.kaggle.com/\n",
    "* Examples and code snippets were taken from <a href=\"http://shop.oreilly.com/product/0636920052289.do\">\"Hands-On Machine Learning with Scikit-Learn and TensorFlow\"</a>\n",
    "* <a href=\"https://cs231n.github.io/neural-networks-3/\">CS231n: Convolutional Neural Networks for Visual Recognition</a>\n",
    "* <a href=\"https://www.deeplearningwizard.com/deep_learning/boosting_models_pytorch/lr_scheduling/\">Deep Learning Wizard -Learning Rate Scheduling</a>\n",
    "* <a href=\"https://dominikschmidt.xyz/nesterov-momentum\">Understanding Nesterov Momentum (NAG)</a>\n",
    "* <a href=\"https://ruder.io/optimizing-gradient-descent/\">Sebastian Ruder - An overview of gradient descent optimization algorithms</a>"
   ]
  }
 ],
 "metadata": {
  "kernelspec": {
   "display_name": "Python 3 (ipykernel)",
   "language": "python",
   "name": "python3"
  },
  "language_info": {
   "codemirror_mode": {
    "name": "ipython",
    "version": 3
   },
   "file_extension": ".py",
   "mimetype": "text/x-python",
   "name": "python",
   "nbconvert_exporter": "python",
   "pygments_lexer": "ipython3",
   "version": "3.12.3"
  }
 },
 "nbformat": 4,
 "nbformat_minor": 4
}
